{
 "cells": [
  {
   "cell_type": "code",
   "id": "initial_id",
   "metadata": {
    "collapsed": true,
    "ExecuteTime": {
     "end_time": "2024-04-30T08:16:53.990258Z",
     "start_time": "2024-04-30T08:16:53.977259Z"
    }
   },
   "source": [
    "import cv2, torch\n",
    "import numpy as np\n",
    "import pandas as pd\n",
    "import pytorch_lightning as pl\n",
    "from torch.utils.data import DataLoader, Dataset\n",
    "from torchvision import transforms, models\n",
    "from PIL import Image\n",
    "from sklearn.metrics import confusion_matrix, accuracy_score, precision_score, recall_score, f1_score\n",
    "from utils\n",
    "from utils.eye_det_model import EyeDetModel"
   ],
   "outputs": [],
   "execution_count": 37
  },
  {
   "metadata": {
    "ExecuteTime": {
     "end_time": "2024-04-30T07:43:55.894246Z",
     "start_time": "2024-04-30T07:43:55.798214Z"
    }
   },
   "cell_type": "code",
   "source": "data = EyeDataModule(train_dataset_desc=pd.read_csv('train_eye_shape_dataset.csv'), val_dataset_desc=pd.read_csv('test_eye_shape_dataset.csv'), batch_size=1, n_workers=0)",
   "id": "5079054081b2cd17",
   "outputs": [],
   "execution_count": 14
  },
  {
   "metadata": {
    "ExecuteTime": {
     "end_time": "2024-04-30T07:44:29.354941Z",
     "start_time": "2024-04-30T07:44:29.102911Z"
    }
   },
   "cell_type": "code",
   "source": "model = Model.load_from_checkpoint('epoch=49-step=3900.ckpt')",
   "id": "2af1a376260a60a0",
   "outputs": [],
   "execution_count": 16
  },
  {
   "metadata": {
    "ExecuteTime": {
     "end_time": "2024-04-30T07:45:00.930371Z",
     "start_time": "2024-04-30T07:44:30.543907Z"
    }
   },
   "cell_type": "code",
   "source": [
    "trainer = pl.Trainer()\n",
    "pred = trainer.predict(model, datamodule=data)"
   ],
   "id": "f5708ea0bfb0958e",
   "outputs": [
    {
     "name": "stderr",
     "output_type": "stream",
     "text": [
      "GPU available: True (cuda), used: True\n",
      "TPU available: False, using: 0 TPU cores\n",
      "IPU available: False, using: 0 IPUs\n",
      "HPU available: False, using: 0 HPUs\n",
      "LOCAL_RANK: 0 - CUDA_VISIBLE_DEVICES: [0]\n",
      "D:\\Workspace\\Python\\drowsy_detection\\venv\\lib\\site-packages\\pytorch_lightning\\trainer\\connectors\\data_connector.py:441: The 'predict_dataloader' does not have many workers which may be a bottleneck. Consider increasing the value of the `num_workers` argument` to `num_workers=47` in the `DataLoader` to improve performance.\n"
     ]
    },
    {
     "data": {
      "text/plain": [
       "Predicting: |          | 0/? [00:00<?, ?it/s]"
      ],
      "application/vnd.jupyter.widget-view+json": {
       "version_major": 2,
       "version_minor": 0,
       "model_id": "7dc4a05acd8b4636a377594a52904251"
      }
     },
     "metadata": {},
     "output_type": "display_data"
    }
   ],
   "execution_count": 17
  },
  {
   "metadata": {
    "ExecuteTime": {
     "end_time": "2024-04-30T07:45:02.559023Z",
     "start_time": "2024-04-30T07:45:02.538024Z"
    }
   },
   "cell_type": "code",
   "source": "pred[0:5]",
   "id": "341224cdd1a01a3e",
   "outputs": [
    {
     "data": {
      "text/plain": [
       "[tensor([[-8.5532,  8.2946]]),\n",
       " tensor([[-9.4860,  8.5556]]),\n",
       " tensor([[-4.4656,  4.9582]]),\n",
       " tensor([[-4.0379,  4.2877]]),\n",
       " tensor([[ 1.0945, -0.6631]])]"
      ]
     },
     "execution_count": 18,
     "metadata": {},
     "output_type": "execute_result"
    }
   ],
   "execution_count": 18
  },
  {
   "metadata": {
    "ExecuteTime": {
     "end_time": "2024-04-30T08:15:34.650062Z",
     "start_time": "2024-04-30T08:15:34.542029Z"
    }
   },
   "cell_type": "code",
   "source": [
    "pred_result = list()\n",
    "\n",
    "for pr in pred:\n",
    "    pred_result.append(1-int(np.argmax(pr)))\n",
    "\n"
   ],
   "id": "2c80892e60229700",
   "outputs": [],
   "execution_count": 33
  },
  {
   "metadata": {
    "ExecuteTime": {
     "end_time": "2024-04-30T08:15:35.764431Z",
     "start_time": "2024-04-30T08:15:35.750420Z"
    }
   },
   "cell_type": "code",
   "source": "pred_result[0:5]",
   "id": "dad1085f7f74de5c",
   "outputs": [
    {
     "data": {
      "text/plain": [
       "[0, 0, 0, 0, 1]"
      ]
     },
     "execution_count": 34,
     "metadata": {},
     "output_type": "execute_result"
    }
   ],
   "execution_count": 34
  },
  {
   "metadata": {
    "ExecuteTime": {
     "end_time": "2024-04-30T08:15:37.284885Z",
     "start_time": "2024-04-30T08:15:37.254370Z"
    }
   },
   "cell_type": "code",
   "source": [
    "val_data = pd.read_csv('test_eye_shape_dataset.csv')\n",
    "val_data"
   ],
   "id": "11ba2db57bde98f6",
   "outputs": [
    {
     "data": {
      "text/plain": [
       "                                                                   file_name  \\\n",
       "0       d:\\drowsy_dataset\\image\\bus\\R_231_50_M\\R_231_50_M_09_M1_G0_C0_03.jpg   \n",
       "1       d:\\drowsy_dataset\\image\\bus\\R_237_40_M\\R_237_40_M_20_M0_G0_C0_05.jpg   \n",
       "2       d:\\drowsy_dataset\\image\\bus\\R_221_50_M\\R_221_50_M_04_M1_G0_C0_15.jpg   \n",
       "3       d:\\drowsy_dataset\\image\\bus\\R_221_50_M\\R_221_50_M_12_M1_G0_C0_06.jpg   \n",
       "4       d:\\drowsy_dataset\\image\\bus\\R_221_50_M\\R_221_50_M_13_M1_G0_C0_02.jpg   \n",
       "...                                                                      ...   \n",
       "2193  d:\\drowsy_dataset\\image\\truck\\R_623_40_M\\R_623_40_M_15_M0_G1_C0_02.jpg   \n",
       "2194  d:\\drowsy_dataset\\image\\truck\\R_632_50_M\\R_632_50_M_19_M0_G1_C0_01.jpg   \n",
       "2195  d:\\drowsy_dataset\\image\\truck\\R_614_20_M\\R_614_20_M_10_M0_G1_C0_15.jpg   \n",
       "2196  d:\\drowsy_dataset\\image\\truck\\R_614_20_M\\R_614_20_M_06_M0_G1_C0_07.jpg   \n",
       "2197  d:\\drowsy_dataset\\image\\truck\\R_626_40_M\\R_626_40_M_15_M0_G0_C0_10.jpg   \n",
       "\n",
       "      face_pt1_x_pos  face_pt1_y_pos  face_pt2_x_pos  face_pt2_y_pos  \\\n",
       "0              226.0           505.0           538.0           964.0   \n",
       "1              151.0           246.0           470.0           762.0   \n",
       "2              151.0           522.0           416.0           972.0   \n",
       "3              244.0           540.0           504.0           968.0   \n",
       "4              190.0           571.0           464.0           981.0   \n",
       "...              ...             ...             ...             ...   \n",
       "2193           265.0           317.0           566.0           786.0   \n",
       "2194           215.0           412.0           537.0           923.0   \n",
       "2195           260.0           435.0           560.0           852.0   \n",
       "2196           288.0           411.0           579.0           847.0   \n",
       "2197           260.0           448.0           560.0           880.0   \n",
       "\n",
       "      left_eye_pt1_x_pos  left_eye_pt1_y_pos  left_eye_pt2_x_pos  \\\n",
       "0                  319.0               632.0               338.0   \n",
       "1                  197.0               431.0               255.0   \n",
       "2                  245.0               636.0               277.0   \n",
       "3                  349.0               628.0               383.0   \n",
       "4                  304.0               640.0               320.0   \n",
       "...                  ...                 ...                 ...   \n",
       "2193               356.0               486.0               408.0   \n",
       "2194               283.0               569.0               340.0   \n",
       "2195               297.0               561.0               353.0   \n",
       "2196               346.0               547.0               399.0   \n",
       "2197               311.0               585.0               366.0   \n",
       "\n",
       "      left_eye_pt2_y_pos  right_eye_pt1_x_pos  ...  \\\n",
       "0                  657.0                409.0  ...   \n",
       "1                  450.0                347.0  ...   \n",
       "2                  656.0                330.0  ...   \n",
       "3                  652.0                363.0  ...   \n",
       "4                  667.0                278.0  ...   \n",
       "...                  ...                  ...  ...   \n",
       "2193               499.0                484.0  ...   \n",
       "2194               585.0                430.0  ...   \n",
       "2195               577.0                445.0  ...   \n",
       "2196               560.0                487.0  ...   \n",
       "2197               599.0                451.0  ...   \n",
       "\n",
       "      target_right_eye_pt1_y_pos  target_right_eye_pt2_x  \\\n",
       "0                         659.53                  478.52   \n",
       "1                         414.25                  419.07   \n",
       "2                         677.20                  385.39   \n",
       "3                         716.67                  491.77   \n",
       "4                         732.69                  443.64   \n",
       "...                          ...                     ...   \n",
       "2193                      485.00                  547.00   \n",
       "2194                      566.00                  498.00   \n",
       "2195                      535.00                  511.00   \n",
       "2196                      541.00                  550.00   \n",
       "2197                      569.00                  515.00   \n",
       "\n",
       "      target_right_eye_pt2_y_pos  exist_mask  exist_glasses  face_visible  \\\n",
       "0                         693.83           1              0             1   \n",
       "1                         451.02           0              0             1   \n",
       "2                         711.52           1              0             1   \n",
       "3                         763.04           1              0             1   \n",
       "4                         772.16           1              0             1   \n",
       "...                          ...         ...            ...           ...   \n",
       "2193                      523.00           0              1             1   \n",
       "2194                      611.00           0              1             1   \n",
       "2195                      572.00           0              1             1   \n",
       "2196                      578.00           0              1             1   \n",
       "2197                      607.00           0              0             1   \n",
       "\n",
       "      left_eye_visible  left_eye_opened  right_eye_visible  right_eye_opened  \n",
       "0                    1                1                  1                 1  \n",
       "1                    1                1                  1                 1  \n",
       "2                    1                0                  1                 1  \n",
       "3                    1                1                  1                 1  \n",
       "4                    1                0                  1                 1  \n",
       "...                ...              ...                ...               ...  \n",
       "2193                 1                1                  1                 1  \n",
       "2194                 1                0                  1                 1  \n",
       "2195                 1                1                  1                 1  \n",
       "2196                 1                1                  1                 1  \n",
       "2197                 1                1                  1                 1  \n",
       "\n",
       "[2198 rows x 41 columns]"
      ],
      "text/html": [
       "<div>\n",
       "<style scoped>\n",
       "    .dataframe tbody tr th:only-of-type {\n",
       "        vertical-align: middle;\n",
       "    }\n",
       "\n",
       "    .dataframe tbody tr th {\n",
       "        vertical-align: top;\n",
       "    }\n",
       "\n",
       "    .dataframe thead th {\n",
       "        text-align: right;\n",
       "    }\n",
       "</style>\n",
       "<table border=\"1\" class=\"dataframe\">\n",
       "  <thead>\n",
       "    <tr style=\"text-align: right;\">\n",
       "      <th></th>\n",
       "      <th>file_name</th>\n",
       "      <th>face_pt1_x_pos</th>\n",
       "      <th>face_pt1_y_pos</th>\n",
       "      <th>face_pt2_x_pos</th>\n",
       "      <th>face_pt2_y_pos</th>\n",
       "      <th>left_eye_pt1_x_pos</th>\n",
       "      <th>left_eye_pt1_y_pos</th>\n",
       "      <th>left_eye_pt2_x_pos</th>\n",
       "      <th>left_eye_pt2_y_pos</th>\n",
       "      <th>right_eye_pt1_x_pos</th>\n",
       "      <th>...</th>\n",
       "      <th>target_right_eye_pt1_y_pos</th>\n",
       "      <th>target_right_eye_pt2_x</th>\n",
       "      <th>target_right_eye_pt2_y_pos</th>\n",
       "      <th>exist_mask</th>\n",
       "      <th>exist_glasses</th>\n",
       "      <th>face_visible</th>\n",
       "      <th>left_eye_visible</th>\n",
       "      <th>left_eye_opened</th>\n",
       "      <th>right_eye_visible</th>\n",
       "      <th>right_eye_opened</th>\n",
       "    </tr>\n",
       "  </thead>\n",
       "  <tbody>\n",
       "    <tr>\n",
       "      <th>0</th>\n",
       "      <td>d:\\drowsy_dataset\\image\\bus\\R_231_50_M\\R_231_50_M_09_M1_G0_C0_03.jpg</td>\n",
       "      <td>226.0</td>\n",
       "      <td>505.0</td>\n",
       "      <td>538.0</td>\n",
       "      <td>964.0</td>\n",
       "      <td>319.0</td>\n",
       "      <td>632.0</td>\n",
       "      <td>338.0</td>\n",
       "      <td>657.0</td>\n",
       "      <td>409.0</td>\n",
       "      <td>...</td>\n",
       "      <td>659.53</td>\n",
       "      <td>478.52</td>\n",
       "      <td>693.83</td>\n",
       "      <td>1</td>\n",
       "      <td>0</td>\n",
       "      <td>1</td>\n",
       "      <td>1</td>\n",
       "      <td>1</td>\n",
       "      <td>1</td>\n",
       "      <td>1</td>\n",
       "    </tr>\n",
       "    <tr>\n",
       "      <th>1</th>\n",
       "      <td>d:\\drowsy_dataset\\image\\bus\\R_237_40_M\\R_237_40_M_20_M0_G0_C0_05.jpg</td>\n",
       "      <td>151.0</td>\n",
       "      <td>246.0</td>\n",
       "      <td>470.0</td>\n",
       "      <td>762.0</td>\n",
       "      <td>197.0</td>\n",
       "      <td>431.0</td>\n",
       "      <td>255.0</td>\n",
       "      <td>450.0</td>\n",
       "      <td>347.0</td>\n",
       "      <td>...</td>\n",
       "      <td>414.25</td>\n",
       "      <td>419.07</td>\n",
       "      <td>451.02</td>\n",
       "      <td>0</td>\n",
       "      <td>0</td>\n",
       "      <td>1</td>\n",
       "      <td>1</td>\n",
       "      <td>1</td>\n",
       "      <td>1</td>\n",
       "      <td>1</td>\n",
       "    </tr>\n",
       "    <tr>\n",
       "      <th>2</th>\n",
       "      <td>d:\\drowsy_dataset\\image\\bus\\R_221_50_M\\R_221_50_M_04_M1_G0_C0_15.jpg</td>\n",
       "      <td>151.0</td>\n",
       "      <td>522.0</td>\n",
       "      <td>416.0</td>\n",
       "      <td>972.0</td>\n",
       "      <td>245.0</td>\n",
       "      <td>636.0</td>\n",
       "      <td>277.0</td>\n",
       "      <td>656.0</td>\n",
       "      <td>330.0</td>\n",
       "      <td>...</td>\n",
       "      <td>677.20</td>\n",
       "      <td>385.39</td>\n",
       "      <td>711.52</td>\n",
       "      <td>1</td>\n",
       "      <td>0</td>\n",
       "      <td>1</td>\n",
       "      <td>1</td>\n",
       "      <td>0</td>\n",
       "      <td>1</td>\n",
       "      <td>1</td>\n",
       "    </tr>\n",
       "    <tr>\n",
       "      <th>3</th>\n",
       "      <td>d:\\drowsy_dataset\\image\\bus\\R_221_50_M\\R_221_50_M_12_M1_G0_C0_06.jpg</td>\n",
       "      <td>244.0</td>\n",
       "      <td>540.0</td>\n",
       "      <td>504.0</td>\n",
       "      <td>968.0</td>\n",
       "      <td>349.0</td>\n",
       "      <td>628.0</td>\n",
       "      <td>383.0</td>\n",
       "      <td>652.0</td>\n",
       "      <td>363.0</td>\n",
       "      <td>...</td>\n",
       "      <td>716.67</td>\n",
       "      <td>491.77</td>\n",
       "      <td>763.04</td>\n",
       "      <td>1</td>\n",
       "      <td>0</td>\n",
       "      <td>1</td>\n",
       "      <td>1</td>\n",
       "      <td>1</td>\n",
       "      <td>1</td>\n",
       "      <td>1</td>\n",
       "    </tr>\n",
       "    <tr>\n",
       "      <th>4</th>\n",
       "      <td>d:\\drowsy_dataset\\image\\bus\\R_221_50_M\\R_221_50_M_13_M1_G0_C0_02.jpg</td>\n",
       "      <td>190.0</td>\n",
       "      <td>571.0</td>\n",
       "      <td>464.0</td>\n",
       "      <td>981.0</td>\n",
       "      <td>304.0</td>\n",
       "      <td>640.0</td>\n",
       "      <td>320.0</td>\n",
       "      <td>667.0</td>\n",
       "      <td>278.0</td>\n",
       "      <td>...</td>\n",
       "      <td>732.69</td>\n",
       "      <td>443.64</td>\n",
       "      <td>772.16</td>\n",
       "      <td>1</td>\n",
       "      <td>0</td>\n",
       "      <td>1</td>\n",
       "      <td>1</td>\n",
       "      <td>0</td>\n",
       "      <td>1</td>\n",
       "      <td>1</td>\n",
       "    </tr>\n",
       "    <tr>\n",
       "      <th>...</th>\n",
       "      <td>...</td>\n",
       "      <td>...</td>\n",
       "      <td>...</td>\n",
       "      <td>...</td>\n",
       "      <td>...</td>\n",
       "      <td>...</td>\n",
       "      <td>...</td>\n",
       "      <td>...</td>\n",
       "      <td>...</td>\n",
       "      <td>...</td>\n",
       "      <td>...</td>\n",
       "      <td>...</td>\n",
       "      <td>...</td>\n",
       "      <td>...</td>\n",
       "      <td>...</td>\n",
       "      <td>...</td>\n",
       "      <td>...</td>\n",
       "      <td>...</td>\n",
       "      <td>...</td>\n",
       "      <td>...</td>\n",
       "      <td>...</td>\n",
       "    </tr>\n",
       "    <tr>\n",
       "      <th>2193</th>\n",
       "      <td>d:\\drowsy_dataset\\image\\truck\\R_623_40_M\\R_623_40_M_15_M0_G1_C0_02.jpg</td>\n",
       "      <td>265.0</td>\n",
       "      <td>317.0</td>\n",
       "      <td>566.0</td>\n",
       "      <td>786.0</td>\n",
       "      <td>356.0</td>\n",
       "      <td>486.0</td>\n",
       "      <td>408.0</td>\n",
       "      <td>499.0</td>\n",
       "      <td>484.0</td>\n",
       "      <td>...</td>\n",
       "      <td>485.00</td>\n",
       "      <td>547.00</td>\n",
       "      <td>523.00</td>\n",
       "      <td>0</td>\n",
       "      <td>1</td>\n",
       "      <td>1</td>\n",
       "      <td>1</td>\n",
       "      <td>1</td>\n",
       "      <td>1</td>\n",
       "      <td>1</td>\n",
       "    </tr>\n",
       "    <tr>\n",
       "      <th>2194</th>\n",
       "      <td>d:\\drowsy_dataset\\image\\truck\\R_632_50_M\\R_632_50_M_19_M0_G1_C0_01.jpg</td>\n",
       "      <td>215.0</td>\n",
       "      <td>412.0</td>\n",
       "      <td>537.0</td>\n",
       "      <td>923.0</td>\n",
       "      <td>283.0</td>\n",
       "      <td>569.0</td>\n",
       "      <td>340.0</td>\n",
       "      <td>585.0</td>\n",
       "      <td>430.0</td>\n",
       "      <td>...</td>\n",
       "      <td>566.00</td>\n",
       "      <td>498.00</td>\n",
       "      <td>611.00</td>\n",
       "      <td>0</td>\n",
       "      <td>1</td>\n",
       "      <td>1</td>\n",
       "      <td>1</td>\n",
       "      <td>0</td>\n",
       "      <td>1</td>\n",
       "      <td>1</td>\n",
       "    </tr>\n",
       "    <tr>\n",
       "      <th>2195</th>\n",
       "      <td>d:\\drowsy_dataset\\image\\truck\\R_614_20_M\\R_614_20_M_10_M0_G1_C0_15.jpg</td>\n",
       "      <td>260.0</td>\n",
       "      <td>435.0</td>\n",
       "      <td>560.0</td>\n",
       "      <td>852.0</td>\n",
       "      <td>297.0</td>\n",
       "      <td>561.0</td>\n",
       "      <td>353.0</td>\n",
       "      <td>577.0</td>\n",
       "      <td>445.0</td>\n",
       "      <td>...</td>\n",
       "      <td>535.00</td>\n",
       "      <td>511.00</td>\n",
       "      <td>572.00</td>\n",
       "      <td>0</td>\n",
       "      <td>1</td>\n",
       "      <td>1</td>\n",
       "      <td>1</td>\n",
       "      <td>1</td>\n",
       "      <td>1</td>\n",
       "      <td>1</td>\n",
       "    </tr>\n",
       "    <tr>\n",
       "      <th>2196</th>\n",
       "      <td>d:\\drowsy_dataset\\image\\truck\\R_614_20_M\\R_614_20_M_06_M0_G1_C0_07.jpg</td>\n",
       "      <td>288.0</td>\n",
       "      <td>411.0</td>\n",
       "      <td>579.0</td>\n",
       "      <td>847.0</td>\n",
       "      <td>346.0</td>\n",
       "      <td>547.0</td>\n",
       "      <td>399.0</td>\n",
       "      <td>560.0</td>\n",
       "      <td>487.0</td>\n",
       "      <td>...</td>\n",
       "      <td>541.00</td>\n",
       "      <td>550.00</td>\n",
       "      <td>578.00</td>\n",
       "      <td>0</td>\n",
       "      <td>1</td>\n",
       "      <td>1</td>\n",
       "      <td>1</td>\n",
       "      <td>1</td>\n",
       "      <td>1</td>\n",
       "      <td>1</td>\n",
       "    </tr>\n",
       "    <tr>\n",
       "      <th>2197</th>\n",
       "      <td>d:\\drowsy_dataset\\image\\truck\\R_626_40_M\\R_626_40_M_15_M0_G0_C0_10.jpg</td>\n",
       "      <td>260.0</td>\n",
       "      <td>448.0</td>\n",
       "      <td>560.0</td>\n",
       "      <td>880.0</td>\n",
       "      <td>311.0</td>\n",
       "      <td>585.0</td>\n",
       "      <td>366.0</td>\n",
       "      <td>599.0</td>\n",
       "      <td>451.0</td>\n",
       "      <td>...</td>\n",
       "      <td>569.00</td>\n",
       "      <td>515.00</td>\n",
       "      <td>607.00</td>\n",
       "      <td>0</td>\n",
       "      <td>0</td>\n",
       "      <td>1</td>\n",
       "      <td>1</td>\n",
       "      <td>1</td>\n",
       "      <td>1</td>\n",
       "      <td>1</td>\n",
       "    </tr>\n",
       "  </tbody>\n",
       "</table>\n",
       "<p>2198 rows × 41 columns</p>\n",
       "</div>"
      ]
     },
     "execution_count": 35,
     "metadata": {},
     "output_type": "execute_result"
    }
   ],
   "execution_count": 35
  },
  {
   "metadata": {
    "ExecuteTime": {
     "end_time": "2024-04-30T08:16:58.527209Z",
     "start_time": "2024-04-30T08:16:58.514211Z"
    }
   },
   "cell_type": "code",
   "source": "confusion_matrix(1-val_data['left_eye_opened'], pred_result)",
   "id": "81a49b480a0535dc",
   "outputs": [
    {
     "data": {
      "text/plain": [
       "array([[1866,   71],\n",
       "       [ 108,  153]], dtype=int64)"
      ]
     },
     "execution_count": 38,
     "metadata": {},
     "output_type": "execute_result"
    }
   ],
   "execution_count": 38
  },
  {
   "metadata": {
    "ExecuteTime": {
     "end_time": "2024-04-30T08:17:51.309038Z",
     "start_time": "2024-04-30T08:17:51.297037Z"
    }
   },
   "cell_type": "code",
   "source": "accuracy_score(1-val_data['left_eye_opened'], pred_result)",
   "id": "1554e8d0b7a70b16",
   "outputs": [
    {
     "data": {
      "text/plain": [
       "0.9185623293903549"
      ]
     },
     "execution_count": 42,
     "metadata": {},
     "output_type": "execute_result"
    }
   ],
   "execution_count": 42
  },
  {
   "metadata": {
    "ExecuteTime": {
     "end_time": "2024-04-30T08:16:59.913561Z",
     "start_time": "2024-04-30T08:16:59.895559Z"
    }
   },
   "cell_type": "code",
   "source": "precision_score(1-val_data['left_eye_opened'], pred_result)",
   "id": "7ac954e5e6e0c5e7",
   "outputs": [
    {
     "data": {
      "text/plain": [
       "0.6830357142857143"
      ]
     },
     "execution_count": 39,
     "metadata": {},
     "output_type": "execute_result"
    }
   ],
   "execution_count": 39
  },
  {
   "metadata": {
    "ExecuteTime": {
     "end_time": "2024-04-30T08:17:04.759787Z",
     "start_time": "2024-04-30T08:17:04.746787Z"
    }
   },
   "cell_type": "code",
   "source": "recall_score(1-val_data['left_eye_opened'], pred_result)",
   "id": "f6961d59762eb432",
   "outputs": [
    {
     "data": {
      "text/plain": [
       "0.5862068965517241"
      ]
     },
     "execution_count": 40,
     "metadata": {},
     "output_type": "execute_result"
    }
   ],
   "execution_count": 40
  },
  {
   "metadata": {
    "ExecuteTime": {
     "end_time": "2024-04-30T08:17:06.491196Z",
     "start_time": "2024-04-30T08:17:06.477196Z"
    }
   },
   "cell_type": "code",
   "source": "f1_score(1-val_data['left_eye_opened'], pred_result)",
   "id": "6cf948ea4773f31",
   "outputs": [
    {
     "data": {
      "text/plain": [
       "0.6309278350515464"
      ]
     },
     "execution_count": 41,
     "metadata": {},
     "output_type": "execute_result"
    }
   ],
   "execution_count": 41
  }
 ],
 "metadata": {
  "kernelspec": {
   "display_name": "Python 3",
   "language": "python",
   "name": "python3"
  },
  "language_info": {
   "codemirror_mode": {
    "name": "ipython",
    "version": 2
   },
   "file_extension": ".py",
   "mimetype": "text/x-python",
   "name": "python",
   "nbconvert_exporter": "python",
   "pygments_lexer": "ipython2",
   "version": "2.7.6"
  }
 },
 "nbformat": 4,
 "nbformat_minor": 5
}
