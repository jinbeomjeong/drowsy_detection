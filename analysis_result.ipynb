{
 "cells": [
  {
   "cell_type": "code",
   "execution_count": 1,
   "id": "initial_id",
   "metadata": {
    "collapsed": true,
    "ExecuteTime": {
     "end_time": "2024-02-26T02:28:12.435742700Z",
     "start_time": "2024-02-26T02:28:12.167017400Z"
    }
   },
   "outputs": [],
   "source": [
    "import os, json, time\n",
    "import pandas as pd\n",
    "import numpy as np\n",
    "\n",
    "from tqdm import tqdm"
   ]
  },
  {
   "cell_type": "code",
   "outputs": [
    {
     "data": {
      "text/plain": "      Unnamed: 0                      file_name  face_pt1_x_pos  \\\n0              0  R_614_20_M_01_M0_G1_C0_01.jpg           320.0   \n1              0  R_614_20_M_01_M0_G1_C0_02.jpg           320.0   \n2              0  R_614_20_M_01_M0_G1_C0_03.jpg           334.0   \n3              0  R_614_20_M_01_M0_G1_C0_04.jpg           222.0   \n4              0  R_614_20_M_01_M0_G1_C0_05.jpg           306.0   \n...          ...                            ...             ...   \n3339           0  R_635_50_M_14_M0_G0_C0_16.jpg           203.0   \n3340           0  R_635_50_M_14_M0_G0_C0_17.jpg           364.0   \n3341           0  R_635_50_M_14_M0_G0_C0_18.jpg           330.0   \n3342           0  R_635_50_M_14_M0_G0_C0_19.jpg           351.0   \n3343           0  R_635_50_M_14_M0_G0_C0_20.jpg           224.0   \n\n      face_pt1_y_pos  face_pt2_x_pos  face_pt2_y_pos  left_eye_pt1_x_pos  \\\n0              304.0           638.0           892.0               423.0   \n1              306.0           640.0           890.0               423.0   \n2              342.0           646.0           846.0               416.0   \n3              371.0           506.0           833.0               269.0   \n4              387.0           592.0           850.0               360.0   \n...              ...             ...             ...                 ...   \n3339           449.0           524.0           901.0               285.0   \n3340           446.0           674.0          1016.0               550.0   \n3341           385.0           670.0           944.0               448.0   \n3342           446.0           663.0           915.0               396.0   \n3343           372.0           550.0           960.0               270.0   \n\n      left_eye_pt1_y_pos  left_eye_pt2_x_pos  left_eye_pt2_y_pos  ...  \\\n0                  531.0               484.0               538.0  ...   \n1                  532.0               486.0               540.0  ...   \n2                  500.0               474.0               513.0  ...   \n3                  532.0               322.0               545.0  ...   \n4                  544.0               416.0               559.0  ...   \n...                  ...                 ...                 ...  ...   \n3339               590.0               340.0               603.0  ...   \n3340               556.0               595.0               571.0  ...   \n3341               575.0               512.0               598.0  ...   \n3342               591.0               457.0               606.0  ...   \n3343               633.0               287.0               643.0  ...   \n\n      right_eye_pt2_y_pos  left_eye_horizontal  left_eye_vertical  \\\n0                   585.0            61.032778           6.082763   \n1                   584.0            63.007936           8.062258   \n2                   542.0            58.137767          12.000000   \n3                   546.0            53.009433          13.000000   \n4                   575.0            56.142675          14.000000   \n...                   ...                  ...                ...   \n3339                615.0            55.009090          11.000000   \n3340                561.0            47.434165           5.830952   \n3341                627.0            64.629715          21.377558   \n3342                604.0            61.131007          13.000000   \n3343                611.0             7.211103           8.062258   \n\n      right_eye_horizontal  right_eye_vertical  face_detection  \\\n0                61.326992            0.000000               1   \n1                58.872744            1.000000               1   \n2                51.788030            8.062258               1   \n3                57.008771           12.041595               1   \n4                56.080300           12.041595               1   \n...                    ...                 ...             ...   \n3339             57.140179           11.045361               1   \n3340             20.000000            5.656854               1   \n3341             53.758720           20.024984               1   \n3342             57.078893           12.000000               1   \n3343             57.697487            6.082763               1   \n\n      left_eye_close  right_eye_close  result_close  face_confidence  \n0                  1                1             1              615  \n1                  0                1             0              608  \n2                  0                0             0              418  \n3                  0                0             0              493  \n4                  0                0             0              550  \n...              ...              ...           ...              ...  \n3339               0                0             0              826  \n3340               0                0             0              266  \n3341               0                0             0              626  \n3342               0                0             0              646  \n3343               0                1             0              537  \n\n[3344 rows x 23 columns]",
      "text/html": "<div>\n<style scoped>\n    .dataframe tbody tr th:only-of-type {\n        vertical-align: middle;\n    }\n\n    .dataframe tbody tr th {\n        vertical-align: top;\n    }\n\n    .dataframe thead th {\n        text-align: right;\n    }\n</style>\n<table border=\"1\" class=\"dataframe\">\n  <thead>\n    <tr style=\"text-align: right;\">\n      <th></th>\n      <th>Unnamed: 0</th>\n      <th>file_name</th>\n      <th>face_pt1_x_pos</th>\n      <th>face_pt1_y_pos</th>\n      <th>face_pt2_x_pos</th>\n      <th>face_pt2_y_pos</th>\n      <th>left_eye_pt1_x_pos</th>\n      <th>left_eye_pt1_y_pos</th>\n      <th>left_eye_pt2_x_pos</th>\n      <th>left_eye_pt2_y_pos</th>\n      <th>...</th>\n      <th>right_eye_pt2_y_pos</th>\n      <th>left_eye_horizontal</th>\n      <th>left_eye_vertical</th>\n      <th>right_eye_horizontal</th>\n      <th>right_eye_vertical</th>\n      <th>face_detection</th>\n      <th>left_eye_close</th>\n      <th>right_eye_close</th>\n      <th>result_close</th>\n      <th>face_confidence</th>\n    </tr>\n  </thead>\n  <tbody>\n    <tr>\n      <th>0</th>\n      <td>0</td>\n      <td>R_614_20_M_01_M0_G1_C0_01.jpg</td>\n      <td>320.0</td>\n      <td>304.0</td>\n      <td>638.0</td>\n      <td>892.0</td>\n      <td>423.0</td>\n      <td>531.0</td>\n      <td>484.0</td>\n      <td>538.0</td>\n      <td>...</td>\n      <td>585.0</td>\n      <td>61.032778</td>\n      <td>6.082763</td>\n      <td>61.326992</td>\n      <td>0.000000</td>\n      <td>1</td>\n      <td>1</td>\n      <td>1</td>\n      <td>1</td>\n      <td>615</td>\n    </tr>\n    <tr>\n      <th>1</th>\n      <td>0</td>\n      <td>R_614_20_M_01_M0_G1_C0_02.jpg</td>\n      <td>320.0</td>\n      <td>306.0</td>\n      <td>640.0</td>\n      <td>890.0</td>\n      <td>423.0</td>\n      <td>532.0</td>\n      <td>486.0</td>\n      <td>540.0</td>\n      <td>...</td>\n      <td>584.0</td>\n      <td>63.007936</td>\n      <td>8.062258</td>\n      <td>58.872744</td>\n      <td>1.000000</td>\n      <td>1</td>\n      <td>0</td>\n      <td>1</td>\n      <td>0</td>\n      <td>608</td>\n    </tr>\n    <tr>\n      <th>2</th>\n      <td>0</td>\n      <td>R_614_20_M_01_M0_G1_C0_03.jpg</td>\n      <td>334.0</td>\n      <td>342.0</td>\n      <td>646.0</td>\n      <td>846.0</td>\n      <td>416.0</td>\n      <td>500.0</td>\n      <td>474.0</td>\n      <td>513.0</td>\n      <td>...</td>\n      <td>542.0</td>\n      <td>58.137767</td>\n      <td>12.000000</td>\n      <td>51.788030</td>\n      <td>8.062258</td>\n      <td>1</td>\n      <td>0</td>\n      <td>0</td>\n      <td>0</td>\n      <td>418</td>\n    </tr>\n    <tr>\n      <th>3</th>\n      <td>0</td>\n      <td>R_614_20_M_01_M0_G1_C0_04.jpg</td>\n      <td>222.0</td>\n      <td>371.0</td>\n      <td>506.0</td>\n      <td>833.0</td>\n      <td>269.0</td>\n      <td>532.0</td>\n      <td>322.0</td>\n      <td>545.0</td>\n      <td>...</td>\n      <td>546.0</td>\n      <td>53.009433</td>\n      <td>13.000000</td>\n      <td>57.008771</td>\n      <td>12.041595</td>\n      <td>1</td>\n      <td>0</td>\n      <td>0</td>\n      <td>0</td>\n      <td>493</td>\n    </tr>\n    <tr>\n      <th>4</th>\n      <td>0</td>\n      <td>R_614_20_M_01_M0_G1_C0_05.jpg</td>\n      <td>306.0</td>\n      <td>387.0</td>\n      <td>592.0</td>\n      <td>850.0</td>\n      <td>360.0</td>\n      <td>544.0</td>\n      <td>416.0</td>\n      <td>559.0</td>\n      <td>...</td>\n      <td>575.0</td>\n      <td>56.142675</td>\n      <td>14.000000</td>\n      <td>56.080300</td>\n      <td>12.041595</td>\n      <td>1</td>\n      <td>0</td>\n      <td>0</td>\n      <td>0</td>\n      <td>550</td>\n    </tr>\n    <tr>\n      <th>...</th>\n      <td>...</td>\n      <td>...</td>\n      <td>...</td>\n      <td>...</td>\n      <td>...</td>\n      <td>...</td>\n      <td>...</td>\n      <td>...</td>\n      <td>...</td>\n      <td>...</td>\n      <td>...</td>\n      <td>...</td>\n      <td>...</td>\n      <td>...</td>\n      <td>...</td>\n      <td>...</td>\n      <td>...</td>\n      <td>...</td>\n      <td>...</td>\n      <td>...</td>\n      <td>...</td>\n    </tr>\n    <tr>\n      <th>3339</th>\n      <td>0</td>\n      <td>R_635_50_M_14_M0_G0_C0_16.jpg</td>\n      <td>203.0</td>\n      <td>449.0</td>\n      <td>524.0</td>\n      <td>901.0</td>\n      <td>285.0</td>\n      <td>590.0</td>\n      <td>340.0</td>\n      <td>603.0</td>\n      <td>...</td>\n      <td>615.0</td>\n      <td>55.009090</td>\n      <td>11.000000</td>\n      <td>57.140179</td>\n      <td>11.045361</td>\n      <td>1</td>\n      <td>0</td>\n      <td>0</td>\n      <td>0</td>\n      <td>826</td>\n    </tr>\n    <tr>\n      <th>3340</th>\n      <td>0</td>\n      <td>R_635_50_M_14_M0_G0_C0_17.jpg</td>\n      <td>364.0</td>\n      <td>446.0</td>\n      <td>674.0</td>\n      <td>1016.0</td>\n      <td>550.0</td>\n      <td>556.0</td>\n      <td>595.0</td>\n      <td>571.0</td>\n      <td>...</td>\n      <td>561.0</td>\n      <td>47.434165</td>\n      <td>5.830952</td>\n      <td>20.000000</td>\n      <td>5.656854</td>\n      <td>1</td>\n      <td>0</td>\n      <td>0</td>\n      <td>0</td>\n      <td>266</td>\n    </tr>\n    <tr>\n      <th>3341</th>\n      <td>0</td>\n      <td>R_635_50_M_14_M0_G0_C0_18.jpg</td>\n      <td>330.0</td>\n      <td>385.0</td>\n      <td>670.0</td>\n      <td>944.0</td>\n      <td>448.0</td>\n      <td>575.0</td>\n      <td>512.0</td>\n      <td>598.0</td>\n      <td>...</td>\n      <td>627.0</td>\n      <td>64.629715</td>\n      <td>21.377558</td>\n      <td>53.758720</td>\n      <td>20.024984</td>\n      <td>1</td>\n      <td>0</td>\n      <td>0</td>\n      <td>0</td>\n      <td>626</td>\n    </tr>\n    <tr>\n      <th>3342</th>\n      <td>0</td>\n      <td>R_635_50_M_14_M0_G0_C0_19.jpg</td>\n      <td>351.0</td>\n      <td>446.0</td>\n      <td>663.0</td>\n      <td>915.0</td>\n      <td>396.0</td>\n      <td>591.0</td>\n      <td>457.0</td>\n      <td>606.0</td>\n      <td>...</td>\n      <td>604.0</td>\n      <td>61.131007</td>\n      <td>13.000000</td>\n      <td>57.078893</td>\n      <td>12.000000</td>\n      <td>1</td>\n      <td>0</td>\n      <td>0</td>\n      <td>0</td>\n      <td>646</td>\n    </tr>\n    <tr>\n      <th>3343</th>\n      <td>0</td>\n      <td>R_635_50_M_14_M0_G0_C0_20.jpg</td>\n      <td>224.0</td>\n      <td>372.0</td>\n      <td>550.0</td>\n      <td>960.0</td>\n      <td>270.0</td>\n      <td>633.0</td>\n      <td>287.0</td>\n      <td>643.0</td>\n      <td>...</td>\n      <td>611.0</td>\n      <td>7.211103</td>\n      <td>8.062258</td>\n      <td>57.697487</td>\n      <td>6.082763</td>\n      <td>1</td>\n      <td>0</td>\n      <td>1</td>\n      <td>0</td>\n      <td>537</td>\n    </tr>\n  </tbody>\n</table>\n<p>3344 rows × 23 columns</p>\n</div>"
     },
     "execution_count": 2,
     "metadata": {},
     "output_type": "execute_result"
    }
   ],
   "source": [
    "predict_data_set = pd.read_csv(\"analysis_data/predict_truck_20240226-105722.csv\")\n",
    "predict_data_columns = predict_data_set.columns.to_list()[1:]\n",
    "predict_data_set"
   ],
   "metadata": {
    "collapsed": false,
    "ExecuteTime": {
     "end_time": "2024-02-26T02:28:12.481274600Z",
     "start_time": "2024-02-26T02:28:12.437743700Z"
    }
   },
   "id": "c802f5375935ea3b",
   "execution_count": 2
  },
  {
   "cell_type": "code",
   "outputs": [
    {
     "data": {
      "text/plain": "Unnamed: 0                                          0\nfile_name               R_614_20_M_01_M0_G1_C0_01.jpg\nface_pt1_x_pos                                  320.0\nface_pt1_y_pos                                  304.0\nface_pt2_x_pos                                  638.0\nface_pt2_y_pos                                  892.0\nleft_eye_pt1_x_pos                              423.0\nleft_eye_pt1_y_pos                              531.0\nleft_eye_pt2_x_pos                              484.0\nleft_eye_pt2_y_pos                              538.0\nright_eye_pt1_x_pos                             569.0\nright_eye_pt1_y_pos                             560.0\nright_eye_pt2_x_pos                             625.0\nright_eye_pt2_y_pos                             585.0\nleft_eye_horizontal                         61.032778\nleft_eye_vertical                            6.082763\nright_eye_horizontal                        61.326992\nright_eye_vertical                                0.0\nface_detection                                      1\nleft_eye_close                                      1\nright_eye_close                                     1\nresult_close                                        1\nface_confidence                                   615\nName: 0, dtype: object"
     },
     "execution_count": 3,
     "metadata": {},
     "output_type": "execute_result"
    }
   ],
   "source": [
    "predict_data_set.iloc[0]"
   ],
   "metadata": {
    "collapsed": false,
    "ExecuteTime": {
     "end_time": "2024-02-26T02:28:12.506275500Z",
     "start_time": "2024-02-26T02:28:12.482271500Z"
    }
   },
   "id": "a424b639867caadc",
   "execution_count": 3
  },
  {
   "cell_type": "code",
   "outputs": [],
   "source": [
    "bus_label_dir = \"D:\\\\drowsy_dataset\\\\label\\\\bus\\\\\"\n",
    "passenger_label_dir = \"D:\\\\drowsy_dataset\\\\label\\\\passenger\\\\\"\n",
    "taxi_label_dir = \"D:\\\\drowsy_dataset\\\\label\\\\taxi\\\\\"\n",
    "truck_label_dir = \"D:\\\\drowsy_dataset\\\\label\\\\truck\\\\\""
   ],
   "metadata": {
    "collapsed": false,
    "ExecuteTime": {
     "end_time": "2024-02-26T02:28:12.534302900Z",
     "start_time": "2024-02-26T02:28:12.498275Z"
    }
   },
   "id": "b362ba28880a40f3",
   "execution_count": 4
  },
  {
   "cell_type": "code",
   "outputs": [
    {
     "data": {
      "text/plain": "8067"
     },
     "execution_count": 5,
     "metadata": {},
     "output_type": "execute_result"
    }
   ],
   "source": [
    "bus_label_path_list = []\n",
    "\n",
    "for sub_dir_name in os.listdir(bus_label_dir):\n",
    "    for label_name in os.listdir(bus_label_dir+sub_dir_name):\n",
    "        bus_label_path_list.append(bus_label_dir+sub_dir_name+os.sep+label_name)\n",
    "\n",
    "bus_label_path_list.sort()\n",
    "len(bus_label_path_list)"
   ],
   "metadata": {
    "collapsed": false,
    "ExecuteTime": {
     "end_time": "2024-02-26T02:28:12.570306800Z",
     "start_time": "2024-02-26T02:28:12.514270200Z"
    }
   },
   "id": "a7d0ce00073cc044",
   "execution_count": 5
  },
  {
   "cell_type": "code",
   "outputs": [
    {
     "data": {
      "text/plain": "8903"
     },
     "execution_count": 6,
     "metadata": {},
     "output_type": "execute_result"
    }
   ],
   "source": [
    "passenger_label_path_list = []\n",
    "\n",
    "for sub_dir_name in os.listdir(passenger_label_dir):\n",
    "    for label_name in os.listdir(passenger_label_dir+sub_dir_name):\n",
    "        passenger_label_path_list.append(passenger_label_dir+sub_dir_name+os.sep+label_name)\n",
    "\n",
    "passenger_label_path_list.sort()\n",
    "len(passenger_label_path_list)"
   ],
   "metadata": {
    "collapsed": false,
    "ExecuteTime": {
     "end_time": "2024-02-26T02:28:12.596307100Z",
     "start_time": "2024-02-26T02:28:12.527787100Z"
    }
   },
   "id": "f4e2a3e0f6a9801",
   "execution_count": 6
  },
  {
   "cell_type": "code",
   "outputs": [
    {
     "data": {
      "text/plain": "3200"
     },
     "execution_count": 7,
     "metadata": {},
     "output_type": "execute_result"
    }
   ],
   "source": [
    "taxi_label_path_list = []\n",
    "\n",
    "for sub_dir_name in os.listdir(taxi_label_dir):\n",
    "    for label_name in os.listdir(taxi_label_dir+sub_dir_name):\n",
    "        taxi_label_path_list.append(taxi_label_dir+sub_dir_name+os.sep+label_name)\n",
    "\n",
    "taxi_label_path_list.sort()\n",
    "len(taxi_label_path_list)"
   ],
   "metadata": {
    "collapsed": false,
    "ExecuteTime": {
     "end_time": "2024-02-26T02:28:12.596307100Z",
     "start_time": "2024-02-26T02:28:12.543304700Z"
    }
   },
   "id": "c3326fc7d0526e9a",
   "execution_count": 7
  },
  {
   "cell_type": "code",
   "outputs": [
    {
     "data": {
      "text/plain": "3344"
     },
     "execution_count": 8,
     "metadata": {},
     "output_type": "execute_result"
    }
   ],
   "source": [
    "truck_label_path_list = []\n",
    "\n",
    "for sub_dir_name in os.listdir(truck_label_dir):\n",
    "    for label_name in os.listdir(truck_label_dir+sub_dir_name):\n",
    "        truck_label_path_list.append(truck_label_dir+sub_dir_name+os.sep+label_name)\n",
    "\n",
    "truck_label_path_list.sort()\n",
    "len(truck_label_path_list)"
   ],
   "metadata": {
    "collapsed": false,
    "ExecuteTime": {
     "end_time": "2024-02-26T02:28:12.597306Z",
     "start_time": "2024-02-26T02:28:12.559305500Z"
    }
   },
   "id": "75a37066f71147a6",
   "execution_count": 8
  },
  {
   "cell_type": "code",
   "outputs": [],
   "source": [
    "driver_status = np.full(7, -1, dtype=np.int32)  # exist mask, exist glasses, face visible, left eye visible, left eye opened, right eye visible, right eye opened\n",
    "label_face_bbox = np.zeros(4, dtype=np.float64)\n",
    "label_left_eye_bbox = np.zeros(4, dtype=np.float64)\n",
    "label_right_eye_bbox = np.zeros(4, dtype=np.float64)"
   ],
   "metadata": {
    "collapsed": false,
    "ExecuteTime": {
     "end_time": "2024-02-26T02:28:12.598306400Z",
     "start_time": "2024-02-26T02:28:12.573307300Z"
    }
   },
   "id": "88c8216410547263",
   "execution_count": 9
  },
  {
   "cell_type": "code",
   "outputs": [],
   "source": [
    "target_data_columns = ['target_face_pt1_x_pos', 'target_face_pt1_y_pos', 'target_face_pt2_x', 'target_face_pt2_y_pos',\n",
    "                       'target_left_eye_pt1_x_pos', 'target_left_eye_pt1_y_pos', 'target_left_eye_pt2_x', 'target_left_eye_pt2_y_pos',\n",
    "                       'target_right_eye_pt1_x_pos', 'target_right_eye_pt1_y_pos', 'target_right_eye_pt2_x', 'target_right_eye_pt2_y_pos',\n",
    "                       'exist_mask', 'exist_glasses', 'face_visible', 'left_eye_visible', 'left_eye_opened', 'right_eye_visible', 'right_eye_opened'] "
   ],
   "metadata": {
    "collapsed": false,
    "ExecuteTime": {
     "end_time": "2024-02-26T02:28:12.656361700Z",
     "start_time": "2024-02-26T02:28:12.588306200Z"
    }
   },
   "id": "b09d4dcf6669f325",
   "execution_count": 10
  },
  {
   "cell_type": "code",
   "outputs": [],
   "source": [
    "logging_data = pd.DataFrame()\n",
    "logging_header = pd.DataFrame(columns=predict_data_columns+target_data_columns)\n",
    "\n",
    "start_time_str = time.strftime('%Y%m%d-%H%M%S', time.localtime(time.time()))\n",
    "logging_file_name = 'result' + '_' + start_time_str\n",
    "logging_file_path = 'analysis_data' + os.sep + logging_file_name + '.csv'\n",
    "logging_header.to_csv(logging_file_path, mode='a', header=True)"
   ],
   "metadata": {
    "collapsed": false,
    "ExecuteTime": {
     "end_time": "2024-02-26T02:28:12.657374300Z",
     "start_time": "2024-02-26T02:28:12.637852400Z"
    }
   },
   "id": "33234f0f8fffe885",
   "execution_count": 11
  },
  {
   "cell_type": "code",
   "outputs": [
    {
     "name": "stderr",
     "output_type": "stream",
     "text": [
      "merge for target data and predict data: 100%|██████████| 3344/3344 [00:23<00:00, 143.97it/s]\n"
     ]
    }
   ],
   "source": [
    "for label_path in tqdm(truck_label_path_list, desc='merge for target data and predict data'):\n",
    "    label = open(file=label_path, mode='r')\n",
    "    label_raw_data = json.load(label)\n",
    "    \n",
    "    driver_status.fill(-1)\n",
    "    label_face_bbox.fill(0)\n",
    "    label_left_eye_bbox.fill(0)\n",
    "    label_right_eye_bbox.fill(0)\n",
    "     \n",
    "    file_name_list = predict_data_set['file_name']\n",
    "    \n",
    "    for i, file_name in enumerate(file_name_list):\n",
    "        if label_raw_data['FileInfo']['FileName'] == file_name:\n",
    "            predict_data = predict_data_set.iloc[i].to_numpy()[1:]\n",
    "            \n",
    "            driver_status[0] = int(label_raw_data['Accessory']['Mask'])\n",
    "            driver_status[1] = int(label_raw_data['Accessory']['Glasses'])\n",
    "            driver_status[2] = int(label_raw_data['ObjectInfo']['BoundingBox']['Face']['isVisible'])\n",
    "            driver_status[3] = int(label_raw_data['ObjectInfo']['BoundingBox']['Leye']['isVisible'])\n",
    "            driver_status[4] = int(label_raw_data['ObjectInfo']['BoundingBox']['Leye']['Opened'])\n",
    "            driver_status[5] = int(label_raw_data['ObjectInfo']['BoundingBox']['Reye']['isVisible'])\n",
    "            driver_status[6] = int(label_raw_data['ObjectInfo']['BoundingBox']['Reye']['Opened'])\n",
    "            \n",
    "            face_pos = label_raw_data['ObjectInfo']['BoundingBox']['Face']['Position']  \n",
    "            left_eye_pos = label_raw_data['ObjectInfo']['BoundingBox']['Leye']['Position']\n",
    "            right_eye_pos = label_raw_data['ObjectInfo']['BoundingBox']['Reye']['Position']\n",
    "            \n",
    "            for pos_index, pos in enumerate(face_pos):\n",
    "                label_face_bbox[pos_index] = pos\n",
    "             \n",
    "            for pos_index, pos in enumerate(left_eye_pos):\n",
    "                label_left_eye_bbox[pos_index] = pos\n",
    "            \n",
    "            for pos_index, pos in enumerate(right_eye_pos): \n",
    "                label_right_eye_bbox[pos_index] = pos\n",
    "            \n",
    "            result_data = np.concatenate([predict_data, label_face_bbox, label_left_eye_bbox, label_right_eye_bbox, driver_status])\n",
    "            \n",
    "            logging_data = pd.DataFrame(data=[result_data], columns=predict_data_columns+target_data_columns)\n",
    "            logging_data.to_csv(logging_file_path, mode='a', header=False)"
   ],
   "metadata": {
    "collapsed": false,
    "ExecuteTime": {
     "end_time": "2024-02-26T02:28:35.901977800Z",
     "start_time": "2024-02-26T02:28:12.653849900Z"
    }
   },
   "id": "a57b13b3a5575385",
   "execution_count": 12
  },
  {
   "cell_type": "code",
   "outputs": [],
   "source": [],
   "metadata": {
    "collapsed": false
   },
   "id": "80a9396b240e7254"
  }
 ],
 "metadata": {
  "kernelspec": {
   "display_name": "Python 3",
   "language": "python",
   "name": "python3"
  },
  "language_info": {
   "codemirror_mode": {
    "name": "ipython",
    "version": 2
   },
   "file_extension": ".py",
   "mimetype": "text/x-python",
   "name": "python",
   "nbconvert_exporter": "python",
   "pygments_lexer": "ipython2",
   "version": "2.7.6"
  }
 },
 "nbformat": 4,
 "nbformat_minor": 5
}
