{
 "cells": [
  {
   "cell_type": "code",
   "execution_count": 13,
   "id": "initial_id",
   "metadata": {
    "collapsed": true,
    "ExecuteTime": {
     "end_time": "2024-02-25T08:36:35.928874400Z",
     "start_time": "2024-02-25T08:36:35.924524400Z"
    }
   },
   "outputs": [],
   "source": [
    "import os, json, time\n",
    "import pandas as pd\n",
    "import numpy as np\n",
    "\n",
    "from tqdm import tqdm"
   ]
  },
  {
   "cell_type": "code",
   "outputs": [
    {
     "data": {
      "text/plain": "      Unnamed: 0                      file_name  face_pt1_x_pos  \\\n0              0  R_216_60_M_01_M0_G1_C0_01.jpg           248.0   \n1              0  R_216_60_M_01_M0_G1_C0_02.jpg           250.0   \n2              0  R_216_60_M_01_M0_G1_C0_03.jpg           236.0   \n3              0  R_216_60_M_01_M0_G1_C0_04.jpg           148.0   \n4              0  R_216_60_M_01_M0_G1_C0_05.jpg           241.0   \n...          ...                            ...             ...   \n8062           0  R_238_50_M_12_M1_G1_C0_16.jpg           198.0   \n8063           0  R_238_50_M_12_M1_G1_C0_17.jpg           187.0   \n8064           0  R_238_50_M_12_M1_G1_C0_18.jpg           190.0   \n8065           0  R_238_50_M_12_M1_G1_C0_19.jpg           195.0   \n8066           0  R_238_50_M_12_M1_G1_C0_20.jpg           195.0   \n\n      face_pt1_y_pos  face_pt2_x_pos  face_pt2_y_pos  left_eye_pt1_x_pos  \\\n0              705.0           508.0          1089.0               361.0   \n1              706.0           508.0          1091.0               369.0   \n2              717.0           503.0          1105.0               428.0   \n3              740.0           391.0          1124.0               258.0   \n4              735.0           494.0          1118.0               371.0   \n...              ...             ...             ...                 ...   \n8062           793.0           462.0          1116.0                 0.0   \n8063           788.0           447.0          1106.0                 0.0   \n8064           790.0           452.0          1118.0                 0.0   \n8065           791.0           454.0          1118.0                 0.0   \n8066           790.0           453.0          1113.0                 0.0   \n\n      left_eye_pt1_y_pos  left_eye_pt2_x_pos  left_eye_pt2_y_pos  ...  \\\n0                  702.0               449.0               706.0  ...   \n1                  701.0               420.0               705.0  ...   \n2                  708.0               494.0               712.0  ...   \n3                  710.0               294.0               711.0  ...   \n4                  708.0               418.0               711.0  ...   \n...                  ...                 ...                 ...  ...   \n8062                 0.0                 0.0                 0.0  ...   \n8063                 0.0                 0.0                 0.0  ...   \n8064                 0.0                 0.0                 0.0  ...   \n8065                 0.0                 0.0                 0.0  ...   \n8066                 0.0                 0.0                 0.0  ...   \n\n      right_eye_pt2_y_pos  left_eye_horizontal  left_eye_vertical  \\\n0                   706.0            88.005682           3.000000   \n1                   703.0            51.156622           3.605551   \n2                   712.0            66.030296           2.828427   \n3                   714.0             7.000000           1.414214   \n4                   711.0            47.042534           2.236068   \n...                   ...                  ...                ...   \n8062                  0.0             0.000000           0.000000   \n8063                  0.0             0.000000           0.000000   \n8064                  0.0             0.000000           0.000000   \n8065                  0.0             0.000000           0.000000   \n8066                  0.0             0.000000           0.000000   \n\n      right_eye_horizontal  right_eye_vertical  face_detection  \\\n0                 4.123106            2.236068               1   \n1                13.000000            3.162278               1   \n2                24.041631            6.082763               1   \n3                10.049876            6.324555               1   \n4                 4.472136            1.000000               1   \n...                    ...                 ...             ...   \n8062              0.000000            0.000000               1   \n8063              0.000000            0.000000               1   \n8064              0.000000            0.000000               1   \n8065              0.000000            0.000000               1   \n8066              0.000000            0.000000               1   \n\n      left_eye_close  right_eye_close  result_close  face_confidence  \n0                  1                0             0              841  \n1                  1                0             0              840  \n2                  1                0             0              839  \n3                  0                0             0              846  \n4                  1                0             0              854  \n...              ...              ...           ...              ...  \n8062              -1               -1            -1              824  \n8063              -1               -1            -1              791  \n8064              -1               -1            -1              764  \n8065              -1               -1            -1              782  \n8066              -1               -1            -1              750  \n\n[8067 rows x 23 columns]",
      "text/html": "<div>\n<style scoped>\n    .dataframe tbody tr th:only-of-type {\n        vertical-align: middle;\n    }\n\n    .dataframe tbody tr th {\n        vertical-align: top;\n    }\n\n    .dataframe thead th {\n        text-align: right;\n    }\n</style>\n<table border=\"1\" class=\"dataframe\">\n  <thead>\n    <tr style=\"text-align: right;\">\n      <th></th>\n      <th>Unnamed: 0</th>\n      <th>file_name</th>\n      <th>face_pt1_x_pos</th>\n      <th>face_pt1_y_pos</th>\n      <th>face_pt2_x_pos</th>\n      <th>face_pt2_y_pos</th>\n      <th>left_eye_pt1_x_pos</th>\n      <th>left_eye_pt1_y_pos</th>\n      <th>left_eye_pt2_x_pos</th>\n      <th>left_eye_pt2_y_pos</th>\n      <th>...</th>\n      <th>right_eye_pt2_y_pos</th>\n      <th>left_eye_horizontal</th>\n      <th>left_eye_vertical</th>\n      <th>right_eye_horizontal</th>\n      <th>right_eye_vertical</th>\n      <th>face_detection</th>\n      <th>left_eye_close</th>\n      <th>right_eye_close</th>\n      <th>result_close</th>\n      <th>face_confidence</th>\n    </tr>\n  </thead>\n  <tbody>\n    <tr>\n      <th>0</th>\n      <td>0</td>\n      <td>R_216_60_M_01_M0_G1_C0_01.jpg</td>\n      <td>248.0</td>\n      <td>705.0</td>\n      <td>508.0</td>\n      <td>1089.0</td>\n      <td>361.0</td>\n      <td>702.0</td>\n      <td>449.0</td>\n      <td>706.0</td>\n      <td>...</td>\n      <td>706.0</td>\n      <td>88.005682</td>\n      <td>3.000000</td>\n      <td>4.123106</td>\n      <td>2.236068</td>\n      <td>1</td>\n      <td>1</td>\n      <td>0</td>\n      <td>0</td>\n      <td>841</td>\n    </tr>\n    <tr>\n      <th>1</th>\n      <td>0</td>\n      <td>R_216_60_M_01_M0_G1_C0_02.jpg</td>\n      <td>250.0</td>\n      <td>706.0</td>\n      <td>508.0</td>\n      <td>1091.0</td>\n      <td>369.0</td>\n      <td>701.0</td>\n      <td>420.0</td>\n      <td>705.0</td>\n      <td>...</td>\n      <td>703.0</td>\n      <td>51.156622</td>\n      <td>3.605551</td>\n      <td>13.000000</td>\n      <td>3.162278</td>\n      <td>1</td>\n      <td>1</td>\n      <td>0</td>\n      <td>0</td>\n      <td>840</td>\n    </tr>\n    <tr>\n      <th>2</th>\n      <td>0</td>\n      <td>R_216_60_M_01_M0_G1_C0_03.jpg</td>\n      <td>236.0</td>\n      <td>717.0</td>\n      <td>503.0</td>\n      <td>1105.0</td>\n      <td>428.0</td>\n      <td>708.0</td>\n      <td>494.0</td>\n      <td>712.0</td>\n      <td>...</td>\n      <td>712.0</td>\n      <td>66.030296</td>\n      <td>2.828427</td>\n      <td>24.041631</td>\n      <td>6.082763</td>\n      <td>1</td>\n      <td>1</td>\n      <td>0</td>\n      <td>0</td>\n      <td>839</td>\n    </tr>\n    <tr>\n      <th>3</th>\n      <td>0</td>\n      <td>R_216_60_M_01_M0_G1_C0_04.jpg</td>\n      <td>148.0</td>\n      <td>740.0</td>\n      <td>391.0</td>\n      <td>1124.0</td>\n      <td>258.0</td>\n      <td>710.0</td>\n      <td>294.0</td>\n      <td>711.0</td>\n      <td>...</td>\n      <td>714.0</td>\n      <td>7.000000</td>\n      <td>1.414214</td>\n      <td>10.049876</td>\n      <td>6.324555</td>\n      <td>1</td>\n      <td>0</td>\n      <td>0</td>\n      <td>0</td>\n      <td>846</td>\n    </tr>\n    <tr>\n      <th>4</th>\n      <td>0</td>\n      <td>R_216_60_M_01_M0_G1_C0_05.jpg</td>\n      <td>241.0</td>\n      <td>735.0</td>\n      <td>494.0</td>\n      <td>1118.0</td>\n      <td>371.0</td>\n      <td>708.0</td>\n      <td>418.0</td>\n      <td>711.0</td>\n      <td>...</td>\n      <td>711.0</td>\n      <td>47.042534</td>\n      <td>2.236068</td>\n      <td>4.472136</td>\n      <td>1.000000</td>\n      <td>1</td>\n      <td>1</td>\n      <td>0</td>\n      <td>0</td>\n      <td>854</td>\n    </tr>\n    <tr>\n      <th>...</th>\n      <td>...</td>\n      <td>...</td>\n      <td>...</td>\n      <td>...</td>\n      <td>...</td>\n      <td>...</td>\n      <td>...</td>\n      <td>...</td>\n      <td>...</td>\n      <td>...</td>\n      <td>...</td>\n      <td>...</td>\n      <td>...</td>\n      <td>...</td>\n      <td>...</td>\n      <td>...</td>\n      <td>...</td>\n      <td>...</td>\n      <td>...</td>\n      <td>...</td>\n      <td>...</td>\n    </tr>\n    <tr>\n      <th>8062</th>\n      <td>0</td>\n      <td>R_238_50_M_12_M1_G1_C0_16.jpg</td>\n      <td>198.0</td>\n      <td>793.0</td>\n      <td>462.0</td>\n      <td>1116.0</td>\n      <td>0.0</td>\n      <td>0.0</td>\n      <td>0.0</td>\n      <td>0.0</td>\n      <td>...</td>\n      <td>0.0</td>\n      <td>0.000000</td>\n      <td>0.000000</td>\n      <td>0.000000</td>\n      <td>0.000000</td>\n      <td>1</td>\n      <td>-1</td>\n      <td>-1</td>\n      <td>-1</td>\n      <td>824</td>\n    </tr>\n    <tr>\n      <th>8063</th>\n      <td>0</td>\n      <td>R_238_50_M_12_M1_G1_C0_17.jpg</td>\n      <td>187.0</td>\n      <td>788.0</td>\n      <td>447.0</td>\n      <td>1106.0</td>\n      <td>0.0</td>\n      <td>0.0</td>\n      <td>0.0</td>\n      <td>0.0</td>\n      <td>...</td>\n      <td>0.0</td>\n      <td>0.000000</td>\n      <td>0.000000</td>\n      <td>0.000000</td>\n      <td>0.000000</td>\n      <td>1</td>\n      <td>-1</td>\n      <td>-1</td>\n      <td>-1</td>\n      <td>791</td>\n    </tr>\n    <tr>\n      <th>8064</th>\n      <td>0</td>\n      <td>R_238_50_M_12_M1_G1_C0_18.jpg</td>\n      <td>190.0</td>\n      <td>790.0</td>\n      <td>452.0</td>\n      <td>1118.0</td>\n      <td>0.0</td>\n      <td>0.0</td>\n      <td>0.0</td>\n      <td>0.0</td>\n      <td>...</td>\n      <td>0.0</td>\n      <td>0.000000</td>\n      <td>0.000000</td>\n      <td>0.000000</td>\n      <td>0.000000</td>\n      <td>1</td>\n      <td>-1</td>\n      <td>-1</td>\n      <td>-1</td>\n      <td>764</td>\n    </tr>\n    <tr>\n      <th>8065</th>\n      <td>0</td>\n      <td>R_238_50_M_12_M1_G1_C0_19.jpg</td>\n      <td>195.0</td>\n      <td>791.0</td>\n      <td>454.0</td>\n      <td>1118.0</td>\n      <td>0.0</td>\n      <td>0.0</td>\n      <td>0.0</td>\n      <td>0.0</td>\n      <td>...</td>\n      <td>0.0</td>\n      <td>0.000000</td>\n      <td>0.000000</td>\n      <td>0.000000</td>\n      <td>0.000000</td>\n      <td>1</td>\n      <td>-1</td>\n      <td>-1</td>\n      <td>-1</td>\n      <td>782</td>\n    </tr>\n    <tr>\n      <th>8066</th>\n      <td>0</td>\n      <td>R_238_50_M_12_M1_G1_C0_20.jpg</td>\n      <td>195.0</td>\n      <td>790.0</td>\n      <td>453.0</td>\n      <td>1113.0</td>\n      <td>0.0</td>\n      <td>0.0</td>\n      <td>0.0</td>\n      <td>0.0</td>\n      <td>...</td>\n      <td>0.0</td>\n      <td>0.000000</td>\n      <td>0.000000</td>\n      <td>0.000000</td>\n      <td>0.000000</td>\n      <td>1</td>\n      <td>-1</td>\n      <td>-1</td>\n      <td>-1</td>\n      <td>750</td>\n    </tr>\n  </tbody>\n</table>\n<p>8067 rows × 23 columns</p>\n</div>"
     },
     "execution_count": 14,
     "metadata": {},
     "output_type": "execute_result"
    }
   ],
   "source": [
    "bus_predict_data_set = pd.read_csv('analysis_data/predict_bus_20240225-172713.csv')\n",
    "predict_data_columns = bus_predict_data_set.columns.to_list()[1:]\n",
    "bus_predict_data_set"
   ],
   "metadata": {
    "collapsed": false,
    "ExecuteTime": {
     "end_time": "2024-02-25T08:36:35.967107100Z",
     "start_time": "2024-02-25T08:36:35.930874300Z"
    }
   },
   "id": "c802f5375935ea3b",
   "execution_count": 14
  },
  {
   "cell_type": "code",
   "outputs": [
    {
     "data": {
      "text/plain": "Unnamed: 0                                          0\nfile_name               R_216_60_M_01_M0_G1_C0_01.jpg\nface_pt1_x_pos                                  248.0\nface_pt1_y_pos                                  705.0\nface_pt2_x_pos                                  508.0\nface_pt2_y_pos                                 1089.0\nleft_eye_pt1_x_pos                              361.0\nleft_eye_pt1_y_pos                              702.0\nleft_eye_pt2_x_pos                              449.0\nleft_eye_pt2_y_pos                              706.0\nright_eye_pt1_x_pos                             367.0\nright_eye_pt1_y_pos                             700.0\nright_eye_pt2_x_pos                             391.0\nright_eye_pt2_y_pos                             706.0\nleft_eye_horizontal                         88.005682\nleft_eye_vertical                                 3.0\nright_eye_horizontal                         4.123106\nright_eye_vertical                           2.236068\nface_detection                                      1\nleft_eye_close                                      1\nright_eye_close                                     0\nresult_close                                        0\nface_confidence                                   841\nName: 0, dtype: object"
     },
     "execution_count": 15,
     "metadata": {},
     "output_type": "execute_result"
    }
   ],
   "source": [
    "bus_predict_data_set.iloc[0]"
   ],
   "metadata": {
    "collapsed": false,
    "ExecuteTime": {
     "end_time": "2024-02-25T08:36:35.969107Z",
     "start_time": "2024-02-25T08:36:35.964068100Z"
    }
   },
   "id": "a424b639867caadc",
   "execution_count": 15
  },
  {
   "cell_type": "code",
   "outputs": [],
   "source": [
    "bus_label_dir = \"C:\\\\workspace\\\\label\\\\bus\\\\\"\n",
    "passenger_label_dir = \"C:\\\\workspace\\\\label\\\\passenger\\\\\"\n",
    "taxi_label_dir = \"C:\\\\workspace\\\\label\\\\taxi\\\\\"\n",
    "truck_label_dir = \"C:\\\\workspace\\\\label\\\\truck\\\\\""
   ],
   "metadata": {
    "collapsed": false,
    "ExecuteTime": {
     "end_time": "2024-02-25T08:36:35.979147600Z",
     "start_time": "2024-02-25T08:36:35.969107Z"
    }
   },
   "id": "b362ba28880a40f3",
   "execution_count": 16
  },
  {
   "cell_type": "code",
   "outputs": [
    {
     "data": {
      "text/plain": "8067"
     },
     "execution_count": 17,
     "metadata": {},
     "output_type": "execute_result"
    }
   ],
   "source": [
    "bus_label_path_list = []\n",
    "\n",
    "for sub_dir_name in os.listdir(bus_label_dir):\n",
    "    for label_name in os.listdir(bus_label_dir+sub_dir_name):\n",
    "        bus_label_path_list.append(bus_label_dir+sub_dir_name+os.sep+label_name)\n",
    "\n",
    "bus_label_path_list.sort()\n",
    "len(bus_label_path_list)"
   ],
   "metadata": {
    "collapsed": false,
    "ExecuteTime": {
     "end_time": "2024-02-25T08:36:36.012185200Z",
     "start_time": "2024-02-25T08:36:35.972760800Z"
    }
   },
   "id": "a7d0ce00073cc044",
   "execution_count": 17
  },
  {
   "cell_type": "code",
   "outputs": [
    {
     "data": {
      "text/plain": "8903"
     },
     "execution_count": 18,
     "metadata": {},
     "output_type": "execute_result"
    }
   ],
   "source": [
    "passenger_label_path_list = []\n",
    "\n",
    "for sub_dir_name in os.listdir(passenger_label_dir):\n",
    "    for label_name in os.listdir(passenger_label_dir+sub_dir_name):\n",
    "        passenger_label_path_list.append(passenger_label_dir+sub_dir_name+os.sep+label_name)\n",
    "\n",
    "passenger_label_path_list.sort()\n",
    "len(passenger_label_path_list)"
   ],
   "metadata": {
    "collapsed": false,
    "ExecuteTime": {
     "end_time": "2024-02-25T08:36:36.040613200Z",
     "start_time": "2024-02-25T08:36:35.996394900Z"
    }
   },
   "id": "f4e2a3e0f6a9801",
   "execution_count": 18
  },
  {
   "cell_type": "code",
   "outputs": [
    {
     "data": {
      "text/plain": "3200"
     },
     "execution_count": 19,
     "metadata": {},
     "output_type": "execute_result"
    }
   ],
   "source": [
    "taxi_label_path_list = []\n",
    "\n",
    "for sub_dir_name in os.listdir(taxi_label_dir):\n",
    "    for label_name in os.listdir(taxi_label_dir+sub_dir_name):\n",
    "        taxi_label_path_list.append(taxi_label_dir+sub_dir_name+os.sep+label_name)\n",
    "\n",
    "taxi_label_path_list.sort()\n",
    "len(taxi_label_path_list)"
   ],
   "metadata": {
    "collapsed": false,
    "ExecuteTime": {
     "end_time": "2024-02-25T08:36:36.060875900Z",
     "start_time": "2024-02-25T08:36:36.013691400Z"
    }
   },
   "id": "c3326fc7d0526e9a",
   "execution_count": 19
  },
  {
   "cell_type": "code",
   "outputs": [
    {
     "data": {
      "text/plain": "3344"
     },
     "execution_count": 20,
     "metadata": {},
     "output_type": "execute_result"
    }
   ],
   "source": [
    "truck_label_path_list = []\n",
    "\n",
    "for sub_dir_name in os.listdir(truck_label_dir):\n",
    "    for label_name in os.listdir(truck_label_dir+sub_dir_name):\n",
    "        truck_label_path_list.append(truck_label_dir+sub_dir_name+os.sep+label_name)\n",
    "\n",
    "truck_label_path_list.sort()\n",
    "len(truck_label_path_list)"
   ],
   "metadata": {
    "collapsed": false,
    "ExecuteTime": {
     "end_time": "2024-02-25T08:36:36.061933600Z",
     "start_time": "2024-02-25T08:36:36.024229600Z"
    }
   },
   "id": "75a37066f71147a6",
   "execution_count": 20
  },
  {
   "cell_type": "code",
   "outputs": [],
   "source": [
    "driver_status = np.full(7, -1, dtype=np.int32)  # exist mask, exist glasses, face visible, left eye visible, left eye opened, right eye visible, right eye opened\n",
    "label_face_bbox = np.zeros(4, dtype=np.float64)\n",
    "label_left_eye_bbox = np.zeros(4, dtype=np.float64)\n",
    "label_right_eye_bbox = np.zeros(4, dtype=np.float64)"
   ],
   "metadata": {
    "collapsed": false,
    "ExecuteTime": {
     "end_time": "2024-02-25T08:36:36.061933600Z",
     "start_time": "2024-02-25T08:36:36.034037Z"
    }
   },
   "id": "88c8216410547263",
   "execution_count": 21
  },
  {
   "cell_type": "code",
   "outputs": [],
   "source": [
    "target_data_columns = ['target_face_pt1_x_pos', 'target_face_pt1_y_pos', 'target_face_pt2_x', 'target_face_pt2_y_pos',\n",
    "                       'target_left_eye_pt1_x_pos', 'target_left_eye_pt1_y_pos', 'target_left_eye_pt2_x', 'target_left_eye_pt2_y_pos',\n",
    "                       'target_right_eye_pt1_x_pos', 'target_right_eye_pt1_y_pos', 'target_right_eye_pt2_x', 'target_right_eye_pt2_y_pos',\n",
    "                       'exist_mask', 'exist_glasses', 'face_visible', 'left_eye_visible', 'left_eye_opened', 'right_eye_visible', 'right_eye_opened'] "
   ],
   "metadata": {
    "collapsed": false,
    "ExecuteTime": {
     "end_time": "2024-02-25T08:36:36.062933400Z",
     "start_time": "2024-02-25T08:36:36.038369500Z"
    }
   },
   "id": "b09d4dcf6669f325",
   "execution_count": 22
  },
  {
   "cell_type": "code",
   "outputs": [],
   "source": [
    "logging_data = pd.DataFrame()\n",
    "logging_header = pd.DataFrame(columns=predict_data_columns+target_data_columns)\n",
    "\n",
    "start_time_str = time.strftime('%Y%m%d-%H%M%S', time.localtime(time.time()))\n",
    "logging_file_name = 'result' + '_' + start_time_str\n",
    "logging_file_path = 'analysis_data' + os.sep + logging_file_name + '.csv'\n",
    "logging_header.to_csv(logging_file_path, mode='a', header=True)"
   ],
   "metadata": {
    "collapsed": false,
    "ExecuteTime": {
     "end_time": "2024-02-25T08:36:36.063438500Z",
     "start_time": "2024-02-25T08:36:36.046237100Z"
    }
   },
   "id": "33234f0f8fffe885",
   "execution_count": 23
  },
  {
   "cell_type": "code",
   "outputs": [
    {
     "name": "stderr",
     "output_type": "stream",
     "text": [
      "merge for target data and predict data: 100%|██████████| 8067/8067 [00:16<00:00, 499.30it/s]\n"
     ]
    }
   ],
   "source": [
    "for label_path in tqdm(bus_label_path_list, desc='merge for target data and predict data'):\n",
    "    label = open(file=label_path, mode='r')\n",
    "    label_raw_data = json.load(label)\n",
    "    \n",
    "    driver_status.fill(-1)\n",
    "    label_face_bbox.fill(0)\n",
    "    label_left_eye_bbox.fill(0)\n",
    "    label_right_eye_bbox.fill(0)\n",
    "     \n",
    "    file_name_list = bus_predict_data_set['file_name']\n",
    "    \n",
    "    for i, file_name in enumerate(file_name_list):\n",
    "        if label_raw_data['FileInfo']['FileName'] == file_name:\n",
    "            predict_data = bus_predict_data_set.iloc[i].to_numpy()[1:]\n",
    "            \n",
    "            driver_status[0] = int(label_raw_data['Accessory']['Mask'])\n",
    "            driver_status[1] = int(label_raw_data['Accessory']['Glasses'])\n",
    "            driver_status[2] = int(label_raw_data['ObjectInfo']['BoundingBox']['Face']['isVisible'])\n",
    "            driver_status[3] = int(label_raw_data['ObjectInfo']['BoundingBox']['Leye']['isVisible'])\n",
    "            driver_status[4] = int(label_raw_data['ObjectInfo']['BoundingBox']['Leye']['Opened'])\n",
    "            driver_status[5] = int(label_raw_data['ObjectInfo']['BoundingBox']['Reye']['isVisible'])\n",
    "            driver_status[6] = int(label_raw_data['ObjectInfo']['BoundingBox']['Reye']['Opened'])\n",
    "            \n",
    "            face_pos = label_raw_data['ObjectInfo']['BoundingBox']['Face']['Position']  \n",
    "            left_eye_pos = label_raw_data['ObjectInfo']['BoundingBox']['Leye']['Position']\n",
    "            right_eye_pos = label_raw_data['ObjectInfo']['BoundingBox']['Reye']['Position']\n",
    "            \n",
    "            for pos_index, pos in enumerate(face_pos):\n",
    "                label_face_bbox[pos_index] = pos\n",
    "             \n",
    "            for pos_index, pos in enumerate(left_eye_pos):\n",
    "                label_left_eye_bbox[pos_index] = pos\n",
    "            \n",
    "            for pos_index, pos in enumerate(right_eye_pos): \n",
    "                label_right_eye_bbox[pos_index] = pos\n",
    "            \n",
    "            result_data = np.concatenate([predict_data, label_face_bbox, label_left_eye_bbox, label_right_eye_bbox, driver_status])\n",
    "            \n",
    "            logging_data = pd.DataFrame(data=[result_data], columns=predict_data_columns+target_data_columns)\n",
    "            logging_data.to_csv(logging_file_path, mode='a', header=False)"
   ],
   "metadata": {
    "collapsed": false,
    "ExecuteTime": {
     "end_time": "2024-02-25T08:36:52.215796Z",
     "start_time": "2024-02-25T08:36:36.048236700Z"
    }
   },
   "id": "a57b13b3a5575385",
   "execution_count": 24
  },
  {
   "cell_type": "code",
   "outputs": [],
   "source": [],
   "metadata": {
    "collapsed": false
   },
   "id": "80a9396b240e7254"
  }
 ],
 "metadata": {
  "kernelspec": {
   "display_name": "Python 3",
   "language": "python",
   "name": "python3"
  },
  "language_info": {
   "codemirror_mode": {
    "name": "ipython",
    "version": 2
   },
   "file_extension": ".py",
   "mimetype": "text/x-python",
   "name": "python",
   "nbconvert_exporter": "python",
   "pygments_lexer": "ipython2",
   "version": "2.7.6"
  }
 },
 "nbformat": 4,
 "nbformat_minor": 5
}
