{
 "cells": [
  {
   "cell_type": "code",
   "id": "initial_id",
   "metadata": {
    "collapsed": true,
    "ExecuteTime": {
     "end_time": "2024-06-05T08:08:24.626911Z",
     "start_time": "2024-06-05T08:08:24.355200Z"
    }
   },
   "source": [
    "import os, json, time\n",
    "import pandas as pd\n",
    "import numpy as np\n",
    "from tqdm import tqdm"
   ],
   "outputs": [],
   "execution_count": 1
  },
  {
   "cell_type": "code",
   "source": [
    "bus_label_dir = \"D:\\\\drowsy_dataset\\\\label\\\\bus\\\\\"\n",
    "passenger_label_dir = \"D:\\\\drowsy_dataset\\\\label\\\\passenger\\\\\"\n",
    "taxi_label_dir = \"D:\\\\drowsy_dataset\\\\label\\\\taxi\\\\\"\n",
    "truck_label_dir = \"D:\\\\drowsy_dataset\\\\label\\\\truck\\\\\""
   ],
   "metadata": {
    "collapsed": false,
    "ExecuteTime": {
     "end_time": "2024-06-05T08:08:39.196058Z",
     "start_time": "2024-06-05T08:08:39.186058Z"
    }
   },
   "id": "b362ba28880a40f3",
   "outputs": [],
   "execution_count": 2
  },
  {
   "cell_type": "code",
   "source": [
    "bus_label_path_list = []\n",
    "\n",
    "for sub_dir_name in os.listdir(bus_label_dir):\n",
    "    for label_name in os.listdir(bus_label_dir+sub_dir_name):\n",
    "        bus_label_path_list.append(bus_label_dir+sub_dir_name+os.sep+label_name)\n",
    "\n",
    "bus_label_path_list.sort()\n",
    "bus_label_path_list[0:5]"
   ],
   "metadata": {
    "collapsed": false,
    "ExecuteTime": {
     "end_time": "2024-06-05T08:08:40.117771Z",
     "start_time": "2024-06-05T08:08:40.023327Z"
    }
   },
   "id": "a7d0ce00073cc044",
   "outputs": [
    {
     "data": {
      "text/plain": [
       "['D:\\\\drowsy_dataset\\\\label\\\\bus\\\\R_216_60_M\\\\R_216_60_M_01_M0_G1_C0_01.json',\n",
       " 'D:\\\\drowsy_dataset\\\\label\\\\bus\\\\R_216_60_M\\\\R_216_60_M_01_M0_G1_C0_02.json',\n",
       " 'D:\\\\drowsy_dataset\\\\label\\\\bus\\\\R_216_60_M\\\\R_216_60_M_01_M0_G1_C0_03.json',\n",
       " 'D:\\\\drowsy_dataset\\\\label\\\\bus\\\\R_216_60_M\\\\R_216_60_M_01_M0_G1_C0_04.json',\n",
       " 'D:\\\\drowsy_dataset\\\\label\\\\bus\\\\R_216_60_M\\\\R_216_60_M_01_M0_G1_C0_05.json']"
      ]
     },
     "execution_count": 3,
     "metadata": {},
     "output_type": "execute_result"
    }
   ],
   "execution_count": 3
  },
  {
   "cell_type": "code",
   "source": [
    "passenger_label_path_list = []\n",
    "\n",
    "for sub_dir_name in os.listdir(passenger_label_dir):\n",
    "    for label_name in os.listdir(passenger_label_dir+sub_dir_name):\n",
    "        passenger_label_path_list.append(passenger_label_dir+sub_dir_name+os.sep+label_name)\n",
    "\n",
    "passenger_label_path_list.sort()\n",
    "passenger_label_path_list[0:5]"
   ],
   "metadata": {
    "collapsed": false,
    "ExecuteTime": {
     "end_time": "2024-06-05T08:08:41.644546Z",
     "start_time": "2024-06-05T08:08:41.562023Z"
    }
   },
   "id": "f4e2a3e0f6a9801",
   "outputs": [
    {
     "data": {
      "text/plain": [
       "['D:\\\\drowsy_dataset\\\\label\\\\passenger\\\\R_587_40_M\\\\R_587_40_M_01_M0_G1_C1_01.json',\n",
       " 'D:\\\\drowsy_dataset\\\\label\\\\passenger\\\\R_587_40_M\\\\R_587_40_M_01_M0_G1_C1_02.json',\n",
       " 'D:\\\\drowsy_dataset\\\\label\\\\passenger\\\\R_587_40_M\\\\R_587_40_M_01_M0_G1_C1_03.json',\n",
       " 'D:\\\\drowsy_dataset\\\\label\\\\passenger\\\\R_587_40_M\\\\R_587_40_M_01_M0_G1_C1_04.json',\n",
       " 'D:\\\\drowsy_dataset\\\\label\\\\passenger\\\\R_587_40_M\\\\R_587_40_M_01_M0_G1_C1_05.json']"
      ]
     },
     "execution_count": 4,
     "metadata": {},
     "output_type": "execute_result"
    }
   ],
   "execution_count": 4
  },
  {
   "cell_type": "code",
   "source": [
    "taxi_label_path_list = []\n",
    "\n",
    "for sub_dir_name in os.listdir(taxi_label_dir):\n",
    "    for label_name in os.listdir(taxi_label_dir+sub_dir_name):\n",
    "        taxi_label_path_list.append(taxi_label_dir+sub_dir_name+os.sep+label_name)\n",
    "\n",
    "taxi_label_path_list.sort()\n",
    "taxi_label_path_list[0:5]"
   ],
   "metadata": {
    "collapsed": false,
    "ExecuteTime": {
     "end_time": "2024-06-05T08:08:42.807422Z",
     "start_time": "2024-06-05T08:08:42.769422Z"
    }
   },
   "id": "c3326fc7d0526e9a",
   "outputs": [
    {
     "data": {
      "text/plain": [
       "['D:\\\\drowsy_dataset\\\\label\\\\taxi\\\\R_332_50_M\\\\R_332_50_M_01_M0_G1_C0_01.json',\n",
       " 'D:\\\\drowsy_dataset\\\\label\\\\taxi\\\\R_332_50_M\\\\R_332_50_M_01_M0_G1_C0_02.json',\n",
       " 'D:\\\\drowsy_dataset\\\\label\\\\taxi\\\\R_332_50_M\\\\R_332_50_M_01_M0_G1_C0_03.json',\n",
       " 'D:\\\\drowsy_dataset\\\\label\\\\taxi\\\\R_332_50_M\\\\R_332_50_M_01_M0_G1_C0_04.json',\n",
       " 'D:\\\\drowsy_dataset\\\\label\\\\taxi\\\\R_332_50_M\\\\R_332_50_M_01_M0_G1_C0_05.json']"
      ]
     },
     "execution_count": 5,
     "metadata": {},
     "output_type": "execute_result"
    }
   ],
   "execution_count": 5
  },
  {
   "cell_type": "code",
   "source": [
    "truck_label_path_list = []\n",
    "\n",
    "for sub_dir_name in os.listdir(truck_label_dir):\n",
    "    for label_name in os.listdir(truck_label_dir+sub_dir_name):\n",
    "        truck_label_path_list.append(truck_label_dir+sub_dir_name+os.sep+label_name)\n",
    "\n",
    "truck_label_path_list.sort()\n",
    "truck_label_path_list[0:5]"
   ],
   "metadata": {
    "collapsed": false,
    "ExecuteTime": {
     "end_time": "2024-06-05T08:08:45.829711Z",
     "start_time": "2024-06-05T08:08:45.792698Z"
    }
   },
   "id": "75a37066f71147a6",
   "outputs": [
    {
     "data": {
      "text/plain": [
       "['D:\\\\drowsy_dataset\\\\label\\\\truck\\\\R_614_20_M\\\\R_614_20_M_01_M0_G1_C0_01.json',\n",
       " 'D:\\\\drowsy_dataset\\\\label\\\\truck\\\\R_614_20_M\\\\R_614_20_M_01_M0_G1_C0_02.json',\n",
       " 'D:\\\\drowsy_dataset\\\\label\\\\truck\\\\R_614_20_M\\\\R_614_20_M_01_M0_G1_C0_03.json',\n",
       " 'D:\\\\drowsy_dataset\\\\label\\\\truck\\\\R_614_20_M\\\\R_614_20_M_01_M0_G1_C0_04.json',\n",
       " 'D:\\\\drowsy_dataset\\\\label\\\\truck\\\\R_614_20_M\\\\R_614_20_M_01_M0_G1_C0_05.json']"
      ]
     },
     "execution_count": 6,
     "metadata": {},
     "output_type": "execute_result"
    }
   ],
   "execution_count": 6
  },
  {
   "metadata": {
    "ExecuteTime": {
     "end_time": "2024-06-05T08:08:57.960302Z",
     "start_time": "2024-06-05T08:08:57.947303Z"
    }
   },
   "cell_type": "code",
   "source": "label_path_dict = {'bus': bus_label_path_list, 'passenger': passenger_label_path_list, 'taxi': taxi_label_path_list, 'truck': truck_label_path_list}",
   "id": "7ffb685a3151b7fd",
   "outputs": [],
   "execution_count": 7
  },
  {
   "metadata": {
    "ExecuteTime": {
     "end_time": "2024-06-05T08:08:58.760774Z",
     "start_time": "2024-06-05T08:08:58.755775Z"
    }
   },
   "cell_type": "code",
   "source": "column_names = ['file_name', 'eye_pt1_x_pos', 'eye_pt1_y_pos', 'eye_pt2_x_pos', 'eye_pt2_y_pos', 'opened']",
   "id": "43196316fbe6aa94",
   "outputs": [],
   "execution_count": 8
  },
  {
   "metadata": {
    "ExecuteTime": {
     "end_time": "2024-06-05T08:17:01.510759Z",
     "start_time": "2024-06-05T08:16:38.264041Z"
    }
   },
   "cell_type": "code",
   "source": [
    "driver_name = 'truck'\n",
    "\n",
    "logging_data = pd.DataFrame()\n",
    "logging_header = pd.DataFrame(columns=column_names)\n",
    "\n",
    "start_time_str = time.strftime('%Y%m%d-%H%M%S', time.localtime(time.time()))\n",
    "logging_file_name = 'result' + '_' + start_time_str\n",
    "logging_file_path = 'label_data' + os.sep + logging_file_name + '.csv'\n",
    "logging_header.to_csv(logging_file_path, mode='a', header=True)\n",
    "\n",
    "for label_path in tqdm(label_path_dict[driver_name]):\n",
    "    label_data = json.load(open(file=label_path))\n",
    "    file_name = label_data['FileInfo']['FileName']\n",
    "    \n",
    "    if label_data['ObjectInfo']['BoundingBox']['Face']['isVisible']:\n",
    "        if label_data['ObjectInfo']['BoundingBox']['Leye']['isVisible']:\n",
    "            pos = label_data['ObjectInfo']['BoundingBox']['Leye']['Position'] \n",
    "            label = int(label_data['ObjectInfo']['BoundingBox']['Leye']['Opened'])\n",
    "        \n",
    "            logging_data = pd.DataFrame(data=[[file_name, pos[0], pos[1], pos[2], pos[3], label]], columns=column_names)\n",
    "            logging_data.to_csv(logging_file_path, mode='a', header=False)\n",
    "        \n",
    "        if label_data['ObjectInfo']['BoundingBox']['Reye']['isVisible']:\n",
    "            pos = label_data['ObjectInfo']['BoundingBox']['Reye']['Position'] \n",
    "            label = int(label_data['ObjectInfo']['BoundingBox']['Reye']['Opened'])\n",
    "            \n",
    "            logging_data = pd.DataFrame(data=[[file_name, pos[0], pos[1], pos[2], pos[3], label]], columns=column_names)\n",
    "            logging_data.to_csv(logging_file_path, mode='a', header=False)"
   ],
   "id": "b1fa453f486930c9",
   "outputs": [
    {
     "name": "stderr",
     "output_type": "stream",
     "text": [
      "100%|██████████| 3344/3344 [00:23<00:00, 144.01it/s]\n"
     ]
    }
   ],
   "execution_count": 13
  },
  {
   "cell_type": "code",
   "outputs": [],
   "source": [],
   "metadata": {
    "collapsed": false
   },
   "id": "80a9396b240e7254",
   "execution_count": null
  }
 ],
 "metadata": {
  "kernelspec": {
   "display_name": "Python 3",
   "language": "python",
   "name": "python3"
  },
  "language_info": {
   "codemirror_mode": {
    "name": "ipython",
    "version": 2
   },
   "file_extension": ".py",
   "mimetype": "text/x-python",
   "name": "python",
   "nbconvert_exporter": "python",
   "pygments_lexer": "ipython2",
   "version": "2.7.6"
  }
 },
 "nbformat": 4,
 "nbformat_minor": 5
}
