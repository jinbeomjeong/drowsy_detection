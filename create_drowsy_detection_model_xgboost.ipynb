{
 "cells": [
  {
   "cell_type": "code",
   "id": "initial_id",
   "metadata": {
    "collapsed": true,
    "ExecuteTime": {
     "end_time": "2024-04-30T06:02:28.292859Z",
     "start_time": "2024-04-30T06:02:28.280857Z"
    }
   },
   "source": [
    "import os\n",
    "import pandas as pd\n",
    "import numpy as np\n",
    "import seaborn as sns\n",
    "import matplotlib.pyplot as plt\n",
    "from sklearn.model_selection import train_test_split\n",
    "from sklearn.metrics import confusion_matrix, accuracy_score, precision_score, recall_score, f1_score\n",
    "from xgboost import XGBClassifier, plot_importance"
   ],
   "outputs": [],
   "execution_count": 38
  },
  {
   "metadata": {
    "ExecuteTime": {
     "end_time": "2024-04-30T05:57:16.542290Z",
     "start_time": "2024-04-30T05:57:16.529290Z"
    }
   },
   "cell_type": "code",
   "source": "data_files_list = ['result_bus_20240226-112104.csv', 'result_passenger_20240226-112405.csv', 'result_taxi_20240226-112648.csv', 'result_truck_20240226-112812.csv']",
   "id": "8f99d7a2a36f3a85",
   "outputs": [],
   "execution_count": 20
  },
  {
   "metadata": {
    "ExecuteTime": {
     "end_time": "2024-04-30T05:57:16.692289Z",
     "start_time": "2024-04-30T05:57:16.556288Z"
    }
   },
   "cell_type": "code",
   "source": [
    "train_dataset = pd.DataFrame()\n",
    "test_dataset = pd.DataFrame()\n",
    "\n",
    "for data_file in data_files_list:\n",
    "    data = pd.read_csv('analysis_data' + os.sep + data_file)\n",
    "    train_data, test_data = train_test_split(data, test_size=0.1, random_state=0)\n",
    "    train_dataset = pd.concat([train_dataset, train_data])\n",
    "    test_dataset = pd.concat([test_dataset, test_data])\n",
    "    \n",
    "train_dataset.drop(columns=['Unnamed: 0'], inplace=True)\n",
    "test_dataset.drop(columns=['Unnamed: 0'], inplace=True)\n",
    "\n",
    "data_columns = train_dataset.columns.to_list()[0:]\n",
    "train_dataset.reset_index(inplace=True, drop=True)\n",
    "test_dataset.reset_index(inplace=True, drop=True)"
   ],
   "id": "255433b4ed8fde07",
   "outputs": [],
   "execution_count": 21
  },
  {
   "metadata": {
    "ExecuteTime": {
     "end_time": "2024-04-30T05:57:16.722288Z",
     "start_time": "2024-04-30T05:57:16.695288Z"
    }
   },
   "cell_type": "code",
   "source": "train_dataset.head()",
   "id": "153cf7163058aa60",
   "outputs": [
    {
     "data": {
      "text/plain": [
       "                       file_name  face_pt1_x_pos  face_pt1_y_pos  \\\n",
       "0  R_234_60_M_19_M1_G1_C0_03.jpg           211.0           434.0   \n",
       "1  R_218_50_M_17_M1_G0_C0_12.jpg           320.0           468.0   \n",
       "2  R_226_30_M_17_M1_G1_C1_17.jpg           284.0           506.0   \n",
       "3  R_231_50_M_09_M1_G0_C0_14.jpg           144.0           447.0   \n",
       "4  R_230_40_M_19_M1_G1_C0_18.jpg            41.0           582.0   \n",
       "\n",
       "   face_pt2_x_pos  face_pt2_y_pos  left_eye_pt1_x_pos  left_eye_pt1_y_pos  \\\n",
       "0           483.0           910.0               261.0               599.0   \n",
       "1           566.0           932.0               380.0               635.0   \n",
       "2           600.0           942.0               370.0               633.0   \n",
       "3           474.0          1013.0               209.0               669.0   \n",
       "4           320.0          1028.0               169.0               685.0   \n",
       "\n",
       "   left_eye_pt2_x_pos  left_eye_pt2_y_pos  right_eye_pt1_x_pos  ...  \\\n",
       "0               304.0               610.0                377.0  ...   \n",
       "1               418.0               656.0                487.0  ...   \n",
       "2               396.0               647.0                478.0  ...   \n",
       "3               228.0               695.0                295.0  ...   \n",
       "4               199.0               730.0                194.0  ...   \n",
       "\n",
       "   target_right_eye_pt1_y_pos  target_right_eye_pt2_x  \\\n",
       "0                      587.82                  425.23   \n",
       "1                      627.46                  544.69   \n",
       "2                      629.95                  523.56   \n",
       "3                      656.88                  369.80   \n",
       "4                      705.04                  240.05   \n",
       "\n",
       "   target_right_eye_pt2_y_pos  exist_mask  exist_glasses  face_visible  \\\n",
       "0                      616.64           1              1             1   \n",
       "1                      654.72           1              0             1   \n",
       "2                      651.35           1              1             1   \n",
       "3                      691.17           1              0             1   \n",
       "4                      732.24           1              1             1   \n",
       "\n",
       "   left_eye_visible  left_eye_opened  right_eye_visible  right_eye_opened  \n",
       "0                 1                1                  1                 1  \n",
       "1                 1                1                  1                 1  \n",
       "2                 1                1                  1                 1  \n",
       "3                 1                1                  1                 1  \n",
       "4                 1                1                  1                 1  \n",
       "\n",
       "[5 rows x 41 columns]"
      ],
      "text/html": [
       "<div>\n",
       "<style scoped>\n",
       "    .dataframe tbody tr th:only-of-type {\n",
       "        vertical-align: middle;\n",
       "    }\n",
       "\n",
       "    .dataframe tbody tr th {\n",
       "        vertical-align: top;\n",
       "    }\n",
       "\n",
       "    .dataframe thead th {\n",
       "        text-align: right;\n",
       "    }\n",
       "</style>\n",
       "<table border=\"1\" class=\"dataframe\">\n",
       "  <thead>\n",
       "    <tr style=\"text-align: right;\">\n",
       "      <th></th>\n",
       "      <th>file_name</th>\n",
       "      <th>face_pt1_x_pos</th>\n",
       "      <th>face_pt1_y_pos</th>\n",
       "      <th>face_pt2_x_pos</th>\n",
       "      <th>face_pt2_y_pos</th>\n",
       "      <th>left_eye_pt1_x_pos</th>\n",
       "      <th>left_eye_pt1_y_pos</th>\n",
       "      <th>left_eye_pt2_x_pos</th>\n",
       "      <th>left_eye_pt2_y_pos</th>\n",
       "      <th>right_eye_pt1_x_pos</th>\n",
       "      <th>...</th>\n",
       "      <th>target_right_eye_pt1_y_pos</th>\n",
       "      <th>target_right_eye_pt2_x</th>\n",
       "      <th>target_right_eye_pt2_y_pos</th>\n",
       "      <th>exist_mask</th>\n",
       "      <th>exist_glasses</th>\n",
       "      <th>face_visible</th>\n",
       "      <th>left_eye_visible</th>\n",
       "      <th>left_eye_opened</th>\n",
       "      <th>right_eye_visible</th>\n",
       "      <th>right_eye_opened</th>\n",
       "    </tr>\n",
       "  </thead>\n",
       "  <tbody>\n",
       "    <tr>\n",
       "      <th>0</th>\n",
       "      <td>R_234_60_M_19_M1_G1_C0_03.jpg</td>\n",
       "      <td>211.0</td>\n",
       "      <td>434.0</td>\n",
       "      <td>483.0</td>\n",
       "      <td>910.0</td>\n",
       "      <td>261.0</td>\n",
       "      <td>599.0</td>\n",
       "      <td>304.0</td>\n",
       "      <td>610.0</td>\n",
       "      <td>377.0</td>\n",
       "      <td>...</td>\n",
       "      <td>587.82</td>\n",
       "      <td>425.23</td>\n",
       "      <td>616.64</td>\n",
       "      <td>1</td>\n",
       "      <td>1</td>\n",
       "      <td>1</td>\n",
       "      <td>1</td>\n",
       "      <td>1</td>\n",
       "      <td>1</td>\n",
       "      <td>1</td>\n",
       "    </tr>\n",
       "    <tr>\n",
       "      <th>1</th>\n",
       "      <td>R_218_50_M_17_M1_G0_C0_12.jpg</td>\n",
       "      <td>320.0</td>\n",
       "      <td>468.0</td>\n",
       "      <td>566.0</td>\n",
       "      <td>932.0</td>\n",
       "      <td>380.0</td>\n",
       "      <td>635.0</td>\n",
       "      <td>418.0</td>\n",
       "      <td>656.0</td>\n",
       "      <td>487.0</td>\n",
       "      <td>...</td>\n",
       "      <td>627.46</td>\n",
       "      <td>544.69</td>\n",
       "      <td>654.72</td>\n",
       "      <td>1</td>\n",
       "      <td>0</td>\n",
       "      <td>1</td>\n",
       "      <td>1</td>\n",
       "      <td>1</td>\n",
       "      <td>1</td>\n",
       "      <td>1</td>\n",
       "    </tr>\n",
       "    <tr>\n",
       "      <th>2</th>\n",
       "      <td>R_226_30_M_17_M1_G1_C1_17.jpg</td>\n",
       "      <td>284.0</td>\n",
       "      <td>506.0</td>\n",
       "      <td>600.0</td>\n",
       "      <td>942.0</td>\n",
       "      <td>370.0</td>\n",
       "      <td>633.0</td>\n",
       "      <td>396.0</td>\n",
       "      <td>647.0</td>\n",
       "      <td>478.0</td>\n",
       "      <td>...</td>\n",
       "      <td>629.95</td>\n",
       "      <td>523.56</td>\n",
       "      <td>651.35</td>\n",
       "      <td>1</td>\n",
       "      <td>1</td>\n",
       "      <td>1</td>\n",
       "      <td>1</td>\n",
       "      <td>1</td>\n",
       "      <td>1</td>\n",
       "      <td>1</td>\n",
       "    </tr>\n",
       "    <tr>\n",
       "      <th>3</th>\n",
       "      <td>R_231_50_M_09_M1_G0_C0_14.jpg</td>\n",
       "      <td>144.0</td>\n",
       "      <td>447.0</td>\n",
       "      <td>474.0</td>\n",
       "      <td>1013.0</td>\n",
       "      <td>209.0</td>\n",
       "      <td>669.0</td>\n",
       "      <td>228.0</td>\n",
       "      <td>695.0</td>\n",
       "      <td>295.0</td>\n",
       "      <td>...</td>\n",
       "      <td>656.88</td>\n",
       "      <td>369.80</td>\n",
       "      <td>691.17</td>\n",
       "      <td>1</td>\n",
       "      <td>0</td>\n",
       "      <td>1</td>\n",
       "      <td>1</td>\n",
       "      <td>1</td>\n",
       "      <td>1</td>\n",
       "      <td>1</td>\n",
       "    </tr>\n",
       "    <tr>\n",
       "      <th>4</th>\n",
       "      <td>R_230_40_M_19_M1_G1_C0_18.jpg</td>\n",
       "      <td>41.0</td>\n",
       "      <td>582.0</td>\n",
       "      <td>320.0</td>\n",
       "      <td>1028.0</td>\n",
       "      <td>169.0</td>\n",
       "      <td>685.0</td>\n",
       "      <td>199.0</td>\n",
       "      <td>730.0</td>\n",
       "      <td>194.0</td>\n",
       "      <td>...</td>\n",
       "      <td>705.04</td>\n",
       "      <td>240.05</td>\n",
       "      <td>732.24</td>\n",
       "      <td>1</td>\n",
       "      <td>1</td>\n",
       "      <td>1</td>\n",
       "      <td>1</td>\n",
       "      <td>1</td>\n",
       "      <td>1</td>\n",
       "      <td>1</td>\n",
       "    </tr>\n",
       "  </tbody>\n",
       "</table>\n",
       "<p>5 rows × 41 columns</p>\n",
       "</div>"
      ]
     },
     "execution_count": 22,
     "metadata": {},
     "output_type": "execute_result"
    }
   ],
   "execution_count": 22
  },
  {
   "metadata": {
    "ExecuteTime": {
     "end_time": "2024-04-30T05:57:16.752806Z",
     "start_time": "2024-04-30T05:57:16.724289Z"
    }
   },
   "cell_type": "code",
   "source": "test_dataset.head()",
   "id": "8fe1b6563e7b9072",
   "outputs": [
    {
     "data": {
      "text/plain": [
       "                       file_name  face_pt1_x_pos  face_pt1_y_pos  \\\n",
       "0  R_231_50_M_09_M1_G0_C0_03.jpg           226.0           505.0   \n",
       "1  R_237_40_M_20_M0_G0_C0_05.jpg           151.0           246.0   \n",
       "2  R_221_50_M_04_M1_G0_C0_15.jpg           151.0           522.0   \n",
       "3  R_221_50_M_12_M1_G0_C0_06.jpg           244.0           540.0   \n",
       "4  R_221_50_M_13_M1_G0_C0_02.jpg           190.0           571.0   \n",
       "\n",
       "   face_pt2_x_pos  face_pt2_y_pos  left_eye_pt1_x_pos  left_eye_pt1_y_pos  \\\n",
       "0           538.0           964.0               319.0               632.0   \n",
       "1           470.0           762.0               197.0               431.0   \n",
       "2           416.0           972.0               245.0               636.0   \n",
       "3           504.0           968.0               349.0               628.0   \n",
       "4           464.0           981.0               304.0               640.0   \n",
       "\n",
       "   left_eye_pt2_x_pos  left_eye_pt2_y_pos  right_eye_pt1_x_pos  ...  \\\n",
       "0               338.0               657.0                409.0  ...   \n",
       "1               255.0               450.0                347.0  ...   \n",
       "2               277.0               656.0                330.0  ...   \n",
       "3               383.0               652.0                363.0  ...   \n",
       "4               320.0               667.0                278.0  ...   \n",
       "\n",
       "   target_right_eye_pt1_y_pos  target_right_eye_pt2_x  \\\n",
       "0                      659.53                  478.52   \n",
       "1                      414.25                  419.07   \n",
       "2                      677.20                  385.39   \n",
       "3                      716.67                  491.77   \n",
       "4                      732.69                  443.64   \n",
       "\n",
       "   target_right_eye_pt2_y_pos  exist_mask  exist_glasses  face_visible  \\\n",
       "0                      693.83           1              0             1   \n",
       "1                      451.02           0              0             1   \n",
       "2                      711.52           1              0             1   \n",
       "3                      763.04           1              0             1   \n",
       "4                      772.16           1              0             1   \n",
       "\n",
       "   left_eye_visible  left_eye_opened  right_eye_visible  right_eye_opened  \n",
       "0                 1                1                  1                 1  \n",
       "1                 1                1                  1                 1  \n",
       "2                 1                0                  1                 1  \n",
       "3                 1                1                  1                 1  \n",
       "4                 1                0                  1                 1  \n",
       "\n",
       "[5 rows x 41 columns]"
      ],
      "text/html": [
       "<div>\n",
       "<style scoped>\n",
       "    .dataframe tbody tr th:only-of-type {\n",
       "        vertical-align: middle;\n",
       "    }\n",
       "\n",
       "    .dataframe tbody tr th {\n",
       "        vertical-align: top;\n",
       "    }\n",
       "\n",
       "    .dataframe thead th {\n",
       "        text-align: right;\n",
       "    }\n",
       "</style>\n",
       "<table border=\"1\" class=\"dataframe\">\n",
       "  <thead>\n",
       "    <tr style=\"text-align: right;\">\n",
       "      <th></th>\n",
       "      <th>file_name</th>\n",
       "      <th>face_pt1_x_pos</th>\n",
       "      <th>face_pt1_y_pos</th>\n",
       "      <th>face_pt2_x_pos</th>\n",
       "      <th>face_pt2_y_pos</th>\n",
       "      <th>left_eye_pt1_x_pos</th>\n",
       "      <th>left_eye_pt1_y_pos</th>\n",
       "      <th>left_eye_pt2_x_pos</th>\n",
       "      <th>left_eye_pt2_y_pos</th>\n",
       "      <th>right_eye_pt1_x_pos</th>\n",
       "      <th>...</th>\n",
       "      <th>target_right_eye_pt1_y_pos</th>\n",
       "      <th>target_right_eye_pt2_x</th>\n",
       "      <th>target_right_eye_pt2_y_pos</th>\n",
       "      <th>exist_mask</th>\n",
       "      <th>exist_glasses</th>\n",
       "      <th>face_visible</th>\n",
       "      <th>left_eye_visible</th>\n",
       "      <th>left_eye_opened</th>\n",
       "      <th>right_eye_visible</th>\n",
       "      <th>right_eye_opened</th>\n",
       "    </tr>\n",
       "  </thead>\n",
       "  <tbody>\n",
       "    <tr>\n",
       "      <th>0</th>\n",
       "      <td>R_231_50_M_09_M1_G0_C0_03.jpg</td>\n",
       "      <td>226.0</td>\n",
       "      <td>505.0</td>\n",
       "      <td>538.0</td>\n",
       "      <td>964.0</td>\n",
       "      <td>319.0</td>\n",
       "      <td>632.0</td>\n",
       "      <td>338.0</td>\n",
       "      <td>657.0</td>\n",
       "      <td>409.0</td>\n",
       "      <td>...</td>\n",
       "      <td>659.53</td>\n",
       "      <td>478.52</td>\n",
       "      <td>693.83</td>\n",
       "      <td>1</td>\n",
       "      <td>0</td>\n",
       "      <td>1</td>\n",
       "      <td>1</td>\n",
       "      <td>1</td>\n",
       "      <td>1</td>\n",
       "      <td>1</td>\n",
       "    </tr>\n",
       "    <tr>\n",
       "      <th>1</th>\n",
       "      <td>R_237_40_M_20_M0_G0_C0_05.jpg</td>\n",
       "      <td>151.0</td>\n",
       "      <td>246.0</td>\n",
       "      <td>470.0</td>\n",
       "      <td>762.0</td>\n",
       "      <td>197.0</td>\n",
       "      <td>431.0</td>\n",
       "      <td>255.0</td>\n",
       "      <td>450.0</td>\n",
       "      <td>347.0</td>\n",
       "      <td>...</td>\n",
       "      <td>414.25</td>\n",
       "      <td>419.07</td>\n",
       "      <td>451.02</td>\n",
       "      <td>0</td>\n",
       "      <td>0</td>\n",
       "      <td>1</td>\n",
       "      <td>1</td>\n",
       "      <td>1</td>\n",
       "      <td>1</td>\n",
       "      <td>1</td>\n",
       "    </tr>\n",
       "    <tr>\n",
       "      <th>2</th>\n",
       "      <td>R_221_50_M_04_M1_G0_C0_15.jpg</td>\n",
       "      <td>151.0</td>\n",
       "      <td>522.0</td>\n",
       "      <td>416.0</td>\n",
       "      <td>972.0</td>\n",
       "      <td>245.0</td>\n",
       "      <td>636.0</td>\n",
       "      <td>277.0</td>\n",
       "      <td>656.0</td>\n",
       "      <td>330.0</td>\n",
       "      <td>...</td>\n",
       "      <td>677.20</td>\n",
       "      <td>385.39</td>\n",
       "      <td>711.52</td>\n",
       "      <td>1</td>\n",
       "      <td>0</td>\n",
       "      <td>1</td>\n",
       "      <td>1</td>\n",
       "      <td>0</td>\n",
       "      <td>1</td>\n",
       "      <td>1</td>\n",
       "    </tr>\n",
       "    <tr>\n",
       "      <th>3</th>\n",
       "      <td>R_221_50_M_12_M1_G0_C0_06.jpg</td>\n",
       "      <td>244.0</td>\n",
       "      <td>540.0</td>\n",
       "      <td>504.0</td>\n",
       "      <td>968.0</td>\n",
       "      <td>349.0</td>\n",
       "      <td>628.0</td>\n",
       "      <td>383.0</td>\n",
       "      <td>652.0</td>\n",
       "      <td>363.0</td>\n",
       "      <td>...</td>\n",
       "      <td>716.67</td>\n",
       "      <td>491.77</td>\n",
       "      <td>763.04</td>\n",
       "      <td>1</td>\n",
       "      <td>0</td>\n",
       "      <td>1</td>\n",
       "      <td>1</td>\n",
       "      <td>1</td>\n",
       "      <td>1</td>\n",
       "      <td>1</td>\n",
       "    </tr>\n",
       "    <tr>\n",
       "      <th>4</th>\n",
       "      <td>R_221_50_M_13_M1_G0_C0_02.jpg</td>\n",
       "      <td>190.0</td>\n",
       "      <td>571.0</td>\n",
       "      <td>464.0</td>\n",
       "      <td>981.0</td>\n",
       "      <td>304.0</td>\n",
       "      <td>640.0</td>\n",
       "      <td>320.0</td>\n",
       "      <td>667.0</td>\n",
       "      <td>278.0</td>\n",
       "      <td>...</td>\n",
       "      <td>732.69</td>\n",
       "      <td>443.64</td>\n",
       "      <td>772.16</td>\n",
       "      <td>1</td>\n",
       "      <td>0</td>\n",
       "      <td>1</td>\n",
       "      <td>1</td>\n",
       "      <td>0</td>\n",
       "      <td>1</td>\n",
       "      <td>1</td>\n",
       "    </tr>\n",
       "  </tbody>\n",
       "</table>\n",
       "<p>5 rows × 41 columns</p>\n",
       "</div>"
      ]
     },
     "execution_count": 23,
     "metadata": {},
     "output_type": "execute_result"
    }
   ],
   "execution_count": 23
  },
  {
   "metadata": {
    "ExecuteTime": {
     "end_time": "2024-04-30T07:36:47.087586Z",
     "start_time": "2024-04-30T07:36:47.074589Z"
    }
   },
   "cell_type": "code",
   "source": [
    "feature_column_names = data_columns[22:34]\n",
    "target_column_names = [data_columns[38], data_columns[40]]"
   ],
   "id": "b50e844d350e7a90",
   "outputs": [],
   "execution_count": 51
  },
  {
   "metadata": {
    "ExecuteTime": {
     "end_time": "2024-04-30T07:36:48.638316Z",
     "start_time": "2024-04-30T07:36:48.622317Z"
    }
   },
   "cell_type": "code",
   "source": "print(feature_column_names)",
   "id": "288d520495611c7b",
   "outputs": [
    {
     "name": "stdout",
     "output_type": "stream",
     "text": [
      "['target_face_pt1_x_pos', 'target_face_pt1_y_pos', 'target_face_pt2_x', 'target_face_pt2_y_pos', 'target_left_eye_pt1_x_pos', 'target_left_eye_pt1_y_pos', 'target_left_eye_pt2_x', 'target_left_eye_pt2_y_pos', 'target_right_eye_pt1_x_pos', 'target_right_eye_pt1_y_pos', 'target_right_eye_pt2_x', 'target_right_eye_pt2_y_pos']\n"
     ]
    }
   ],
   "execution_count": 52
  },
  {
   "metadata": {
    "ExecuteTime": {
     "end_time": "2024-04-30T07:37:00.404310Z",
     "start_time": "2024-04-30T07:37:00.391308Z"
    }
   },
   "cell_type": "code",
   "source": "print(target_column_names)",
   "id": "63d1cf0b1873ae8c",
   "outputs": [
    {
     "name": "stdout",
     "output_type": "stream",
     "text": [
      "['left_eye_opened', 'right_eye_opened']\n"
     ]
    }
   ],
   "execution_count": 53
  },
  {
   "metadata": {
    "ExecuteTime": {
     "end_time": "2024-04-30T07:37:04.370349Z",
     "start_time": "2024-04-30T07:37:04.357347Z"
    }
   },
   "cell_type": "code",
   "source": [
    "train_feature_dataset = train_dataset[feature_column_names]\n",
    "train_feature_data = train_feature_dataset.to_numpy()\n",
    "\n",
    "train_target_dataset = train_dataset[target_column_names]\n",
    "train_target_data = train_target_dataset.to_numpy().astype(np.uint8)\n",
    "train_target_data = 1-train_target_data"
   ],
   "id": "8a02fb1c63664d6a",
   "outputs": [],
   "execution_count": 54
  },
  {
   "metadata": {
    "ExecuteTime": {
     "end_time": "2024-04-30T07:37:05.951542Z",
     "start_time": "2024-04-30T07:37:05.938541Z"
    }
   },
   "cell_type": "code",
   "source": [
    "test_target_dataset = test_dataset[target_column_names]\n",
    "test_target_data = test_target_dataset.to_numpy().astype(np.uint8)\n",
    "\n",
    "test_feature_dataset = test_dataset[feature_column_names]\n",
    "test_feature_data = test_feature_dataset.to_numpy()\n",
    "test_target_data = 1-test_target_data"
   ],
   "id": "8d59a42378a76162",
   "outputs": [],
   "execution_count": 55
  },
  {
   "metadata": {
    "ExecuteTime": {
     "end_time": "2024-04-30T07:37:33.467096Z",
     "start_time": "2024-04-30T07:37:33.453579Z"
    }
   },
   "cell_type": "code",
   "source": [
    "face_width = train_feature_data[:, 2] - train_feature_data[:, 0]\n",
    "face_height = train_feature_data[:, 3] - train_feature_data[:, 1]"
   ],
   "id": "5fab418b52c90b4d",
   "outputs": [],
   "execution_count": 56
  },
  {
   "metadata": {
    "ExecuteTime": {
     "end_time": "2024-04-30T07:37:36.644990Z",
     "start_time": "2024-04-30T07:37:36.631992Z"
    }
   },
   "cell_type": "code",
   "source": [
    "train_feature_data = np.concatenate((train_feature_data, face_width.reshape(-1, 1)), axis=1)\n",
    "train_feature_data = np.concatenate((train_feature_data, face_height.reshape(-1, 1)), axis=1)\n",
    "train_feature_data"
   ],
   "id": "61c9cf5fdaf5bf97",
   "outputs": [
    {
     "data": {
      "text/plain": [
       "array([[194.68, 534.74, 497.27, ..., 616.64, 302.59, 343.54],\n",
       "       [316.06, 554.57, 573.56, ..., 654.72, 257.5 , 308.26],\n",
       "       [280.84, 577.83, 620.81, ..., 651.35, 339.97, 344.46],\n",
       "       ...,\n",
       "       [213.  , 555.  , 545.  , ..., 657.  , 332.  , 402.  ],\n",
       "       [199.  , 442.  , 557.3 , ..., 520.  , 358.3 , 363.  ],\n",
       "       [188.  , 474.  , 550.  , ..., 568.  , 362.  , 401.  ]])"
      ]
     },
     "execution_count": 57,
     "metadata": {},
     "output_type": "execute_result"
    }
   ],
   "execution_count": 57
  },
  {
   "metadata": {
    "ExecuteTime": {
     "end_time": "2024-04-30T07:38:02.253145Z",
     "start_time": "2024-04-30T07:38:02.249143Z"
    }
   },
   "cell_type": "code",
   "source": [
    "face_width = test_feature_data[:, 2] - test_feature_data[:, 0]\n",
    "face_height = test_feature_data[:, 3] - test_feature_data[:, 1]"
   ],
   "id": "8eedca452632c759",
   "outputs": [],
   "execution_count": 58
  },
  {
   "metadata": {
    "ExecuteTime": {
     "end_time": "2024-04-30T07:38:03.413366Z",
     "start_time": "2024-04-30T07:38:03.402367Z"
    }
   },
   "cell_type": "code",
   "source": [
    "test_feature_data = np.concatenate((test_feature_data, face_width.reshape(-1, 1)), axis=1)\n",
    "test_feature_data = np.concatenate((test_feature_data, face_height.reshape(-1, 1)), axis=1)\n",
    "test_feature_data"
   ],
   "id": "43fe9857f579b6de",
   "outputs": [
    {
     "data": {
      "text/plain": [
       "array([[242.59, 601.28, 536.75, ..., 693.83, 294.16, 341.97],\n",
       "       [148.9 , 341.88, 483.16, ..., 451.02, 334.26, 403.59],\n",
       "       [130.83, 601.68, 424.86, ..., 711.52, 294.03, 355.25],\n",
       "       ...,\n",
       "       [237.  , 485.  , 578.  , ..., 572.  , 341.  , 393.  ],\n",
       "       [267.  , 480.  , 588.  , ..., 578.  , 321.  , 381.  ],\n",
       "       [233.  , 512.3 , 588.3 , ..., 607.  , 355.3 , 387.7 ]])"
      ]
     },
     "execution_count": 59,
     "metadata": {},
     "output_type": "execute_result"
    }
   ],
   "execution_count": 59
  },
  {
   "metadata": {
    "ExecuteTime": {
     "end_time": "2024-04-30T07:38:06.009460Z",
     "start_time": "2024-04-30T07:38:05.582869Z"
    }
   },
   "cell_type": "code",
   "source": [
    "model = XGBClassifier()\n",
    "model.fit(train_feature_data, train_target_data)"
   ],
   "id": "ce8c33ea889d9589",
   "outputs": [
    {
     "data": {
      "text/plain": [
       "XGBClassifier(base_score=None, booster=None, callbacks=None,\n",
       "              colsample_bylevel=None, colsample_bynode=None,\n",
       "              colsample_bytree=None, device=None, early_stopping_rounds=None,\n",
       "              enable_categorical=False, eval_metric=None, feature_types=None,\n",
       "              gamma=None, grow_policy=None, importance_type=None,\n",
       "              interaction_constraints=None, learning_rate=None, max_bin=None,\n",
       "              max_cat_threshold=None, max_cat_to_onehot=None,\n",
       "              max_delta_step=None, max_depth=None, max_leaves=None,\n",
       "              min_child_weight=None, missing=nan, monotone_constraints=None,\n",
       "              multi_strategy=None, n_estimators=None, n_jobs=None,\n",
       "              num_parallel_tree=None, random_state=None, ...)"
      ],
      "text/html": [
       "<style>#sk-container-id-3 {color: black;}#sk-container-id-3 pre{padding: 0;}#sk-container-id-3 div.sk-toggleable {background-color: white;}#sk-container-id-3 label.sk-toggleable__label {cursor: pointer;display: block;width: 100%;margin-bottom: 0;padding: 0.3em;box-sizing: border-box;text-align: center;}#sk-container-id-3 label.sk-toggleable__label-arrow:before {content: \"▸\";float: left;margin-right: 0.25em;color: #696969;}#sk-container-id-3 label.sk-toggleable__label-arrow:hover:before {color: black;}#sk-container-id-3 div.sk-estimator:hover label.sk-toggleable__label-arrow:before {color: black;}#sk-container-id-3 div.sk-toggleable__content {max-height: 0;max-width: 0;overflow: hidden;text-align: left;background-color: #f0f8ff;}#sk-container-id-3 div.sk-toggleable__content pre {margin: 0.2em;color: black;border-radius: 0.25em;background-color: #f0f8ff;}#sk-container-id-3 input.sk-toggleable__control:checked~div.sk-toggleable__content {max-height: 200px;max-width: 100%;overflow: auto;}#sk-container-id-3 input.sk-toggleable__control:checked~label.sk-toggleable__label-arrow:before {content: \"▾\";}#sk-container-id-3 div.sk-estimator input.sk-toggleable__control:checked~label.sk-toggleable__label {background-color: #d4ebff;}#sk-container-id-3 div.sk-label input.sk-toggleable__control:checked~label.sk-toggleable__label {background-color: #d4ebff;}#sk-container-id-3 input.sk-hidden--visually {border: 0;clip: rect(1px 1px 1px 1px);clip: rect(1px, 1px, 1px, 1px);height: 1px;margin: -1px;overflow: hidden;padding: 0;position: absolute;width: 1px;}#sk-container-id-3 div.sk-estimator {font-family: monospace;background-color: #f0f8ff;border: 1px dotted black;border-radius: 0.25em;box-sizing: border-box;margin-bottom: 0.5em;}#sk-container-id-3 div.sk-estimator:hover {background-color: #d4ebff;}#sk-container-id-3 div.sk-parallel-item::after {content: \"\";width: 100%;border-bottom: 1px solid gray;flex-grow: 1;}#sk-container-id-3 div.sk-label:hover label.sk-toggleable__label {background-color: #d4ebff;}#sk-container-id-3 div.sk-serial::before {content: \"\";position: absolute;border-left: 1px solid gray;box-sizing: border-box;top: 0;bottom: 0;left: 50%;z-index: 0;}#sk-container-id-3 div.sk-serial {display: flex;flex-direction: column;align-items: center;background-color: white;padding-right: 0.2em;padding-left: 0.2em;position: relative;}#sk-container-id-3 div.sk-item {position: relative;z-index: 1;}#sk-container-id-3 div.sk-parallel {display: flex;align-items: stretch;justify-content: center;background-color: white;position: relative;}#sk-container-id-3 div.sk-item::before, #sk-container-id-3 div.sk-parallel-item::before {content: \"\";position: absolute;border-left: 1px solid gray;box-sizing: border-box;top: 0;bottom: 0;left: 50%;z-index: -1;}#sk-container-id-3 div.sk-parallel-item {display: flex;flex-direction: column;z-index: 1;position: relative;background-color: white;}#sk-container-id-3 div.sk-parallel-item:first-child::after {align-self: flex-end;width: 50%;}#sk-container-id-3 div.sk-parallel-item:last-child::after {align-self: flex-start;width: 50%;}#sk-container-id-3 div.sk-parallel-item:only-child::after {width: 0;}#sk-container-id-3 div.sk-dashed-wrapped {border: 1px dashed gray;margin: 0 0.4em 0.5em 0.4em;box-sizing: border-box;padding-bottom: 0.4em;background-color: white;}#sk-container-id-3 div.sk-label label {font-family: monospace;font-weight: bold;display: inline-block;line-height: 1.2em;}#sk-container-id-3 div.sk-label-container {text-align: center;}#sk-container-id-3 div.sk-container {/* jupyter's `normalize.less` sets `[hidden] { display: none; }` but bootstrap.min.css set `[hidden] { display: none !important; }` so we also need the `!important` here to be able to override the default hidden behavior on the sphinx rendered scikit-learn.org. See: https://github.com/scikit-learn/scikit-learn/issues/21755 */display: inline-block !important;position: relative;}#sk-container-id-3 div.sk-text-repr-fallback {display: none;}</style><div id=\"sk-container-id-3\" class=\"sk-top-container\"><div class=\"sk-text-repr-fallback\"><pre>XGBClassifier(base_score=None, booster=None, callbacks=None,\n",
       "              colsample_bylevel=None, colsample_bynode=None,\n",
       "              colsample_bytree=None, device=None, early_stopping_rounds=None,\n",
       "              enable_categorical=False, eval_metric=None, feature_types=None,\n",
       "              gamma=None, grow_policy=None, importance_type=None,\n",
       "              interaction_constraints=None, learning_rate=None, max_bin=None,\n",
       "              max_cat_threshold=None, max_cat_to_onehot=None,\n",
       "              max_delta_step=None, max_depth=None, max_leaves=None,\n",
       "              min_child_weight=None, missing=nan, monotone_constraints=None,\n",
       "              multi_strategy=None, n_estimators=None, n_jobs=None,\n",
       "              num_parallel_tree=None, random_state=None, ...)</pre><b>In a Jupyter environment, please rerun this cell to show the HTML representation or trust the notebook. <br />On GitHub, the HTML representation is unable to render, please try loading this page with nbviewer.org.</b></div><div class=\"sk-container\" hidden><div class=\"sk-item\"><div class=\"sk-estimator sk-toggleable\"><input class=\"sk-toggleable__control sk-hidden--visually\" id=\"sk-estimator-id-3\" type=\"checkbox\" checked><label for=\"sk-estimator-id-3\" class=\"sk-toggleable__label sk-toggleable__label-arrow\">XGBClassifier</label><div class=\"sk-toggleable__content\"><pre>XGBClassifier(base_score=None, booster=None, callbacks=None,\n",
       "              colsample_bylevel=None, colsample_bynode=None,\n",
       "              colsample_bytree=None, device=None, early_stopping_rounds=None,\n",
       "              enable_categorical=False, eval_metric=None, feature_types=None,\n",
       "              gamma=None, grow_policy=None, importance_type=None,\n",
       "              interaction_constraints=None, learning_rate=None, max_bin=None,\n",
       "              max_cat_threshold=None, max_cat_to_onehot=None,\n",
       "              max_delta_step=None, max_depth=None, max_leaves=None,\n",
       "              min_child_weight=None, missing=nan, monotone_constraints=None,\n",
       "              multi_strategy=None, n_estimators=None, n_jobs=None,\n",
       "              num_parallel_tree=None, random_state=None, ...)</pre></div></div></div></div></div>"
      ]
     },
     "execution_count": 60,
     "metadata": {},
     "output_type": "execute_result"
    }
   ],
   "execution_count": 60
  },
  {
   "metadata": {
    "ExecuteTime": {
     "end_time": "2024-04-30T07:38:08.543950Z",
     "start_time": "2024-04-30T07:38:08.530951Z"
    }
   },
   "cell_type": "code",
   "source": [
    "pred_data = model.predict(test_feature_data)\n",
    "pred_data = pred_data.astype(np.uint8)\n",
    "pred_data # 0 column: left eye, 1 column: right eye"
   ],
   "id": "b96d9b19d2a381a9",
   "outputs": [
    {
     "data": {
      "text/plain": [
       "array([[0, 0],\n",
       "       [0, 0],\n",
       "       [0, 0],\n",
       "       ...,\n",
       "       [0, 0],\n",
       "       [0, 0],\n",
       "       [0, 0]], dtype=uint8)"
      ]
     },
     "execution_count": 61,
     "metadata": {},
     "output_type": "execute_result"
    }
   ],
   "execution_count": 61
  },
  {
   "metadata": {
    "ExecuteTime": {
     "end_time": "2024-04-30T05:57:21.372570Z",
     "start_time": "2024-04-30T05:57:21.366564Z"
    }
   },
   "cell_type": "code",
   "source": "result_test_dataset = pd.concat([test_dataset, pd.DataFrame(pred_data, columns=['left_eye_det_result', 'right_eye_det_result'])], axis=1)",
   "id": "36c657f154bf6464",
   "outputs": [],
   "execution_count": 35
  },
  {
   "metadata": {
    "ExecuteTime": {
     "end_time": "2024-04-30T06:02:55.133067Z",
     "start_time": "2024-04-30T06:02:55.113067Z"
    }
   },
   "cell_type": "code",
   "source": "result_test_dataset.head()",
   "id": "f9577ec132158fce",
   "outputs": [
    {
     "data": {
      "text/plain": [
       "                       file_name  face_pt1_x_pos  face_pt1_y_pos  \\\n",
       "0  R_231_50_M_09_M1_G0_C0_03.jpg           226.0           505.0   \n",
       "1  R_237_40_M_20_M0_G0_C0_05.jpg           151.0           246.0   \n",
       "2  R_221_50_M_04_M1_G0_C0_15.jpg           151.0           522.0   \n",
       "3  R_221_50_M_12_M1_G0_C0_06.jpg           244.0           540.0   \n",
       "4  R_221_50_M_13_M1_G0_C0_02.jpg           190.0           571.0   \n",
       "\n",
       "   face_pt2_x_pos  face_pt2_y_pos  left_eye_pt1_x_pos  left_eye_pt1_y_pos  \\\n",
       "0           538.0           964.0               319.0               632.0   \n",
       "1           470.0           762.0               197.0               431.0   \n",
       "2           416.0           972.0               245.0               636.0   \n",
       "3           504.0           968.0               349.0               628.0   \n",
       "4           464.0           981.0               304.0               640.0   \n",
       "\n",
       "   left_eye_pt2_x_pos  left_eye_pt2_y_pos  right_eye_pt1_x_pos  ...  \\\n",
       "0               338.0               657.0                409.0  ...   \n",
       "1               255.0               450.0                347.0  ...   \n",
       "2               277.0               656.0                330.0  ...   \n",
       "3               383.0               652.0                363.0  ...   \n",
       "4               320.0               667.0                278.0  ...   \n",
       "\n",
       "   target_right_eye_pt2_y_pos  exist_mask  exist_glasses  face_visible  \\\n",
       "0                      693.83           1              0             1   \n",
       "1                      451.02           0              0             1   \n",
       "2                      711.52           1              0             1   \n",
       "3                      763.04           1              0             1   \n",
       "4                      772.16           1              0             1   \n",
       "\n",
       "   left_eye_visible  left_eye_opened  right_eye_visible  right_eye_opened  \\\n",
       "0                 1                1                  1                 1   \n",
       "1                 1                1                  1                 1   \n",
       "2                 1                0                  1                 1   \n",
       "3                 1                1                  1                 1   \n",
       "4                 1                0                  1                 1   \n",
       "\n",
       "   left_eye_det_result  right_eye_det_result  \n",
       "0                    0                     0  \n",
       "1                    0                     0  \n",
       "2                    1                     0  \n",
       "3                    0                     0  \n",
       "4                    0                     0  \n",
       "\n",
       "[5 rows x 43 columns]"
      ],
      "text/html": [
       "<div>\n",
       "<style scoped>\n",
       "    .dataframe tbody tr th:only-of-type {\n",
       "        vertical-align: middle;\n",
       "    }\n",
       "\n",
       "    .dataframe tbody tr th {\n",
       "        vertical-align: top;\n",
       "    }\n",
       "\n",
       "    .dataframe thead th {\n",
       "        text-align: right;\n",
       "    }\n",
       "</style>\n",
       "<table border=\"1\" class=\"dataframe\">\n",
       "  <thead>\n",
       "    <tr style=\"text-align: right;\">\n",
       "      <th></th>\n",
       "      <th>file_name</th>\n",
       "      <th>face_pt1_x_pos</th>\n",
       "      <th>face_pt1_y_pos</th>\n",
       "      <th>face_pt2_x_pos</th>\n",
       "      <th>face_pt2_y_pos</th>\n",
       "      <th>left_eye_pt1_x_pos</th>\n",
       "      <th>left_eye_pt1_y_pos</th>\n",
       "      <th>left_eye_pt2_x_pos</th>\n",
       "      <th>left_eye_pt2_y_pos</th>\n",
       "      <th>right_eye_pt1_x_pos</th>\n",
       "      <th>...</th>\n",
       "      <th>target_right_eye_pt2_y_pos</th>\n",
       "      <th>exist_mask</th>\n",
       "      <th>exist_glasses</th>\n",
       "      <th>face_visible</th>\n",
       "      <th>left_eye_visible</th>\n",
       "      <th>left_eye_opened</th>\n",
       "      <th>right_eye_visible</th>\n",
       "      <th>right_eye_opened</th>\n",
       "      <th>left_eye_det_result</th>\n",
       "      <th>right_eye_det_result</th>\n",
       "    </tr>\n",
       "  </thead>\n",
       "  <tbody>\n",
       "    <tr>\n",
       "      <th>0</th>\n",
       "      <td>R_231_50_M_09_M1_G0_C0_03.jpg</td>\n",
       "      <td>226.0</td>\n",
       "      <td>505.0</td>\n",
       "      <td>538.0</td>\n",
       "      <td>964.0</td>\n",
       "      <td>319.0</td>\n",
       "      <td>632.0</td>\n",
       "      <td>338.0</td>\n",
       "      <td>657.0</td>\n",
       "      <td>409.0</td>\n",
       "      <td>...</td>\n",
       "      <td>693.83</td>\n",
       "      <td>1</td>\n",
       "      <td>0</td>\n",
       "      <td>1</td>\n",
       "      <td>1</td>\n",
       "      <td>1</td>\n",
       "      <td>1</td>\n",
       "      <td>1</td>\n",
       "      <td>0</td>\n",
       "      <td>0</td>\n",
       "    </tr>\n",
       "    <tr>\n",
       "      <th>1</th>\n",
       "      <td>R_237_40_M_20_M0_G0_C0_05.jpg</td>\n",
       "      <td>151.0</td>\n",
       "      <td>246.0</td>\n",
       "      <td>470.0</td>\n",
       "      <td>762.0</td>\n",
       "      <td>197.0</td>\n",
       "      <td>431.0</td>\n",
       "      <td>255.0</td>\n",
       "      <td>450.0</td>\n",
       "      <td>347.0</td>\n",
       "      <td>...</td>\n",
       "      <td>451.02</td>\n",
       "      <td>0</td>\n",
       "      <td>0</td>\n",
       "      <td>1</td>\n",
       "      <td>1</td>\n",
       "      <td>1</td>\n",
       "      <td>1</td>\n",
       "      <td>1</td>\n",
       "      <td>0</td>\n",
       "      <td>0</td>\n",
       "    </tr>\n",
       "    <tr>\n",
       "      <th>2</th>\n",
       "      <td>R_221_50_M_04_M1_G0_C0_15.jpg</td>\n",
       "      <td>151.0</td>\n",
       "      <td>522.0</td>\n",
       "      <td>416.0</td>\n",
       "      <td>972.0</td>\n",
       "      <td>245.0</td>\n",
       "      <td>636.0</td>\n",
       "      <td>277.0</td>\n",
       "      <td>656.0</td>\n",
       "      <td>330.0</td>\n",
       "      <td>...</td>\n",
       "      <td>711.52</td>\n",
       "      <td>1</td>\n",
       "      <td>0</td>\n",
       "      <td>1</td>\n",
       "      <td>1</td>\n",
       "      <td>0</td>\n",
       "      <td>1</td>\n",
       "      <td>1</td>\n",
       "      <td>1</td>\n",
       "      <td>0</td>\n",
       "    </tr>\n",
       "    <tr>\n",
       "      <th>3</th>\n",
       "      <td>R_221_50_M_12_M1_G0_C0_06.jpg</td>\n",
       "      <td>244.0</td>\n",
       "      <td>540.0</td>\n",
       "      <td>504.0</td>\n",
       "      <td>968.0</td>\n",
       "      <td>349.0</td>\n",
       "      <td>628.0</td>\n",
       "      <td>383.0</td>\n",
       "      <td>652.0</td>\n",
       "      <td>363.0</td>\n",
       "      <td>...</td>\n",
       "      <td>763.04</td>\n",
       "      <td>1</td>\n",
       "      <td>0</td>\n",
       "      <td>1</td>\n",
       "      <td>1</td>\n",
       "      <td>1</td>\n",
       "      <td>1</td>\n",
       "      <td>1</td>\n",
       "      <td>0</td>\n",
       "      <td>0</td>\n",
       "    </tr>\n",
       "    <tr>\n",
       "      <th>4</th>\n",
       "      <td>R_221_50_M_13_M1_G0_C0_02.jpg</td>\n",
       "      <td>190.0</td>\n",
       "      <td>571.0</td>\n",
       "      <td>464.0</td>\n",
       "      <td>981.0</td>\n",
       "      <td>304.0</td>\n",
       "      <td>640.0</td>\n",
       "      <td>320.0</td>\n",
       "      <td>667.0</td>\n",
       "      <td>278.0</td>\n",
       "      <td>...</td>\n",
       "      <td>772.16</td>\n",
       "      <td>1</td>\n",
       "      <td>0</td>\n",
       "      <td>1</td>\n",
       "      <td>1</td>\n",
       "      <td>0</td>\n",
       "      <td>1</td>\n",
       "      <td>1</td>\n",
       "      <td>0</td>\n",
       "      <td>0</td>\n",
       "    </tr>\n",
       "  </tbody>\n",
       "</table>\n",
       "<p>5 rows × 43 columns</p>\n",
       "</div>"
      ]
     },
     "execution_count": 39,
     "metadata": {},
     "output_type": "execute_result"
    }
   ],
   "execution_count": 39
  },
  {
   "metadata": {
    "ExecuteTime": {
     "end_time": "2024-04-30T07:41:15.354296Z",
     "start_time": "2024-04-30T07:41:15.116378Z"
    }
   },
   "cell_type": "code",
   "source": [
    "sns.set(font_scale=1.5)\n",
    "sns.set_style(\"whitegrid\", {'grid.linestyle': '--'})\n",
    "sns.histplot(data=result_test_dataset, x='left_eye_det_result', hue='exist_glasses', multiple='stack')\n",
    "plt.ylim(0, 2500)"
   ],
   "id": "6aaf6d6d1b37f603",
   "outputs": [
    {
     "data": {
      "text/plain": [
       "(0.0, 2500.0)"
      ]
     },
     "execution_count": 72,
     "metadata": {},
     "output_type": "execute_result"
    },
    {
     "data": {
      "text/plain": [
       "<Figure size 640x480 with 1 Axes>"
      ],
      "image/png": "[encoded data removed]"
     },
     "metadata": {},
     "output_type": "display_data"
    }
   ],
   "execution_count": 72
  },
  {
   "metadata": {
    "ExecuteTime": {
     "end_time": "2024-04-30T07:41:36.940101Z",
     "start_time": "2024-04-30T07:41:36.701053Z"
    }
   },
   "cell_type": "code",
   "source": [
    "sns.set(font_scale=1.5)\n",
    "sns.set_style(\"whitegrid\", {'grid.linestyle': '--'})\n",
    "sns.histplot(data=result_test_dataset, x='right_eye_det_result', hue='exist_glasses', multiple='stack')\n",
    "plt.ylim(0, 2500)"
   ],
   "id": "5d9bbded0584178b",
   "outputs": [
    {
     "data": {
      "text/plain": [
       "(0.0, 2500.0)"
      ]
     },
     "execution_count": 73,
     "metadata": {},
     "output_type": "execute_result"
    },
    {
     "data": {
      "text/plain": [
       "<Figure size 640x480 with 1 Axes>"
      ],
      "image/png": "[encoded data removed]"
     },
     "metadata": {},
     "output_type": "display_data"
    }
   ],
   "execution_count": 73
  },
  {
   "metadata": {
    "ExecuteTime": {
     "end_time": "2024-04-30T07:38:18.671357Z",
     "start_time": "2024-04-30T07:38:18.662358Z"
    }
   },
   "cell_type": "code",
   "source": "confusion_matrix(test_target_data[:, 0], pred_data[:, 0])",
   "id": "f8f6aedf8e1fa3a",
   "outputs": [
    {
     "data": {
      "text/plain": [
       "array([[1993,   35],\n",
       "       [ 199,   86]], dtype=int64)"
      ]
     },
     "execution_count": 62,
     "metadata": {},
     "output_type": "execute_result"
    }
   ],
   "execution_count": 62
  },
  {
   "metadata": {
    "ExecuteTime": {
     "end_time": "2024-04-30T07:38:23.427348Z",
     "start_time": "2024-04-30T07:38:23.410348Z"
    }
   },
   "cell_type": "code",
   "source": "accuracy_score(test_target_data[:, 0], pred_data[:, 0])",
   "id": "9b3090348984f9b1",
   "outputs": [
    {
     "data": {
      "text/plain": [
       "0.8988326848249028"
      ]
     },
     "execution_count": 63,
     "metadata": {},
     "output_type": "execute_result"
    }
   ],
   "execution_count": 63
  },
  {
   "metadata": {
    "ExecuteTime": {
     "end_time": "2024-04-30T07:38:25.459017Z",
     "start_time": "2024-04-30T07:38:25.446018Z"
    }
   },
   "cell_type": "code",
   "source": "precision_score(test_target_data[:, 0], pred_data[:, 0])",
   "id": "4e785eb0a553934c",
   "outputs": [
    {
     "data": {
      "text/plain": [
       "0.7107438016528925"
      ]
     },
     "execution_count": 64,
     "metadata": {},
     "output_type": "execute_result"
    }
   ],
   "execution_count": 64
  },
  {
   "metadata": {
    "ExecuteTime": {
     "end_time": "2024-04-30T07:38:27.717680Z",
     "start_time": "2024-04-30T07:38:27.702166Z"
    }
   },
   "cell_type": "code",
   "source": "recall_score(test_target_data[:, 0], pred_data[:, 0])",
   "id": "52f0f398e10950eb",
   "outputs": [
    {
     "data": {
      "text/plain": [
       "0.3017543859649123"
      ]
     },
     "execution_count": 65,
     "metadata": {},
     "output_type": "execute_result"
    }
   ],
   "execution_count": 65
  },
  {
   "metadata": {
    "ExecuteTime": {
     "end_time": "2024-04-30T07:38:29.768543Z",
     "start_time": "2024-04-30T07:38:29.752542Z"
    }
   },
   "cell_type": "code",
   "source": "f1_score(test_target_data[:, 0], pred_data[:, 0])",
   "id": "695b98df8844c4fa",
   "outputs": [
    {
     "data": {
      "text/plain": [
       "0.4236453201970443"
      ]
     },
     "execution_count": 66,
     "metadata": {},
     "output_type": "execute_result"
    }
   ],
   "execution_count": 66
  },
  {
   "metadata": {
    "ExecuteTime": {
     "end_time": "2024-04-30T07:38:31.681410Z",
     "start_time": "2024-04-30T07:38:31.668412Z"
    }
   },
   "cell_type": "code",
   "source": "confusion_matrix(test_target_data[:, 1], pred_data[:, 1])",
   "id": "67f5db3ed9743e0b",
   "outputs": [
    {
     "data": {
      "text/plain": [
       "array([[2026,   27],\n",
       "       [ 178,   82]], dtype=int64)"
      ]
     },
     "execution_count": 67,
     "metadata": {},
     "output_type": "execute_result"
    }
   ],
   "execution_count": 67
  },
  {
   "metadata": {
    "ExecuteTime": {
     "end_time": "2024-04-30T07:42:50.575356Z",
     "start_time": "2024-04-30T07:42:50.565356Z"
    }
   },
   "cell_type": "code",
   "source": "accuracy_score(test_target_data[:, 1], pred_data[:, 1])",
   "id": "96bb09869cb50b7",
   "outputs": [
    {
     "data": {
      "text/plain": [
       "0.9113705144833549"
      ]
     },
     "execution_count": 74,
     "metadata": {},
     "output_type": "execute_result"
    }
   ],
   "execution_count": 74
  },
  {
   "metadata": {
    "ExecuteTime": {
     "end_time": "2024-04-30T07:42:52.007410Z",
     "start_time": "2024-04-30T07:42:51.994410Z"
    }
   },
   "cell_type": "code",
   "source": "precision_score(test_target_data[:, 1], pred_data[:, 1])",
   "id": "9ebe013d5213b86b",
   "outputs": [
    {
     "data": {
      "text/plain": [
       "0.7522935779816514"
      ]
     },
     "execution_count": 75,
     "metadata": {},
     "output_type": "execute_result"
    }
   ],
   "execution_count": 75
  },
  {
   "metadata": {
    "ExecuteTime": {
     "end_time": "2024-04-30T07:42:53.860893Z",
     "start_time": "2024-04-30T07:42:53.848894Z"
    }
   },
   "cell_type": "code",
   "source": "recall_score(test_target_data[:, 1], pred_data[:, 1])",
   "id": "2ce2c10ddfa2a3b5",
   "outputs": [
    {
     "data": {
      "text/plain": [
       "0.3153846153846154"
      ]
     },
     "execution_count": 76,
     "metadata": {},
     "output_type": "execute_result"
    }
   ],
   "execution_count": 76
  },
  {
   "metadata": {
    "ExecuteTime": {
     "end_time": "2024-04-30T07:42:55.516142Z",
     "start_time": "2024-04-30T07:42:55.503143Z"
    }
   },
   "cell_type": "code",
   "source": "f1_score(test_target_data[:, 1], pred_data[:, 1])",
   "id": "cd322d7c42a88d12",
   "outputs": [
    {
     "data": {
      "text/plain": [
       "0.4444444444444444"
      ]
     },
     "execution_count": 77,
     "metadata": {},
     "output_type": "execute_result"
    }
   ],
   "execution_count": 77
  },
  {
   "metadata": {
    "ExecuteTime": {
     "end_time": "2024-04-12T09:58:24.863816Z",
     "start_time": "2024-04-12T09:58:24.848816Z"
    }
   },
   "cell_type": "code",
   "source": "",
   "id": "6f995595ea7a782d",
   "outputs": [],
   "execution_count": 95
  }
 ],
 "metadata": {
  "kernelspec": {
   "display_name": "Python 3",
   "language": "python",
   "name": "python3"
  },
  "language_info": {
   "codemirror_mode": {
    "name": "ipython",
    "version": 2
   },
   "file_extension": ".py",
   "mimetype": "text/x-python",
   "name": "python",
   "nbconvert_exporter": "python",
   "pygments_lexer": "ipython2",
   "version": "2.7.6"
  }
 },
 "nbformat": 4,
 "nbformat_minor": 5
}
