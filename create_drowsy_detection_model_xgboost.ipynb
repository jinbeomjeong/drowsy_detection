{
 "cells": [
  {
   "cell_type": "code",
   "id": "initial_id",
   "metadata": {
    "collapsed": true,
    "ExecuteTime": {
     "end_time": "2024-04-29T01:05:16.297889Z",
     "start_time": "2024-04-29T01:05:14.826288Z"
    }
   },
   "source": [
    "import os\n",
    "import pandas as pd\n",
    "import numpy as np\n",
    "from sklearn.model_selection import train_test_split\n",
    "from sklearn.metrics import confusion_matrix, accuracy_score, precision_score, recall_score, f1_score\n",
    "from xgboost import XGBClassifier, plot_importance"
   ],
   "outputs": [],
   "execution_count": 1
  },
  {
   "metadata": {
    "ExecuteTime": {
     "end_time": "2024-04-29T01:05:29.321821Z",
     "start_time": "2024-04-29T01:05:29.309626Z"
    }
   },
   "cell_type": "code",
   "source": "data_files_list = ['result_bus_20240226-112104.csv', 'result_passenger_20240226-112405.csv', 'result_taxi_20240226-112648.csv', 'result_truck_20240226-112812.csv']",
   "id": "8f99d7a2a36f3a85",
   "outputs": [],
   "execution_count": 3
  },
  {
   "metadata": {
    "ExecuteTime": {
     "end_time": "2024-04-29T01:10:21.828945Z",
     "start_time": "2024-04-29T01:10:21.689427Z"
    }
   },
   "cell_type": "code",
   "source": [
    "train_dataset = pd.DataFrame()\n",
    "test_dataset = pd.DataFrame()\n",
    "\n",
    "for data_file in data_files_list:\n",
    "    data = pd.read_csv('analysis_data' + os.sep + data_file)\n",
    "    train_data, test_data = train_test_split(data, test_size=0.1, random_state=0)\n",
    "    train_dataset = pd.concat([train_dataset, train_data])\n",
    "    test_dataset = pd.concat([test_dataset, test_data])\n",
    "    \n",
    "train_dataset.drop(columns=['Unnamed: 0'], inplace=True)\n",
    "test_dataset.drop(columns=['Unnamed: 0'], inplace=True)\n",
    "\n",
    "data_columns = train_dataset.columns.to_list()[0:]\n",
    "train_dataset.reset_index(inplace=True, drop=True)\n",
    "test_dataset.reset_index(inplace=True, drop=True)"
   ],
   "id": "255433b4ed8fde07",
   "outputs": [],
   "execution_count": 6
  },
  {
   "metadata": {
    "ExecuteTime": {
     "end_time": "2024-04-29T01:10:23.462566Z",
     "start_time": "2024-04-29T01:10:23.434056Z"
    }
   },
   "cell_type": "code",
   "source": "train_dataset.head()",
   "id": "153cf7163058aa60",
   "outputs": [
    {
     "data": {
      "text/plain": [
       "                       file_name  face_pt1_x_pos  face_pt1_y_pos  \\\n",
       "0  R_234_60_M_19_M1_G1_C0_03.jpg           211.0           434.0   \n",
       "1  R_218_50_M_17_M1_G0_C0_12.jpg           320.0           468.0   \n",
       "2  R_226_30_M_17_M1_G1_C1_17.jpg           284.0           506.0   \n",
       "3  R_231_50_M_09_M1_G0_C0_14.jpg           144.0           447.0   \n",
       "4  R_230_40_M_19_M1_G1_C0_18.jpg            41.0           582.0   \n",
       "\n",
       "   face_pt2_x_pos  face_pt2_y_pos  left_eye_pt1_x_pos  left_eye_pt1_y_pos  \\\n",
       "0           483.0           910.0               261.0               599.0   \n",
       "1           566.0           932.0               380.0               635.0   \n",
       "2           600.0           942.0               370.0               633.0   \n",
       "3           474.0          1013.0               209.0               669.0   \n",
       "4           320.0          1028.0               169.0               685.0   \n",
       "\n",
       "   left_eye_pt2_x_pos  left_eye_pt2_y_pos  right_eye_pt1_x_pos  ...  \\\n",
       "0               304.0               610.0                377.0  ...   \n",
       "1               418.0               656.0                487.0  ...   \n",
       "2               396.0               647.0                478.0  ...   \n",
       "3               228.0               695.0                295.0  ...   \n",
       "4               199.0               730.0                194.0  ...   \n",
       "\n",
       "   target_right_eye_pt1_y_pos  target_right_eye_pt2_x  \\\n",
       "0                      587.82                  425.23   \n",
       "1                      627.46                  544.69   \n",
       "2                      629.95                  523.56   \n",
       "3                      656.88                  369.80   \n",
       "4                      705.04                  240.05   \n",
       "\n",
       "   target_right_eye_pt2_y_pos  exist_mask  exist_glasses  face_visible  \\\n",
       "0                      616.64           1              1             1   \n",
       "1                      654.72           1              0             1   \n",
       "2                      651.35           1              1             1   \n",
       "3                      691.17           1              0             1   \n",
       "4                      732.24           1              1             1   \n",
       "\n",
       "   left_eye_visible  left_eye_opened  right_eye_visible  right_eye_opened  \n",
       "0                 1                1                  1                 1  \n",
       "1                 1                1                  1                 1  \n",
       "2                 1                1                  1                 1  \n",
       "3                 1                1                  1                 1  \n",
       "4                 1                1                  1                 1  \n",
       "\n",
       "[5 rows x 41 columns]"
      ],
      "text/html": [
       "<div>\n",
       "<style scoped>\n",
       "    .dataframe tbody tr th:only-of-type {\n",
       "        vertical-align: middle;\n",
       "    }\n",
       "\n",
       "    .dataframe tbody tr th {\n",
       "        vertical-align: top;\n",
       "    }\n",
       "\n",
       "    .dataframe thead th {\n",
       "        text-align: right;\n",
       "    }\n",
       "</style>\n",
       "<table border=\"1\" class=\"dataframe\">\n",
       "  <thead>\n",
       "    <tr style=\"text-align: right;\">\n",
       "      <th></th>\n",
       "      <th>file_name</th>\n",
       "      <th>face_pt1_x_pos</th>\n",
       "      <th>face_pt1_y_pos</th>\n",
       "      <th>face_pt2_x_pos</th>\n",
       "      <th>face_pt2_y_pos</th>\n",
       "      <th>left_eye_pt1_x_pos</th>\n",
       "      <th>left_eye_pt1_y_pos</th>\n",
       "      <th>left_eye_pt2_x_pos</th>\n",
       "      <th>left_eye_pt2_y_pos</th>\n",
       "      <th>right_eye_pt1_x_pos</th>\n",
       "      <th>...</th>\n",
       "      <th>target_right_eye_pt1_y_pos</th>\n",
       "      <th>target_right_eye_pt2_x</th>\n",
       "      <th>target_right_eye_pt2_y_pos</th>\n",
       "      <th>exist_mask</th>\n",
       "      <th>exist_glasses</th>\n",
       "      <th>face_visible</th>\n",
       "      <th>left_eye_visible</th>\n",
       "      <th>left_eye_opened</th>\n",
       "      <th>right_eye_visible</th>\n",
       "      <th>right_eye_opened</th>\n",
       "    </tr>\n",
       "  </thead>\n",
       "  <tbody>\n",
       "    <tr>\n",
       "      <th>0</th>\n",
       "      <td>R_234_60_M_19_M1_G1_C0_03.jpg</td>\n",
       "      <td>211.0</td>\n",
       "      <td>434.0</td>\n",
       "      <td>483.0</td>\n",
       "      <td>910.0</td>\n",
       "      <td>261.0</td>\n",
       "      <td>599.0</td>\n",
       "      <td>304.0</td>\n",
       "      <td>610.0</td>\n",
       "      <td>377.0</td>\n",
       "      <td>...</td>\n",
       "      <td>587.82</td>\n",
       "      <td>425.23</td>\n",
       "      <td>616.64</td>\n",
       "      <td>1</td>\n",
       "      <td>1</td>\n",
       "      <td>1</td>\n",
       "      <td>1</td>\n",
       "      <td>1</td>\n",
       "      <td>1</td>\n",
       "      <td>1</td>\n",
       "    </tr>\n",
       "    <tr>\n",
       "      <th>1</th>\n",
       "      <td>R_218_50_M_17_M1_G0_C0_12.jpg</td>\n",
       "      <td>320.0</td>\n",
       "      <td>468.0</td>\n",
       "      <td>566.0</td>\n",
       "      <td>932.0</td>\n",
       "      <td>380.0</td>\n",
       "      <td>635.0</td>\n",
       "      <td>418.0</td>\n",
       "      <td>656.0</td>\n",
       "      <td>487.0</td>\n",
       "      <td>...</td>\n",
       "      <td>627.46</td>\n",
       "      <td>544.69</td>\n",
       "      <td>654.72</td>\n",
       "      <td>1</td>\n",
       "      <td>0</td>\n",
       "      <td>1</td>\n",
       "      <td>1</td>\n",
       "      <td>1</td>\n",
       "      <td>1</td>\n",
       "      <td>1</td>\n",
       "    </tr>\n",
       "    <tr>\n",
       "      <th>2</th>\n",
       "      <td>R_226_30_M_17_M1_G1_C1_17.jpg</td>\n",
       "      <td>284.0</td>\n",
       "      <td>506.0</td>\n",
       "      <td>600.0</td>\n",
       "      <td>942.0</td>\n",
       "      <td>370.0</td>\n",
       "      <td>633.0</td>\n",
       "      <td>396.0</td>\n",
       "      <td>647.0</td>\n",
       "      <td>478.0</td>\n",
       "      <td>...</td>\n",
       "      <td>629.95</td>\n",
       "      <td>523.56</td>\n",
       "      <td>651.35</td>\n",
       "      <td>1</td>\n",
       "      <td>1</td>\n",
       "      <td>1</td>\n",
       "      <td>1</td>\n",
       "      <td>1</td>\n",
       "      <td>1</td>\n",
       "      <td>1</td>\n",
       "    </tr>\n",
       "    <tr>\n",
       "      <th>3</th>\n",
       "      <td>R_231_50_M_09_M1_G0_C0_14.jpg</td>\n",
       "      <td>144.0</td>\n",
       "      <td>447.0</td>\n",
       "      <td>474.0</td>\n",
       "      <td>1013.0</td>\n",
       "      <td>209.0</td>\n",
       "      <td>669.0</td>\n",
       "      <td>228.0</td>\n",
       "      <td>695.0</td>\n",
       "      <td>295.0</td>\n",
       "      <td>...</td>\n",
       "      <td>656.88</td>\n",
       "      <td>369.80</td>\n",
       "      <td>691.17</td>\n",
       "      <td>1</td>\n",
       "      <td>0</td>\n",
       "      <td>1</td>\n",
       "      <td>1</td>\n",
       "      <td>1</td>\n",
       "      <td>1</td>\n",
       "      <td>1</td>\n",
       "    </tr>\n",
       "    <tr>\n",
       "      <th>4</th>\n",
       "      <td>R_230_40_M_19_M1_G1_C0_18.jpg</td>\n",
       "      <td>41.0</td>\n",
       "      <td>582.0</td>\n",
       "      <td>320.0</td>\n",
       "      <td>1028.0</td>\n",
       "      <td>169.0</td>\n",
       "      <td>685.0</td>\n",
       "      <td>199.0</td>\n",
       "      <td>730.0</td>\n",
       "      <td>194.0</td>\n",
       "      <td>...</td>\n",
       "      <td>705.04</td>\n",
       "      <td>240.05</td>\n",
       "      <td>732.24</td>\n",
       "      <td>1</td>\n",
       "      <td>1</td>\n",
       "      <td>1</td>\n",
       "      <td>1</td>\n",
       "      <td>1</td>\n",
       "      <td>1</td>\n",
       "      <td>1</td>\n",
       "    </tr>\n",
       "  </tbody>\n",
       "</table>\n",
       "<p>5 rows × 41 columns</p>\n",
       "</div>"
      ]
     },
     "execution_count": 7,
     "metadata": {},
     "output_type": "execute_result"
    }
   ],
   "execution_count": 7
  },
  {
   "metadata": {
    "ExecuteTime": {
     "end_time": "2024-04-29T01:10:25.215234Z",
     "start_time": "2024-04-29T01:10:25.196234Z"
    }
   },
   "cell_type": "code",
   "source": "test_dataset.head()",
   "id": "8fe1b6563e7b9072",
   "outputs": [
    {
     "data": {
      "text/plain": [
       "                       file_name  face_pt1_x_pos  face_pt1_y_pos  \\\n",
       "0  R_231_50_M_09_M1_G0_C0_03.jpg           226.0           505.0   \n",
       "1  R_237_40_M_20_M0_G0_C0_05.jpg           151.0           246.0   \n",
       "2  R_221_50_M_04_M1_G0_C0_15.jpg           151.0           522.0   \n",
       "3  R_221_50_M_12_M1_G0_C0_06.jpg           244.0           540.0   \n",
       "4  R_221_50_M_13_M1_G0_C0_02.jpg           190.0           571.0   \n",
       "\n",
       "   face_pt2_x_pos  face_pt2_y_pos  left_eye_pt1_x_pos  left_eye_pt1_y_pos  \\\n",
       "0           538.0           964.0               319.0               632.0   \n",
       "1           470.0           762.0               197.0               431.0   \n",
       "2           416.0           972.0               245.0               636.0   \n",
       "3           504.0           968.0               349.0               628.0   \n",
       "4           464.0           981.0               304.0               640.0   \n",
       "\n",
       "   left_eye_pt2_x_pos  left_eye_pt2_y_pos  right_eye_pt1_x_pos  ...  \\\n",
       "0               338.0               657.0                409.0  ...   \n",
       "1               255.0               450.0                347.0  ...   \n",
       "2               277.0               656.0                330.0  ...   \n",
       "3               383.0               652.0                363.0  ...   \n",
       "4               320.0               667.0                278.0  ...   \n",
       "\n",
       "   target_right_eye_pt1_y_pos  target_right_eye_pt2_x  \\\n",
       "0                      659.53                  478.52   \n",
       "1                      414.25                  419.07   \n",
       "2                      677.20                  385.39   \n",
       "3                      716.67                  491.77   \n",
       "4                      732.69                  443.64   \n",
       "\n",
       "   target_right_eye_pt2_y_pos  exist_mask  exist_glasses  face_visible  \\\n",
       "0                      693.83           1              0             1   \n",
       "1                      451.02           0              0             1   \n",
       "2                      711.52           1              0             1   \n",
       "3                      763.04           1              0             1   \n",
       "4                      772.16           1              0             1   \n",
       "\n",
       "   left_eye_visible  left_eye_opened  right_eye_visible  right_eye_opened  \n",
       "0                 1                1                  1                 1  \n",
       "1                 1                1                  1                 1  \n",
       "2                 1                0                  1                 1  \n",
       "3                 1                1                  1                 1  \n",
       "4                 1                0                  1                 1  \n",
       "\n",
       "[5 rows x 41 columns]"
      ],
      "text/html": [
       "<div>\n",
       "<style scoped>\n",
       "    .dataframe tbody tr th:only-of-type {\n",
       "        vertical-align: middle;\n",
       "    }\n",
       "\n",
       "    .dataframe tbody tr th {\n",
       "        vertical-align: top;\n",
       "    }\n",
       "\n",
       "    .dataframe thead th {\n",
       "        text-align: right;\n",
       "    }\n",
       "</style>\n",
       "<table border=\"1\" class=\"dataframe\">\n",
       "  <thead>\n",
       "    <tr style=\"text-align: right;\">\n",
       "      <th></th>\n",
       "      <th>file_name</th>\n",
       "      <th>face_pt1_x_pos</th>\n",
       "      <th>face_pt1_y_pos</th>\n",
       "      <th>face_pt2_x_pos</th>\n",
       "      <th>face_pt2_y_pos</th>\n",
       "      <th>left_eye_pt1_x_pos</th>\n",
       "      <th>left_eye_pt1_y_pos</th>\n",
       "      <th>left_eye_pt2_x_pos</th>\n",
       "      <th>left_eye_pt2_y_pos</th>\n",
       "      <th>right_eye_pt1_x_pos</th>\n",
       "      <th>...</th>\n",
       "      <th>target_right_eye_pt1_y_pos</th>\n",
       "      <th>target_right_eye_pt2_x</th>\n",
       "      <th>target_right_eye_pt2_y_pos</th>\n",
       "      <th>exist_mask</th>\n",
       "      <th>exist_glasses</th>\n",
       "      <th>face_visible</th>\n",
       "      <th>left_eye_visible</th>\n",
       "      <th>left_eye_opened</th>\n",
       "      <th>right_eye_visible</th>\n",
       "      <th>right_eye_opened</th>\n",
       "    </tr>\n",
       "  </thead>\n",
       "  <tbody>\n",
       "    <tr>\n",
       "      <th>0</th>\n",
       "      <td>R_231_50_M_09_M1_G0_C0_03.jpg</td>\n",
       "      <td>226.0</td>\n",
       "      <td>505.0</td>\n",
       "      <td>538.0</td>\n",
       "      <td>964.0</td>\n",
       "      <td>319.0</td>\n",
       "      <td>632.0</td>\n",
       "      <td>338.0</td>\n",
       "      <td>657.0</td>\n",
       "      <td>409.0</td>\n",
       "      <td>...</td>\n",
       "      <td>659.53</td>\n",
       "      <td>478.52</td>\n",
       "      <td>693.83</td>\n",
       "      <td>1</td>\n",
       "      <td>0</td>\n",
       "      <td>1</td>\n",
       "      <td>1</td>\n",
       "      <td>1</td>\n",
       "      <td>1</td>\n",
       "      <td>1</td>\n",
       "    </tr>\n",
       "    <tr>\n",
       "      <th>1</th>\n",
       "      <td>R_237_40_M_20_M0_G0_C0_05.jpg</td>\n",
       "      <td>151.0</td>\n",
       "      <td>246.0</td>\n",
       "      <td>470.0</td>\n",
       "      <td>762.0</td>\n",
       "      <td>197.0</td>\n",
       "      <td>431.0</td>\n",
       "      <td>255.0</td>\n",
       "      <td>450.0</td>\n",
       "      <td>347.0</td>\n",
       "      <td>...</td>\n",
       "      <td>414.25</td>\n",
       "      <td>419.07</td>\n",
       "      <td>451.02</td>\n",
       "      <td>0</td>\n",
       "      <td>0</td>\n",
       "      <td>1</td>\n",
       "      <td>1</td>\n",
       "      <td>1</td>\n",
       "      <td>1</td>\n",
       "      <td>1</td>\n",
       "    </tr>\n",
       "    <tr>\n",
       "      <th>2</th>\n",
       "      <td>R_221_50_M_04_M1_G0_C0_15.jpg</td>\n",
       "      <td>151.0</td>\n",
       "      <td>522.0</td>\n",
       "      <td>416.0</td>\n",
       "      <td>972.0</td>\n",
       "      <td>245.0</td>\n",
       "      <td>636.0</td>\n",
       "      <td>277.0</td>\n",
       "      <td>656.0</td>\n",
       "      <td>330.0</td>\n",
       "      <td>...</td>\n",
       "      <td>677.20</td>\n",
       "      <td>385.39</td>\n",
       "      <td>711.52</td>\n",
       "      <td>1</td>\n",
       "      <td>0</td>\n",
       "      <td>1</td>\n",
       "      <td>1</td>\n",
       "      <td>0</td>\n",
       "      <td>1</td>\n",
       "      <td>1</td>\n",
       "    </tr>\n",
       "    <tr>\n",
       "      <th>3</th>\n",
       "      <td>R_221_50_M_12_M1_G0_C0_06.jpg</td>\n",
       "      <td>244.0</td>\n",
       "      <td>540.0</td>\n",
       "      <td>504.0</td>\n",
       "      <td>968.0</td>\n",
       "      <td>349.0</td>\n",
       "      <td>628.0</td>\n",
       "      <td>383.0</td>\n",
       "      <td>652.0</td>\n",
       "      <td>363.0</td>\n",
       "      <td>...</td>\n",
       "      <td>716.67</td>\n",
       "      <td>491.77</td>\n",
       "      <td>763.04</td>\n",
       "      <td>1</td>\n",
       "      <td>0</td>\n",
       "      <td>1</td>\n",
       "      <td>1</td>\n",
       "      <td>1</td>\n",
       "      <td>1</td>\n",
       "      <td>1</td>\n",
       "    </tr>\n",
       "    <tr>\n",
       "      <th>4</th>\n",
       "      <td>R_221_50_M_13_M1_G0_C0_02.jpg</td>\n",
       "      <td>190.0</td>\n",
       "      <td>571.0</td>\n",
       "      <td>464.0</td>\n",
       "      <td>981.0</td>\n",
       "      <td>304.0</td>\n",
       "      <td>640.0</td>\n",
       "      <td>320.0</td>\n",
       "      <td>667.0</td>\n",
       "      <td>278.0</td>\n",
       "      <td>...</td>\n",
       "      <td>732.69</td>\n",
       "      <td>443.64</td>\n",
       "      <td>772.16</td>\n",
       "      <td>1</td>\n",
       "      <td>0</td>\n",
       "      <td>1</td>\n",
       "      <td>1</td>\n",
       "      <td>0</td>\n",
       "      <td>1</td>\n",
       "      <td>1</td>\n",
       "    </tr>\n",
       "  </tbody>\n",
       "</table>\n",
       "<p>5 rows × 41 columns</p>\n",
       "</div>"
      ]
     },
     "execution_count": 8,
     "metadata": {},
     "output_type": "execute_result"
    }
   ],
   "execution_count": 8
  },
  {
   "metadata": {
    "ExecuteTime": {
     "end_time": "2024-04-29T01:10:57.760271Z",
     "start_time": "2024-04-29T01:10:57.753760Z"
    }
   },
   "cell_type": "code",
   "source": [
    "feature_column_names = data_columns[1:17]\n",
    "target_column_names = [data_columns[38], data_columns[40]]"
   ],
   "id": "b50e844d350e7a90",
   "outputs": [],
   "execution_count": 9
  },
  {
   "metadata": {
    "ExecuteTime": {
     "end_time": "2024-04-29T01:10:59.072878Z",
     "start_time": "2024-04-29T01:10:59.059355Z"
    }
   },
   "cell_type": "code",
   "source": "feature_column_names",
   "id": "288d520495611c7b",
   "outputs": [
    {
     "data": {
      "text/plain": [
       "['face_pt1_x_pos',\n",
       " 'face_pt1_y_pos',\n",
       " 'face_pt2_x_pos',\n",
       " 'face_pt2_y_pos',\n",
       " 'left_eye_pt1_x_pos',\n",
       " 'left_eye_pt1_y_pos',\n",
       " 'left_eye_pt2_x_pos',\n",
       " 'left_eye_pt2_y_pos',\n",
       " 'right_eye_pt1_x_pos',\n",
       " 'right_eye_pt1_y_pos',\n",
       " 'right_eye_pt2_x_pos',\n",
       " 'right_eye_pt2_y_pos',\n",
       " 'left_eye_horizontal',\n",
       " 'left_eye_vertical',\n",
       " 'right_eye_horizontal',\n",
       " 'right_eye_vertical']"
      ]
     },
     "execution_count": 10,
     "metadata": {},
     "output_type": "execute_result"
    }
   ],
   "execution_count": 10
  },
  {
   "metadata": {
    "ExecuteTime": {
     "end_time": "2024-04-29T01:11:01.750145Z",
     "start_time": "2024-04-29T01:11:01.737151Z"
    }
   },
   "cell_type": "code",
   "source": "target_column_names",
   "id": "63d1cf0b1873ae8c",
   "outputs": [
    {
     "data": {
      "text/plain": [
       "['left_eye_opened', 'right_eye_opened']"
      ]
     },
     "execution_count": 11,
     "metadata": {},
     "output_type": "execute_result"
    }
   ],
   "execution_count": 11
  },
  {
   "metadata": {
    "ExecuteTime": {
     "end_time": "2024-04-29T01:11:03.475480Z",
     "start_time": "2024-04-29T01:11:03.461942Z"
    }
   },
   "cell_type": "code",
   "source": [
    "train_feature_dataset = train_dataset[feature_column_names]\n",
    "train_feature_data = train_feature_dataset.to_numpy()\n",
    "\n",
    "train_target_dataset = train_dataset[target_column_names]\n",
    "train_target_data = train_target_dataset.to_numpy().astype(np.uint8)\n",
    "train_target_data = 1-train_target_data"
   ],
   "id": "8a02fb1c63664d6a",
   "outputs": [],
   "execution_count": 12
  },
  {
   "metadata": {
    "ExecuteTime": {
     "end_time": "2024-04-29T01:11:05.183559Z",
     "start_time": "2024-04-29T01:11:05.170049Z"
    }
   },
   "cell_type": "code",
   "source": [
    "test_target_dataset = test_dataset[target_column_names]\n",
    "test_target_data = test_target_dataset.to_numpy().astype(np.uint8)\n",
    "\n",
    "test_feature_dataset = test_dataset[feature_column_names]\n",
    "test_feature_data = test_feature_dataset.to_numpy()\n",
    "test_target_data = 1-test_target_data"
   ],
   "id": "8d59a42378a76162",
   "outputs": [],
   "execution_count": 13
  },
  {
   "metadata": {
    "ExecuteTime": {
     "end_time": "2024-04-29T01:11:09.428258Z",
     "start_time": "2024-04-29T01:11:09.415263Z"
    }
   },
   "cell_type": "code",
   "source": [
    "face_width = train_feature_data[:, 2] - train_feature_data[:, 0]\n",
    "face_height = train_feature_data[:, 3] - train_feature_data[:, 1]"
   ],
   "id": "5fab418b52c90b4d",
   "outputs": [],
   "execution_count": 14
  },
  {
   "metadata": {
    "ExecuteTime": {
     "end_time": "2024-04-29T01:11:11.439931Z",
     "start_time": "2024-04-29T01:11:11.426933Z"
    }
   },
   "cell_type": "code",
   "source": [
    "train_feature_data = np.concatenate((train_feature_data, face_width.reshape(-1, 1)), axis=1)\n",
    "train_feature_data = np.concatenate((train_feature_data, face_height.reshape(-1, 1)), axis=1)\n",
    "train_feature_data"
   ],
   "id": "61c9cf5fdaf5bf97",
   "outputs": [
    {
     "data": {
      "text/plain": [
       "array([[211.        , 434.        , 483.        , ...,   7.28010989,\n",
       "        272.        , 476.        ],\n",
       "       [320.        , 468.        , 566.        , ...,   9.05538514,\n",
       "        246.        , 464.        ],\n",
       "       [284.        , 506.        , 600.        , ...,   8.54400375,\n",
       "        316.        , 436.        ],\n",
       "       ...,\n",
       "       [232.        , 474.        , 542.        , ...,  12.04159458,\n",
       "        310.        , 485.        ],\n",
       "       [200.        , 294.        , 534.        , ...,  11.        ,\n",
       "        334.        , 525.        ],\n",
       "       [212.        , 374.        , 545.        , ...,  13.03840481,\n",
       "        333.        , 596.        ]])"
      ]
     },
     "execution_count": 15,
     "metadata": {},
     "output_type": "execute_result"
    }
   ],
   "execution_count": 15
  },
  {
   "metadata": {
    "ExecuteTime": {
     "end_time": "2024-04-29T01:11:15.944456Z",
     "start_time": "2024-04-29T01:11:15.936457Z"
    }
   },
   "cell_type": "code",
   "source": [
    "face_width = test_feature_data[:, 2] - test_feature_data[:, 0]\n",
    "face_height = test_feature_data[:, 3] - test_feature_data[:, 1]"
   ],
   "id": "8eedca452632c759",
   "outputs": [],
   "execution_count": 16
  },
  {
   "metadata": {
    "ExecuteTime": {
     "end_time": "2024-04-29T01:11:16.986926Z",
     "start_time": "2024-04-29T01:11:16.973259Z"
    }
   },
   "cell_type": "code",
   "source": [
    "test_feature_data = np.concatenate((test_feature_data, face_width.reshape(-1, 1)), axis=1)\n",
    "test_feature_data = np.concatenate((test_feature_data, face_height.reshape(-1, 1)), axis=1)\n",
    "test_feature_data"
   ],
   "id": "43fe9857f579b6de",
   "outputs": [
    {
     "data": {
      "text/plain": [
       "array([[226.        , 505.        , 538.        , ...,  13.41640786,\n",
       "        312.        , 459.        ],\n",
       "       [151.        , 246.        , 470.        , ...,  16.03121954,\n",
       "        319.        , 516.        ],\n",
       "       [151.        , 522.        , 416.        , ...,   6.40312424,\n",
       "        265.        , 450.        ],\n",
       "       ...,\n",
       "       [260.        , 435.        , 560.        , ...,  14.03566885,\n",
       "        300.        , 417.        ],\n",
       "       [288.        , 411.        , 579.        , ...,  11.04536102,\n",
       "        291.        , 436.        ],\n",
       "       [260.        , 448.        , 560.        , ...,   9.        ,\n",
       "        300.        , 432.        ]])"
      ]
     },
     "execution_count": 17,
     "metadata": {},
     "output_type": "execute_result"
    }
   ],
   "execution_count": 17
  },
  {
   "metadata": {
    "ExecuteTime": {
     "end_time": "2024-04-29T01:11:21.104851Z",
     "start_time": "2024-04-29T01:11:20.607719Z"
    }
   },
   "cell_type": "code",
   "source": [
    "model = XGBClassifier()\n",
    "model.fit(train_feature_data, train_target_data)"
   ],
   "id": "ce8c33ea889d9589",
   "outputs": [
    {
     "data": {
      "text/plain": [
       "XGBClassifier(base_score=None, booster=None, callbacks=None,\n",
       "              colsample_bylevel=None, colsample_bynode=None,\n",
       "              colsample_bytree=None, device=None, early_stopping_rounds=None,\n",
       "              enable_categorical=False, eval_metric=None, feature_types=None,\n",
       "              gamma=None, grow_policy=None, importance_type=None,\n",
       "              interaction_constraints=None, learning_rate=None, max_bin=None,\n",
       "              max_cat_threshold=None, max_cat_to_onehot=None,\n",
       "              max_delta_step=None, max_depth=None, max_leaves=None,\n",
       "              min_child_weight=None, missing=nan, monotone_constraints=None,\n",
       "              multi_strategy=None, n_estimators=None, n_jobs=None,\n",
       "              num_parallel_tree=None, random_state=None, ...)"
      ],
      "text/html": [
       "<style>#sk-container-id-1 {color: black;}#sk-container-id-1 pre{padding: 0;}#sk-container-id-1 div.sk-toggleable {background-color: white;}#sk-container-id-1 label.sk-toggleable__label {cursor: pointer;display: block;width: 100%;margin-bottom: 0;padding: 0.3em;box-sizing: border-box;text-align: center;}#sk-container-id-1 label.sk-toggleable__label-arrow:before {content: \"▸\";float: left;margin-right: 0.25em;color: #696969;}#sk-container-id-1 label.sk-toggleable__label-arrow:hover:before {color: black;}#sk-container-id-1 div.sk-estimator:hover label.sk-toggleable__label-arrow:before {color: black;}#sk-container-id-1 div.sk-toggleable__content {max-height: 0;max-width: 0;overflow: hidden;text-align: left;background-color: #f0f8ff;}#sk-container-id-1 div.sk-toggleable__content pre {margin: 0.2em;color: black;border-radius: 0.25em;background-color: #f0f8ff;}#sk-container-id-1 input.sk-toggleable__control:checked~div.sk-toggleable__content {max-height: 200px;max-width: 100%;overflow: auto;}#sk-container-id-1 input.sk-toggleable__control:checked~label.sk-toggleable__label-arrow:before {content: \"▾\";}#sk-container-id-1 div.sk-estimator input.sk-toggleable__control:checked~label.sk-toggleable__label {background-color: #d4ebff;}#sk-container-id-1 div.sk-label input.sk-toggleable__control:checked~label.sk-toggleable__label {background-color: #d4ebff;}#sk-container-id-1 input.sk-hidden--visually {border: 0;clip: rect(1px 1px 1px 1px);clip: rect(1px, 1px, 1px, 1px);height: 1px;margin: -1px;overflow: hidden;padding: 0;position: absolute;width: 1px;}#sk-container-id-1 div.sk-estimator {font-family: monospace;background-color: #f0f8ff;border: 1px dotted black;border-radius: 0.25em;box-sizing: border-box;margin-bottom: 0.5em;}#sk-container-id-1 div.sk-estimator:hover {background-color: #d4ebff;}#sk-container-id-1 div.sk-parallel-item::after {content: \"\";width: 100%;border-bottom: 1px solid gray;flex-grow: 1;}#sk-container-id-1 div.sk-label:hover label.sk-toggleable__label {background-color: #d4ebff;}#sk-container-id-1 div.sk-serial::before {content: \"\";position: absolute;border-left: 1px solid gray;box-sizing: border-box;top: 0;bottom: 0;left: 50%;z-index: 0;}#sk-container-id-1 div.sk-serial {display: flex;flex-direction: column;align-items: center;background-color: white;padding-right: 0.2em;padding-left: 0.2em;position: relative;}#sk-container-id-1 div.sk-item {position: relative;z-index: 1;}#sk-container-id-1 div.sk-parallel {display: flex;align-items: stretch;justify-content: center;background-color: white;position: relative;}#sk-container-id-1 div.sk-item::before, #sk-container-id-1 div.sk-parallel-item::before {content: \"\";position: absolute;border-left: 1px solid gray;box-sizing: border-box;top: 0;bottom: 0;left: 50%;z-index: -1;}#sk-container-id-1 div.sk-parallel-item {display: flex;flex-direction: column;z-index: 1;position: relative;background-color: white;}#sk-container-id-1 div.sk-parallel-item:first-child::after {align-self: flex-end;width: 50%;}#sk-container-id-1 div.sk-parallel-item:last-child::after {align-self: flex-start;width: 50%;}#sk-container-id-1 div.sk-parallel-item:only-child::after {width: 0;}#sk-container-id-1 div.sk-dashed-wrapped {border: 1px dashed gray;margin: 0 0.4em 0.5em 0.4em;box-sizing: border-box;padding-bottom: 0.4em;background-color: white;}#sk-container-id-1 div.sk-label label {font-family: monospace;font-weight: bold;display: inline-block;line-height: 1.2em;}#sk-container-id-1 div.sk-label-container {text-align: center;}#sk-container-id-1 div.sk-container {/* jupyter's `normalize.less` sets `[hidden] { display: none; }` but bootstrap.min.css set `[hidden] { display: none !important; }` so we also need the `!important` here to be able to override the default hidden behavior on the sphinx rendered scikit-learn.org. See: https://github.com/scikit-learn/scikit-learn/issues/21755 */display: inline-block !important;position: relative;}#sk-container-id-1 div.sk-text-repr-fallback {display: none;}</style><div id=\"sk-container-id-1\" class=\"sk-top-container\"><div class=\"sk-text-repr-fallback\"><pre>XGBClassifier(base_score=None, booster=None, callbacks=None,\n",
       "              colsample_bylevel=None, colsample_bynode=None,\n",
       "              colsample_bytree=None, device=None, early_stopping_rounds=None,\n",
       "              enable_categorical=False, eval_metric=None, feature_types=None,\n",
       "              gamma=None, grow_policy=None, importance_type=None,\n",
       "              interaction_constraints=None, learning_rate=None, max_bin=None,\n",
       "              max_cat_threshold=None, max_cat_to_onehot=None,\n",
       "              max_delta_step=None, max_depth=None, max_leaves=None,\n",
       "              min_child_weight=None, missing=nan, monotone_constraints=None,\n",
       "              multi_strategy=None, n_estimators=None, n_jobs=None,\n",
       "              num_parallel_tree=None, random_state=None, ...)</pre><b>In a Jupyter environment, please rerun this cell to show the HTML representation or trust the notebook. <br />On GitHub, the HTML representation is unable to render, please try loading this page with nbviewer.org.</b></div><div class=\"sk-container\" hidden><div class=\"sk-item\"><div class=\"sk-estimator sk-toggleable\"><input class=\"sk-toggleable__control sk-hidden--visually\" id=\"sk-estimator-id-1\" type=\"checkbox\" checked><label for=\"sk-estimator-id-1\" class=\"sk-toggleable__label sk-toggleable__label-arrow\">XGBClassifier</label><div class=\"sk-toggleable__content\"><pre>XGBClassifier(base_score=None, booster=None, callbacks=None,\n",
       "              colsample_bylevel=None, colsample_bynode=None,\n",
       "              colsample_bytree=None, device=None, early_stopping_rounds=None,\n",
       "              enable_categorical=False, eval_metric=None, feature_types=None,\n",
       "              gamma=None, grow_policy=None, importance_type=None,\n",
       "              interaction_constraints=None, learning_rate=None, max_bin=None,\n",
       "              max_cat_threshold=None, max_cat_to_onehot=None,\n",
       "              max_delta_step=None, max_depth=None, max_leaves=None,\n",
       "              min_child_weight=None, missing=nan, monotone_constraints=None,\n",
       "              multi_strategy=None, n_estimators=None, n_jobs=None,\n",
       "              num_parallel_tree=None, random_state=None, ...)</pre></div></div></div></div></div>"
      ]
     },
     "execution_count": 18,
     "metadata": {},
     "output_type": "execute_result"
    }
   ],
   "execution_count": 18
  },
  {
   "metadata": {
    "ExecuteTime": {
     "end_time": "2024-04-29T01:11:25.460555Z",
     "start_time": "2024-04-29T01:11:25.447561Z"
    }
   },
   "cell_type": "code",
   "source": [
    "pred_data = model.predict(test_feature_data)\n",
    "pred_data = pred_data.astype(np.uint8)\n",
    "pred_data # 0 column: left eye, 1 column: right eye"
   ],
   "id": "b96d9b19d2a381a9",
   "outputs": [
    {
     "data": {
      "text/plain": [
       "array([[0, 0],\n",
       "       [0, 0],\n",
       "       [1, 0],\n",
       "       ...,\n",
       "       [0, 0],\n",
       "       [0, 0],\n",
       "       [0, 0]], dtype=uint8)"
      ]
     },
     "execution_count": 19,
     "metadata": {},
     "output_type": "execute_result"
    }
   ],
   "execution_count": 19
  },
  {
   "metadata": {
    "ExecuteTime": {
     "end_time": "2024-04-29T01:11:34.647754Z",
     "start_time": "2024-04-29T01:11:34.637755Z"
    }
   },
   "cell_type": "code",
   "source": "confusion_matrix(test_target_data[:, 0], pred_data[:, 0])",
   "id": "f8f6aedf8e1fa3a",
   "outputs": [
    {
     "data": {
      "text/plain": [
       "array([[1975,   53],\n",
       "       [ 164,  121]], dtype=int64)"
      ]
     },
     "execution_count": 20,
     "metadata": {},
     "output_type": "execute_result"
    }
   ],
   "execution_count": 20
  },
  {
   "metadata": {
    "ExecuteTime": {
     "end_time": "2024-04-29T01:11:42.640233Z",
     "start_time": "2024-04-29T01:11:42.627234Z"
    }
   },
   "cell_type": "code",
   "source": "accuracy_score(test_target_data[:, 0], pred_data[:, 0])",
   "id": "9b3090348984f9b1",
   "outputs": [
    {
     "data": {
      "text/plain": [
       "0.9061824470384782"
      ]
     },
     "execution_count": 21,
     "metadata": {},
     "output_type": "execute_result"
    }
   ],
   "execution_count": 21
  },
  {
   "metadata": {
    "ExecuteTime": {
     "end_time": "2024-04-29T01:11:44.710118Z",
     "start_time": "2024-04-29T01:11:44.696605Z"
    }
   },
   "cell_type": "code",
   "source": "precision_score(test_target_data[:, 0], pred_data[:, 0])",
   "id": "4e785eb0a553934c",
   "outputs": [
    {
     "data": {
      "text/plain": [
       "0.6954022988505747"
      ]
     },
     "execution_count": 22,
     "metadata": {},
     "output_type": "execute_result"
    }
   ],
   "execution_count": 22
  },
  {
   "metadata": {
    "ExecuteTime": {
     "end_time": "2024-04-29T01:11:46.977873Z",
     "start_time": "2024-04-29T01:11:46.964873Z"
    }
   },
   "cell_type": "code",
   "source": "recall_score(test_target_data[:, 0], pred_data[:, 0])",
   "id": "52f0f398e10950eb",
   "outputs": [
    {
     "data": {
      "text/plain": [
       "0.4245614035087719"
      ]
     },
     "execution_count": 23,
     "metadata": {},
     "output_type": "execute_result"
    }
   ],
   "execution_count": 23
  },
  {
   "metadata": {
    "ExecuteTime": {
     "end_time": "2024-04-29T01:11:48.667462Z",
     "start_time": "2024-04-29T01:11:48.654461Z"
    }
   },
   "cell_type": "code",
   "source": "f1_score(test_target_data[:, 0], pred_data[:, 0])",
   "id": "695b98df8844c4fa",
   "outputs": [
    {
     "data": {
      "text/plain": [
       "0.5272331154684097"
      ]
     },
     "execution_count": 24,
     "metadata": {},
     "output_type": "execute_result"
    }
   ],
   "execution_count": 24
  },
  {
   "metadata": {
    "ExecuteTime": {
     "end_time": "2024-04-29T01:11:50.448797Z",
     "start_time": "2024-04-29T01:11:50.437797Z"
    }
   },
   "cell_type": "code",
   "source": "confusion_matrix(test_target_data[:, 1], pred_data[:, 1])",
   "id": "67f5db3ed9743e0b",
   "outputs": [
    {
     "data": {
      "text/plain": [
       "array([[2004,   49],\n",
       "       [ 152,  108]], dtype=int64)"
      ]
     },
     "execution_count": 25,
     "metadata": {},
     "output_type": "execute_result"
    }
   ],
   "execution_count": 25
  },
  {
   "metadata": {
    "ExecuteTime": {
     "end_time": "2024-04-29T01:12:01.635095Z",
     "start_time": "2024-04-29T01:12:01.628095Z"
    }
   },
   "cell_type": "code",
   "source": "accuracy_score(test_target_data[:, 1], pred_data[:, 1])",
   "id": "96bb09869cb50b7",
   "outputs": [
    {
     "data": {
      "text/plain": [
       "0.9130998702983139"
      ]
     },
     "execution_count": 26,
     "metadata": {},
     "output_type": "execute_result"
    }
   ],
   "execution_count": 26
  },
  {
   "metadata": {
    "ExecuteTime": {
     "end_time": "2024-04-29T01:12:03.159525Z",
     "start_time": "2024-04-29T01:12:03.146515Z"
    }
   },
   "cell_type": "code",
   "source": "precision_score(test_target_data[:, 1], pred_data[:, 1])",
   "id": "9ebe013d5213b86b",
   "outputs": [
    {
     "data": {
      "text/plain": [
       "0.6878980891719745"
      ]
     },
     "execution_count": 27,
     "metadata": {},
     "output_type": "execute_result"
    }
   ],
   "execution_count": 27
  },
  {
   "metadata": {
    "ExecuteTime": {
     "end_time": "2024-04-29T01:12:05.728286Z",
     "start_time": "2024-04-29T01:12:05.714773Z"
    }
   },
   "cell_type": "code",
   "source": "recall_score(test_target_data[:, 1], pred_data[:, 1])",
   "id": "2ce2c10ddfa2a3b5",
   "outputs": [
    {
     "data": {
      "text/plain": [
       "0.4153846153846154"
      ]
     },
     "execution_count": 28,
     "metadata": {},
     "output_type": "execute_result"
    }
   ],
   "execution_count": 28
  },
  {
   "metadata": {
    "ExecuteTime": {
     "end_time": "2024-04-29T01:12:07.742066Z",
     "start_time": "2024-04-29T01:12:07.729068Z"
    }
   },
   "cell_type": "code",
   "source": "f1_score(test_target_data[:, 1], pred_data[:, 1])",
   "id": "cd322d7c42a88d12",
   "outputs": [
    {
     "data": {
      "text/plain": [
       "0.5179856115107914"
      ]
     },
     "execution_count": 29,
     "metadata": {},
     "output_type": "execute_result"
    }
   ],
   "execution_count": 29
  },
  {
   "metadata": {
    "ExecuteTime": {
     "end_time": "2024-04-12T09:58:24.863816Z",
     "start_time": "2024-04-12T09:58:24.848816Z"
    }
   },
   "cell_type": "code",
   "source": "",
   "id": "6f995595ea7a782d",
   "outputs": [],
   "execution_count": 95
  }
 ],
 "metadata": {
  "kernelspec": {
   "display_name": "Python 3",
   "language": "python",
   "name": "python3"
  },
  "language_info": {
   "codemirror_mode": {
    "name": "ipython",
    "version": 2
   },
   "file_extension": ".py",
   "mimetype": "text/x-python",
   "name": "python",
   "nbconvert_exporter": "python",
   "pygments_lexer": "ipython2",
   "version": "2.7.6"
  }
 },
 "nbformat": 4,
 "nbformat_minor": 5
}
