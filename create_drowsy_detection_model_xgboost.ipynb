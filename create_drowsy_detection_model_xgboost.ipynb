{
 "cells": [
  {
   "cell_type": "code",
   "id": "initial_id",
   "metadata": {
    "collapsed": true,
    "ExecuteTime": {
     "end_time": "2024-04-12T10:18:29.321570Z",
     "start_time": "2024-04-12T10:18:29.306250Z"
    }
   },
   "source": [
    "import os\n",
    "import pandas as pd\n",
    "import numpy as np\n",
    "from sklearn.model_selection import train_test_split\n",
    "from sklearn.metrics import confusion_matrix, accuracy_score, precision_score, recall_score, f1_score\n",
    "from xgboost import XGBClassifier, plot_importance"
   ],
   "outputs": [],
   "execution_count": 171
  },
  {
   "metadata": {
    "ExecuteTime": {
     "end_time": "2024-04-12T10:18:29.336569Z",
     "start_time": "2024-04-12T10:18:29.332568Z"
    }
   },
   "cell_type": "code",
   "source": "data_files_list = ['result_bus_20240226-112104.csv', 'result_passenger_20240226-112405.csv', 'result_taxi_20240226-112648.csv', 'result_truck_20240226-112812.csv']",
   "id": "8f99d7a2a36f3a85",
   "outputs": [],
   "execution_count": 172
  },
  {
   "metadata": {
    "ExecuteTime": {
     "end_time": "2024-04-12T10:18:29.546568Z",
     "start_time": "2024-04-12T10:18:29.398570Z"
    }
   },
   "cell_type": "code",
   "source": [
    "train_dataset = pd.DataFrame()\n",
    "test_dataset = pd.DataFrame()\n",
    "\n",
    "for data_file in data_files_list:\n",
    "    data = pd.read_csv('analysis_data' + os.sep + data_file)\n",
    "    train_data, test_data = train_test_split(data, test_size=0.1, random_state=0)\n",
    "    train_dataset = pd.concat([train_dataset, train_data])\n",
    "    test_dataset = pd.concat([test_dataset, test_data])\n",
    "    \n",
    "train_dataset.drop(columns=['Unnamed: 0'], inplace=True)\n",
    "test_dataset.drop(columns=['Unnamed: 0'], inplace=True)\n",
    "\n",
    "data_columns = train_dataset.columns.to_list()[0:]\n",
    "train_dataset.head()"
   ],
   "id": "255433b4ed8fde07",
   "outputs": [
    {
     "data": {
      "text/plain": [
       "                          file_name  face_pt1_x_pos  face_pt1_y_pos  \\\n",
       "6581  R_234_60_M_19_M1_G1_C0_03.jpg           211.0           434.0   \n",
       "971   R_218_50_M_17_M1_G0_C0_12.jpg           320.0           468.0   \n",
       "3776  R_226_30_M_17_M1_G1_C1_17.jpg           284.0           506.0   \n",
       "5292  R_231_50_M_09_M1_G0_C0_14.jpg           144.0           447.0   \n",
       "5097  R_230_40_M_19_M1_G1_C0_18.jpg            41.0           582.0   \n",
       "\n",
       "      face_pt2_x_pos  face_pt2_y_pos  left_eye_pt1_x_pos  left_eye_pt1_y_pos  \\\n",
       "6581           483.0           910.0               261.0               599.0   \n",
       "971            566.0           932.0               380.0               635.0   \n",
       "3776           600.0           942.0               370.0               633.0   \n",
       "5292           474.0          1013.0               209.0               669.0   \n",
       "5097           320.0          1028.0               169.0               685.0   \n",
       "\n",
       "      left_eye_pt2_x_pos  left_eye_pt2_y_pos  right_eye_pt1_x_pos  ...  \\\n",
       "6581               304.0               610.0                377.0  ...   \n",
       "971                418.0               656.0                487.0  ...   \n",
       "3776               396.0               647.0                478.0  ...   \n",
       "5292               228.0               695.0                295.0  ...   \n",
       "5097               199.0               730.0                194.0  ...   \n",
       "\n",
       "      target_right_eye_pt1_y_pos  target_right_eye_pt2_x  \\\n",
       "6581                      587.82                  425.23   \n",
       "971                       627.46                  544.69   \n",
       "3776                      629.95                  523.56   \n",
       "5292                      656.88                  369.80   \n",
       "5097                      705.04                  240.05   \n",
       "\n",
       "      target_right_eye_pt2_y_pos  exist_mask  exist_glasses  face_visible  \\\n",
       "6581                      616.64           1              1             1   \n",
       "971                       654.72           1              0             1   \n",
       "3776                      651.35           1              1             1   \n",
       "5292                      691.17           1              0             1   \n",
       "5097                      732.24           1              1             1   \n",
       "\n",
       "      left_eye_visible  left_eye_opened  right_eye_visible  right_eye_opened  \n",
       "6581                 1                1                  1                 1  \n",
       "971                  1                1                  1                 1  \n",
       "3776                 1                1                  1                 1  \n",
       "5292                 1                1                  1                 1  \n",
       "5097                 1                1                  1                 1  \n",
       "\n",
       "[5 rows x 41 columns]"
      ],
      "text/html": [
       "<div>\n",
       "<style scoped>\n",
       "    .dataframe tbody tr th:only-of-type {\n",
       "        vertical-align: middle;\n",
       "    }\n",
       "\n",
       "    .dataframe tbody tr th {\n",
       "        vertical-align: top;\n",
       "    }\n",
       "\n",
       "    .dataframe thead th {\n",
       "        text-align: right;\n",
       "    }\n",
       "</style>\n",
       "<table border=\"1\" class=\"dataframe\">\n",
       "  <thead>\n",
       "    <tr style=\"text-align: right;\">\n",
       "      <th></th>\n",
       "      <th>file_name</th>\n",
       "      <th>face_pt1_x_pos</th>\n",
       "      <th>face_pt1_y_pos</th>\n",
       "      <th>face_pt2_x_pos</th>\n",
       "      <th>face_pt2_y_pos</th>\n",
       "      <th>left_eye_pt1_x_pos</th>\n",
       "      <th>left_eye_pt1_y_pos</th>\n",
       "      <th>left_eye_pt2_x_pos</th>\n",
       "      <th>left_eye_pt2_y_pos</th>\n",
       "      <th>right_eye_pt1_x_pos</th>\n",
       "      <th>...</th>\n",
       "      <th>target_right_eye_pt1_y_pos</th>\n",
       "      <th>target_right_eye_pt2_x</th>\n",
       "      <th>target_right_eye_pt2_y_pos</th>\n",
       "      <th>exist_mask</th>\n",
       "      <th>exist_glasses</th>\n",
       "      <th>face_visible</th>\n",
       "      <th>left_eye_visible</th>\n",
       "      <th>left_eye_opened</th>\n",
       "      <th>right_eye_visible</th>\n",
       "      <th>right_eye_opened</th>\n",
       "    </tr>\n",
       "  </thead>\n",
       "  <tbody>\n",
       "    <tr>\n",
       "      <th>6581</th>\n",
       "      <td>R_234_60_M_19_M1_G1_C0_03.jpg</td>\n",
       "      <td>211.0</td>\n",
       "      <td>434.0</td>\n",
       "      <td>483.0</td>\n",
       "      <td>910.0</td>\n",
       "      <td>261.0</td>\n",
       "      <td>599.0</td>\n",
       "      <td>304.0</td>\n",
       "      <td>610.0</td>\n",
       "      <td>377.0</td>\n",
       "      <td>...</td>\n",
       "      <td>587.82</td>\n",
       "      <td>425.23</td>\n",
       "      <td>616.64</td>\n",
       "      <td>1</td>\n",
       "      <td>1</td>\n",
       "      <td>1</td>\n",
       "      <td>1</td>\n",
       "      <td>1</td>\n",
       "      <td>1</td>\n",
       "      <td>1</td>\n",
       "    </tr>\n",
       "    <tr>\n",
       "      <th>971</th>\n",
       "      <td>R_218_50_M_17_M1_G0_C0_12.jpg</td>\n",
       "      <td>320.0</td>\n",
       "      <td>468.0</td>\n",
       "      <td>566.0</td>\n",
       "      <td>932.0</td>\n",
       "      <td>380.0</td>\n",
       "      <td>635.0</td>\n",
       "      <td>418.0</td>\n",
       "      <td>656.0</td>\n",
       "      <td>487.0</td>\n",
       "      <td>...</td>\n",
       "      <td>627.46</td>\n",
       "      <td>544.69</td>\n",
       "      <td>654.72</td>\n",
       "      <td>1</td>\n",
       "      <td>0</td>\n",
       "      <td>1</td>\n",
       "      <td>1</td>\n",
       "      <td>1</td>\n",
       "      <td>1</td>\n",
       "      <td>1</td>\n",
       "    </tr>\n",
       "    <tr>\n",
       "      <th>3776</th>\n",
       "      <td>R_226_30_M_17_M1_G1_C1_17.jpg</td>\n",
       "      <td>284.0</td>\n",
       "      <td>506.0</td>\n",
       "      <td>600.0</td>\n",
       "      <td>942.0</td>\n",
       "      <td>370.0</td>\n",
       "      <td>633.0</td>\n",
       "      <td>396.0</td>\n",
       "      <td>647.0</td>\n",
       "      <td>478.0</td>\n",
       "      <td>...</td>\n",
       "      <td>629.95</td>\n",
       "      <td>523.56</td>\n",
       "      <td>651.35</td>\n",
       "      <td>1</td>\n",
       "      <td>1</td>\n",
       "      <td>1</td>\n",
       "      <td>1</td>\n",
       "      <td>1</td>\n",
       "      <td>1</td>\n",
       "      <td>1</td>\n",
       "    </tr>\n",
       "    <tr>\n",
       "      <th>5292</th>\n",
       "      <td>R_231_50_M_09_M1_G0_C0_14.jpg</td>\n",
       "      <td>144.0</td>\n",
       "      <td>447.0</td>\n",
       "      <td>474.0</td>\n",
       "      <td>1013.0</td>\n",
       "      <td>209.0</td>\n",
       "      <td>669.0</td>\n",
       "      <td>228.0</td>\n",
       "      <td>695.0</td>\n",
       "      <td>295.0</td>\n",
       "      <td>...</td>\n",
       "      <td>656.88</td>\n",
       "      <td>369.80</td>\n",
       "      <td>691.17</td>\n",
       "      <td>1</td>\n",
       "      <td>0</td>\n",
       "      <td>1</td>\n",
       "      <td>1</td>\n",
       "      <td>1</td>\n",
       "      <td>1</td>\n",
       "      <td>1</td>\n",
       "    </tr>\n",
       "    <tr>\n",
       "      <th>5097</th>\n",
       "      <td>R_230_40_M_19_M1_G1_C0_18.jpg</td>\n",
       "      <td>41.0</td>\n",
       "      <td>582.0</td>\n",
       "      <td>320.0</td>\n",
       "      <td>1028.0</td>\n",
       "      <td>169.0</td>\n",
       "      <td>685.0</td>\n",
       "      <td>199.0</td>\n",
       "      <td>730.0</td>\n",
       "      <td>194.0</td>\n",
       "      <td>...</td>\n",
       "      <td>705.04</td>\n",
       "      <td>240.05</td>\n",
       "      <td>732.24</td>\n",
       "      <td>1</td>\n",
       "      <td>1</td>\n",
       "      <td>1</td>\n",
       "      <td>1</td>\n",
       "      <td>1</td>\n",
       "      <td>1</td>\n",
       "      <td>1</td>\n",
       "    </tr>\n",
       "  </tbody>\n",
       "</table>\n",
       "<p>5 rows × 41 columns</p>\n",
       "</div>"
      ]
     },
     "execution_count": 173,
     "metadata": {},
     "output_type": "execute_result"
    }
   ],
   "execution_count": 173
  },
  {
   "metadata": {
    "ExecuteTime": {
     "end_time": "2024-04-12T10:18:29.561571Z",
     "start_time": "2024-04-12T10:18:29.548568Z"
    }
   },
   "cell_type": "code",
   "source": [
    "feature_column_names = data_columns[1:17]\n",
    "target_column_names = [data_columns[38], data_columns[40]]"
   ],
   "id": "b50e844d350e7a90",
   "outputs": [],
   "execution_count": 174
  },
  {
   "metadata": {
    "ExecuteTime": {
     "end_time": "2024-04-12T10:18:29.577085Z",
     "start_time": "2024-04-12T10:18:29.562574Z"
    }
   },
   "cell_type": "code",
   "source": "feature_column_names",
   "id": "288d520495611c7b",
   "outputs": [
    {
     "data": {
      "text/plain": [
       "['face_pt1_x_pos',\n",
       " 'face_pt1_y_pos',\n",
       " 'face_pt2_x_pos',\n",
       " 'face_pt2_y_pos',\n",
       " 'left_eye_pt1_x_pos',\n",
       " 'left_eye_pt1_y_pos',\n",
       " 'left_eye_pt2_x_pos',\n",
       " 'left_eye_pt2_y_pos',\n",
       " 'right_eye_pt1_x_pos',\n",
       " 'right_eye_pt1_y_pos',\n",
       " 'right_eye_pt2_x_pos',\n",
       " 'right_eye_pt2_y_pos',\n",
       " 'left_eye_horizontal',\n",
       " 'left_eye_vertical',\n",
       " 'right_eye_horizontal',\n",
       " 'right_eye_vertical']"
      ]
     },
     "execution_count": 175,
     "metadata": {},
     "output_type": "execute_result"
    }
   ],
   "execution_count": 175
  },
  {
   "metadata": {
    "ExecuteTime": {
     "end_time": "2024-04-12T10:18:29.592085Z",
     "start_time": "2024-04-12T10:18:29.579086Z"
    }
   },
   "cell_type": "code",
   "source": "target_column_names",
   "id": "63d1cf0b1873ae8c",
   "outputs": [
    {
     "data": {
      "text/plain": [
       "['left_eye_opened', 'right_eye_opened']"
      ]
     },
     "execution_count": 176,
     "metadata": {},
     "output_type": "execute_result"
    }
   ],
   "execution_count": 176
  },
  {
   "metadata": {
    "ExecuteTime": {
     "end_time": "2024-04-12T10:19:33.648205Z",
     "start_time": "2024-04-12T10:19:33.628206Z"
    }
   },
   "cell_type": "code",
   "source": [
    "train_feature_dataset = train_dataset[feature_column_names]\n",
    "train_feature_data = train_feature_dataset.to_numpy()\n",
    "\n",
    "train_target_dataset = train_dataset[target_column_names]\n",
    "train_target_data = train_target_dataset.to_numpy().astype(np.uint8)\n",
    "train_target_data = 1-train_target_data"
   ],
   "id": "8a02fb1c63664d6a",
   "outputs": [],
   "execution_count": 195
  },
  {
   "metadata": {
    "ExecuteTime": {
     "end_time": "2024-04-12T10:19:35.926841Z",
     "start_time": "2024-04-12T10:19:35.913834Z"
    }
   },
   "cell_type": "code",
   "source": [
    "test_target_dataset = test_dataset[target_column_names]\n",
    "test_target_data = test_target_dataset.to_numpy().astype(np.uint8)\n",
    "\n",
    "test_feature_dataset = test_dataset[feature_column_names]\n",
    "test_feature_data = test_feature_dataset.to_numpy()\n",
    "test_target_data = 1-test_target_data"
   ],
   "id": "8d59a42378a76162",
   "outputs": [],
   "execution_count": 196
  },
  {
   "metadata": {
    "ExecuteTime": {
     "end_time": "2024-04-12T10:18:29.637087Z",
     "start_time": "2024-04-12T10:18:29.624086Z"
    }
   },
   "cell_type": "code",
   "source": [
    "face_width = train_feature_data[:, 2] - train_feature_data[:, 0]\n",
    "face_height = train_feature_data[:, 3] - train_feature_data[:, 1]"
   ],
   "id": "5fab418b52c90b4d",
   "outputs": [],
   "execution_count": 179
  },
  {
   "metadata": {
    "ExecuteTime": {
     "end_time": "2024-04-12T10:18:29.652087Z",
     "start_time": "2024-04-12T10:18:29.639086Z"
    }
   },
   "cell_type": "code",
   "source": [
    "train_feature_data = np.concatenate((train_feature_data, face_width.reshape(-1, 1)), axis=1)\n",
    "train_feature_data = np.concatenate((train_feature_data, face_height.reshape(-1, 1)), axis=1)\n",
    "train_feature_data"
   ],
   "id": "61c9cf5fdaf5bf97",
   "outputs": [
    {
     "data": {
      "text/plain": [
       "array([[211.        , 434.        , 483.        , ...,   7.28010989,\n",
       "        272.        , 476.        ],\n",
       "       [320.        , 468.        , 566.        , ...,   9.05538514,\n",
       "        246.        , 464.        ],\n",
       "       [284.        , 506.        , 600.        , ...,   8.54400375,\n",
       "        316.        , 436.        ],\n",
       "       ...,\n",
       "       [232.        , 474.        , 542.        , ...,  12.04159458,\n",
       "        310.        , 485.        ],\n",
       "       [200.        , 294.        , 534.        , ...,  11.        ,\n",
       "        334.        , 525.        ],\n",
       "       [212.        , 374.        , 545.        , ...,  13.03840481,\n",
       "        333.        , 596.        ]])"
      ]
     },
     "execution_count": 180,
     "metadata": {},
     "output_type": "execute_result"
    }
   ],
   "execution_count": 180
  },
  {
   "metadata": {
    "ExecuteTime": {
     "end_time": "2024-04-12T10:18:29.667089Z",
     "start_time": "2024-04-12T10:18:29.654086Z"
    }
   },
   "cell_type": "code",
   "source": [
    "face_width = test_feature_data[:, 2] - test_feature_data[:, 0]\n",
    "face_height = test_feature_data[:, 3] - test_feature_data[:, 1]"
   ],
   "id": "8eedca452632c759",
   "outputs": [],
   "execution_count": 181
  },
  {
   "metadata": {
    "ExecuteTime": {
     "end_time": "2024-04-12T10:18:29.742610Z",
     "start_time": "2024-04-12T10:18:29.724093Z"
    }
   },
   "cell_type": "code",
   "source": [
    "test_feature_data = np.concatenate((test_feature_data, face_width.reshape(-1, 1)), axis=1)\n",
    "test_feature_data = np.concatenate((test_feature_data, face_height.reshape(-1, 1)), axis=1)\n",
    "test_feature_data"
   ],
   "id": "43fe9857f579b6de",
   "outputs": [
    {
     "data": {
      "text/plain": [
       "array([[226.        , 505.        , 538.        , ...,  13.41640786,\n",
       "        312.        , 459.        ],\n",
       "       [151.        , 246.        , 470.        , ...,  16.03121954,\n",
       "        319.        , 516.        ],\n",
       "       [151.        , 522.        , 416.        , ...,   6.40312424,\n",
       "        265.        , 450.        ],\n",
       "       ...,\n",
       "       [260.        , 435.        , 560.        , ...,  14.03566885,\n",
       "        300.        , 417.        ],\n",
       "       [288.        , 411.        , 579.        , ...,  11.04536102,\n",
       "        291.        , 436.        ],\n",
       "       [260.        , 448.        , 560.        , ...,   9.        ,\n",
       "        300.        , 432.        ]])"
      ]
     },
     "execution_count": 182,
     "metadata": {},
     "output_type": "execute_result"
    }
   ],
   "execution_count": 182
  },
  {
   "metadata": {
    "ExecuteTime": {
     "end_time": "2024-04-12T10:19:51.234626Z",
     "start_time": "2024-04-12T10:19:50.739885Z"
    }
   },
   "cell_type": "code",
   "source": [
    "model = XGBClassifier()\n",
    "model.fit(train_feature_data, train_target_data)"
   ],
   "id": "ce8c33ea889d9589",
   "outputs": [
    {
     "data": {
      "text/plain": [
       "XGBClassifier(base_score=None, booster=None, callbacks=None,\n",
       "              colsample_bylevel=None, colsample_bynode=None,\n",
       "              colsample_bytree=None, device=None, early_stopping_rounds=None,\n",
       "              enable_categorical=False, eval_metric=None, feature_types=None,\n",
       "              gamma=None, grow_policy=None, importance_type=None,\n",
       "              interaction_constraints=None, learning_rate=None, max_bin=None,\n",
       "              max_cat_threshold=None, max_cat_to_onehot=None,\n",
       "              max_delta_step=None, max_depth=None, max_leaves=None,\n",
       "              min_child_weight=None, missing=nan, monotone_constraints=None,\n",
       "              multi_strategy=None, n_estimators=None, n_jobs=None,\n",
       "              num_parallel_tree=None, random_state=None, ...)"
      ],
      "text/html": [
       "<style>#sk-container-id-8 {color: black;}#sk-container-id-8 pre{padding: 0;}#sk-container-id-8 div.sk-toggleable {background-color: white;}#sk-container-id-8 label.sk-toggleable__label {cursor: pointer;display: block;width: 100%;margin-bottom: 0;padding: 0.3em;box-sizing: border-box;text-align: center;}#sk-container-id-8 label.sk-toggleable__label-arrow:before {content: \"▸\";float: left;margin-right: 0.25em;color: #696969;}#sk-container-id-8 label.sk-toggleable__label-arrow:hover:before {color: black;}#sk-container-id-8 div.sk-estimator:hover label.sk-toggleable__label-arrow:before {color: black;}#sk-container-id-8 div.sk-toggleable__content {max-height: 0;max-width: 0;overflow: hidden;text-align: left;background-color: #f0f8ff;}#sk-container-id-8 div.sk-toggleable__content pre {margin: 0.2em;color: black;border-radius: 0.25em;background-color: #f0f8ff;}#sk-container-id-8 input.sk-toggleable__control:checked~div.sk-toggleable__content {max-height: 200px;max-width: 100%;overflow: auto;}#sk-container-id-8 input.sk-toggleable__control:checked~label.sk-toggleable__label-arrow:before {content: \"▾\";}#sk-container-id-8 div.sk-estimator input.sk-toggleable__control:checked~label.sk-toggleable__label {background-color: #d4ebff;}#sk-container-id-8 div.sk-label input.sk-toggleable__control:checked~label.sk-toggleable__label {background-color: #d4ebff;}#sk-container-id-8 input.sk-hidden--visually {border: 0;clip: rect(1px 1px 1px 1px);clip: rect(1px, 1px, 1px, 1px);height: 1px;margin: -1px;overflow: hidden;padding: 0;position: absolute;width: 1px;}#sk-container-id-8 div.sk-estimator {font-family: monospace;background-color: #f0f8ff;border: 1px dotted black;border-radius: 0.25em;box-sizing: border-box;margin-bottom: 0.5em;}#sk-container-id-8 div.sk-estimator:hover {background-color: #d4ebff;}#sk-container-id-8 div.sk-parallel-item::after {content: \"\";width: 100%;border-bottom: 1px solid gray;flex-grow: 1;}#sk-container-id-8 div.sk-label:hover label.sk-toggleable__label {background-color: #d4ebff;}#sk-container-id-8 div.sk-serial::before {content: \"\";position: absolute;border-left: 1px solid gray;box-sizing: border-box;top: 0;bottom: 0;left: 50%;z-index: 0;}#sk-container-id-8 div.sk-serial {display: flex;flex-direction: column;align-items: center;background-color: white;padding-right: 0.2em;padding-left: 0.2em;position: relative;}#sk-container-id-8 div.sk-item {position: relative;z-index: 1;}#sk-container-id-8 div.sk-parallel {display: flex;align-items: stretch;justify-content: center;background-color: white;position: relative;}#sk-container-id-8 div.sk-item::before, #sk-container-id-8 div.sk-parallel-item::before {content: \"\";position: absolute;border-left: 1px solid gray;box-sizing: border-box;top: 0;bottom: 0;left: 50%;z-index: -1;}#sk-container-id-8 div.sk-parallel-item {display: flex;flex-direction: column;z-index: 1;position: relative;background-color: white;}#sk-container-id-8 div.sk-parallel-item:first-child::after {align-self: flex-end;width: 50%;}#sk-container-id-8 div.sk-parallel-item:last-child::after {align-self: flex-start;width: 50%;}#sk-container-id-8 div.sk-parallel-item:only-child::after {width: 0;}#sk-container-id-8 div.sk-dashed-wrapped {border: 1px dashed gray;margin: 0 0.4em 0.5em 0.4em;box-sizing: border-box;padding-bottom: 0.4em;background-color: white;}#sk-container-id-8 div.sk-label label {font-family: monospace;font-weight: bold;display: inline-block;line-height: 1.2em;}#sk-container-id-8 div.sk-label-container {text-align: center;}#sk-container-id-8 div.sk-container {/* jupyter's `normalize.less` sets `[hidden] { display: none; }` but bootstrap.min.css set `[hidden] { display: none !important; }` so we also need the `!important` here to be able to override the default hidden behavior on the sphinx rendered scikit-learn.org. See: https://github.com/scikit-learn/scikit-learn/issues/21755 */display: inline-block !important;position: relative;}#sk-container-id-8 div.sk-text-repr-fallback {display: none;}</style><div id=\"sk-container-id-8\" class=\"sk-top-container\"><div class=\"sk-text-repr-fallback\"><pre>XGBClassifier(base_score=None, booster=None, callbacks=None,\n",
       "              colsample_bylevel=None, colsample_bynode=None,\n",
       "              colsample_bytree=None, device=None, early_stopping_rounds=None,\n",
       "              enable_categorical=False, eval_metric=None, feature_types=None,\n",
       "              gamma=None, grow_policy=None, importance_type=None,\n",
       "              interaction_constraints=None, learning_rate=None, max_bin=None,\n",
       "              max_cat_threshold=None, max_cat_to_onehot=None,\n",
       "              max_delta_step=None, max_depth=None, max_leaves=None,\n",
       "              min_child_weight=None, missing=nan, monotone_constraints=None,\n",
       "              multi_strategy=None, n_estimators=None, n_jobs=None,\n",
       "              num_parallel_tree=None, random_state=None, ...)</pre><b>In a Jupyter environment, please rerun this cell to show the HTML representation or trust the notebook. <br />On GitHub, the HTML representation is unable to render, please try loading this page with nbviewer.org.</b></div><div class=\"sk-container\" hidden><div class=\"sk-item\"><div class=\"sk-estimator sk-toggleable\"><input class=\"sk-toggleable__control sk-hidden--visually\" id=\"sk-estimator-id-8\" type=\"checkbox\" checked><label for=\"sk-estimator-id-8\" class=\"sk-toggleable__label sk-toggleable__label-arrow\">XGBClassifier</label><div class=\"sk-toggleable__content\"><pre>XGBClassifier(base_score=None, booster=None, callbacks=None,\n",
       "              colsample_bylevel=None, colsample_bynode=None,\n",
       "              colsample_bytree=None, device=None, early_stopping_rounds=None,\n",
       "              enable_categorical=False, eval_metric=None, feature_types=None,\n",
       "              gamma=None, grow_policy=None, importance_type=None,\n",
       "              interaction_constraints=None, learning_rate=None, max_bin=None,\n",
       "              max_cat_threshold=None, max_cat_to_onehot=None,\n",
       "              max_delta_step=None, max_depth=None, max_leaves=None,\n",
       "              min_child_weight=None, missing=nan, monotone_constraints=None,\n",
       "              multi_strategy=None, n_estimators=None, n_jobs=None,\n",
       "              num_parallel_tree=None, random_state=None, ...)</pre></div></div></div></div></div>"
      ]
     },
     "execution_count": 197,
     "metadata": {},
     "output_type": "execute_result"
    }
   ],
   "execution_count": 197
  },
  {
   "metadata": {
    "ExecuteTime": {
     "end_time": "2024-04-12T10:19:53.570381Z",
     "start_time": "2024-04-12T10:19:53.557382Z"
    }
   },
   "cell_type": "code",
   "source": [
    "pred_data = model.predict(test_feature_data)\n",
    "pred_data = pred_data.astype(np.uint8)\n",
    "pred_data"
   ],
   "id": "b96d9b19d2a381a9",
   "outputs": [
    {
     "data": {
      "text/plain": [
       "array([[0, 0],\n",
       "       [0, 0],\n",
       "       [0, 0],\n",
       "       ...,\n",
       "       [0, 0],\n",
       "       [0, 0],\n",
       "       [0, 0]], dtype=uint8)"
      ]
     },
     "execution_count": 198,
     "metadata": {},
     "output_type": "execute_result"
    }
   ],
   "execution_count": 198
  },
  {
   "metadata": {
    "ExecuteTime": {
     "end_time": "2024-04-12T10:19:58.582724Z",
     "start_time": "2024-04-12T10:19:58.571723Z"
    }
   },
   "cell_type": "code",
   "source": "confusion_matrix(test_target_data[:, 0], pred_data[:, 0])",
   "id": "f8f6aedf8e1fa3a",
   "outputs": [
    {
     "data": {
      "text/plain": [
       "array([[1971,   57],\n",
       "       [ 168,  117]], dtype=int64)"
      ]
     },
     "execution_count": 199,
     "metadata": {},
     "output_type": "execute_result"
    }
   ],
   "execution_count": 199
  },
  {
   "metadata": {
    "ExecuteTime": {
     "end_time": "2024-04-12T10:20:01.521333Z",
     "start_time": "2024-04-12T10:20:01.515333Z"
    }
   },
   "cell_type": "code",
   "source": "accuracy_score(test_target_data[:, 0], pred_data[:, 0])",
   "id": "9b3090348984f9b1",
   "outputs": [
    {
     "data": {
      "text/plain": [
       "0.9027237354085603"
      ]
     },
     "execution_count": 200,
     "metadata": {},
     "output_type": "execute_result"
    }
   ],
   "execution_count": 200
  },
  {
   "metadata": {
    "ExecuteTime": {
     "end_time": "2024-04-12T10:20:03.364849Z",
     "start_time": "2024-04-12T10:20:03.351850Z"
    }
   },
   "cell_type": "code",
   "source": "precision_score(test_target_data[:, 0], pred_data[:, 0])",
   "id": "4e785eb0a553934c",
   "outputs": [
    {
     "data": {
      "text/plain": [
       "0.6724137931034483"
      ]
     },
     "execution_count": 201,
     "metadata": {},
     "output_type": "execute_result"
    }
   ],
   "execution_count": 201
  },
  {
   "metadata": {
    "ExecuteTime": {
     "end_time": "2024-04-12T10:20:05.396701Z",
     "start_time": "2024-04-12T10:20:05.383700Z"
    }
   },
   "cell_type": "code",
   "source": "recall_score(test_target_data[:, 0], pred_data[:, 0])",
   "id": "52f0f398e10950eb",
   "outputs": [
    {
     "data": {
      "text/plain": [
       "0.4105263157894737"
      ]
     },
     "execution_count": 202,
     "metadata": {},
     "output_type": "execute_result"
    }
   ],
   "execution_count": 202
  },
  {
   "metadata": {
    "ExecuteTime": {
     "end_time": "2024-04-12T10:20:06.857341Z",
     "start_time": "2024-04-12T10:20:06.844341Z"
    }
   },
   "cell_type": "code",
   "source": "f1_score(test_target_data[:, 0], pred_data[:, 0])",
   "id": "695b98df8844c4fa",
   "outputs": [
    {
     "data": {
      "text/plain": [
       "0.5098039215686274"
      ]
     },
     "execution_count": 203,
     "metadata": {},
     "output_type": "execute_result"
    }
   ],
   "execution_count": 203
  },
  {
   "metadata": {
    "ExecuteTime": {
     "end_time": "2024-04-12T10:18:30.375070Z",
     "start_time": "2024-04-12T10:18:30.362070Z"
    }
   },
   "cell_type": "code",
   "source": "confusion_matrix(test_target_data[:, 1], pred_data[:, 1])",
   "id": "67f5db3ed9743e0b",
   "outputs": [
    {
     "data": {
      "text/plain": [
       "array([[2004,   49],\n",
       "       [ 152,  108]], dtype=int64)"
      ]
     },
     "execution_count": 190,
     "metadata": {},
     "output_type": "execute_result"
    }
   ],
   "execution_count": 190
  },
  {
   "metadata": {
    "ExecuteTime": {
     "end_time": "2024-04-12T10:18:30.390074Z",
     "start_time": "2024-04-12T10:18:30.377070Z"
    }
   },
   "cell_type": "code",
   "source": "accuracy_score(test_target_data[:, 1], pred_data[:, 1])",
   "id": "96bb09869cb50b7",
   "outputs": [
    {
     "data": {
      "text/plain": [
       "0.9130998702983139"
      ]
     },
     "execution_count": 191,
     "metadata": {},
     "output_type": "execute_result"
    }
   ],
   "execution_count": 191
  },
  {
   "metadata": {
    "ExecuteTime": {
     "end_time": "2024-04-12T10:18:30.405073Z",
     "start_time": "2024-04-12T10:18:30.393073Z"
    }
   },
   "cell_type": "code",
   "source": "precision_score(test_target_data[:, 1], pred_data[:, 1])",
   "id": "9ebe013d5213b86b",
   "outputs": [
    {
     "data": {
      "text/plain": [
       "0.6878980891719745"
      ]
     },
     "execution_count": 192,
     "metadata": {},
     "output_type": "execute_result"
    }
   ],
   "execution_count": 192
  },
  {
   "metadata": {
    "ExecuteTime": {
     "end_time": "2024-04-12T10:18:30.420071Z",
     "start_time": "2024-04-12T10:18:30.406074Z"
    }
   },
   "cell_type": "code",
   "source": "recall_score(test_target_data[:, 1], pred_data[:, 1])",
   "id": "2ce2c10ddfa2a3b5",
   "outputs": [
    {
     "data": {
      "text/plain": [
       "0.4153846153846154"
      ]
     },
     "execution_count": 193,
     "metadata": {},
     "output_type": "execute_result"
    }
   ],
   "execution_count": 193
  },
  {
   "metadata": {
    "ExecuteTime": {
     "end_time": "2024-04-12T10:18:30.435071Z",
     "start_time": "2024-04-12T10:18:30.421074Z"
    }
   },
   "cell_type": "code",
   "source": "f1_score(test_target_data[:, 1], pred_data[:, 1])",
   "id": "cd322d7c42a88d12",
   "outputs": [
    {
     "data": {
      "text/plain": [
       "0.5179856115107914"
      ]
     },
     "execution_count": 194,
     "metadata": {},
     "output_type": "execute_result"
    }
   ],
   "execution_count": 194
  },
  {
   "metadata": {
    "ExecuteTime": {
     "end_time": "2024-04-12T09:58:24.863816Z",
     "start_time": "2024-04-12T09:58:24.848816Z"
    }
   },
   "cell_type": "code",
   "source": "",
   "id": "6f995595ea7a782d",
   "outputs": [],
   "execution_count": 95
  }
 ],
 "metadata": {
  "kernelspec": {
   "display_name": "Python 3",
   "language": "python",
   "name": "python3"
  },
  "language_info": {
   "codemirror_mode": {
    "name": "ipython",
    "version": 2
   },
   "file_extension": ".py",
   "mimetype": "text/x-python",
   "name": "python",
   "nbconvert_exporter": "python",
   "pygments_lexer": "ipython2",
   "version": "2.7.6"
  }
 },
 "nbformat": 4,
 "nbformat_minor": 5
}
