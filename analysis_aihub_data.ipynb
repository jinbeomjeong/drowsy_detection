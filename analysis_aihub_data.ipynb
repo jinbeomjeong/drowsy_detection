{
 "cells": [
  {
   "cell_type": "code",
   "execution_count": 1,
   "id": "initial_id",
   "metadata": {
    "collapsed": true,
    "ExecuteTime": {
     "end_time": "2023-11-28T15:32:10.676045700Z",
     "start_time": "2023-11-28T15:32:08.699196900Z"
    }
   },
   "outputs": [],
   "source": [
    "import time, cv2, torch, threading, argparse, os\n",
    "import torch.backends.cudnn as cudnn\n",
    "import numpy as np \n",
    "import pandas as pd\n",
    "import torchvision.models as models\n",
    "import torchvision.transforms as transforms\n",
    "\n",
    "from models.experimental import attempt_load\n",
    "from utils.augmentations import letterbox\n",
    "from utils.general import check_img_size, non_max_suppression, scale_coords \n",
    "from utils.accessory_lib import system_info\n",
    "from PIPNet.networks import Pip_resnet101\n",
    "from PIPNet.functions import forward_pip, get_meanface\n",
    "from scipy.spatial import distance\n",
    "from tqdm import tqdm"
   ]
  },
  {
   "cell_type": "code",
   "execution_count": 2,
   "outputs": [],
   "source": [
    "bus_img_dir = \"C:\\\\workspace\\\\image\\\\bus\\\\\"\n",
    "passenger_img_dir = \"C:\\\\workspace\\\\image\\\\passenger\\\\\"\n",
    "taxi_img_dir = \"C:\\\\workspace\\\\image\\\\taxi\\\\\"\n",
    "truck_img_dir = \"C:\\\\workspace\\\\image\\\\truck\\\\\""
   ],
   "metadata": {
    "collapsed": false,
    "ExecuteTime": {
     "end_time": "2023-11-28T15:32:10.681515300Z",
     "start_time": "2023-11-28T15:32:10.677024Z"
    }
   },
   "id": "70dfe57bdbfb3717"
  },
  {
   "cell_type": "code",
   "execution_count": 3,
   "outputs": [
    {
     "data": {
      "text/plain": "['C:\\\\workspace\\\\image\\\\bus\\\\R_216_60_M\\\\R_216_60_M_01_M0_G1_C0_01.jpg',\n 'C:\\\\workspace\\\\image\\\\bus\\\\R_216_60_M\\\\R_216_60_M_01_M0_G1_C0_02.jpg',\n 'C:\\\\workspace\\\\image\\\\bus\\\\R_216_60_M\\\\R_216_60_M_01_M0_G1_C0_03.jpg',\n 'C:\\\\workspace\\\\image\\\\bus\\\\R_216_60_M\\\\R_216_60_M_01_M0_G1_C0_04.jpg',\n 'C:\\\\workspace\\\\image\\\\bus\\\\R_216_60_M\\\\R_216_60_M_01_M0_G1_C0_05.jpg',\n 'C:\\\\workspace\\\\image\\\\bus\\\\R_216_60_M\\\\R_216_60_M_01_M0_G1_C0_06.jpg',\n 'C:\\\\workspace\\\\image\\\\bus\\\\R_216_60_M\\\\R_216_60_M_01_M0_G1_C0_07.jpg',\n 'C:\\\\workspace\\\\image\\\\bus\\\\R_216_60_M\\\\R_216_60_M_01_M0_G1_C0_08.jpg',\n 'C:\\\\workspace\\\\image\\\\bus\\\\R_216_60_M\\\\R_216_60_M_01_M0_G1_C0_09.jpg',\n 'C:\\\\workspace\\\\image\\\\bus\\\\R_216_60_M\\\\R_216_60_M_01_M0_G1_C0_10.jpg',\n 'C:\\\\workspace\\\\image\\\\bus\\\\R_216_60_M\\\\R_216_60_M_01_M0_G1_C0_11.jpg',\n 'C:\\\\workspace\\\\image\\\\bus\\\\R_216_60_M\\\\R_216_60_M_01_M0_G1_C0_12.jpg',\n 'C:\\\\workspace\\\\image\\\\bus\\\\R_216_60_M\\\\R_216_60_M_01_M0_G1_C0_13.jpg',\n 'C:\\\\workspace\\\\image\\\\bus\\\\R_216_60_M\\\\R_216_60_M_01_M0_G1_C0_14.jpg',\n 'C:\\\\workspace\\\\image\\\\bus\\\\R_216_60_M\\\\R_216_60_M_01_M0_G1_C0_15.jpg',\n 'C:\\\\workspace\\\\image\\\\bus\\\\R_216_60_M\\\\R_216_60_M_01_M0_G1_C0_16.jpg',\n 'C:\\\\workspace\\\\image\\\\bus\\\\R_216_60_M\\\\R_216_60_M_01_M0_G1_C0_17.jpg',\n 'C:\\\\workspace\\\\image\\\\bus\\\\R_216_60_M\\\\R_216_60_M_01_M0_G1_C0_18.jpg',\n 'C:\\\\workspace\\\\image\\\\bus\\\\R_216_60_M\\\\R_216_60_M_01_M0_G1_C0_19.jpg',\n 'C:\\\\workspace\\\\image\\\\bus\\\\R_216_60_M\\\\R_216_60_M_01_M0_G1_C0_20.jpg',\n 'C:\\\\workspace\\\\image\\\\bus\\\\R_216_60_M\\\\R_216_60_M_02_M0_G1_C0_01.jpg',\n 'C:\\\\workspace\\\\image\\\\bus\\\\R_216_60_M\\\\R_216_60_M_02_M0_G1_C0_02.jpg',\n 'C:\\\\workspace\\\\image\\\\bus\\\\R_216_60_M\\\\R_216_60_M_02_M0_G1_C0_03.jpg',\n 'C:\\\\workspace\\\\image\\\\bus\\\\R_216_60_M\\\\R_216_60_M_02_M0_G1_C0_04.jpg',\n 'C:\\\\workspace\\\\image\\\\bus\\\\R_216_60_M\\\\R_216_60_M_02_M0_G1_C0_05.jpg',\n 'C:\\\\workspace\\\\image\\\\bus\\\\R_216_60_M\\\\R_216_60_M_02_M0_G1_C0_06.jpg',\n 'C:\\\\workspace\\\\image\\\\bus\\\\R_216_60_M\\\\R_216_60_M_02_M0_G1_C0_07.jpg',\n 'C:\\\\workspace\\\\image\\\\bus\\\\R_216_60_M\\\\R_216_60_M_02_M0_G1_C0_08.jpg',\n 'C:\\\\workspace\\\\image\\\\bus\\\\R_216_60_M\\\\R_216_60_M_02_M0_G1_C0_09.jpg',\n 'C:\\\\workspace\\\\image\\\\bus\\\\R_216_60_M\\\\R_216_60_M_02_M0_G1_C0_10.jpg',\n 'C:\\\\workspace\\\\image\\\\bus\\\\R_216_60_M\\\\R_216_60_M_02_M0_G1_C0_11.jpg',\n 'C:\\\\workspace\\\\image\\\\bus\\\\R_216_60_M\\\\R_216_60_M_02_M0_G1_C0_12.jpg',\n 'C:\\\\workspace\\\\image\\\\bus\\\\R_216_60_M\\\\R_216_60_M_02_M0_G1_C0_13.jpg',\n 'C:\\\\workspace\\\\image\\\\bus\\\\R_216_60_M\\\\R_216_60_M_02_M0_G1_C0_14.jpg',\n 'C:\\\\workspace\\\\image\\\\bus\\\\R_216_60_M\\\\R_216_60_M_02_M0_G1_C0_15.jpg',\n 'C:\\\\workspace\\\\image\\\\bus\\\\R_216_60_M\\\\R_216_60_M_02_M0_G1_C0_16.jpg',\n 'C:\\\\workspace\\\\image\\\\bus\\\\R_216_60_M\\\\R_216_60_M_02_M0_G1_C0_17.jpg',\n 'C:\\\\workspace\\\\image\\\\bus\\\\R_216_60_M\\\\R_216_60_M_02_M0_G1_C0_18.jpg',\n 'C:\\\\workspace\\\\image\\\\bus\\\\R_216_60_M\\\\R_216_60_M_02_M0_G1_C0_19.jpg',\n 'C:\\\\workspace\\\\image\\\\bus\\\\R_216_60_M\\\\R_216_60_M_02_M0_G1_C0_20.jpg',\n 'C:\\\\workspace\\\\image\\\\bus\\\\R_216_60_M\\\\R_216_60_M_03_M0_G1_C0_01.jpg',\n 'C:\\\\workspace\\\\image\\\\bus\\\\R_216_60_M\\\\R_216_60_M_03_M0_G1_C0_02.jpg',\n 'C:\\\\workspace\\\\image\\\\bus\\\\R_216_60_M\\\\R_216_60_M_03_M0_G1_C0_03.jpg',\n 'C:\\\\workspace\\\\image\\\\bus\\\\R_216_60_M\\\\R_216_60_M_03_M0_G1_C0_04.jpg',\n 'C:\\\\workspace\\\\image\\\\bus\\\\R_216_60_M\\\\R_216_60_M_03_M0_G1_C0_05.jpg',\n 'C:\\\\workspace\\\\image\\\\bus\\\\R_216_60_M\\\\R_216_60_M_03_M0_G1_C0_06.jpg',\n 'C:\\\\workspace\\\\image\\\\bus\\\\R_216_60_M\\\\R_216_60_M_03_M0_G1_C0_07.jpg',\n 'C:\\\\workspace\\\\image\\\\bus\\\\R_216_60_M\\\\R_216_60_M_03_M0_G1_C0_08.jpg',\n 'C:\\\\workspace\\\\image\\\\bus\\\\R_216_60_M\\\\R_216_60_M_03_M0_G1_C0_09.jpg',\n 'C:\\\\workspace\\\\image\\\\bus\\\\R_216_60_M\\\\R_216_60_M_03_M0_G1_C0_10.jpg',\n 'C:\\\\workspace\\\\image\\\\bus\\\\R_216_60_M\\\\R_216_60_M_03_M0_G1_C0_11.jpg',\n 'C:\\\\workspace\\\\image\\\\bus\\\\R_216_60_M\\\\R_216_60_M_03_M0_G1_C0_12.jpg',\n 'C:\\\\workspace\\\\image\\\\bus\\\\R_216_60_M\\\\R_216_60_M_03_M0_G1_C0_13.jpg',\n 'C:\\\\workspace\\\\image\\\\bus\\\\R_216_60_M\\\\R_216_60_M_03_M0_G1_C0_14.jpg',\n 'C:\\\\workspace\\\\image\\\\bus\\\\R_216_60_M\\\\R_216_60_M_03_M0_G1_C0_15.jpg',\n 'C:\\\\workspace\\\\image\\\\bus\\\\R_216_60_M\\\\R_216_60_M_03_M0_G1_C0_16.jpg',\n 'C:\\\\workspace\\\\image\\\\bus\\\\R_216_60_M\\\\R_216_60_M_03_M0_G1_C0_17.jpg',\n 'C:\\\\workspace\\\\image\\\\bus\\\\R_216_60_M\\\\R_216_60_M_03_M0_G1_C0_18.jpg',\n 'C:\\\\workspace\\\\image\\\\bus\\\\R_216_60_M\\\\R_216_60_M_03_M0_G1_C0_19.jpg',\n 'C:\\\\workspace\\\\image\\\\bus\\\\R_216_60_M\\\\R_216_60_M_03_M0_G1_C0_20.jpg',\n 'C:\\\\workspace\\\\image\\\\bus\\\\R_216_60_M\\\\R_216_60_M_04_M1_G1_C0_01.jpg',\n 'C:\\\\workspace\\\\image\\\\bus\\\\R_216_60_M\\\\R_216_60_M_04_M1_G1_C0_02.jpg',\n 'C:\\\\workspace\\\\image\\\\bus\\\\R_216_60_M\\\\R_216_60_M_04_M1_G1_C0_03.jpg',\n 'C:\\\\workspace\\\\image\\\\bus\\\\R_216_60_M\\\\R_216_60_M_04_M1_G1_C0_04.jpg',\n 'C:\\\\workspace\\\\image\\\\bus\\\\R_216_60_M\\\\R_216_60_M_04_M1_G1_C0_05.jpg',\n 'C:\\\\workspace\\\\image\\\\bus\\\\R_216_60_M\\\\R_216_60_M_04_M1_G1_C0_06.jpg',\n 'C:\\\\workspace\\\\image\\\\bus\\\\R_216_60_M\\\\R_216_60_M_04_M1_G1_C0_07.jpg',\n 'C:\\\\workspace\\\\image\\\\bus\\\\R_216_60_M\\\\R_216_60_M_04_M1_G1_C0_08.jpg',\n 'C:\\\\workspace\\\\image\\\\bus\\\\R_216_60_M\\\\R_216_60_M_04_M1_G1_C0_09.jpg',\n 'C:\\\\workspace\\\\image\\\\bus\\\\R_216_60_M\\\\R_216_60_M_04_M1_G1_C0_10.jpg',\n 'C:\\\\workspace\\\\image\\\\bus\\\\R_216_60_M\\\\R_216_60_M_04_M1_G1_C0_11.jpg',\n 'C:\\\\workspace\\\\image\\\\bus\\\\R_216_60_M\\\\R_216_60_M_04_M1_G1_C0_12.jpg',\n 'C:\\\\workspace\\\\image\\\\bus\\\\R_216_60_M\\\\R_216_60_M_04_M1_G1_C0_13.jpg',\n 'C:\\\\workspace\\\\image\\\\bus\\\\R_216_60_M\\\\R_216_60_M_04_M1_G1_C0_14.jpg',\n 'C:\\\\workspace\\\\image\\\\bus\\\\R_216_60_M\\\\R_216_60_M_04_M1_G1_C0_15.jpg',\n 'C:\\\\workspace\\\\image\\\\bus\\\\R_216_60_M\\\\R_216_60_M_04_M1_G1_C0_16.jpg',\n 'C:\\\\workspace\\\\image\\\\bus\\\\R_216_60_M\\\\R_216_60_M_04_M1_G1_C0_17.jpg',\n 'C:\\\\workspace\\\\image\\\\bus\\\\R_216_60_M\\\\R_216_60_M_04_M1_G1_C0_18.jpg',\n 'C:\\\\workspace\\\\image\\\\bus\\\\R_216_60_M\\\\R_216_60_M_04_M1_G1_C0_19.jpg',\n 'C:\\\\workspace\\\\image\\\\bus\\\\R_216_60_M\\\\R_216_60_M_04_M1_G1_C0_20.jpg',\n 'C:\\\\workspace\\\\image\\\\bus\\\\R_216_60_M\\\\R_216_60_M_05_M1_G1_C0_01.jpg',\n 'C:\\\\workspace\\\\image\\\\bus\\\\R_216_60_M\\\\R_216_60_M_05_M1_G1_C0_02.jpg',\n 'C:\\\\workspace\\\\image\\\\bus\\\\R_216_60_M\\\\R_216_60_M_05_M1_G1_C0_03.jpg',\n 'C:\\\\workspace\\\\image\\\\bus\\\\R_216_60_M\\\\R_216_60_M_05_M1_G1_C0_04.jpg',\n 'C:\\\\workspace\\\\image\\\\bus\\\\R_216_60_M\\\\R_216_60_M_05_M1_G1_C0_05.jpg',\n 'C:\\\\workspace\\\\image\\\\bus\\\\R_216_60_M\\\\R_216_60_M_05_M1_G1_C0_06.jpg',\n 'C:\\\\workspace\\\\image\\\\bus\\\\R_216_60_M\\\\R_216_60_M_05_M1_G1_C0_07.jpg',\n 'C:\\\\workspace\\\\image\\\\bus\\\\R_216_60_M\\\\R_216_60_M_05_M1_G1_C0_08.jpg',\n 'C:\\\\workspace\\\\image\\\\bus\\\\R_216_60_M\\\\R_216_60_M_05_M1_G1_C0_09.jpg',\n 'C:\\\\workspace\\\\image\\\\bus\\\\R_216_60_M\\\\R_216_60_M_05_M1_G1_C0_10.jpg',\n 'C:\\\\workspace\\\\image\\\\bus\\\\R_216_60_M\\\\R_216_60_M_05_M1_G1_C0_11.jpg',\n 'C:\\\\workspace\\\\image\\\\bus\\\\R_216_60_M\\\\R_216_60_M_05_M1_G1_C0_12.jpg',\n 'C:\\\\workspace\\\\image\\\\bus\\\\R_216_60_M\\\\R_216_60_M_05_M1_G1_C0_13.jpg',\n 'C:\\\\workspace\\\\image\\\\bus\\\\R_216_60_M\\\\R_216_60_M_05_M1_G1_C0_14.jpg',\n 'C:\\\\workspace\\\\image\\\\bus\\\\R_216_60_M\\\\R_216_60_M_05_M1_G1_C0_15.jpg',\n 'C:\\\\workspace\\\\image\\\\bus\\\\R_216_60_M\\\\R_216_60_M_05_M1_G1_C0_16.jpg',\n 'C:\\\\workspace\\\\image\\\\bus\\\\R_216_60_M\\\\R_216_60_M_05_M1_G1_C0_17.jpg',\n 'C:\\\\workspace\\\\image\\\\bus\\\\R_216_60_M\\\\R_216_60_M_05_M1_G1_C0_18.jpg',\n 'C:\\\\workspace\\\\image\\\\bus\\\\R_216_60_M\\\\R_216_60_M_05_M1_G1_C0_19.jpg',\n 'C:\\\\workspace\\\\image\\\\bus\\\\R_216_60_M\\\\R_216_60_M_05_M1_G1_C0_20.jpg',\n 'C:\\\\workspace\\\\image\\\\bus\\\\R_216_60_M\\\\R_216_60_M_06_M1_G1_C0_01.jpg',\n 'C:\\\\workspace\\\\image\\\\bus\\\\R_216_60_M\\\\R_216_60_M_06_M1_G1_C0_02.jpg',\n 'C:\\\\workspace\\\\image\\\\bus\\\\R_216_60_M\\\\R_216_60_M_06_M1_G1_C0_03.jpg',\n 'C:\\\\workspace\\\\image\\\\bus\\\\R_216_60_M\\\\R_216_60_M_06_M1_G1_C0_04.jpg',\n 'C:\\\\workspace\\\\image\\\\bus\\\\R_216_60_M\\\\R_216_60_M_06_M1_G1_C0_05.jpg',\n 'C:\\\\workspace\\\\image\\\\bus\\\\R_216_60_M\\\\R_216_60_M_06_M1_G1_C0_06.jpg',\n 'C:\\\\workspace\\\\image\\\\bus\\\\R_216_60_M\\\\R_216_60_M_06_M1_G1_C0_07.jpg',\n 'C:\\\\workspace\\\\image\\\\bus\\\\R_216_60_M\\\\R_216_60_M_06_M1_G1_C0_08.jpg',\n 'C:\\\\workspace\\\\image\\\\bus\\\\R_216_60_M\\\\R_216_60_M_06_M1_G1_C0_09.jpg',\n 'C:\\\\workspace\\\\image\\\\bus\\\\R_216_60_M\\\\R_216_60_M_06_M1_G1_C0_10.jpg',\n 'C:\\\\workspace\\\\image\\\\bus\\\\R_216_60_M\\\\R_216_60_M_06_M1_G1_C0_11.jpg',\n 'C:\\\\workspace\\\\image\\\\bus\\\\R_216_60_M\\\\R_216_60_M_06_M1_G1_C0_12.jpg',\n 'C:\\\\workspace\\\\image\\\\bus\\\\R_216_60_M\\\\R_216_60_M_06_M1_G1_C0_13.jpg',\n 'C:\\\\workspace\\\\image\\\\bus\\\\R_216_60_M\\\\R_216_60_M_06_M1_G1_C0_14.jpg',\n 'C:\\\\workspace\\\\image\\\\bus\\\\R_216_60_M\\\\R_216_60_M_06_M1_G1_C0_15.jpg',\n 'C:\\\\workspace\\\\image\\\\bus\\\\R_216_60_M\\\\R_216_60_M_06_M1_G1_C0_16.jpg',\n 'C:\\\\workspace\\\\image\\\\bus\\\\R_216_60_M\\\\R_216_60_M_06_M1_G1_C0_17.jpg',\n 'C:\\\\workspace\\\\image\\\\bus\\\\R_216_60_M\\\\R_216_60_M_06_M1_G1_C0_18.jpg',\n 'C:\\\\workspace\\\\image\\\\bus\\\\R_216_60_M\\\\R_216_60_M_06_M1_G1_C0_19.jpg',\n 'C:\\\\workspace\\\\image\\\\bus\\\\R_216_60_M\\\\R_216_60_M_06_M1_G1_C0_20.jpg',\n 'C:\\\\workspace\\\\image\\\\bus\\\\R_216_60_M\\\\R_216_60_M_07_M1_G1_C0_01.jpg',\n 'C:\\\\workspace\\\\image\\\\bus\\\\R_216_60_M\\\\R_216_60_M_07_M1_G1_C0_02.jpg',\n 'C:\\\\workspace\\\\image\\\\bus\\\\R_216_60_M\\\\R_216_60_M_07_M1_G1_C0_03.jpg',\n 'C:\\\\workspace\\\\image\\\\bus\\\\R_216_60_M\\\\R_216_60_M_07_M1_G1_C0_04.jpg',\n 'C:\\\\workspace\\\\image\\\\bus\\\\R_216_60_M\\\\R_216_60_M_07_M1_G1_C0_05.jpg',\n 'C:\\\\workspace\\\\image\\\\bus\\\\R_216_60_M\\\\R_216_60_M_07_M1_G1_C0_06.jpg',\n 'C:\\\\workspace\\\\image\\\\bus\\\\R_216_60_M\\\\R_216_60_M_07_M1_G1_C0_07.jpg',\n 'C:\\\\workspace\\\\image\\\\bus\\\\R_216_60_M\\\\R_216_60_M_07_M1_G1_C0_08.jpg',\n 'C:\\\\workspace\\\\image\\\\bus\\\\R_216_60_M\\\\R_216_60_M_07_M1_G1_C0_09.jpg',\n 'C:\\\\workspace\\\\image\\\\bus\\\\R_216_60_M\\\\R_216_60_M_07_M1_G1_C0_10.jpg',\n 'C:\\\\workspace\\\\image\\\\bus\\\\R_216_60_M\\\\R_216_60_M_07_M1_G1_C0_11.jpg',\n 'C:\\\\workspace\\\\image\\\\bus\\\\R_216_60_M\\\\R_216_60_M_07_M1_G1_C0_12.jpg',\n 'C:\\\\workspace\\\\image\\\\bus\\\\R_216_60_M\\\\R_216_60_M_07_M1_G1_C0_13.jpg',\n 'C:\\\\workspace\\\\image\\\\bus\\\\R_216_60_M\\\\R_216_60_M_07_M1_G1_C0_14.jpg',\n 'C:\\\\workspace\\\\image\\\\bus\\\\R_216_60_M\\\\R_216_60_M_07_M1_G1_C0_15.jpg',\n 'C:\\\\workspace\\\\image\\\\bus\\\\R_216_60_M\\\\R_216_60_M_07_M1_G1_C0_16.jpg',\n 'C:\\\\workspace\\\\image\\\\bus\\\\R_216_60_M\\\\R_216_60_M_07_M1_G1_C0_17.jpg',\n 'C:\\\\workspace\\\\image\\\\bus\\\\R_216_60_M\\\\R_216_60_M_07_M1_G1_C0_18.jpg',\n 'C:\\\\workspace\\\\image\\\\bus\\\\R_216_60_M\\\\R_216_60_M_07_M1_G1_C0_19.jpg',\n 'C:\\\\workspace\\\\image\\\\bus\\\\R_216_60_M\\\\R_216_60_M_07_M1_G1_C0_20.jpg',\n 'C:\\\\workspace\\\\image\\\\bus\\\\R_216_60_M\\\\R_216_60_M_08_M1_G1_C0_01.jpg',\n 'C:\\\\workspace\\\\image\\\\bus\\\\R_216_60_M\\\\R_216_60_M_08_M1_G1_C0_02.jpg',\n 'C:\\\\workspace\\\\image\\\\bus\\\\R_216_60_M\\\\R_216_60_M_08_M1_G1_C0_03.jpg',\n 'C:\\\\workspace\\\\image\\\\bus\\\\R_216_60_M\\\\R_216_60_M_08_M1_G1_C0_04.jpg',\n 'C:\\\\workspace\\\\image\\\\bus\\\\R_216_60_M\\\\R_216_60_M_08_M1_G1_C0_05.jpg',\n 'C:\\\\workspace\\\\image\\\\bus\\\\R_216_60_M\\\\R_216_60_M_08_M1_G1_C0_06.jpg',\n 'C:\\\\workspace\\\\image\\\\bus\\\\R_216_60_M\\\\R_216_60_M_08_M1_G1_C0_07.jpg',\n 'C:\\\\workspace\\\\image\\\\bus\\\\R_216_60_M\\\\R_216_60_M_08_M1_G1_C0_08.jpg',\n 'C:\\\\workspace\\\\image\\\\bus\\\\R_216_60_M\\\\R_216_60_M_08_M1_G1_C0_09.jpg',\n 'C:\\\\workspace\\\\image\\\\bus\\\\R_216_60_M\\\\R_216_60_M_08_M1_G1_C0_10.jpg',\n 'C:\\\\workspace\\\\image\\\\bus\\\\R_216_60_M\\\\R_216_60_M_08_M1_G1_C0_11.jpg',\n 'C:\\\\workspace\\\\image\\\\bus\\\\R_216_60_M\\\\R_216_60_M_08_M1_G1_C0_12.jpg',\n 'C:\\\\workspace\\\\image\\\\bus\\\\R_216_60_M\\\\R_216_60_M_08_M1_G1_C0_13.jpg',\n 'C:\\\\workspace\\\\image\\\\bus\\\\R_216_60_M\\\\R_216_60_M_08_M1_G1_C0_14.jpg',\n 'C:\\\\workspace\\\\image\\\\bus\\\\R_216_60_M\\\\R_216_60_M_08_M1_G1_C0_15.jpg',\n 'C:\\\\workspace\\\\image\\\\bus\\\\R_216_60_M\\\\R_216_60_M_08_M1_G1_C0_16.jpg',\n 'C:\\\\workspace\\\\image\\\\bus\\\\R_216_60_M\\\\R_216_60_M_08_M1_G1_C0_17.jpg',\n 'C:\\\\workspace\\\\image\\\\bus\\\\R_216_60_M\\\\R_216_60_M_08_M1_G1_C0_18.jpg',\n 'C:\\\\workspace\\\\image\\\\bus\\\\R_216_60_M\\\\R_216_60_M_08_M1_G1_C0_19.jpg',\n 'C:\\\\workspace\\\\image\\\\bus\\\\R_216_60_M\\\\R_216_60_M_08_M1_G1_C0_20.jpg',\n 'C:\\\\workspace\\\\image\\\\bus\\\\R_216_60_M\\\\R_216_60_M_09_M1_G1_C0_01.jpg',\n 'C:\\\\workspace\\\\image\\\\bus\\\\R_216_60_M\\\\R_216_60_M_09_M1_G1_C0_02.jpg',\n 'C:\\\\workspace\\\\image\\\\bus\\\\R_216_60_M\\\\R_216_60_M_09_M1_G1_C0_03.jpg',\n 'C:\\\\workspace\\\\image\\\\bus\\\\R_216_60_M\\\\R_216_60_M_09_M1_G1_C0_04.jpg',\n 'C:\\\\workspace\\\\image\\\\bus\\\\R_216_60_M\\\\R_216_60_M_09_M1_G1_C0_05.jpg',\n 'C:\\\\workspace\\\\image\\\\bus\\\\R_216_60_M\\\\R_216_60_M_09_M1_G1_C0_06.jpg',\n 'C:\\\\workspace\\\\image\\\\bus\\\\R_216_60_M\\\\R_216_60_M_09_M1_G1_C0_07.jpg',\n 'C:\\\\workspace\\\\image\\\\bus\\\\R_216_60_M\\\\R_216_60_M_09_M1_G1_C0_08.jpg',\n 'C:\\\\workspace\\\\image\\\\bus\\\\R_216_60_M\\\\R_216_60_M_09_M1_G1_C0_09.jpg',\n 'C:\\\\workspace\\\\image\\\\bus\\\\R_216_60_M\\\\R_216_60_M_09_M1_G1_C0_10.jpg',\n 'C:\\\\workspace\\\\image\\\\bus\\\\R_216_60_M\\\\R_216_60_M_09_M1_G1_C0_11.jpg',\n 'C:\\\\workspace\\\\image\\\\bus\\\\R_216_60_M\\\\R_216_60_M_09_M1_G1_C0_12.jpg',\n 'C:\\\\workspace\\\\image\\\\bus\\\\R_216_60_M\\\\R_216_60_M_09_M1_G1_C0_13.jpg',\n 'C:\\\\workspace\\\\image\\\\bus\\\\R_216_60_M\\\\R_216_60_M_09_M1_G1_C0_14.jpg',\n 'C:\\\\workspace\\\\image\\\\bus\\\\R_216_60_M\\\\R_216_60_M_09_M1_G1_C0_15.jpg',\n 'C:\\\\workspace\\\\image\\\\bus\\\\R_216_60_M\\\\R_216_60_M_09_M1_G1_C0_16.jpg',\n 'C:\\\\workspace\\\\image\\\\bus\\\\R_216_60_M\\\\R_216_60_M_09_M1_G1_C0_17.jpg',\n 'C:\\\\workspace\\\\image\\\\bus\\\\R_216_60_M\\\\R_216_60_M_09_M1_G1_C0_18.jpg',\n 'C:\\\\workspace\\\\image\\\\bus\\\\R_216_60_M\\\\R_216_60_M_09_M1_G1_C0_19.jpg',\n 'C:\\\\workspace\\\\image\\\\bus\\\\R_216_60_M\\\\R_216_60_M_09_M1_G1_C0_20.jpg',\n 'C:\\\\workspace\\\\image\\\\bus\\\\R_216_60_M\\\\R_216_60_M_10_M1_G1_C0_01.jpg',\n 'C:\\\\workspace\\\\image\\\\bus\\\\R_216_60_M\\\\R_216_60_M_10_M1_G1_C0_02.jpg',\n 'C:\\\\workspace\\\\image\\\\bus\\\\R_216_60_M\\\\R_216_60_M_10_M1_G1_C0_03.jpg',\n 'C:\\\\workspace\\\\image\\\\bus\\\\R_216_60_M\\\\R_216_60_M_10_M1_G1_C0_04.jpg',\n 'C:\\\\workspace\\\\image\\\\bus\\\\R_216_60_M\\\\R_216_60_M_10_M1_G1_C0_05.jpg',\n 'C:\\\\workspace\\\\image\\\\bus\\\\R_216_60_M\\\\R_216_60_M_10_M1_G1_C0_06.jpg',\n 'C:\\\\workspace\\\\image\\\\bus\\\\R_216_60_M\\\\R_216_60_M_10_M1_G1_C0_07.jpg',\n 'C:\\\\workspace\\\\image\\\\bus\\\\R_216_60_M\\\\R_216_60_M_10_M1_G1_C0_08.jpg',\n 'C:\\\\workspace\\\\image\\\\bus\\\\R_216_60_M\\\\R_216_60_M_10_M1_G1_C0_09.jpg',\n 'C:\\\\workspace\\\\image\\\\bus\\\\R_216_60_M\\\\R_216_60_M_10_M1_G1_C0_10.jpg',\n 'C:\\\\workspace\\\\image\\\\bus\\\\R_216_60_M\\\\R_216_60_M_10_M1_G1_C0_11.jpg',\n 'C:\\\\workspace\\\\image\\\\bus\\\\R_216_60_M\\\\R_216_60_M_10_M1_G1_C0_12.jpg',\n 'C:\\\\workspace\\\\image\\\\bus\\\\R_216_60_M\\\\R_216_60_M_10_M1_G1_C0_13.jpg',\n 'C:\\\\workspace\\\\image\\\\bus\\\\R_216_60_M\\\\R_216_60_M_10_M1_G1_C0_14.jpg',\n 'C:\\\\workspace\\\\image\\\\bus\\\\R_216_60_M\\\\R_216_60_M_10_M1_G1_C0_15.jpg',\n 'C:\\\\workspace\\\\image\\\\bus\\\\R_216_60_M\\\\R_216_60_M_10_M1_G1_C0_16.jpg',\n 'C:\\\\workspace\\\\image\\\\bus\\\\R_216_60_M\\\\R_216_60_M_10_M1_G1_C0_17.jpg',\n 'C:\\\\workspace\\\\image\\\\bus\\\\R_216_60_M\\\\R_216_60_M_10_M1_G1_C0_18.jpg',\n 'C:\\\\workspace\\\\image\\\\bus\\\\R_216_60_M\\\\R_216_60_M_10_M1_G1_C0_19.jpg',\n 'C:\\\\workspace\\\\image\\\\bus\\\\R_216_60_M\\\\R_216_60_M_10_M1_G1_C0_20.jpg',\n 'C:\\\\workspace\\\\image\\\\bus\\\\R_216_60_M\\\\R_216_60_M_11_M1_G1_C0_01.jpg',\n 'C:\\\\workspace\\\\image\\\\bus\\\\R_216_60_M\\\\R_216_60_M_11_M1_G1_C0_02.jpg',\n 'C:\\\\workspace\\\\image\\\\bus\\\\R_216_60_M\\\\R_216_60_M_11_M1_G1_C0_03.jpg',\n 'C:\\\\workspace\\\\image\\\\bus\\\\R_216_60_M\\\\R_216_60_M_11_M1_G1_C0_04.jpg',\n 'C:\\\\workspace\\\\image\\\\bus\\\\R_216_60_M\\\\R_216_60_M_11_M1_G1_C0_05.jpg',\n 'C:\\\\workspace\\\\image\\\\bus\\\\R_216_60_M\\\\R_216_60_M_11_M1_G1_C0_06.jpg',\n 'C:\\\\workspace\\\\image\\\\bus\\\\R_216_60_M\\\\R_216_60_M_11_M1_G1_C0_07.jpg',\n 'C:\\\\workspace\\\\image\\\\bus\\\\R_216_60_M\\\\R_216_60_M_11_M1_G1_C0_08.jpg',\n 'C:\\\\workspace\\\\image\\\\bus\\\\R_216_60_M\\\\R_216_60_M_11_M1_G1_C0_09.jpg',\n 'C:\\\\workspace\\\\image\\\\bus\\\\R_216_60_M\\\\R_216_60_M_11_M1_G1_C0_10.jpg',\n 'C:\\\\workspace\\\\image\\\\bus\\\\R_216_60_M\\\\R_216_60_M_11_M1_G1_C0_11.jpg',\n 'C:\\\\workspace\\\\image\\\\bus\\\\R_216_60_M\\\\R_216_60_M_11_M1_G1_C0_12.jpg',\n 'C:\\\\workspace\\\\image\\\\bus\\\\R_216_60_M\\\\R_216_60_M_11_M1_G1_C0_13.jpg',\n 'C:\\\\workspace\\\\image\\\\bus\\\\R_216_60_M\\\\R_216_60_M_11_M1_G1_C0_14.jpg',\n 'C:\\\\workspace\\\\image\\\\bus\\\\R_216_60_M\\\\R_216_60_M_11_M1_G1_C0_15.jpg',\n 'C:\\\\workspace\\\\image\\\\bus\\\\R_216_60_M\\\\R_216_60_M_11_M1_G1_C0_16.jpg',\n 'C:\\\\workspace\\\\image\\\\bus\\\\R_216_60_M\\\\R_216_60_M_11_M1_G1_C0_17.jpg',\n 'C:\\\\workspace\\\\image\\\\bus\\\\R_216_60_M\\\\R_216_60_M_11_M1_G1_C0_18.jpg',\n 'C:\\\\workspace\\\\image\\\\bus\\\\R_216_60_M\\\\R_216_60_M_11_M1_G1_C0_19.jpg',\n 'C:\\\\workspace\\\\image\\\\bus\\\\R_216_60_M\\\\R_216_60_M_11_M1_G1_C0_20.jpg',\n 'C:\\\\workspace\\\\image\\\\bus\\\\R_216_60_M\\\\R_216_60_M_12_M1_G1_C0_01.jpg',\n 'C:\\\\workspace\\\\image\\\\bus\\\\R_216_60_M\\\\R_216_60_M_12_M1_G1_C0_02.jpg',\n 'C:\\\\workspace\\\\image\\\\bus\\\\R_216_60_M\\\\R_216_60_M_12_M1_G1_C0_03.jpg',\n 'C:\\\\workspace\\\\image\\\\bus\\\\R_216_60_M\\\\R_216_60_M_12_M1_G1_C0_04.jpg',\n 'C:\\\\workspace\\\\image\\\\bus\\\\R_216_60_M\\\\R_216_60_M_12_M1_G1_C0_05.jpg',\n 'C:\\\\workspace\\\\image\\\\bus\\\\R_216_60_M\\\\R_216_60_M_12_M1_G1_C0_06.jpg',\n 'C:\\\\workspace\\\\image\\\\bus\\\\R_216_60_M\\\\R_216_60_M_12_M1_G1_C0_07.jpg',\n 'C:\\\\workspace\\\\image\\\\bus\\\\R_216_60_M\\\\R_216_60_M_12_M1_G1_C0_08.jpg',\n 'C:\\\\workspace\\\\image\\\\bus\\\\R_216_60_M\\\\R_216_60_M_12_M1_G1_C0_09.jpg',\n 'C:\\\\workspace\\\\image\\\\bus\\\\R_216_60_M\\\\R_216_60_M_12_M1_G1_C0_10.jpg',\n 'C:\\\\workspace\\\\image\\\\bus\\\\R_216_60_M\\\\R_216_60_M_12_M1_G1_C0_11.jpg',\n 'C:\\\\workspace\\\\image\\\\bus\\\\R_216_60_M\\\\R_216_60_M_12_M1_G1_C0_12.jpg',\n 'C:\\\\workspace\\\\image\\\\bus\\\\R_216_60_M\\\\R_216_60_M_12_M1_G1_C0_13.jpg',\n 'C:\\\\workspace\\\\image\\\\bus\\\\R_216_60_M\\\\R_216_60_M_12_M1_G1_C0_14.jpg',\n 'C:\\\\workspace\\\\image\\\\bus\\\\R_216_60_M\\\\R_216_60_M_12_M1_G1_C0_15.jpg',\n 'C:\\\\workspace\\\\image\\\\bus\\\\R_216_60_M\\\\R_216_60_M_12_M1_G1_C0_16.jpg',\n 'C:\\\\workspace\\\\image\\\\bus\\\\R_216_60_M\\\\R_216_60_M_12_M1_G1_C0_17.jpg',\n 'C:\\\\workspace\\\\image\\\\bus\\\\R_216_60_M\\\\R_216_60_M_12_M1_G1_C0_18.jpg',\n 'C:\\\\workspace\\\\image\\\\bus\\\\R_216_60_M\\\\R_216_60_M_12_M1_G1_C0_19.jpg',\n 'C:\\\\workspace\\\\image\\\\bus\\\\R_216_60_M\\\\R_216_60_M_12_M1_G1_C0_20.jpg',\n 'C:\\\\workspace\\\\image\\\\bus\\\\R_217_40_M\\\\R_217_40_M_01_M0_G1_C0_01.jpg',\n 'C:\\\\workspace\\\\image\\\\bus\\\\R_217_40_M\\\\R_217_40_M_01_M0_G1_C0_02.jpg',\n 'C:\\\\workspace\\\\image\\\\bus\\\\R_217_40_M\\\\R_217_40_M_01_M0_G1_C0_03.jpg',\n 'C:\\\\workspace\\\\image\\\\bus\\\\R_217_40_M\\\\R_217_40_M_01_M0_G1_C0_04.jpg',\n 'C:\\\\workspace\\\\image\\\\bus\\\\R_217_40_M\\\\R_217_40_M_01_M0_G1_C0_05.jpg',\n 'C:\\\\workspace\\\\image\\\\bus\\\\R_217_40_M\\\\R_217_40_M_01_M0_G1_C0_06.jpg',\n 'C:\\\\workspace\\\\image\\\\bus\\\\R_217_40_M\\\\R_217_40_M_01_M0_G1_C0_07.jpg',\n 'C:\\\\workspace\\\\image\\\\bus\\\\R_217_40_M\\\\R_217_40_M_01_M0_G1_C0_08.jpg',\n 'C:\\\\workspace\\\\image\\\\bus\\\\R_217_40_M\\\\R_217_40_M_01_M0_G1_C0_09.jpg',\n 'C:\\\\workspace\\\\image\\\\bus\\\\R_217_40_M\\\\R_217_40_M_01_M0_G1_C0_10.jpg',\n 'C:\\\\workspace\\\\image\\\\bus\\\\R_217_40_M\\\\R_217_40_M_01_M0_G1_C0_11.jpg',\n 'C:\\\\workspace\\\\image\\\\bus\\\\R_217_40_M\\\\R_217_40_M_01_M0_G1_C0_12.jpg',\n 'C:\\\\workspace\\\\image\\\\bus\\\\R_217_40_M\\\\R_217_40_M_01_M0_G1_C0_13.jpg',\n 'C:\\\\workspace\\\\image\\\\bus\\\\R_217_40_M\\\\R_217_40_M_01_M0_G1_C0_14.jpg',\n 'C:\\\\workspace\\\\image\\\\bus\\\\R_217_40_M\\\\R_217_40_M_01_M0_G1_C0_15.jpg',\n 'C:\\\\workspace\\\\image\\\\bus\\\\R_217_40_M\\\\R_217_40_M_01_M0_G1_C0_16.jpg',\n 'C:\\\\workspace\\\\image\\\\bus\\\\R_217_40_M\\\\R_217_40_M_01_M0_G1_C0_17.jpg',\n 'C:\\\\workspace\\\\image\\\\bus\\\\R_217_40_M\\\\R_217_40_M_01_M0_G1_C0_18.jpg',\n 'C:\\\\workspace\\\\image\\\\bus\\\\R_217_40_M\\\\R_217_40_M_01_M0_G1_C0_19.jpg',\n 'C:\\\\workspace\\\\image\\\\bus\\\\R_217_40_M\\\\R_217_40_M_01_M0_G1_C0_20.jpg',\n 'C:\\\\workspace\\\\image\\\\bus\\\\R_217_40_M\\\\R_217_40_M_02_M0_G1_C0_01.jpg',\n 'C:\\\\workspace\\\\image\\\\bus\\\\R_217_40_M\\\\R_217_40_M_02_M0_G1_C0_02.jpg',\n 'C:\\\\workspace\\\\image\\\\bus\\\\R_217_40_M\\\\R_217_40_M_02_M0_G1_C0_03.jpg',\n 'C:\\\\workspace\\\\image\\\\bus\\\\R_217_40_M\\\\R_217_40_M_02_M0_G1_C0_04.jpg',\n 'C:\\\\workspace\\\\image\\\\bus\\\\R_217_40_M\\\\R_217_40_M_02_M0_G1_C0_05.jpg',\n 'C:\\\\workspace\\\\image\\\\bus\\\\R_217_40_M\\\\R_217_40_M_02_M0_G1_C0_06.jpg',\n 'C:\\\\workspace\\\\image\\\\bus\\\\R_217_40_M\\\\R_217_40_M_02_M0_G1_C0_07.jpg',\n 'C:\\\\workspace\\\\image\\\\bus\\\\R_217_40_M\\\\R_217_40_M_02_M0_G1_C0_08.jpg',\n 'C:\\\\workspace\\\\image\\\\bus\\\\R_217_40_M\\\\R_217_40_M_02_M0_G1_C0_09.jpg',\n 'C:\\\\workspace\\\\image\\\\bus\\\\R_217_40_M\\\\R_217_40_M_02_M0_G1_C0_10.jpg',\n 'C:\\\\workspace\\\\image\\\\bus\\\\R_217_40_M\\\\R_217_40_M_02_M0_G1_C0_11.jpg',\n 'C:\\\\workspace\\\\image\\\\bus\\\\R_217_40_M\\\\R_217_40_M_02_M0_G1_C0_12.jpg',\n 'C:\\\\workspace\\\\image\\\\bus\\\\R_217_40_M\\\\R_217_40_M_02_M0_G1_C0_13.jpg',\n 'C:\\\\workspace\\\\image\\\\bus\\\\R_217_40_M\\\\R_217_40_M_02_M0_G1_C0_14.jpg',\n 'C:\\\\workspace\\\\image\\\\bus\\\\R_217_40_M\\\\R_217_40_M_02_M0_G1_C0_15.jpg',\n 'C:\\\\workspace\\\\image\\\\bus\\\\R_217_40_M\\\\R_217_40_M_02_M0_G1_C0_16.jpg',\n 'C:\\\\workspace\\\\image\\\\bus\\\\R_217_40_M\\\\R_217_40_M_02_M0_G1_C0_17.jpg',\n 'C:\\\\workspace\\\\image\\\\bus\\\\R_217_40_M\\\\R_217_40_M_02_M0_G1_C0_18.jpg',\n 'C:\\\\workspace\\\\image\\\\bus\\\\R_217_40_M\\\\R_217_40_M_02_M0_G1_C0_19.jpg',\n 'C:\\\\workspace\\\\image\\\\bus\\\\R_217_40_M\\\\R_217_40_M_02_M0_G1_C0_20.jpg',\n 'C:\\\\workspace\\\\image\\\\bus\\\\R_217_40_M\\\\R_217_40_M_03_M1_G1_C0_01.jpg',\n 'C:\\\\workspace\\\\image\\\\bus\\\\R_217_40_M\\\\R_217_40_M_03_M1_G1_C0_02.jpg',\n 'C:\\\\workspace\\\\image\\\\bus\\\\R_217_40_M\\\\R_217_40_M_03_M1_G1_C0_03.jpg',\n 'C:\\\\workspace\\\\image\\\\bus\\\\R_217_40_M\\\\R_217_40_M_03_M1_G1_C0_04.jpg',\n 'C:\\\\workspace\\\\image\\\\bus\\\\R_217_40_M\\\\R_217_40_M_03_M1_G1_C0_05.jpg',\n 'C:\\\\workspace\\\\image\\\\bus\\\\R_217_40_M\\\\R_217_40_M_03_M1_G1_C0_06.jpg',\n 'C:\\\\workspace\\\\image\\\\bus\\\\R_217_40_M\\\\R_217_40_M_03_M1_G1_C0_07.jpg',\n 'C:\\\\workspace\\\\image\\\\bus\\\\R_217_40_M\\\\R_217_40_M_03_M1_G1_C0_08.jpg',\n 'C:\\\\workspace\\\\image\\\\bus\\\\R_217_40_M\\\\R_217_40_M_03_M1_G1_C0_09.jpg',\n 'C:\\\\workspace\\\\image\\\\bus\\\\R_217_40_M\\\\R_217_40_M_03_M1_G1_C0_10.jpg',\n 'C:\\\\workspace\\\\image\\\\bus\\\\R_217_40_M\\\\R_217_40_M_03_M1_G1_C0_11.jpg',\n 'C:\\\\workspace\\\\image\\\\bus\\\\R_217_40_M\\\\R_217_40_M_03_M1_G1_C0_12.jpg',\n 'C:\\\\workspace\\\\image\\\\bus\\\\R_217_40_M\\\\R_217_40_M_03_M1_G1_C0_13.jpg',\n 'C:\\\\workspace\\\\image\\\\bus\\\\R_217_40_M\\\\R_217_40_M_03_M1_G1_C0_14.jpg',\n 'C:\\\\workspace\\\\image\\\\bus\\\\R_217_40_M\\\\R_217_40_M_03_M1_G1_C0_15.jpg',\n 'C:\\\\workspace\\\\image\\\\bus\\\\R_217_40_M\\\\R_217_40_M_03_M1_G1_C0_16.jpg',\n 'C:\\\\workspace\\\\image\\\\bus\\\\R_217_40_M\\\\R_217_40_M_03_M1_G1_C0_17.jpg',\n 'C:\\\\workspace\\\\image\\\\bus\\\\R_217_40_M\\\\R_217_40_M_03_M1_G1_C0_18.jpg',\n 'C:\\\\workspace\\\\image\\\\bus\\\\R_217_40_M\\\\R_217_40_M_03_M1_G1_C0_19.jpg',\n 'C:\\\\workspace\\\\image\\\\bus\\\\R_217_40_M\\\\R_217_40_M_03_M1_G1_C0_20.jpg',\n 'C:\\\\workspace\\\\image\\\\bus\\\\R_217_40_M\\\\R_217_40_M_04_M1_G1_C0_01.jpg',\n 'C:\\\\workspace\\\\image\\\\bus\\\\R_217_40_M\\\\R_217_40_M_04_M1_G1_C0_02.jpg',\n 'C:\\\\workspace\\\\image\\\\bus\\\\R_217_40_M\\\\R_217_40_M_04_M1_G1_C0_03.jpg',\n 'C:\\\\workspace\\\\image\\\\bus\\\\R_217_40_M\\\\R_217_40_M_04_M1_G1_C0_04.jpg',\n 'C:\\\\workspace\\\\image\\\\bus\\\\R_217_40_M\\\\R_217_40_M_04_M1_G1_C0_05.jpg',\n 'C:\\\\workspace\\\\image\\\\bus\\\\R_217_40_M\\\\R_217_40_M_04_M1_G1_C0_06.jpg',\n 'C:\\\\workspace\\\\image\\\\bus\\\\R_217_40_M\\\\R_217_40_M_04_M1_G1_C0_07.jpg',\n 'C:\\\\workspace\\\\image\\\\bus\\\\R_217_40_M\\\\R_217_40_M_04_M1_G1_C0_08.jpg',\n 'C:\\\\workspace\\\\image\\\\bus\\\\R_217_40_M\\\\R_217_40_M_04_M1_G1_C0_09.jpg',\n 'C:\\\\workspace\\\\image\\\\bus\\\\R_217_40_M\\\\R_217_40_M_04_M1_G1_C0_10.jpg',\n 'C:\\\\workspace\\\\image\\\\bus\\\\R_217_40_M\\\\R_217_40_M_04_M1_G1_C0_11.jpg',\n 'C:\\\\workspace\\\\image\\\\bus\\\\R_217_40_M\\\\R_217_40_M_04_M1_G1_C0_12.jpg',\n 'C:\\\\workspace\\\\image\\\\bus\\\\R_217_40_M\\\\R_217_40_M_04_M1_G1_C0_13.jpg',\n 'C:\\\\workspace\\\\image\\\\bus\\\\R_217_40_M\\\\R_217_40_M_04_M1_G1_C0_14.jpg',\n 'C:\\\\workspace\\\\image\\\\bus\\\\R_217_40_M\\\\R_217_40_M_04_M1_G1_C0_15.jpg',\n 'C:\\\\workspace\\\\image\\\\bus\\\\R_217_40_M\\\\R_217_40_M_04_M1_G1_C0_16.jpg',\n 'C:\\\\workspace\\\\image\\\\bus\\\\R_217_40_M\\\\R_217_40_M_04_M1_G1_C0_17.jpg',\n 'C:\\\\workspace\\\\image\\\\bus\\\\R_217_40_M\\\\R_217_40_M_04_M1_G1_C0_18.jpg',\n 'C:\\\\workspace\\\\image\\\\bus\\\\R_217_40_M\\\\R_217_40_M_04_M1_G1_C0_19.jpg',\n 'C:\\\\workspace\\\\image\\\\bus\\\\R_217_40_M\\\\R_217_40_M_04_M1_G1_C0_20.jpg',\n 'C:\\\\workspace\\\\image\\\\bus\\\\R_217_40_M\\\\R_217_40_M_05_M1_G1_C0_01.jpg',\n 'C:\\\\workspace\\\\image\\\\bus\\\\R_217_40_M\\\\R_217_40_M_05_M1_G1_C0_02.jpg',\n 'C:\\\\workspace\\\\image\\\\bus\\\\R_217_40_M\\\\R_217_40_M_05_M1_G1_C0_03.jpg',\n 'C:\\\\workspace\\\\image\\\\bus\\\\R_217_40_M\\\\R_217_40_M_05_M1_G1_C0_04.jpg',\n 'C:\\\\workspace\\\\image\\\\bus\\\\R_217_40_M\\\\R_217_40_M_05_M1_G1_C0_05.jpg',\n 'C:\\\\workspace\\\\image\\\\bus\\\\R_217_40_M\\\\R_217_40_M_05_M1_G1_C0_06.jpg',\n 'C:\\\\workspace\\\\image\\\\bus\\\\R_217_40_M\\\\R_217_40_M_05_M1_G1_C0_07.jpg',\n 'C:\\\\workspace\\\\image\\\\bus\\\\R_217_40_M\\\\R_217_40_M_05_M1_G1_C0_08.jpg',\n 'C:\\\\workspace\\\\image\\\\bus\\\\R_217_40_M\\\\R_217_40_M_05_M1_G1_C0_09.jpg',\n 'C:\\\\workspace\\\\image\\\\bus\\\\R_217_40_M\\\\R_217_40_M_05_M1_G1_C0_10.jpg',\n 'C:\\\\workspace\\\\image\\\\bus\\\\R_217_40_M\\\\R_217_40_M_05_M1_G1_C0_11.jpg',\n 'C:\\\\workspace\\\\image\\\\bus\\\\R_217_40_M\\\\R_217_40_M_05_M1_G1_C0_12.jpg',\n 'C:\\\\workspace\\\\image\\\\bus\\\\R_217_40_M\\\\R_217_40_M_05_M1_G1_C0_13.jpg',\n 'C:\\\\workspace\\\\image\\\\bus\\\\R_217_40_M\\\\R_217_40_M_05_M1_G1_C0_14.jpg',\n 'C:\\\\workspace\\\\image\\\\bus\\\\R_217_40_M\\\\R_217_40_M_05_M1_G1_C0_15.jpg',\n 'C:\\\\workspace\\\\image\\\\bus\\\\R_217_40_M\\\\R_217_40_M_05_M1_G1_C0_16.jpg',\n 'C:\\\\workspace\\\\image\\\\bus\\\\R_217_40_M\\\\R_217_40_M_05_M1_G1_C0_17.jpg',\n 'C:\\\\workspace\\\\image\\\\bus\\\\R_217_40_M\\\\R_217_40_M_05_M1_G1_C0_18.jpg',\n 'C:\\\\workspace\\\\image\\\\bus\\\\R_217_40_M\\\\R_217_40_M_05_M1_G1_C0_19.jpg',\n 'C:\\\\workspace\\\\image\\\\bus\\\\R_217_40_M\\\\R_217_40_M_05_M1_G1_C0_20.jpg',\n 'C:\\\\workspace\\\\image\\\\bus\\\\R_217_40_M\\\\R_217_40_M_06_M1_G1_C0_01.jpg',\n 'C:\\\\workspace\\\\image\\\\bus\\\\R_217_40_M\\\\R_217_40_M_06_M1_G1_C0_02.jpg',\n 'C:\\\\workspace\\\\image\\\\bus\\\\R_217_40_M\\\\R_217_40_M_06_M1_G1_C0_03.jpg',\n 'C:\\\\workspace\\\\image\\\\bus\\\\R_217_40_M\\\\R_217_40_M_06_M1_G1_C0_04.jpg',\n 'C:\\\\workspace\\\\image\\\\bus\\\\R_217_40_M\\\\R_217_40_M_06_M1_G1_C0_05.jpg',\n 'C:\\\\workspace\\\\image\\\\bus\\\\R_217_40_M\\\\R_217_40_M_06_M1_G1_C0_06.jpg',\n 'C:\\\\workspace\\\\image\\\\bus\\\\R_217_40_M\\\\R_217_40_M_06_M1_G1_C0_07.jpg',\n 'C:\\\\workspace\\\\image\\\\bus\\\\R_217_40_M\\\\R_217_40_M_06_M1_G1_C0_08.jpg',\n 'C:\\\\workspace\\\\image\\\\bus\\\\R_217_40_M\\\\R_217_40_M_06_M1_G1_C0_09.jpg',\n 'C:\\\\workspace\\\\image\\\\bus\\\\R_217_40_M\\\\R_217_40_M_06_M1_G1_C0_10.jpg',\n 'C:\\\\workspace\\\\image\\\\bus\\\\R_217_40_M\\\\R_217_40_M_06_M1_G1_C0_11.jpg',\n 'C:\\\\workspace\\\\image\\\\bus\\\\R_217_40_M\\\\R_217_40_M_06_M1_G1_C0_12.jpg',\n 'C:\\\\workspace\\\\image\\\\bus\\\\R_217_40_M\\\\R_217_40_M_06_M1_G1_C0_13.jpg',\n 'C:\\\\workspace\\\\image\\\\bus\\\\R_217_40_M\\\\R_217_40_M_06_M1_G1_C0_14.jpg',\n 'C:\\\\workspace\\\\image\\\\bus\\\\R_217_40_M\\\\R_217_40_M_06_M1_G1_C0_15.jpg',\n 'C:\\\\workspace\\\\image\\\\bus\\\\R_217_40_M\\\\R_217_40_M_06_M1_G1_C0_16.jpg',\n 'C:\\\\workspace\\\\image\\\\bus\\\\R_217_40_M\\\\R_217_40_M_06_M1_G1_C0_17.jpg',\n 'C:\\\\workspace\\\\image\\\\bus\\\\R_217_40_M\\\\R_217_40_M_06_M1_G1_C0_18.jpg',\n 'C:\\\\workspace\\\\image\\\\bus\\\\R_217_40_M\\\\R_217_40_M_06_M1_G1_C0_19.jpg',\n 'C:\\\\workspace\\\\image\\\\bus\\\\R_217_40_M\\\\R_217_40_M_06_M1_G1_C0_20.jpg',\n 'C:\\\\workspace\\\\image\\\\bus\\\\R_217_40_M\\\\R_217_40_M_07_M1_G1_C0_01.jpg',\n 'C:\\\\workspace\\\\image\\\\bus\\\\R_217_40_M\\\\R_217_40_M_07_M1_G1_C0_02.jpg',\n 'C:\\\\workspace\\\\image\\\\bus\\\\R_217_40_M\\\\R_217_40_M_07_M1_G1_C0_03.jpg',\n 'C:\\\\workspace\\\\image\\\\bus\\\\R_217_40_M\\\\R_217_40_M_07_M1_G1_C0_04.jpg',\n 'C:\\\\workspace\\\\image\\\\bus\\\\R_217_40_M\\\\R_217_40_M_07_M1_G1_C0_05.jpg',\n 'C:\\\\workspace\\\\image\\\\bus\\\\R_217_40_M\\\\R_217_40_M_07_M1_G1_C0_06.jpg',\n 'C:\\\\workspace\\\\image\\\\bus\\\\R_217_40_M\\\\R_217_40_M_07_M1_G1_C0_07.jpg',\n 'C:\\\\workspace\\\\image\\\\bus\\\\R_217_40_M\\\\R_217_40_M_07_M1_G1_C0_08.jpg',\n 'C:\\\\workspace\\\\image\\\\bus\\\\R_217_40_M\\\\R_217_40_M_07_M1_G1_C0_09.jpg',\n 'C:\\\\workspace\\\\image\\\\bus\\\\R_217_40_M\\\\R_217_40_M_07_M1_G1_C0_10.jpg',\n 'C:\\\\workspace\\\\image\\\\bus\\\\R_217_40_M\\\\R_217_40_M_07_M1_G1_C0_11.jpg',\n 'C:\\\\workspace\\\\image\\\\bus\\\\R_217_40_M\\\\R_217_40_M_07_M1_G1_C0_12.jpg',\n 'C:\\\\workspace\\\\image\\\\bus\\\\R_217_40_M\\\\R_217_40_M_07_M1_G1_C0_13.jpg',\n 'C:\\\\workspace\\\\image\\\\bus\\\\R_217_40_M\\\\R_217_40_M_07_M1_G1_C0_14.jpg',\n 'C:\\\\workspace\\\\image\\\\bus\\\\R_217_40_M\\\\R_217_40_M_07_M1_G1_C0_15.jpg',\n 'C:\\\\workspace\\\\image\\\\bus\\\\R_217_40_M\\\\R_217_40_M_07_M1_G1_C0_16.jpg',\n 'C:\\\\workspace\\\\image\\\\bus\\\\R_217_40_M\\\\R_217_40_M_07_M1_G1_C0_17.jpg',\n 'C:\\\\workspace\\\\image\\\\bus\\\\R_217_40_M\\\\R_217_40_M_07_M1_G1_C0_18.jpg',\n 'C:\\\\workspace\\\\image\\\\bus\\\\R_217_40_M\\\\R_217_40_M_07_M1_G1_C0_19.jpg',\n 'C:\\\\workspace\\\\image\\\\bus\\\\R_217_40_M\\\\R_217_40_M_07_M1_G1_C0_20.jpg',\n 'C:\\\\workspace\\\\image\\\\bus\\\\R_217_40_M\\\\R_217_40_M_08_M1_G1_C0_01.jpg',\n 'C:\\\\workspace\\\\image\\\\bus\\\\R_217_40_M\\\\R_217_40_M_08_M1_G1_C0_02.jpg',\n 'C:\\\\workspace\\\\image\\\\bus\\\\R_217_40_M\\\\R_217_40_M_08_M1_G1_C0_03.jpg',\n 'C:\\\\workspace\\\\image\\\\bus\\\\R_217_40_M\\\\R_217_40_M_08_M1_G1_C0_04.jpg',\n 'C:\\\\workspace\\\\image\\\\bus\\\\R_217_40_M\\\\R_217_40_M_08_M1_G1_C0_05.jpg',\n 'C:\\\\workspace\\\\image\\\\bus\\\\R_217_40_M\\\\R_217_40_M_08_M1_G1_C0_06.jpg',\n 'C:\\\\workspace\\\\image\\\\bus\\\\R_217_40_M\\\\R_217_40_M_08_M1_G1_C0_07.jpg',\n 'C:\\\\workspace\\\\image\\\\bus\\\\R_217_40_M\\\\R_217_40_M_08_M1_G1_C0_08.jpg',\n 'C:\\\\workspace\\\\image\\\\bus\\\\R_217_40_M\\\\R_217_40_M_08_M1_G1_C0_09.jpg',\n 'C:\\\\workspace\\\\image\\\\bus\\\\R_217_40_M\\\\R_217_40_M_08_M1_G1_C0_10.jpg',\n 'C:\\\\workspace\\\\image\\\\bus\\\\R_217_40_M\\\\R_217_40_M_08_M1_G1_C0_11.jpg',\n 'C:\\\\workspace\\\\image\\\\bus\\\\R_217_40_M\\\\R_217_40_M_08_M1_G1_C0_12.jpg',\n 'C:\\\\workspace\\\\image\\\\bus\\\\R_217_40_M\\\\R_217_40_M_08_M1_G1_C0_13.jpg',\n 'C:\\\\workspace\\\\image\\\\bus\\\\R_217_40_M\\\\R_217_40_M_08_M1_G1_C0_14.jpg',\n 'C:\\\\workspace\\\\image\\\\bus\\\\R_217_40_M\\\\R_217_40_M_08_M1_G1_C0_15.jpg',\n 'C:\\\\workspace\\\\image\\\\bus\\\\R_217_40_M\\\\R_217_40_M_08_M1_G1_C0_16.jpg',\n 'C:\\\\workspace\\\\image\\\\bus\\\\R_217_40_M\\\\R_217_40_M_08_M1_G1_C0_17.jpg',\n 'C:\\\\workspace\\\\image\\\\bus\\\\R_217_40_M\\\\R_217_40_M_08_M1_G1_C0_18.jpg',\n 'C:\\\\workspace\\\\image\\\\bus\\\\R_217_40_M\\\\R_217_40_M_08_M1_G1_C0_19.jpg',\n 'C:\\\\workspace\\\\image\\\\bus\\\\R_217_40_M\\\\R_217_40_M_08_M1_G1_C0_20.jpg',\n 'C:\\\\workspace\\\\image\\\\bus\\\\R_217_40_M\\\\R_217_40_M_09_M1_G1_C0_01.jpg',\n 'C:\\\\workspace\\\\image\\\\bus\\\\R_217_40_M\\\\R_217_40_M_09_M1_G1_C0_02.jpg',\n 'C:\\\\workspace\\\\image\\\\bus\\\\R_217_40_M\\\\R_217_40_M_09_M1_G1_C0_03.jpg',\n 'C:\\\\workspace\\\\image\\\\bus\\\\R_217_40_M\\\\R_217_40_M_09_M1_G1_C0_04.jpg',\n 'C:\\\\workspace\\\\image\\\\bus\\\\R_217_40_M\\\\R_217_40_M_09_M1_G1_C0_05.jpg',\n 'C:\\\\workspace\\\\image\\\\bus\\\\R_217_40_M\\\\R_217_40_M_09_M1_G1_C0_06.jpg',\n 'C:\\\\workspace\\\\image\\\\bus\\\\R_217_40_M\\\\R_217_40_M_09_M1_G1_C0_07.jpg',\n 'C:\\\\workspace\\\\image\\\\bus\\\\R_217_40_M\\\\R_217_40_M_09_M1_G1_C0_08.jpg',\n 'C:\\\\workspace\\\\image\\\\bus\\\\R_217_40_M\\\\R_217_40_M_09_M1_G1_C0_09.jpg',\n 'C:\\\\workspace\\\\image\\\\bus\\\\R_217_40_M\\\\R_217_40_M_09_M1_G1_C0_10.jpg',\n 'C:\\\\workspace\\\\image\\\\bus\\\\R_217_40_M\\\\R_217_40_M_09_M1_G1_C0_11.jpg',\n 'C:\\\\workspace\\\\image\\\\bus\\\\R_217_40_M\\\\R_217_40_M_09_M1_G1_C0_12.jpg',\n 'C:\\\\workspace\\\\image\\\\bus\\\\R_217_40_M\\\\R_217_40_M_09_M1_G1_C0_13.jpg',\n 'C:\\\\workspace\\\\image\\\\bus\\\\R_217_40_M\\\\R_217_40_M_09_M1_G1_C0_14.jpg',\n 'C:\\\\workspace\\\\image\\\\bus\\\\R_217_40_M\\\\R_217_40_M_09_M1_G1_C0_15.jpg',\n 'C:\\\\workspace\\\\image\\\\bus\\\\R_217_40_M\\\\R_217_40_M_09_M1_G1_C0_16.jpg',\n 'C:\\\\workspace\\\\image\\\\bus\\\\R_217_40_M\\\\R_217_40_M_09_M1_G1_C0_17.jpg',\n 'C:\\\\workspace\\\\image\\\\bus\\\\R_217_40_M\\\\R_217_40_M_09_M1_G1_C0_18.jpg',\n 'C:\\\\workspace\\\\image\\\\bus\\\\R_217_40_M\\\\R_217_40_M_09_M1_G1_C0_19.jpg',\n 'C:\\\\workspace\\\\image\\\\bus\\\\R_217_40_M\\\\R_217_40_M_09_M1_G1_C0_20.jpg',\n 'C:\\\\workspace\\\\image\\\\bus\\\\R_217_40_M\\\\R_217_40_M_10_M1_G1_C0_01.jpg',\n 'C:\\\\workspace\\\\image\\\\bus\\\\R_217_40_M\\\\R_217_40_M_10_M1_G1_C0_02.jpg',\n 'C:\\\\workspace\\\\image\\\\bus\\\\R_217_40_M\\\\R_217_40_M_10_M1_G1_C0_03.jpg',\n 'C:\\\\workspace\\\\image\\\\bus\\\\R_217_40_M\\\\R_217_40_M_10_M1_G1_C0_04.jpg',\n 'C:\\\\workspace\\\\image\\\\bus\\\\R_217_40_M\\\\R_217_40_M_10_M1_G1_C0_05.jpg',\n 'C:\\\\workspace\\\\image\\\\bus\\\\R_217_40_M\\\\R_217_40_M_10_M1_G1_C0_06.jpg',\n 'C:\\\\workspace\\\\image\\\\bus\\\\R_217_40_M\\\\R_217_40_M_10_M1_G1_C0_07.jpg',\n 'C:\\\\workspace\\\\image\\\\bus\\\\R_217_40_M\\\\R_217_40_M_10_M1_G1_C0_08.jpg',\n 'C:\\\\workspace\\\\image\\\\bus\\\\R_217_40_M\\\\R_217_40_M_10_M1_G1_C0_09.jpg',\n 'C:\\\\workspace\\\\image\\\\bus\\\\R_217_40_M\\\\R_217_40_M_10_M1_G1_C0_10.jpg',\n 'C:\\\\workspace\\\\image\\\\bus\\\\R_217_40_M\\\\R_217_40_M_10_M1_G1_C0_11.jpg',\n 'C:\\\\workspace\\\\image\\\\bus\\\\R_217_40_M\\\\R_217_40_M_10_M1_G1_C0_12.jpg',\n 'C:\\\\workspace\\\\image\\\\bus\\\\R_217_40_M\\\\R_217_40_M_10_M1_G1_C0_13.jpg',\n 'C:\\\\workspace\\\\image\\\\bus\\\\R_217_40_M\\\\R_217_40_M_10_M1_G1_C0_14.jpg',\n 'C:\\\\workspace\\\\image\\\\bus\\\\R_217_40_M\\\\R_217_40_M_10_M1_G1_C0_15.jpg',\n 'C:\\\\workspace\\\\image\\\\bus\\\\R_217_40_M\\\\R_217_40_M_10_M1_G1_C0_16.jpg',\n 'C:\\\\workspace\\\\image\\\\bus\\\\R_217_40_M\\\\R_217_40_M_10_M1_G1_C0_17.jpg',\n 'C:\\\\workspace\\\\image\\\\bus\\\\R_217_40_M\\\\R_217_40_M_10_M1_G1_C0_18.jpg',\n 'C:\\\\workspace\\\\image\\\\bus\\\\R_217_40_M\\\\R_217_40_M_10_M1_G1_C0_19.jpg',\n 'C:\\\\workspace\\\\image\\\\bus\\\\R_217_40_M\\\\R_217_40_M_10_M1_G1_C0_20.jpg',\n 'C:\\\\workspace\\\\image\\\\bus\\\\R_217_40_M\\\\R_217_40_M_11_M1_G1_C0_01.jpg',\n 'C:\\\\workspace\\\\image\\\\bus\\\\R_217_40_M\\\\R_217_40_M_11_M1_G1_C0_02.jpg',\n 'C:\\\\workspace\\\\image\\\\bus\\\\R_217_40_M\\\\R_217_40_M_11_M1_G1_C0_03.jpg',\n 'C:\\\\workspace\\\\image\\\\bus\\\\R_217_40_M\\\\R_217_40_M_11_M1_G1_C0_04.jpg',\n 'C:\\\\workspace\\\\image\\\\bus\\\\R_217_40_M\\\\R_217_40_M_11_M1_G1_C0_05.jpg',\n 'C:\\\\workspace\\\\image\\\\bus\\\\R_217_40_M\\\\R_217_40_M_11_M1_G1_C0_06.jpg',\n 'C:\\\\workspace\\\\image\\\\bus\\\\R_217_40_M\\\\R_217_40_M_11_M1_G1_C0_07.jpg',\n 'C:\\\\workspace\\\\image\\\\bus\\\\R_217_40_M\\\\R_217_40_M_11_M1_G1_C0_08.jpg',\n 'C:\\\\workspace\\\\image\\\\bus\\\\R_217_40_M\\\\R_217_40_M_11_M1_G1_C0_09.jpg',\n 'C:\\\\workspace\\\\image\\\\bus\\\\R_217_40_M\\\\R_217_40_M_11_M1_G1_C0_10.jpg',\n 'C:\\\\workspace\\\\image\\\\bus\\\\R_217_40_M\\\\R_217_40_M_11_M1_G1_C0_11.jpg',\n 'C:\\\\workspace\\\\image\\\\bus\\\\R_217_40_M\\\\R_217_40_M_11_M1_G1_C0_12.jpg',\n 'C:\\\\workspace\\\\image\\\\bus\\\\R_217_40_M\\\\R_217_40_M_11_M1_G1_C0_13.jpg',\n 'C:\\\\workspace\\\\image\\\\bus\\\\R_217_40_M\\\\R_217_40_M_11_M1_G1_C0_14.jpg',\n 'C:\\\\workspace\\\\image\\\\bus\\\\R_217_40_M\\\\R_217_40_M_11_M1_G1_C0_15.jpg',\n 'C:\\\\workspace\\\\image\\\\bus\\\\R_217_40_M\\\\R_217_40_M_11_M1_G1_C0_16.jpg',\n 'C:\\\\workspace\\\\image\\\\bus\\\\R_217_40_M\\\\R_217_40_M_11_M1_G1_C0_17.jpg',\n 'C:\\\\workspace\\\\image\\\\bus\\\\R_217_40_M\\\\R_217_40_M_11_M1_G1_C0_18.jpg',\n 'C:\\\\workspace\\\\image\\\\bus\\\\R_217_40_M\\\\R_217_40_M_11_M1_G1_C0_19.jpg',\n 'C:\\\\workspace\\\\image\\\\bus\\\\R_217_40_M\\\\R_217_40_M_11_M1_G1_C0_20.jpg',\n 'C:\\\\workspace\\\\image\\\\bus\\\\R_217_40_M\\\\R_217_40_M_12_M1_G1_C0_01.jpg',\n 'C:\\\\workspace\\\\image\\\\bus\\\\R_217_40_M\\\\R_217_40_M_12_M1_G1_C0_02.jpg',\n 'C:\\\\workspace\\\\image\\\\bus\\\\R_217_40_M\\\\R_217_40_M_12_M1_G1_C0_03.jpg',\n 'C:\\\\workspace\\\\image\\\\bus\\\\R_217_40_M\\\\R_217_40_M_12_M1_G1_C0_04.jpg',\n 'C:\\\\workspace\\\\image\\\\bus\\\\R_217_40_M\\\\R_217_40_M_12_M1_G1_C0_05.jpg',\n 'C:\\\\workspace\\\\image\\\\bus\\\\R_217_40_M\\\\R_217_40_M_12_M1_G1_C0_06.jpg',\n 'C:\\\\workspace\\\\image\\\\bus\\\\R_217_40_M\\\\R_217_40_M_12_M1_G1_C0_07.jpg',\n 'C:\\\\workspace\\\\image\\\\bus\\\\R_217_40_M\\\\R_217_40_M_12_M1_G1_C0_08.jpg',\n 'C:\\\\workspace\\\\image\\\\bus\\\\R_217_40_M\\\\R_217_40_M_12_M1_G1_C0_09.jpg',\n 'C:\\\\workspace\\\\image\\\\bus\\\\R_217_40_M\\\\R_217_40_M_12_M1_G1_C0_10.jpg',\n 'C:\\\\workspace\\\\image\\\\bus\\\\R_217_40_M\\\\R_217_40_M_12_M1_G1_C0_11.jpg',\n 'C:\\\\workspace\\\\image\\\\bus\\\\R_217_40_M\\\\R_217_40_M_12_M1_G1_C0_12.jpg',\n 'C:\\\\workspace\\\\image\\\\bus\\\\R_217_40_M\\\\R_217_40_M_12_M1_G1_C0_13.jpg',\n 'C:\\\\workspace\\\\image\\\\bus\\\\R_217_40_M\\\\R_217_40_M_12_M1_G1_C0_14.jpg',\n 'C:\\\\workspace\\\\image\\\\bus\\\\R_217_40_M\\\\R_217_40_M_12_M1_G1_C0_15.jpg',\n 'C:\\\\workspace\\\\image\\\\bus\\\\R_217_40_M\\\\R_217_40_M_12_M1_G1_C0_16.jpg',\n 'C:\\\\workspace\\\\image\\\\bus\\\\R_217_40_M\\\\R_217_40_M_12_M1_G1_C0_17.jpg',\n 'C:\\\\workspace\\\\image\\\\bus\\\\R_217_40_M\\\\R_217_40_M_12_M1_G1_C0_18.jpg',\n 'C:\\\\workspace\\\\image\\\\bus\\\\R_217_40_M\\\\R_217_40_M_12_M1_G1_C0_19.jpg',\n 'C:\\\\workspace\\\\image\\\\bus\\\\R_217_40_M\\\\R_217_40_M_12_M1_G1_C0_20.jpg',\n 'C:\\\\workspace\\\\image\\\\bus\\\\R_217_40_M\\\\R_217_40_M_13_M1_G1_C0_01.jpg',\n 'C:\\\\workspace\\\\image\\\\bus\\\\R_217_40_M\\\\R_217_40_M_13_M1_G1_C0_02.jpg',\n 'C:\\\\workspace\\\\image\\\\bus\\\\R_217_40_M\\\\R_217_40_M_13_M1_G1_C0_03.jpg',\n 'C:\\\\workspace\\\\image\\\\bus\\\\R_217_40_M\\\\R_217_40_M_13_M1_G1_C0_04.jpg',\n 'C:\\\\workspace\\\\image\\\\bus\\\\R_217_40_M\\\\R_217_40_M_13_M1_G1_C0_05.jpg',\n 'C:\\\\workspace\\\\image\\\\bus\\\\R_217_40_M\\\\R_217_40_M_13_M1_G1_C0_06.jpg',\n 'C:\\\\workspace\\\\image\\\\bus\\\\R_217_40_M\\\\R_217_40_M_13_M1_G1_C0_07.jpg',\n 'C:\\\\workspace\\\\image\\\\bus\\\\R_217_40_M\\\\R_217_40_M_13_M1_G1_C0_08.jpg',\n 'C:\\\\workspace\\\\image\\\\bus\\\\R_217_40_M\\\\R_217_40_M_13_M1_G1_C0_09.jpg',\n 'C:\\\\workspace\\\\image\\\\bus\\\\R_217_40_M\\\\R_217_40_M_13_M1_G1_C0_10.jpg',\n 'C:\\\\workspace\\\\image\\\\bus\\\\R_217_40_M\\\\R_217_40_M_13_M1_G1_C0_11.jpg',\n 'C:\\\\workspace\\\\image\\\\bus\\\\R_217_40_M\\\\R_217_40_M_13_M1_G1_C0_12.jpg',\n 'C:\\\\workspace\\\\image\\\\bus\\\\R_217_40_M\\\\R_217_40_M_13_M1_G1_C0_13.jpg',\n 'C:\\\\workspace\\\\image\\\\bus\\\\R_217_40_M\\\\R_217_40_M_13_M1_G1_C0_14.jpg',\n 'C:\\\\workspace\\\\image\\\\bus\\\\R_217_40_M\\\\R_217_40_M_13_M1_G1_C0_15.jpg',\n 'C:\\\\workspace\\\\image\\\\bus\\\\R_217_40_M\\\\R_217_40_M_13_M1_G1_C0_16.jpg',\n 'C:\\\\workspace\\\\image\\\\bus\\\\R_217_40_M\\\\R_217_40_M_13_M1_G1_C0_17.jpg',\n 'C:\\\\workspace\\\\image\\\\bus\\\\R_217_40_M\\\\R_217_40_M_13_M1_G1_C0_18.jpg',\n 'C:\\\\workspace\\\\image\\\\bus\\\\R_217_40_M\\\\R_217_40_M_13_M1_G1_C0_19.jpg',\n 'C:\\\\workspace\\\\image\\\\bus\\\\R_217_40_M\\\\R_217_40_M_13_M1_G1_C0_20.jpg',\n 'C:\\\\workspace\\\\image\\\\bus\\\\R_217_40_M\\\\R_217_40_M_14_M1_G1_C0_01.jpg',\n 'C:\\\\workspace\\\\image\\\\bus\\\\R_217_40_M\\\\R_217_40_M_14_M1_G1_C0_02.jpg',\n 'C:\\\\workspace\\\\image\\\\bus\\\\R_217_40_M\\\\R_217_40_M_14_M1_G1_C0_03.jpg',\n 'C:\\\\workspace\\\\image\\\\bus\\\\R_217_40_M\\\\R_217_40_M_14_M1_G1_C0_04.jpg',\n 'C:\\\\workspace\\\\image\\\\bus\\\\R_217_40_M\\\\R_217_40_M_14_M1_G1_C0_05.jpg',\n 'C:\\\\workspace\\\\image\\\\bus\\\\R_217_40_M\\\\R_217_40_M_14_M1_G1_C0_06.jpg',\n 'C:\\\\workspace\\\\image\\\\bus\\\\R_217_40_M\\\\R_217_40_M_14_M1_G1_C0_07.jpg',\n 'C:\\\\workspace\\\\image\\\\bus\\\\R_217_40_M\\\\R_217_40_M_14_M1_G1_C0_08.jpg',\n 'C:\\\\workspace\\\\image\\\\bus\\\\R_217_40_M\\\\R_217_40_M_14_M1_G1_C0_09.jpg',\n 'C:\\\\workspace\\\\image\\\\bus\\\\R_217_40_M\\\\R_217_40_M_14_M1_G1_C0_10.jpg',\n 'C:\\\\workspace\\\\image\\\\bus\\\\R_217_40_M\\\\R_217_40_M_14_M1_G1_C0_11.jpg',\n 'C:\\\\workspace\\\\image\\\\bus\\\\R_217_40_M\\\\R_217_40_M_14_M1_G1_C0_12.jpg',\n 'C:\\\\workspace\\\\image\\\\bus\\\\R_217_40_M\\\\R_217_40_M_14_M1_G1_C0_13.jpg',\n 'C:\\\\workspace\\\\image\\\\bus\\\\R_217_40_M\\\\R_217_40_M_14_M1_G1_C0_14.jpg',\n 'C:\\\\workspace\\\\image\\\\bus\\\\R_217_40_M\\\\R_217_40_M_14_M1_G1_C0_15.jpg',\n 'C:\\\\workspace\\\\image\\\\bus\\\\R_217_40_M\\\\R_217_40_M_14_M1_G1_C0_16.jpg',\n 'C:\\\\workspace\\\\image\\\\bus\\\\R_217_40_M\\\\R_217_40_M_14_M1_G1_C0_17.jpg',\n 'C:\\\\workspace\\\\image\\\\bus\\\\R_217_40_M\\\\R_217_40_M_14_M1_G1_C0_18.jpg',\n 'C:\\\\workspace\\\\image\\\\bus\\\\R_217_40_M\\\\R_217_40_M_14_M1_G1_C0_19.jpg',\n 'C:\\\\workspace\\\\image\\\\bus\\\\R_217_40_M\\\\R_217_40_M_14_M1_G1_C0_20.jpg',\n 'C:\\\\workspace\\\\image\\\\bus\\\\R_217_40_M\\\\R_217_40_M_15_M1_G1_C0_01.jpg',\n 'C:\\\\workspace\\\\image\\\\bus\\\\R_217_40_M\\\\R_217_40_M_15_M1_G1_C0_02.jpg',\n 'C:\\\\workspace\\\\image\\\\bus\\\\R_217_40_M\\\\R_217_40_M_15_M1_G1_C0_03.jpg',\n 'C:\\\\workspace\\\\image\\\\bus\\\\R_217_40_M\\\\R_217_40_M_15_M1_G1_C0_04.jpg',\n 'C:\\\\workspace\\\\image\\\\bus\\\\R_217_40_M\\\\R_217_40_M_15_M1_G1_C0_05.jpg',\n 'C:\\\\workspace\\\\image\\\\bus\\\\R_217_40_M\\\\R_217_40_M_15_M1_G1_C0_06.jpg',\n 'C:\\\\workspace\\\\image\\\\bus\\\\R_217_40_M\\\\R_217_40_M_15_M1_G1_C0_07.jpg',\n 'C:\\\\workspace\\\\image\\\\bus\\\\R_217_40_M\\\\R_217_40_M_15_M1_G1_C0_08.jpg',\n 'C:\\\\workspace\\\\image\\\\bus\\\\R_217_40_M\\\\R_217_40_M_15_M1_G1_C0_09.jpg',\n 'C:\\\\workspace\\\\image\\\\bus\\\\R_217_40_M\\\\R_217_40_M_15_M1_G1_C0_10.jpg',\n 'C:\\\\workspace\\\\image\\\\bus\\\\R_217_40_M\\\\R_217_40_M_15_M1_G1_C0_11.jpg',\n 'C:\\\\workspace\\\\image\\\\bus\\\\R_217_40_M\\\\R_217_40_M_15_M1_G1_C0_12.jpg',\n 'C:\\\\workspace\\\\image\\\\bus\\\\R_217_40_M\\\\R_217_40_M_15_M1_G1_C0_13.jpg',\n 'C:\\\\workspace\\\\image\\\\bus\\\\R_217_40_M\\\\R_217_40_M_15_M1_G1_C0_14.jpg',\n 'C:\\\\workspace\\\\image\\\\bus\\\\R_217_40_M\\\\R_217_40_M_15_M1_G1_C0_15.jpg',\n 'C:\\\\workspace\\\\image\\\\bus\\\\R_217_40_M\\\\R_217_40_M_15_M1_G1_C0_16.jpg',\n 'C:\\\\workspace\\\\image\\\\bus\\\\R_217_40_M\\\\R_217_40_M_15_M1_G1_C0_17.jpg',\n 'C:\\\\workspace\\\\image\\\\bus\\\\R_217_40_M\\\\R_217_40_M_15_M1_G1_C0_18.jpg',\n 'C:\\\\workspace\\\\image\\\\bus\\\\R_217_40_M\\\\R_217_40_M_15_M1_G1_C0_19.jpg',\n 'C:\\\\workspace\\\\image\\\\bus\\\\R_217_40_M\\\\R_217_40_M_15_M1_G1_C0_20.jpg',\n 'C:\\\\workspace\\\\image\\\\bus\\\\R_217_40_M\\\\R_217_40_M_16_M1_G1_C0_01.jpg',\n 'C:\\\\workspace\\\\image\\\\bus\\\\R_217_40_M\\\\R_217_40_M_16_M1_G1_C0_02.jpg',\n 'C:\\\\workspace\\\\image\\\\bus\\\\R_217_40_M\\\\R_217_40_M_16_M1_G1_C0_03.jpg',\n 'C:\\\\workspace\\\\image\\\\bus\\\\R_217_40_M\\\\R_217_40_M_16_M1_G1_C0_04.jpg',\n 'C:\\\\workspace\\\\image\\\\bus\\\\R_217_40_M\\\\R_217_40_M_16_M1_G1_C0_05.jpg',\n 'C:\\\\workspace\\\\image\\\\bus\\\\R_217_40_M\\\\R_217_40_M_16_M1_G1_C0_06.jpg',\n 'C:\\\\workspace\\\\image\\\\bus\\\\R_217_40_M\\\\R_217_40_M_16_M1_G1_C0_07.jpg',\n 'C:\\\\workspace\\\\image\\\\bus\\\\R_217_40_M\\\\R_217_40_M_16_M1_G1_C0_08.jpg',\n 'C:\\\\workspace\\\\image\\\\bus\\\\R_217_40_M\\\\R_217_40_M_16_M1_G1_C0_09.jpg',\n 'C:\\\\workspace\\\\image\\\\bus\\\\R_217_40_M\\\\R_217_40_M_16_M1_G1_C0_10.jpg',\n 'C:\\\\workspace\\\\image\\\\bus\\\\R_217_40_M\\\\R_217_40_M_16_M1_G1_C0_11.jpg',\n 'C:\\\\workspace\\\\image\\\\bus\\\\R_217_40_M\\\\R_217_40_M_16_M1_G1_C0_12.jpg',\n 'C:\\\\workspace\\\\image\\\\bus\\\\R_217_40_M\\\\R_217_40_M_16_M1_G1_C0_13.jpg',\n 'C:\\\\workspace\\\\image\\\\bus\\\\R_217_40_M\\\\R_217_40_M_16_M1_G1_C0_14.jpg',\n 'C:\\\\workspace\\\\image\\\\bus\\\\R_217_40_M\\\\R_217_40_M_16_M1_G1_C0_15.jpg',\n 'C:\\\\workspace\\\\image\\\\bus\\\\R_217_40_M\\\\R_217_40_M_16_M1_G1_C0_16.jpg',\n 'C:\\\\workspace\\\\image\\\\bus\\\\R_217_40_M\\\\R_217_40_M_16_M1_G1_C0_17.jpg',\n 'C:\\\\workspace\\\\image\\\\bus\\\\R_217_40_M\\\\R_217_40_M_16_M1_G1_C0_18.jpg',\n 'C:\\\\workspace\\\\image\\\\bus\\\\R_217_40_M\\\\R_217_40_M_16_M1_G1_C0_19.jpg',\n 'C:\\\\workspace\\\\image\\\\bus\\\\R_217_40_M\\\\R_217_40_M_16_M1_G1_C0_20.jpg',\n 'C:\\\\workspace\\\\image\\\\bus\\\\R_217_40_M\\\\R_217_40_M_17_M1_G1_C0_01.jpg',\n 'C:\\\\workspace\\\\image\\\\bus\\\\R_217_40_M\\\\R_217_40_M_17_M1_G1_C0_02.jpg',\n 'C:\\\\workspace\\\\image\\\\bus\\\\R_217_40_M\\\\R_217_40_M_17_M1_G1_C0_03.jpg',\n 'C:\\\\workspace\\\\image\\\\bus\\\\R_217_40_M\\\\R_217_40_M_17_M1_G1_C0_04.jpg',\n 'C:\\\\workspace\\\\image\\\\bus\\\\R_217_40_M\\\\R_217_40_M_17_M1_G1_C0_05.jpg',\n 'C:\\\\workspace\\\\image\\\\bus\\\\R_217_40_M\\\\R_217_40_M_17_M1_G1_C0_06.jpg',\n 'C:\\\\workspace\\\\image\\\\bus\\\\R_217_40_M\\\\R_217_40_M_17_M1_G1_C0_07.jpg',\n 'C:\\\\workspace\\\\image\\\\bus\\\\R_217_40_M\\\\R_217_40_M_17_M1_G1_C0_08.jpg',\n 'C:\\\\workspace\\\\image\\\\bus\\\\R_217_40_M\\\\R_217_40_M_17_M1_G1_C0_09.jpg',\n 'C:\\\\workspace\\\\image\\\\bus\\\\R_217_40_M\\\\R_217_40_M_17_M1_G1_C0_10.jpg',\n 'C:\\\\workspace\\\\image\\\\bus\\\\R_217_40_M\\\\R_217_40_M_17_M1_G1_C0_11.jpg',\n 'C:\\\\workspace\\\\image\\\\bus\\\\R_217_40_M\\\\R_217_40_M_17_M1_G1_C0_12.jpg',\n 'C:\\\\workspace\\\\image\\\\bus\\\\R_217_40_M\\\\R_217_40_M_17_M1_G1_C0_13.jpg',\n 'C:\\\\workspace\\\\image\\\\bus\\\\R_217_40_M\\\\R_217_40_M_17_M1_G1_C0_14.jpg',\n 'C:\\\\workspace\\\\image\\\\bus\\\\R_217_40_M\\\\R_217_40_M_17_M1_G1_C0_15.jpg',\n 'C:\\\\workspace\\\\image\\\\bus\\\\R_217_40_M\\\\R_217_40_M_17_M1_G1_C0_16.jpg',\n 'C:\\\\workspace\\\\image\\\\bus\\\\R_217_40_M\\\\R_217_40_M_17_M1_G1_C0_17.jpg',\n 'C:\\\\workspace\\\\image\\\\bus\\\\R_217_40_M\\\\R_217_40_M_17_M1_G1_C0_18.jpg',\n 'C:\\\\workspace\\\\image\\\\bus\\\\R_217_40_M\\\\R_217_40_M_17_M1_G1_C0_19.jpg',\n 'C:\\\\workspace\\\\image\\\\bus\\\\R_217_40_M\\\\R_217_40_M_17_M1_G1_C0_20.jpg',\n 'C:\\\\workspace\\\\image\\\\bus\\\\R_217_40_M\\\\R_217_40_M_18_M1_G1_C0_01.jpg',\n 'C:\\\\workspace\\\\image\\\\bus\\\\R_217_40_M\\\\R_217_40_M_18_M1_G1_C0_02.jpg',\n 'C:\\\\workspace\\\\image\\\\bus\\\\R_217_40_M\\\\R_217_40_M_18_M1_G1_C0_03.jpg',\n 'C:\\\\workspace\\\\image\\\\bus\\\\R_217_40_M\\\\R_217_40_M_18_M1_G1_C0_04.jpg',\n 'C:\\\\workspace\\\\image\\\\bus\\\\R_217_40_M\\\\R_217_40_M_18_M1_G1_C0_05.jpg',\n 'C:\\\\workspace\\\\image\\\\bus\\\\R_217_40_M\\\\R_217_40_M_18_M1_G1_C0_06.jpg',\n 'C:\\\\workspace\\\\image\\\\bus\\\\R_217_40_M\\\\R_217_40_M_18_M1_G1_C0_07.jpg',\n 'C:\\\\workspace\\\\image\\\\bus\\\\R_217_40_M\\\\R_217_40_M_18_M1_G1_C0_08.jpg',\n 'C:\\\\workspace\\\\image\\\\bus\\\\R_217_40_M\\\\R_217_40_M_18_M1_G1_C0_09.jpg',\n 'C:\\\\workspace\\\\image\\\\bus\\\\R_217_40_M\\\\R_217_40_M_18_M1_G1_C0_10.jpg',\n 'C:\\\\workspace\\\\image\\\\bus\\\\R_217_40_M\\\\R_217_40_M_18_M1_G1_C0_11.jpg',\n 'C:\\\\workspace\\\\image\\\\bus\\\\R_217_40_M\\\\R_217_40_M_18_M1_G1_C0_12.jpg',\n 'C:\\\\workspace\\\\image\\\\bus\\\\R_217_40_M\\\\R_217_40_M_18_M1_G1_C0_13.jpg',\n 'C:\\\\workspace\\\\image\\\\bus\\\\R_217_40_M\\\\R_217_40_M_18_M1_G1_C0_14.jpg',\n 'C:\\\\workspace\\\\image\\\\bus\\\\R_217_40_M\\\\R_217_40_M_18_M1_G1_C0_15.jpg',\n 'C:\\\\workspace\\\\image\\\\bus\\\\R_217_40_M\\\\R_217_40_M_18_M1_G1_C0_16.jpg',\n 'C:\\\\workspace\\\\image\\\\bus\\\\R_217_40_M\\\\R_217_40_M_18_M1_G1_C0_17.jpg',\n 'C:\\\\workspace\\\\image\\\\bus\\\\R_217_40_M\\\\R_217_40_M_18_M1_G1_C0_18.jpg',\n 'C:\\\\workspace\\\\image\\\\bus\\\\R_217_40_M\\\\R_217_40_M_18_M1_G1_C0_19.jpg',\n 'C:\\\\workspace\\\\image\\\\bus\\\\R_217_40_M\\\\R_217_40_M_18_M1_G1_C0_20.jpg',\n 'C:\\\\workspace\\\\image\\\\bus\\\\R_217_40_M\\\\R_217_40_M_19_M1_G1_C0_01.jpg',\n 'C:\\\\workspace\\\\image\\\\bus\\\\R_217_40_M\\\\R_217_40_M_19_M1_G1_C0_02.jpg',\n 'C:\\\\workspace\\\\image\\\\bus\\\\R_217_40_M\\\\R_217_40_M_19_M1_G1_C0_03.jpg',\n 'C:\\\\workspace\\\\image\\\\bus\\\\R_217_40_M\\\\R_217_40_M_19_M1_G1_C0_04.jpg',\n 'C:\\\\workspace\\\\image\\\\bus\\\\R_217_40_M\\\\R_217_40_M_19_M1_G1_C0_05.jpg',\n 'C:\\\\workspace\\\\image\\\\bus\\\\R_217_40_M\\\\R_217_40_M_19_M1_G1_C0_06.jpg',\n 'C:\\\\workspace\\\\image\\\\bus\\\\R_217_40_M\\\\R_217_40_M_19_M1_G1_C0_07.jpg',\n 'C:\\\\workspace\\\\image\\\\bus\\\\R_217_40_M\\\\R_217_40_M_19_M1_G1_C0_08.jpg',\n 'C:\\\\workspace\\\\image\\\\bus\\\\R_217_40_M\\\\R_217_40_M_19_M1_G1_C0_09.jpg',\n 'C:\\\\workspace\\\\image\\\\bus\\\\R_217_40_M\\\\R_217_40_M_19_M1_G1_C0_10.jpg',\n 'C:\\\\workspace\\\\image\\\\bus\\\\R_217_40_M\\\\R_217_40_M_19_M1_G1_C0_11.jpg',\n 'C:\\\\workspace\\\\image\\\\bus\\\\R_217_40_M\\\\R_217_40_M_19_M1_G1_C0_12.jpg',\n 'C:\\\\workspace\\\\image\\\\bus\\\\R_217_40_M\\\\R_217_40_M_19_M1_G1_C0_13.jpg',\n 'C:\\\\workspace\\\\image\\\\bus\\\\R_217_40_M\\\\R_217_40_M_19_M1_G1_C0_14.jpg',\n 'C:\\\\workspace\\\\image\\\\bus\\\\R_217_40_M\\\\R_217_40_M_19_M1_G1_C0_15.jpg',\n 'C:\\\\workspace\\\\image\\\\bus\\\\R_217_40_M\\\\R_217_40_M_19_M1_G1_C0_16.jpg',\n 'C:\\\\workspace\\\\image\\\\bus\\\\R_217_40_M\\\\R_217_40_M_19_M1_G1_C0_17.jpg',\n 'C:\\\\workspace\\\\image\\\\bus\\\\R_217_40_M\\\\R_217_40_M_19_M1_G1_C0_18.jpg',\n 'C:\\\\workspace\\\\image\\\\bus\\\\R_217_40_M\\\\R_217_40_M_19_M1_G1_C0_19.jpg',\n 'C:\\\\workspace\\\\image\\\\bus\\\\R_217_40_M\\\\R_217_40_M_19_M1_G1_C0_20.jpg',\n 'C:\\\\workspace\\\\image\\\\bus\\\\R_217_40_M\\\\R_217_40_M_20_M1_G1_C0_01.jpg',\n 'C:\\\\workspace\\\\image\\\\bus\\\\R_217_40_M\\\\R_217_40_M_20_M1_G1_C0_02.jpg',\n 'C:\\\\workspace\\\\image\\\\bus\\\\R_217_40_M\\\\R_217_40_M_20_M1_G1_C0_03.jpg',\n 'C:\\\\workspace\\\\image\\\\bus\\\\R_217_40_M\\\\R_217_40_M_20_M1_G1_C0_04.jpg',\n 'C:\\\\workspace\\\\image\\\\bus\\\\R_217_40_M\\\\R_217_40_M_20_M1_G1_C0_05.jpg',\n 'C:\\\\workspace\\\\image\\\\bus\\\\R_217_40_M\\\\R_217_40_M_20_M1_G1_C0_06.jpg',\n 'C:\\\\workspace\\\\image\\\\bus\\\\R_217_40_M\\\\R_217_40_M_20_M1_G1_C0_07.jpg',\n 'C:\\\\workspace\\\\image\\\\bus\\\\R_217_40_M\\\\R_217_40_M_20_M1_G1_C0_08.jpg',\n 'C:\\\\workspace\\\\image\\\\bus\\\\R_217_40_M\\\\R_217_40_M_20_M1_G1_C0_09.jpg',\n 'C:\\\\workspace\\\\image\\\\bus\\\\R_217_40_M\\\\R_217_40_M_20_M1_G1_C0_10.jpg',\n 'C:\\\\workspace\\\\image\\\\bus\\\\R_217_40_M\\\\R_217_40_M_20_M1_G1_C0_11.jpg',\n 'C:\\\\workspace\\\\image\\\\bus\\\\R_217_40_M\\\\R_217_40_M_20_M1_G1_C0_12.jpg',\n 'C:\\\\workspace\\\\image\\\\bus\\\\R_217_40_M\\\\R_217_40_M_20_M1_G1_C0_13.jpg',\n 'C:\\\\workspace\\\\image\\\\bus\\\\R_217_40_M\\\\R_217_40_M_20_M1_G1_C0_14.jpg',\n 'C:\\\\workspace\\\\image\\\\bus\\\\R_217_40_M\\\\R_217_40_M_20_M1_G1_C0_15.jpg',\n 'C:\\\\workspace\\\\image\\\\bus\\\\R_217_40_M\\\\R_217_40_M_20_M1_G1_C0_16.jpg',\n 'C:\\\\workspace\\\\image\\\\bus\\\\R_217_40_M\\\\R_217_40_M_20_M1_G1_C0_17.jpg',\n 'C:\\\\workspace\\\\image\\\\bus\\\\R_217_40_M\\\\R_217_40_M_20_M1_G1_C0_18.jpg',\n 'C:\\\\workspace\\\\image\\\\bus\\\\R_217_40_M\\\\R_217_40_M_20_M1_G1_C0_19.jpg',\n 'C:\\\\workspace\\\\image\\\\bus\\\\R_217_40_M\\\\R_217_40_M_20_M1_G1_C0_20.jpg',\n 'C:\\\\workspace\\\\image\\\\bus\\\\R_218_50_M\\\\R_218_50_M_01_M0_G0_C0_01.jpg',\n 'C:\\\\workspace\\\\image\\\\bus\\\\R_218_50_M\\\\R_218_50_M_01_M0_G0_C0_02.jpg',\n 'C:\\\\workspace\\\\image\\\\bus\\\\R_218_50_M\\\\R_218_50_M_01_M0_G0_C0_03.jpg',\n 'C:\\\\workspace\\\\image\\\\bus\\\\R_218_50_M\\\\R_218_50_M_01_M0_G0_C0_04.jpg',\n 'C:\\\\workspace\\\\image\\\\bus\\\\R_218_50_M\\\\R_218_50_M_01_M0_G0_C0_05.jpg',\n 'C:\\\\workspace\\\\image\\\\bus\\\\R_218_50_M\\\\R_218_50_M_01_M0_G0_C0_06.jpg',\n 'C:\\\\workspace\\\\image\\\\bus\\\\R_218_50_M\\\\R_218_50_M_01_M0_G0_C0_07.jpg',\n 'C:\\\\workspace\\\\image\\\\bus\\\\R_218_50_M\\\\R_218_50_M_01_M0_G0_C0_08.jpg',\n 'C:\\\\workspace\\\\image\\\\bus\\\\R_218_50_M\\\\R_218_50_M_01_M0_G0_C0_09.jpg',\n 'C:\\\\workspace\\\\image\\\\bus\\\\R_218_50_M\\\\R_218_50_M_01_M0_G0_C0_10.jpg',\n 'C:\\\\workspace\\\\image\\\\bus\\\\R_218_50_M\\\\R_218_50_M_01_M0_G0_C0_11.jpg',\n 'C:\\\\workspace\\\\image\\\\bus\\\\R_218_50_M\\\\R_218_50_M_01_M0_G0_C0_12.jpg',\n 'C:\\\\workspace\\\\image\\\\bus\\\\R_218_50_M\\\\R_218_50_M_01_M0_G0_C0_13.jpg',\n 'C:\\\\workspace\\\\image\\\\bus\\\\R_218_50_M\\\\R_218_50_M_01_M0_G0_C0_14.jpg',\n 'C:\\\\workspace\\\\image\\\\bus\\\\R_218_50_M\\\\R_218_50_M_01_M0_G0_C0_15.jpg',\n 'C:\\\\workspace\\\\image\\\\bus\\\\R_218_50_M\\\\R_218_50_M_01_M0_G0_C0_16.jpg',\n 'C:\\\\workspace\\\\image\\\\bus\\\\R_218_50_M\\\\R_218_50_M_01_M0_G0_C0_17.jpg',\n 'C:\\\\workspace\\\\image\\\\bus\\\\R_218_50_M\\\\R_218_50_M_01_M0_G0_C0_18.jpg',\n 'C:\\\\workspace\\\\image\\\\bus\\\\R_218_50_M\\\\R_218_50_M_01_M0_G0_C0_19.jpg',\n 'C:\\\\workspace\\\\image\\\\bus\\\\R_218_50_M\\\\R_218_50_M_01_M0_G0_C0_20.jpg',\n 'C:\\\\workspace\\\\image\\\\bus\\\\R_218_50_M\\\\R_218_50_M_02_M1_G0_C0_01.jpg',\n 'C:\\\\workspace\\\\image\\\\bus\\\\R_218_50_M\\\\R_218_50_M_02_M1_G0_C0_02.jpg',\n 'C:\\\\workspace\\\\image\\\\bus\\\\R_218_50_M\\\\R_218_50_M_02_M1_G0_C0_03.jpg',\n 'C:\\\\workspace\\\\image\\\\bus\\\\R_218_50_M\\\\R_218_50_M_02_M1_G0_C0_04.jpg',\n 'C:\\\\workspace\\\\image\\\\bus\\\\R_218_50_M\\\\R_218_50_M_02_M1_G0_C0_05.jpg',\n 'C:\\\\workspace\\\\image\\\\bus\\\\R_218_50_M\\\\R_218_50_M_02_M1_G0_C0_06.jpg',\n 'C:\\\\workspace\\\\image\\\\bus\\\\R_218_50_M\\\\R_218_50_M_02_M1_G0_C0_07.jpg',\n 'C:\\\\workspace\\\\image\\\\bus\\\\R_218_50_M\\\\R_218_50_M_02_M1_G0_C0_08.jpg',\n 'C:\\\\workspace\\\\image\\\\bus\\\\R_218_50_M\\\\R_218_50_M_02_M1_G0_C0_09.jpg',\n 'C:\\\\workspace\\\\image\\\\bus\\\\R_218_50_M\\\\R_218_50_M_02_M1_G0_C0_10.jpg',\n 'C:\\\\workspace\\\\image\\\\bus\\\\R_218_50_M\\\\R_218_50_M_02_M1_G0_C0_11.jpg',\n 'C:\\\\workspace\\\\image\\\\bus\\\\R_218_50_M\\\\R_218_50_M_02_M1_G0_C0_12.jpg',\n 'C:\\\\workspace\\\\image\\\\bus\\\\R_218_50_M\\\\R_218_50_M_02_M1_G0_C0_13.jpg',\n 'C:\\\\workspace\\\\image\\\\bus\\\\R_218_50_M\\\\R_218_50_M_02_M1_G0_C0_14.jpg',\n 'C:\\\\workspace\\\\image\\\\bus\\\\R_218_50_M\\\\R_218_50_M_02_M1_G0_C0_15.jpg',\n 'C:\\\\workspace\\\\image\\\\bus\\\\R_218_50_M\\\\R_218_50_M_02_M1_G0_C0_16.jpg',\n 'C:\\\\workspace\\\\image\\\\bus\\\\R_218_50_M\\\\R_218_50_M_02_M1_G0_C0_17.jpg',\n 'C:\\\\workspace\\\\image\\\\bus\\\\R_218_50_M\\\\R_218_50_M_02_M1_G0_C0_18.jpg',\n 'C:\\\\workspace\\\\image\\\\bus\\\\R_218_50_M\\\\R_218_50_M_02_M1_G0_C0_19.jpg',\n 'C:\\\\workspace\\\\image\\\\bus\\\\R_218_50_M\\\\R_218_50_M_02_M1_G0_C0_20.jpg',\n 'C:\\\\workspace\\\\image\\\\bus\\\\R_218_50_M\\\\R_218_50_M_03_M1_G0_C0_01.jpg',\n 'C:\\\\workspace\\\\image\\\\bus\\\\R_218_50_M\\\\R_218_50_M_03_M1_G0_C0_02.jpg',\n 'C:\\\\workspace\\\\image\\\\bus\\\\R_218_50_M\\\\R_218_50_M_03_M1_G0_C0_03.jpg',\n 'C:\\\\workspace\\\\image\\\\bus\\\\R_218_50_M\\\\R_218_50_M_03_M1_G0_C0_04.jpg',\n 'C:\\\\workspace\\\\image\\\\bus\\\\R_218_50_M\\\\R_218_50_M_03_M1_G0_C0_05.jpg',\n 'C:\\\\workspace\\\\image\\\\bus\\\\R_218_50_M\\\\R_218_50_M_03_M1_G0_C0_06.jpg',\n 'C:\\\\workspace\\\\image\\\\bus\\\\R_218_50_M\\\\R_218_50_M_03_M1_G0_C0_07.jpg',\n 'C:\\\\workspace\\\\image\\\\bus\\\\R_218_50_M\\\\R_218_50_M_03_M1_G0_C0_08.jpg',\n 'C:\\\\workspace\\\\image\\\\bus\\\\R_218_50_M\\\\R_218_50_M_03_M1_G0_C0_09.jpg',\n 'C:\\\\workspace\\\\image\\\\bus\\\\R_218_50_M\\\\R_218_50_M_03_M1_G0_C0_10.jpg',\n 'C:\\\\workspace\\\\image\\\\bus\\\\R_218_50_M\\\\R_218_50_M_03_M1_G0_C0_11.jpg',\n 'C:\\\\workspace\\\\image\\\\bus\\\\R_218_50_M\\\\R_218_50_M_03_M1_G0_C0_12.jpg',\n 'C:\\\\workspace\\\\image\\\\bus\\\\R_218_50_M\\\\R_218_50_M_03_M1_G0_C0_13.jpg',\n 'C:\\\\workspace\\\\image\\\\bus\\\\R_218_50_M\\\\R_218_50_M_03_M1_G0_C0_14.jpg',\n 'C:\\\\workspace\\\\image\\\\bus\\\\R_218_50_M\\\\R_218_50_M_03_M1_G0_C0_15.jpg',\n 'C:\\\\workspace\\\\image\\\\bus\\\\R_218_50_M\\\\R_218_50_M_03_M1_G0_C0_16.jpg',\n 'C:\\\\workspace\\\\image\\\\bus\\\\R_218_50_M\\\\R_218_50_M_03_M1_G0_C0_17.jpg',\n 'C:\\\\workspace\\\\image\\\\bus\\\\R_218_50_M\\\\R_218_50_M_03_M1_G0_C0_18.jpg',\n 'C:\\\\workspace\\\\image\\\\bus\\\\R_218_50_M\\\\R_218_50_M_03_M1_G0_C0_19.jpg',\n 'C:\\\\workspace\\\\image\\\\bus\\\\R_218_50_M\\\\R_218_50_M_03_M1_G0_C0_20.jpg',\n 'C:\\\\workspace\\\\image\\\\bus\\\\R_218_50_M\\\\R_218_50_M_04_M1_G0_C0_01.jpg',\n 'C:\\\\workspace\\\\image\\\\bus\\\\R_218_50_M\\\\R_218_50_M_04_M1_G0_C0_02.jpg',\n 'C:\\\\workspace\\\\image\\\\bus\\\\R_218_50_M\\\\R_218_50_M_04_M1_G0_C0_03.jpg',\n 'C:\\\\workspace\\\\image\\\\bus\\\\R_218_50_M\\\\R_218_50_M_04_M1_G0_C0_04.jpg',\n 'C:\\\\workspace\\\\image\\\\bus\\\\R_218_50_M\\\\R_218_50_M_04_M1_G0_C0_05.jpg',\n 'C:\\\\workspace\\\\image\\\\bus\\\\R_218_50_M\\\\R_218_50_M_04_M1_G0_C0_06.jpg',\n 'C:\\\\workspace\\\\image\\\\bus\\\\R_218_50_M\\\\R_218_50_M_04_M1_G0_C0_07.jpg',\n 'C:\\\\workspace\\\\image\\\\bus\\\\R_218_50_M\\\\R_218_50_M_04_M1_G0_C0_08.jpg',\n 'C:\\\\workspace\\\\image\\\\bus\\\\R_218_50_M\\\\R_218_50_M_04_M1_G0_C0_09.jpg',\n 'C:\\\\workspace\\\\image\\\\bus\\\\R_218_50_M\\\\R_218_50_M_04_M1_G0_C0_10.jpg',\n 'C:\\\\workspace\\\\image\\\\bus\\\\R_218_50_M\\\\R_218_50_M_04_M1_G0_C0_11.jpg',\n 'C:\\\\workspace\\\\image\\\\bus\\\\R_218_50_M\\\\R_218_50_M_04_M1_G0_C0_12.jpg',\n 'C:\\\\workspace\\\\image\\\\bus\\\\R_218_50_M\\\\R_218_50_M_04_M1_G0_C0_13.jpg',\n 'C:\\\\workspace\\\\image\\\\bus\\\\R_218_50_M\\\\R_218_50_M_04_M1_G0_C0_14.jpg',\n 'C:\\\\workspace\\\\image\\\\bus\\\\R_218_50_M\\\\R_218_50_M_04_M1_G0_C0_15.jpg',\n 'C:\\\\workspace\\\\image\\\\bus\\\\R_218_50_M\\\\R_218_50_M_04_M1_G0_C0_16.jpg',\n 'C:\\\\workspace\\\\image\\\\bus\\\\R_218_50_M\\\\R_218_50_M_04_M1_G0_C0_17.jpg',\n 'C:\\\\workspace\\\\image\\\\bus\\\\R_218_50_M\\\\R_218_50_M_04_M1_G0_C0_18.jpg',\n 'C:\\\\workspace\\\\image\\\\bus\\\\R_218_50_M\\\\R_218_50_M_04_M1_G0_C0_19.jpg',\n 'C:\\\\workspace\\\\image\\\\bus\\\\R_218_50_M\\\\R_218_50_M_04_M1_G0_C0_20.jpg',\n 'C:\\\\workspace\\\\image\\\\bus\\\\R_218_50_M\\\\R_218_50_M_05_M1_G0_C0_01.jpg',\n 'C:\\\\workspace\\\\image\\\\bus\\\\R_218_50_M\\\\R_218_50_M_05_M1_G0_C0_02.jpg',\n 'C:\\\\workspace\\\\image\\\\bus\\\\R_218_50_M\\\\R_218_50_M_05_M1_G0_C0_03.jpg',\n 'C:\\\\workspace\\\\image\\\\bus\\\\R_218_50_M\\\\R_218_50_M_05_M1_G0_C0_04.jpg',\n 'C:\\\\workspace\\\\image\\\\bus\\\\R_218_50_M\\\\R_218_50_M_05_M1_G0_C0_05.jpg',\n 'C:\\\\workspace\\\\image\\\\bus\\\\R_218_50_M\\\\R_218_50_M_05_M1_G0_C0_06.jpg',\n 'C:\\\\workspace\\\\image\\\\bus\\\\R_218_50_M\\\\R_218_50_M_05_M1_G0_C0_07.jpg',\n 'C:\\\\workspace\\\\image\\\\bus\\\\R_218_50_M\\\\R_218_50_M_05_M1_G0_C0_08.jpg',\n 'C:\\\\workspace\\\\image\\\\bus\\\\R_218_50_M\\\\R_218_50_M_05_M1_G0_C0_09.jpg',\n 'C:\\\\workspace\\\\image\\\\bus\\\\R_218_50_M\\\\R_218_50_M_05_M1_G0_C0_10.jpg',\n 'C:\\\\workspace\\\\image\\\\bus\\\\R_218_50_M\\\\R_218_50_M_05_M1_G0_C0_11.jpg',\n 'C:\\\\workspace\\\\image\\\\bus\\\\R_218_50_M\\\\R_218_50_M_05_M1_G0_C0_12.jpg',\n 'C:\\\\workspace\\\\image\\\\bus\\\\R_218_50_M\\\\R_218_50_M_05_M1_G0_C0_13.jpg',\n 'C:\\\\workspace\\\\image\\\\bus\\\\R_218_50_M\\\\R_218_50_M_05_M1_G0_C0_14.jpg',\n 'C:\\\\workspace\\\\image\\\\bus\\\\R_218_50_M\\\\R_218_50_M_05_M1_G0_C0_15.jpg',\n 'C:\\\\workspace\\\\image\\\\bus\\\\R_218_50_M\\\\R_218_50_M_05_M1_G0_C0_16.jpg',\n 'C:\\\\workspace\\\\image\\\\bus\\\\R_218_50_M\\\\R_218_50_M_05_M1_G0_C0_17.jpg',\n 'C:\\\\workspace\\\\image\\\\bus\\\\R_218_50_M\\\\R_218_50_M_05_M1_G0_C0_18.jpg',\n 'C:\\\\workspace\\\\image\\\\bus\\\\R_218_50_M\\\\R_218_50_M_05_M1_G0_C0_19.jpg',\n 'C:\\\\workspace\\\\image\\\\bus\\\\R_218_50_M\\\\R_218_50_M_05_M1_G0_C0_20.jpg',\n 'C:\\\\workspace\\\\image\\\\bus\\\\R_218_50_M\\\\R_218_50_M_06_M1_G0_C0_01.jpg',\n 'C:\\\\workspace\\\\image\\\\bus\\\\R_218_50_M\\\\R_218_50_M_06_M1_G0_C0_02.jpg',\n 'C:\\\\workspace\\\\image\\\\bus\\\\R_218_50_M\\\\R_218_50_M_06_M1_G0_C0_03.jpg',\n 'C:\\\\workspace\\\\image\\\\bus\\\\R_218_50_M\\\\R_218_50_M_06_M1_G0_C0_04.jpg',\n 'C:\\\\workspace\\\\image\\\\bus\\\\R_218_50_M\\\\R_218_50_M_06_M1_G0_C0_05.jpg',\n 'C:\\\\workspace\\\\image\\\\bus\\\\R_218_50_M\\\\R_218_50_M_06_M1_G0_C0_06.jpg',\n 'C:\\\\workspace\\\\image\\\\bus\\\\R_218_50_M\\\\R_218_50_M_06_M1_G0_C0_07.jpg',\n 'C:\\\\workspace\\\\image\\\\bus\\\\R_218_50_M\\\\R_218_50_M_06_M1_G0_C0_08.jpg',\n 'C:\\\\workspace\\\\image\\\\bus\\\\R_218_50_M\\\\R_218_50_M_06_M1_G0_C0_09.jpg',\n 'C:\\\\workspace\\\\image\\\\bus\\\\R_218_50_M\\\\R_218_50_M_06_M1_G0_C0_10.jpg',\n 'C:\\\\workspace\\\\image\\\\bus\\\\R_218_50_M\\\\R_218_50_M_06_M1_G0_C0_11.jpg',\n 'C:\\\\workspace\\\\image\\\\bus\\\\R_218_50_M\\\\R_218_50_M_06_M1_G0_C0_12.jpg',\n 'C:\\\\workspace\\\\image\\\\bus\\\\R_218_50_M\\\\R_218_50_M_06_M1_G0_C0_13.jpg',\n 'C:\\\\workspace\\\\image\\\\bus\\\\R_218_50_M\\\\R_218_50_M_06_M1_G0_C0_14.jpg',\n 'C:\\\\workspace\\\\image\\\\bus\\\\R_218_50_M\\\\R_218_50_M_06_M1_G0_C0_15.jpg',\n 'C:\\\\workspace\\\\image\\\\bus\\\\R_218_50_M\\\\R_218_50_M_06_M1_G0_C0_16.jpg',\n 'C:\\\\workspace\\\\image\\\\bus\\\\R_218_50_M\\\\R_218_50_M_06_M1_G0_C0_17.jpg',\n 'C:\\\\workspace\\\\image\\\\bus\\\\R_218_50_M\\\\R_218_50_M_06_M1_G0_C0_18.jpg',\n 'C:\\\\workspace\\\\image\\\\bus\\\\R_218_50_M\\\\R_218_50_M_06_M1_G0_C0_19.jpg',\n 'C:\\\\workspace\\\\image\\\\bus\\\\R_218_50_M\\\\R_218_50_M_06_M1_G0_C0_20.jpg',\n 'C:\\\\workspace\\\\image\\\\bus\\\\R_218_50_M\\\\R_218_50_M_07_M1_G0_C0_01.jpg',\n 'C:\\\\workspace\\\\image\\\\bus\\\\R_218_50_M\\\\R_218_50_M_07_M1_G0_C0_02.jpg',\n 'C:\\\\workspace\\\\image\\\\bus\\\\R_218_50_M\\\\R_218_50_M_07_M1_G0_C0_03.jpg',\n 'C:\\\\workspace\\\\image\\\\bus\\\\R_218_50_M\\\\R_218_50_M_07_M1_G0_C0_04.jpg',\n 'C:\\\\workspace\\\\image\\\\bus\\\\R_218_50_M\\\\R_218_50_M_07_M1_G0_C0_05.jpg',\n 'C:\\\\workspace\\\\image\\\\bus\\\\R_218_50_M\\\\R_218_50_M_07_M1_G0_C0_06.jpg',\n 'C:\\\\workspace\\\\image\\\\bus\\\\R_218_50_M\\\\R_218_50_M_07_M1_G0_C0_07.jpg',\n 'C:\\\\workspace\\\\image\\\\bus\\\\R_218_50_M\\\\R_218_50_M_07_M1_G0_C0_08.jpg',\n 'C:\\\\workspace\\\\image\\\\bus\\\\R_218_50_M\\\\R_218_50_M_07_M1_G0_C0_09.jpg',\n 'C:\\\\workspace\\\\image\\\\bus\\\\R_218_50_M\\\\R_218_50_M_07_M1_G0_C0_10.jpg',\n 'C:\\\\workspace\\\\image\\\\bus\\\\R_218_50_M\\\\R_218_50_M_07_M1_G0_C0_11.jpg',\n 'C:\\\\workspace\\\\image\\\\bus\\\\R_218_50_M\\\\R_218_50_M_07_M1_G0_C0_12.jpg',\n 'C:\\\\workspace\\\\image\\\\bus\\\\R_218_50_M\\\\R_218_50_M_07_M1_G0_C0_13.jpg',\n 'C:\\\\workspace\\\\image\\\\bus\\\\R_218_50_M\\\\R_218_50_M_07_M1_G0_C0_14.jpg',\n 'C:\\\\workspace\\\\image\\\\bus\\\\R_218_50_M\\\\R_218_50_M_07_M1_G0_C0_15.jpg',\n 'C:\\\\workspace\\\\image\\\\bus\\\\R_218_50_M\\\\R_218_50_M_07_M1_G0_C0_16.jpg',\n 'C:\\\\workspace\\\\image\\\\bus\\\\R_218_50_M\\\\R_218_50_M_07_M1_G0_C0_17.jpg',\n 'C:\\\\workspace\\\\image\\\\bus\\\\R_218_50_M\\\\R_218_50_M_07_M1_G0_C0_18.jpg',\n 'C:\\\\workspace\\\\image\\\\bus\\\\R_218_50_M\\\\R_218_50_M_07_M1_G0_C0_19.jpg',\n 'C:\\\\workspace\\\\image\\\\bus\\\\R_218_50_M\\\\R_218_50_M_07_M1_G0_C0_20.jpg',\n 'C:\\\\workspace\\\\image\\\\bus\\\\R_218_50_M\\\\R_218_50_M_08_M1_G0_C0_01.jpg',\n 'C:\\\\workspace\\\\image\\\\bus\\\\R_218_50_M\\\\R_218_50_M_08_M1_G0_C0_02.jpg',\n 'C:\\\\workspace\\\\image\\\\bus\\\\R_218_50_M\\\\R_218_50_M_08_M1_G0_C0_03.jpg',\n 'C:\\\\workspace\\\\image\\\\bus\\\\R_218_50_M\\\\R_218_50_M_08_M1_G0_C0_04.jpg',\n 'C:\\\\workspace\\\\image\\\\bus\\\\R_218_50_M\\\\R_218_50_M_08_M1_G0_C0_05.jpg',\n 'C:\\\\workspace\\\\image\\\\bus\\\\R_218_50_M\\\\R_218_50_M_08_M1_G0_C0_06.jpg',\n 'C:\\\\workspace\\\\image\\\\bus\\\\R_218_50_M\\\\R_218_50_M_08_M1_G0_C0_07.jpg',\n 'C:\\\\workspace\\\\image\\\\bus\\\\R_218_50_M\\\\R_218_50_M_08_M1_G0_C0_08.jpg',\n 'C:\\\\workspace\\\\image\\\\bus\\\\R_218_50_M\\\\R_218_50_M_08_M1_G0_C0_09.jpg',\n 'C:\\\\workspace\\\\image\\\\bus\\\\R_218_50_M\\\\R_218_50_M_08_M1_G0_C0_10.jpg',\n 'C:\\\\workspace\\\\image\\\\bus\\\\R_218_50_M\\\\R_218_50_M_08_M1_G0_C0_11.jpg',\n 'C:\\\\workspace\\\\image\\\\bus\\\\R_218_50_M\\\\R_218_50_M_08_M1_G0_C0_12.jpg',\n 'C:\\\\workspace\\\\image\\\\bus\\\\R_218_50_M\\\\R_218_50_M_08_M1_G0_C0_13.jpg',\n 'C:\\\\workspace\\\\image\\\\bus\\\\R_218_50_M\\\\R_218_50_M_08_M1_G0_C0_14.jpg',\n 'C:\\\\workspace\\\\image\\\\bus\\\\R_218_50_M\\\\R_218_50_M_08_M1_G0_C0_15.jpg',\n 'C:\\\\workspace\\\\image\\\\bus\\\\R_218_50_M\\\\R_218_50_M_08_M1_G0_C0_16.jpg',\n 'C:\\\\workspace\\\\image\\\\bus\\\\R_218_50_M\\\\R_218_50_M_08_M1_G0_C0_17.jpg',\n 'C:\\\\workspace\\\\image\\\\bus\\\\R_218_50_M\\\\R_218_50_M_08_M1_G0_C0_18.jpg',\n 'C:\\\\workspace\\\\image\\\\bus\\\\R_218_50_M\\\\R_218_50_M_08_M1_G0_C0_19.jpg',\n 'C:\\\\workspace\\\\image\\\\bus\\\\R_218_50_M\\\\R_218_50_M_08_M1_G0_C0_20.jpg',\n 'C:\\\\workspace\\\\image\\\\bus\\\\R_218_50_M\\\\R_218_50_M_09_M1_G0_C0_01.jpg',\n 'C:\\\\workspace\\\\image\\\\bus\\\\R_218_50_M\\\\R_218_50_M_09_M1_G0_C0_02.jpg',\n 'C:\\\\workspace\\\\image\\\\bus\\\\R_218_50_M\\\\R_218_50_M_09_M1_G0_C0_03.jpg',\n 'C:\\\\workspace\\\\image\\\\bus\\\\R_218_50_M\\\\R_218_50_M_09_M1_G0_C0_04.jpg',\n 'C:\\\\workspace\\\\image\\\\bus\\\\R_218_50_M\\\\R_218_50_M_09_M1_G0_C0_05.jpg',\n 'C:\\\\workspace\\\\image\\\\bus\\\\R_218_50_M\\\\R_218_50_M_09_M1_G0_C0_06.jpg',\n 'C:\\\\workspace\\\\image\\\\bus\\\\R_218_50_M\\\\R_218_50_M_09_M1_G0_C0_07.jpg',\n 'C:\\\\workspace\\\\image\\\\bus\\\\R_218_50_M\\\\R_218_50_M_09_M1_G0_C0_08.jpg',\n 'C:\\\\workspace\\\\image\\\\bus\\\\R_218_50_M\\\\R_218_50_M_09_M1_G0_C0_09.jpg',\n 'C:\\\\workspace\\\\image\\\\bus\\\\R_218_50_M\\\\R_218_50_M_09_M1_G0_C0_10.jpg',\n 'C:\\\\workspace\\\\image\\\\bus\\\\R_218_50_M\\\\R_218_50_M_09_M1_G0_C0_11.jpg',\n 'C:\\\\workspace\\\\image\\\\bus\\\\R_218_50_M\\\\R_218_50_M_09_M1_G0_C0_12.jpg',\n 'C:\\\\workspace\\\\image\\\\bus\\\\R_218_50_M\\\\R_218_50_M_09_M1_G0_C0_13.jpg',\n 'C:\\\\workspace\\\\image\\\\bus\\\\R_218_50_M\\\\R_218_50_M_09_M1_G0_C0_14.jpg',\n 'C:\\\\workspace\\\\image\\\\bus\\\\R_218_50_M\\\\R_218_50_M_09_M1_G0_C0_15.jpg',\n 'C:\\\\workspace\\\\image\\\\bus\\\\R_218_50_M\\\\R_218_50_M_09_M1_G0_C0_16.jpg',\n 'C:\\\\workspace\\\\image\\\\bus\\\\R_218_50_M\\\\R_218_50_M_09_M1_G0_C0_17.jpg',\n 'C:\\\\workspace\\\\image\\\\bus\\\\R_218_50_M\\\\R_218_50_M_09_M1_G0_C0_18.jpg',\n 'C:\\\\workspace\\\\image\\\\bus\\\\R_218_50_M\\\\R_218_50_M_09_M1_G0_C0_19.jpg',\n 'C:\\\\workspace\\\\image\\\\bus\\\\R_218_50_M\\\\R_218_50_M_09_M1_G0_C0_20.jpg',\n 'C:\\\\workspace\\\\image\\\\bus\\\\R_218_50_M\\\\R_218_50_M_10_M1_G0_C0_01.jpg',\n 'C:\\\\workspace\\\\image\\\\bus\\\\R_218_50_M\\\\R_218_50_M_10_M1_G0_C0_02.jpg',\n 'C:\\\\workspace\\\\image\\\\bus\\\\R_218_50_M\\\\R_218_50_M_10_M1_G0_C0_03.jpg',\n 'C:\\\\workspace\\\\image\\\\bus\\\\R_218_50_M\\\\R_218_50_M_10_M1_G0_C0_04.jpg',\n 'C:\\\\workspace\\\\image\\\\bus\\\\R_218_50_M\\\\R_218_50_M_10_M1_G0_C0_05.jpg',\n 'C:\\\\workspace\\\\image\\\\bus\\\\R_218_50_M\\\\R_218_50_M_10_M1_G0_C0_06.jpg',\n 'C:\\\\workspace\\\\image\\\\bus\\\\R_218_50_M\\\\R_218_50_M_10_M1_G0_C0_07.jpg',\n 'C:\\\\workspace\\\\image\\\\bus\\\\R_218_50_M\\\\R_218_50_M_10_M1_G0_C0_08.jpg',\n 'C:\\\\workspace\\\\image\\\\bus\\\\R_218_50_M\\\\R_218_50_M_10_M1_G0_C0_09.jpg',\n 'C:\\\\workspace\\\\image\\\\bus\\\\R_218_50_M\\\\R_218_50_M_10_M1_G0_C0_10.jpg',\n 'C:\\\\workspace\\\\image\\\\bus\\\\R_218_50_M\\\\R_218_50_M_10_M1_G0_C0_11.jpg',\n 'C:\\\\workspace\\\\image\\\\bus\\\\R_218_50_M\\\\R_218_50_M_10_M1_G0_C0_12.jpg',\n 'C:\\\\workspace\\\\image\\\\bus\\\\R_218_50_M\\\\R_218_50_M_10_M1_G0_C0_13.jpg',\n 'C:\\\\workspace\\\\image\\\\bus\\\\R_218_50_M\\\\R_218_50_M_10_M1_G0_C0_14.jpg',\n 'C:\\\\workspace\\\\image\\\\bus\\\\R_218_50_M\\\\R_218_50_M_10_M1_G0_C0_15.jpg',\n 'C:\\\\workspace\\\\image\\\\bus\\\\R_218_50_M\\\\R_218_50_M_10_M1_G0_C0_16.jpg',\n 'C:\\\\workspace\\\\image\\\\bus\\\\R_218_50_M\\\\R_218_50_M_10_M1_G0_C0_17.jpg',\n 'C:\\\\workspace\\\\image\\\\bus\\\\R_218_50_M\\\\R_218_50_M_10_M1_G0_C0_18.jpg',\n 'C:\\\\workspace\\\\image\\\\bus\\\\R_218_50_M\\\\R_218_50_M_10_M1_G0_C0_19.jpg',\n 'C:\\\\workspace\\\\image\\\\bus\\\\R_218_50_M\\\\R_218_50_M_10_M1_G0_C0_20.jpg',\n 'C:\\\\workspace\\\\image\\\\bus\\\\R_218_50_M\\\\R_218_50_M_11_M1_G0_C0_01.jpg',\n 'C:\\\\workspace\\\\image\\\\bus\\\\R_218_50_M\\\\R_218_50_M_11_M1_G0_C0_02.jpg',\n 'C:\\\\workspace\\\\image\\\\bus\\\\R_218_50_M\\\\R_218_50_M_11_M1_G0_C0_03.jpg',\n 'C:\\\\workspace\\\\image\\\\bus\\\\R_218_50_M\\\\R_218_50_M_11_M1_G0_C0_04.jpg',\n 'C:\\\\workspace\\\\image\\\\bus\\\\R_218_50_M\\\\R_218_50_M_11_M1_G0_C0_05.jpg',\n 'C:\\\\workspace\\\\image\\\\bus\\\\R_218_50_M\\\\R_218_50_M_11_M1_G0_C0_06.jpg',\n 'C:\\\\workspace\\\\image\\\\bus\\\\R_218_50_M\\\\R_218_50_M_11_M1_G0_C0_07.jpg',\n 'C:\\\\workspace\\\\image\\\\bus\\\\R_218_50_M\\\\R_218_50_M_11_M1_G0_C0_08.jpg',\n 'C:\\\\workspace\\\\image\\\\bus\\\\R_218_50_M\\\\R_218_50_M_11_M1_G0_C0_09.jpg',\n 'C:\\\\workspace\\\\image\\\\bus\\\\R_218_50_M\\\\R_218_50_M_11_M1_G0_C0_10.jpg',\n 'C:\\\\workspace\\\\image\\\\bus\\\\R_218_50_M\\\\R_218_50_M_11_M1_G0_C0_11.jpg',\n 'C:\\\\workspace\\\\image\\\\bus\\\\R_218_50_M\\\\R_218_50_M_11_M1_G0_C0_12.jpg',\n 'C:\\\\workspace\\\\image\\\\bus\\\\R_218_50_M\\\\R_218_50_M_11_M1_G0_C0_13.jpg',\n 'C:\\\\workspace\\\\image\\\\bus\\\\R_218_50_M\\\\R_218_50_M_11_M1_G0_C0_14.jpg',\n 'C:\\\\workspace\\\\image\\\\bus\\\\R_218_50_M\\\\R_218_50_M_11_M1_G0_C0_15.jpg',\n 'C:\\\\workspace\\\\image\\\\bus\\\\R_218_50_M\\\\R_218_50_M_11_M1_G0_C0_16.jpg',\n 'C:\\\\workspace\\\\image\\\\bus\\\\R_218_50_M\\\\R_218_50_M_11_M1_G0_C0_17.jpg',\n 'C:\\\\workspace\\\\image\\\\bus\\\\R_218_50_M\\\\R_218_50_M_11_M1_G0_C0_18.jpg',\n 'C:\\\\workspace\\\\image\\\\bus\\\\R_218_50_M\\\\R_218_50_M_11_M1_G0_C0_19.jpg',\n 'C:\\\\workspace\\\\image\\\\bus\\\\R_218_50_M\\\\R_218_50_M_11_M1_G0_C0_20.jpg',\n 'C:\\\\workspace\\\\image\\\\bus\\\\R_218_50_M\\\\R_218_50_M_12_M1_G0_C0_01.jpg',\n 'C:\\\\workspace\\\\image\\\\bus\\\\R_218_50_M\\\\R_218_50_M_12_M1_G0_C0_02.jpg',\n 'C:\\\\workspace\\\\image\\\\bus\\\\R_218_50_M\\\\R_218_50_M_12_M1_G0_C0_03.jpg',\n 'C:\\\\workspace\\\\image\\\\bus\\\\R_218_50_M\\\\R_218_50_M_12_M1_G0_C0_04.jpg',\n 'C:\\\\workspace\\\\image\\\\bus\\\\R_218_50_M\\\\R_218_50_M_12_M1_G0_C0_05.jpg',\n 'C:\\\\workspace\\\\image\\\\bus\\\\R_218_50_M\\\\R_218_50_M_12_M1_G0_C0_06.jpg',\n 'C:\\\\workspace\\\\image\\\\bus\\\\R_218_50_M\\\\R_218_50_M_12_M1_G0_C0_07.jpg',\n 'C:\\\\workspace\\\\image\\\\bus\\\\R_218_50_M\\\\R_218_50_M_12_M1_G0_C0_08.jpg',\n 'C:\\\\workspace\\\\image\\\\bus\\\\R_218_50_M\\\\R_218_50_M_12_M1_G0_C0_09.jpg',\n 'C:\\\\workspace\\\\image\\\\bus\\\\R_218_50_M\\\\R_218_50_M_12_M1_G0_C0_10.jpg',\n 'C:\\\\workspace\\\\image\\\\bus\\\\R_218_50_M\\\\R_218_50_M_12_M1_G0_C0_11.jpg',\n 'C:\\\\workspace\\\\image\\\\bus\\\\R_218_50_M\\\\R_218_50_M_12_M1_G0_C0_12.jpg',\n 'C:\\\\workspace\\\\image\\\\bus\\\\R_218_50_M\\\\R_218_50_M_12_M1_G0_C0_13.jpg',\n 'C:\\\\workspace\\\\image\\\\bus\\\\R_218_50_M\\\\R_218_50_M_12_M1_G0_C0_14.jpg',\n 'C:\\\\workspace\\\\image\\\\bus\\\\R_218_50_M\\\\R_218_50_M_12_M1_G0_C0_15.jpg',\n 'C:\\\\workspace\\\\image\\\\bus\\\\R_218_50_M\\\\R_218_50_M_12_M1_G0_C0_16.jpg',\n 'C:\\\\workspace\\\\image\\\\bus\\\\R_218_50_M\\\\R_218_50_M_12_M1_G0_C0_17.jpg',\n 'C:\\\\workspace\\\\image\\\\bus\\\\R_218_50_M\\\\R_218_50_M_12_M1_G0_C0_18.jpg',\n 'C:\\\\workspace\\\\image\\\\bus\\\\R_218_50_M\\\\R_218_50_M_12_M1_G0_C0_19.jpg',\n 'C:\\\\workspace\\\\image\\\\bus\\\\R_218_50_M\\\\R_218_50_M_12_M1_G0_C0_20.jpg',\n 'C:\\\\workspace\\\\image\\\\bus\\\\R_218_50_M\\\\R_218_50_M_13_M1_G0_C0_01.jpg',\n 'C:\\\\workspace\\\\image\\\\bus\\\\R_218_50_M\\\\R_218_50_M_13_M1_G0_C0_02.jpg',\n 'C:\\\\workspace\\\\image\\\\bus\\\\R_218_50_M\\\\R_218_50_M_13_M1_G0_C0_03.jpg',\n 'C:\\\\workspace\\\\image\\\\bus\\\\R_218_50_M\\\\R_218_50_M_13_M1_G0_C0_04.jpg',\n 'C:\\\\workspace\\\\image\\\\bus\\\\R_218_50_M\\\\R_218_50_M_13_M1_G0_C0_05.jpg',\n 'C:\\\\workspace\\\\image\\\\bus\\\\R_218_50_M\\\\R_218_50_M_13_M1_G0_C0_06.jpg',\n 'C:\\\\workspace\\\\image\\\\bus\\\\R_218_50_M\\\\R_218_50_M_13_M1_G0_C0_07.jpg',\n 'C:\\\\workspace\\\\image\\\\bus\\\\R_218_50_M\\\\R_218_50_M_13_M1_G0_C0_08.jpg',\n 'C:\\\\workspace\\\\image\\\\bus\\\\R_218_50_M\\\\R_218_50_M_13_M1_G0_C0_09.jpg',\n 'C:\\\\workspace\\\\image\\\\bus\\\\R_218_50_M\\\\R_218_50_M_13_M1_G0_C0_10.jpg',\n 'C:\\\\workspace\\\\image\\\\bus\\\\R_218_50_M\\\\R_218_50_M_13_M1_G0_C0_11.jpg',\n 'C:\\\\workspace\\\\image\\\\bus\\\\R_218_50_M\\\\R_218_50_M_13_M1_G0_C0_12.jpg',\n 'C:\\\\workspace\\\\image\\\\bus\\\\R_218_50_M\\\\R_218_50_M_13_M1_G0_C0_13.jpg',\n 'C:\\\\workspace\\\\image\\\\bus\\\\R_218_50_M\\\\R_218_50_M_13_M1_G0_C0_14.jpg',\n 'C:\\\\workspace\\\\image\\\\bus\\\\R_218_50_M\\\\R_218_50_M_13_M1_G0_C0_15.jpg',\n 'C:\\\\workspace\\\\image\\\\bus\\\\R_218_50_M\\\\R_218_50_M_13_M1_G0_C0_16.jpg',\n 'C:\\\\workspace\\\\image\\\\bus\\\\R_218_50_M\\\\R_218_50_M_13_M1_G0_C0_17.jpg',\n 'C:\\\\workspace\\\\image\\\\bus\\\\R_218_50_M\\\\R_218_50_M_13_M1_G0_C0_18.jpg',\n 'C:\\\\workspace\\\\image\\\\bus\\\\R_218_50_M\\\\R_218_50_M_13_M1_G0_C0_19.jpg',\n 'C:\\\\workspace\\\\image\\\\bus\\\\R_218_50_M\\\\R_218_50_M_13_M1_G0_C0_20.jpg',\n 'C:\\\\workspace\\\\image\\\\bus\\\\R_218_50_M\\\\R_218_50_M_14_M1_G0_C0_01.jpg',\n 'C:\\\\workspace\\\\image\\\\bus\\\\R_218_50_M\\\\R_218_50_M_14_M1_G0_C0_02.jpg',\n 'C:\\\\workspace\\\\image\\\\bus\\\\R_218_50_M\\\\R_218_50_M_14_M1_G0_C0_03.jpg',\n 'C:\\\\workspace\\\\image\\\\bus\\\\R_218_50_M\\\\R_218_50_M_14_M1_G0_C0_04.jpg',\n 'C:\\\\workspace\\\\image\\\\bus\\\\R_218_50_M\\\\R_218_50_M_14_M1_G0_C0_05.jpg',\n 'C:\\\\workspace\\\\image\\\\bus\\\\R_218_50_M\\\\R_218_50_M_14_M1_G0_C0_06.jpg',\n 'C:\\\\workspace\\\\image\\\\bus\\\\R_218_50_M\\\\R_218_50_M_14_M1_G0_C0_07.jpg',\n 'C:\\\\workspace\\\\image\\\\bus\\\\R_218_50_M\\\\R_218_50_M_14_M1_G0_C0_08.jpg',\n 'C:\\\\workspace\\\\image\\\\bus\\\\R_218_50_M\\\\R_218_50_M_14_M1_G0_C0_09.jpg',\n 'C:\\\\workspace\\\\image\\\\bus\\\\R_218_50_M\\\\R_218_50_M_14_M1_G0_C0_10.jpg',\n 'C:\\\\workspace\\\\image\\\\bus\\\\R_218_50_M\\\\R_218_50_M_14_M1_G0_C0_11.jpg',\n 'C:\\\\workspace\\\\image\\\\bus\\\\R_218_50_M\\\\R_218_50_M_14_M1_G0_C0_12.jpg',\n 'C:\\\\workspace\\\\image\\\\bus\\\\R_218_50_M\\\\R_218_50_M_14_M1_G0_C0_13.jpg',\n 'C:\\\\workspace\\\\image\\\\bus\\\\R_218_50_M\\\\R_218_50_M_14_M1_G0_C0_14.jpg',\n 'C:\\\\workspace\\\\image\\\\bus\\\\R_218_50_M\\\\R_218_50_M_14_M1_G0_C0_15.jpg',\n 'C:\\\\workspace\\\\image\\\\bus\\\\R_218_50_M\\\\R_218_50_M_14_M1_G0_C0_16.jpg',\n 'C:\\\\workspace\\\\image\\\\bus\\\\R_218_50_M\\\\R_218_50_M_14_M1_G0_C0_17.jpg',\n 'C:\\\\workspace\\\\image\\\\bus\\\\R_218_50_M\\\\R_218_50_M_14_M1_G0_C0_18.jpg',\n 'C:\\\\workspace\\\\image\\\\bus\\\\R_218_50_M\\\\R_218_50_M_14_M1_G0_C0_19.jpg',\n 'C:\\\\workspace\\\\image\\\\bus\\\\R_218_50_M\\\\R_218_50_M_14_M1_G0_C0_20.jpg',\n 'C:\\\\workspace\\\\image\\\\bus\\\\R_218_50_M\\\\R_218_50_M_15_M1_G0_C0_01.jpg',\n 'C:\\\\workspace\\\\image\\\\bus\\\\R_218_50_M\\\\R_218_50_M_15_M1_G0_C0_02.jpg',\n 'C:\\\\workspace\\\\image\\\\bus\\\\R_218_50_M\\\\R_218_50_M_15_M1_G0_C0_03.jpg',\n 'C:\\\\workspace\\\\image\\\\bus\\\\R_218_50_M\\\\R_218_50_M_15_M1_G0_C0_04.jpg',\n 'C:\\\\workspace\\\\image\\\\bus\\\\R_218_50_M\\\\R_218_50_M_15_M1_G0_C0_05.jpg',\n 'C:\\\\workspace\\\\image\\\\bus\\\\R_218_50_M\\\\R_218_50_M_15_M1_G0_C0_06.jpg',\n 'C:\\\\workspace\\\\image\\\\bus\\\\R_218_50_M\\\\R_218_50_M_15_M1_G0_C0_07.jpg',\n 'C:\\\\workspace\\\\image\\\\bus\\\\R_218_50_M\\\\R_218_50_M_15_M1_G0_C0_08.jpg',\n 'C:\\\\workspace\\\\image\\\\bus\\\\R_218_50_M\\\\R_218_50_M_15_M1_G0_C0_09.jpg',\n 'C:\\\\workspace\\\\image\\\\bus\\\\R_218_50_M\\\\R_218_50_M_15_M1_G0_C0_10.jpg',\n 'C:\\\\workspace\\\\image\\\\bus\\\\R_218_50_M\\\\R_218_50_M_15_M1_G0_C0_11.jpg',\n 'C:\\\\workspace\\\\image\\\\bus\\\\R_218_50_M\\\\R_218_50_M_15_M1_G0_C0_12.jpg',\n 'C:\\\\workspace\\\\image\\\\bus\\\\R_218_50_M\\\\R_218_50_M_15_M1_G0_C0_13.jpg',\n 'C:\\\\workspace\\\\image\\\\bus\\\\R_218_50_M\\\\R_218_50_M_15_M1_G0_C0_14.jpg',\n 'C:\\\\workspace\\\\image\\\\bus\\\\R_218_50_M\\\\R_218_50_M_15_M1_G0_C0_15.jpg',\n 'C:\\\\workspace\\\\image\\\\bus\\\\R_218_50_M\\\\R_218_50_M_15_M1_G0_C0_16.jpg',\n 'C:\\\\workspace\\\\image\\\\bus\\\\R_218_50_M\\\\R_218_50_M_15_M1_G0_C0_17.jpg',\n 'C:\\\\workspace\\\\image\\\\bus\\\\R_218_50_M\\\\R_218_50_M_15_M1_G0_C0_18.jpg',\n 'C:\\\\workspace\\\\image\\\\bus\\\\R_218_50_M\\\\R_218_50_M_15_M1_G0_C0_19.jpg',\n 'C:\\\\workspace\\\\image\\\\bus\\\\R_218_50_M\\\\R_218_50_M_15_M1_G0_C0_20.jpg',\n 'C:\\\\workspace\\\\image\\\\bus\\\\R_218_50_M\\\\R_218_50_M_16_M1_G0_C0_01.jpg',\n 'C:\\\\workspace\\\\image\\\\bus\\\\R_218_50_M\\\\R_218_50_M_16_M1_G0_C0_02.jpg',\n 'C:\\\\workspace\\\\image\\\\bus\\\\R_218_50_M\\\\R_218_50_M_16_M1_G0_C0_03.jpg',\n 'C:\\\\workspace\\\\image\\\\bus\\\\R_218_50_M\\\\R_218_50_M_16_M1_G0_C0_04.jpg',\n 'C:\\\\workspace\\\\image\\\\bus\\\\R_218_50_M\\\\R_218_50_M_16_M1_G0_C0_05.jpg',\n 'C:\\\\workspace\\\\image\\\\bus\\\\R_218_50_M\\\\R_218_50_M_16_M1_G0_C0_06.jpg',\n 'C:\\\\workspace\\\\image\\\\bus\\\\R_218_50_M\\\\R_218_50_M_16_M1_G0_C0_07.jpg',\n 'C:\\\\workspace\\\\image\\\\bus\\\\R_218_50_M\\\\R_218_50_M_16_M1_G0_C0_08.jpg',\n 'C:\\\\workspace\\\\image\\\\bus\\\\R_218_50_M\\\\R_218_50_M_16_M1_G0_C0_09.jpg',\n 'C:\\\\workspace\\\\image\\\\bus\\\\R_218_50_M\\\\R_218_50_M_16_M1_G0_C0_10.jpg',\n 'C:\\\\workspace\\\\image\\\\bus\\\\R_218_50_M\\\\R_218_50_M_16_M1_G0_C0_11.jpg',\n 'C:\\\\workspace\\\\image\\\\bus\\\\R_218_50_M\\\\R_218_50_M_16_M1_G0_C0_12.jpg',\n 'C:\\\\workspace\\\\image\\\\bus\\\\R_218_50_M\\\\R_218_50_M_16_M1_G0_C0_13.jpg',\n 'C:\\\\workspace\\\\image\\\\bus\\\\R_218_50_M\\\\R_218_50_M_16_M1_G0_C0_14.jpg',\n 'C:\\\\workspace\\\\image\\\\bus\\\\R_218_50_M\\\\R_218_50_M_16_M1_G0_C0_15.jpg',\n 'C:\\\\workspace\\\\image\\\\bus\\\\R_218_50_M\\\\R_218_50_M_16_M1_G0_C0_16.jpg',\n 'C:\\\\workspace\\\\image\\\\bus\\\\R_218_50_M\\\\R_218_50_M_16_M1_G0_C0_17.jpg',\n 'C:\\\\workspace\\\\image\\\\bus\\\\R_218_50_M\\\\R_218_50_M_16_M1_G0_C0_18.jpg',\n 'C:\\\\workspace\\\\image\\\\bus\\\\R_218_50_M\\\\R_218_50_M_16_M1_G0_C0_19.jpg',\n 'C:\\\\workspace\\\\image\\\\bus\\\\R_218_50_M\\\\R_218_50_M_16_M1_G0_C0_20.jpg',\n 'C:\\\\workspace\\\\image\\\\bus\\\\R_218_50_M\\\\R_218_50_M_17_M1_G0_C0_01.jpg',\n 'C:\\\\workspace\\\\image\\\\bus\\\\R_218_50_M\\\\R_218_50_M_17_M1_G0_C0_02.jpg',\n 'C:\\\\workspace\\\\image\\\\bus\\\\R_218_50_M\\\\R_218_50_M_17_M1_G0_C0_03.jpg',\n 'C:\\\\workspace\\\\image\\\\bus\\\\R_218_50_M\\\\R_218_50_M_17_M1_G0_C0_04.jpg',\n 'C:\\\\workspace\\\\image\\\\bus\\\\R_218_50_M\\\\R_218_50_M_17_M1_G0_C0_05.jpg',\n 'C:\\\\workspace\\\\image\\\\bus\\\\R_218_50_M\\\\R_218_50_M_17_M1_G0_C0_06.jpg',\n 'C:\\\\workspace\\\\image\\\\bus\\\\R_218_50_M\\\\R_218_50_M_17_M1_G0_C0_07.jpg',\n 'C:\\\\workspace\\\\image\\\\bus\\\\R_218_50_M\\\\R_218_50_M_17_M1_G0_C0_08.jpg',\n 'C:\\\\workspace\\\\image\\\\bus\\\\R_218_50_M\\\\R_218_50_M_17_M1_G0_C0_09.jpg',\n 'C:\\\\workspace\\\\image\\\\bus\\\\R_218_50_M\\\\R_218_50_M_17_M1_G0_C0_10.jpg',\n 'C:\\\\workspace\\\\image\\\\bus\\\\R_218_50_M\\\\R_218_50_M_17_M1_G0_C0_11.jpg',\n 'C:\\\\workspace\\\\image\\\\bus\\\\R_218_50_M\\\\R_218_50_M_17_M1_G0_C0_12.jpg',\n 'C:\\\\workspace\\\\image\\\\bus\\\\R_218_50_M\\\\R_218_50_M_17_M1_G0_C0_13.jpg',\n 'C:\\\\workspace\\\\image\\\\bus\\\\R_218_50_M\\\\R_218_50_M_17_M1_G0_C0_14.jpg',\n 'C:\\\\workspace\\\\image\\\\bus\\\\R_218_50_M\\\\R_218_50_M_17_M1_G0_C0_15.jpg',\n 'C:\\\\workspace\\\\image\\\\bus\\\\R_218_50_M\\\\R_218_50_M_17_M1_G0_C0_16.jpg',\n 'C:\\\\workspace\\\\image\\\\bus\\\\R_218_50_M\\\\R_218_50_M_17_M1_G0_C0_17.jpg',\n 'C:\\\\workspace\\\\image\\\\bus\\\\R_218_50_M\\\\R_218_50_M_17_M1_G0_C0_18.jpg',\n 'C:\\\\workspace\\\\image\\\\bus\\\\R_218_50_M\\\\R_218_50_M_17_M1_G0_C0_19.jpg',\n 'C:\\\\workspace\\\\image\\\\bus\\\\R_218_50_M\\\\R_218_50_M_17_M1_G0_C0_20.jpg',\n 'C:\\\\workspace\\\\image\\\\bus\\\\R_218_50_M\\\\R_218_50_M_18_M1_G0_C0_01.jpg',\n 'C:\\\\workspace\\\\image\\\\bus\\\\R_218_50_M\\\\R_218_50_M_18_M1_G0_C0_02.jpg',\n 'C:\\\\workspace\\\\image\\\\bus\\\\R_218_50_M\\\\R_218_50_M_18_M1_G0_C0_03.jpg',\n 'C:\\\\workspace\\\\image\\\\bus\\\\R_218_50_M\\\\R_218_50_M_18_M1_G0_C0_04.jpg',\n 'C:\\\\workspace\\\\image\\\\bus\\\\R_218_50_M\\\\R_218_50_M_18_M1_G0_C0_05.jpg',\n 'C:\\\\workspace\\\\image\\\\bus\\\\R_218_50_M\\\\R_218_50_M_18_M1_G0_C0_06.jpg',\n 'C:\\\\workspace\\\\image\\\\bus\\\\R_218_50_M\\\\R_218_50_M_18_M1_G0_C0_07.jpg',\n 'C:\\\\workspace\\\\image\\\\bus\\\\R_218_50_M\\\\R_218_50_M_18_M1_G0_C0_08.jpg',\n 'C:\\\\workspace\\\\image\\\\bus\\\\R_218_50_M\\\\R_218_50_M_18_M1_G0_C0_09.jpg',\n 'C:\\\\workspace\\\\image\\\\bus\\\\R_218_50_M\\\\R_218_50_M_18_M1_G0_C0_10.jpg',\n 'C:\\\\workspace\\\\image\\\\bus\\\\R_218_50_M\\\\R_218_50_M_18_M1_G0_C0_11.jpg',\n 'C:\\\\workspace\\\\image\\\\bus\\\\R_218_50_M\\\\R_218_50_M_18_M1_G0_C0_12.jpg',\n 'C:\\\\workspace\\\\image\\\\bus\\\\R_218_50_M\\\\R_218_50_M_18_M1_G0_C0_13.jpg',\n 'C:\\\\workspace\\\\image\\\\bus\\\\R_218_50_M\\\\R_218_50_M_18_M1_G0_C0_14.jpg',\n 'C:\\\\workspace\\\\image\\\\bus\\\\R_218_50_M\\\\R_218_50_M_18_M1_G0_C0_15.jpg',\n 'C:\\\\workspace\\\\image\\\\bus\\\\R_218_50_M\\\\R_218_50_M_18_M1_G0_C0_16.jpg',\n 'C:\\\\workspace\\\\image\\\\bus\\\\R_218_50_M\\\\R_218_50_M_18_M1_G0_C0_17.jpg',\n 'C:\\\\workspace\\\\image\\\\bus\\\\R_218_50_M\\\\R_218_50_M_18_M1_G0_C0_18.jpg',\n 'C:\\\\workspace\\\\image\\\\bus\\\\R_218_50_M\\\\R_218_50_M_18_M1_G0_C0_19.jpg',\n 'C:\\\\workspace\\\\image\\\\bus\\\\R_218_50_M\\\\R_218_50_M_18_M1_G0_C0_20.jpg',\n ...]"
     },
     "execution_count": 3,
     "metadata": {},
     "output_type": "execute_result"
    }
   ],
   "source": [
    "bus_img_path_list = []\n",
    "for sub_dir_name in os.listdir(bus_img_dir):\n",
    "    for img_name in os.listdir(bus_img_dir+sub_dir_name):\n",
    "        bus_img_path_list.append(bus_img_dir+sub_dir_name+os.sep+img_name)\n",
    "\n",
    "bus_img_path_list"
   ],
   "metadata": {
    "collapsed": false,
    "ExecuteTime": {
     "end_time": "2023-11-28T15:32:10.712412Z",
     "start_time": "2023-11-28T15:32:10.680518300Z"
    }
   },
   "id": "699daa29b9f55494"
  },
  {
   "cell_type": "code",
   "execution_count": 4,
   "outputs": [
    {
     "name": "stdout",
     "output_type": "stream",
     "text": [
      "\n",
      " ----- Environment Status -----\n",
      "Operating System Type: ('64bit', 'WindowsPE')\n",
      "Python Version: 3.8.10 (tags/v3.8.10:3d8993a, May  3 2021, 11:48:03) [MSC v.1928 64 bit (AMD64)]\n",
      "Pytorch Version: 1.13.1+cu116\n",
      "Open Computer Vision Version: 4.8.1\n",
      "GPU Available: True\n",
      "GPU Device Name: NVIDIA GeForce RTX 3080 Ti Laptop GPU\n",
      "Number of GPU: 1\n",
      "Tensor Core TF32 Enable: False \n",
      "\n",
      "[1/3] Device Initialized 3.34sec\n"
     ]
    }
   ],
   "source": [
    "net_stride = 32\n",
    "num_nb = 10\n",
    "data_name = 'data_300W'\n",
    "experiment_name = 'pip_32_16_60_r101_l2_l1_10_1_nb10'\n",
    "num_lms = 68\n",
    "face_landmark_input_size = 240\n",
    "det_box_scale = 1.2\n",
    "eye_det = 0.12\n",
    "\n",
    "img_size = 640\n",
    "CONF_THRES = 0.4\n",
    "IOU_THRES = 0.45\n",
    "half = True\n",
    "cudnn.benchmark = True\n",
    "torch.backends.cuda.matmul.allow_tf32 = False\n",
    "\n",
    "elapsed_time: float = 0.0\n",
    "fps: float = 0.0\n",
    "ref_frame: int = 0\n",
    "det_frame: int = 0\n",
    "prev_time = time.time()\n",
    "start_time = time.time()\n",
    "\n",
    "device = torch.device(\"cuda\")\n",
    "\n",
    "meanface_indices, reverse_index1, reverse_index2, max_len = get_meanface(os.path.join('PIPNet', 'data', data_name,\n",
    "                                                                                      'meanface.txt'), num_nb)\n",
    "\n",
    "resnet101 = models.resnet101(weights='ResNet101_Weights.DEFAULT')\n",
    "face_landmark_net = Pip_resnet101(resnet101, num_nb=num_nb, num_lms=num_lms, input_size=face_landmark_input_size,\n",
    "                                  net_stride=net_stride)\n",
    "face_landmark_net = face_landmark_net.to(device)\n",
    "\n",
    "face_landmark_weight_file_path = os.path.join('PIPNet', 'snapshots', data_name, experiment_name, f'epoch{60-1}.pth')\n",
    "face_landmark_net.load_state_dict(torch.load(f=face_landmark_weight_file_path, map_location=device))\n",
    "face_landmark_net.eval()\n",
    "\n",
    "face_landmark_normalize = transforms.Normalize(mean=[0.485, 0.456, 0.406], std=[0.229, 0.224, 0.225])\n",
    "preprocess = transforms.Compose([transforms.ToPILImage(),\n",
    "                                 transforms.Resize((face_landmark_input_size, face_landmark_input_size)),\n",
    "                                 transforms.ToTensor(), face_landmark_normalize])\n",
    "\n",
    "face_detector_weight_file_path = os.path.join('.', 'weights', 'face_detection_yolov5s.pt')\n",
    "face_det_normalize_tensor = torch.tensor(255.0).to(device)\n",
    "\n",
    "system_info()\n",
    "\n",
    "# Initialize\n",
    "print(f'[1/3] Device Initialized {time.time() - prev_time:.2f}sec')"
   ],
   "metadata": {
    "collapsed": false,
    "ExecuteTime": {
     "end_time": "2023-11-28T15:32:14.062785800Z",
     "start_time": "2023-11-28T15:32:10.712412Z"
    }
   },
   "id": "9f2be4be5900fef0"
  },
  {
   "cell_type": "code",
   "execution_count": 5,
   "outputs": [
    {
     "name": "stderr",
     "output_type": "stream",
     "text": [
      "Fusing layers... \n",
      "newYOLOv5s summary: 224 layers, 7053910 parameters, 0 gradients\n"
     ]
    },
    {
     "name": "stdout",
     "output_type": "stream",
     "text": [
      "[2/3] Yolov5 Detector Model Loaded 6.67sec\n"
     ]
    }
   ],
   "source": [
    "# Load model\n",
    "model = attempt_load(face_detector_weight_file_path, device)  # load FP32 model\n",
    "model.eval()\n",
    "stride = int(model.stride.max())  # model stride\n",
    "img_size_chk = check_img_size(img_size, s=stride)  # check img_size\n",
    "\n",
    "if half:\n",
    "    model.half()  # to FP16\n",
    "\n",
    "# Get names and colors\n",
    "names = model.module.names if hasattr(model, 'module') else model.names\n",
    "\n",
    "# Run inference\n",
    "model(torch.zeros(1, 3, img_size_chk, img_size_chk).to(device).type_as(next(model.parameters())))  # run once\n",
    "print(f'[2/3] Yolov5 Detector Model Loaded {time.time() - prev_time:.2f}sec')"
   ],
   "metadata": {
    "collapsed": false,
    "ExecuteTime": {
     "end_time": "2023-11-28T15:32:17.391561200Z",
     "start_time": "2023-11-28T15:32:14.061788900Z"
    }
   },
   "id": "aad9e78608ed293e"
  },
  {
   "cell_type": "code",
   "execution_count": 16,
   "outputs": [
    {
     "name": "stderr",
     "output_type": "stream",
     "text": [
      "  0%|          | 2/8067 [00:00<14:36,  9.21it/s]"
     ]
    },
    {
     "name": "stdout",
     "output_type": "stream",
     "text": [
      "C:\\workspace\\image\\bus\\R_216_60_M\\R_216_60_M_01_M0_G1_C0_01.jpg 0.034088708186481805 0.5423261445466404 False True\n",
      "C:\\workspace\\image\\bus\\R_216_60_M\\R_216_60_M_01_M0_G1_C0_02.jpg 0.07048063607217736 0.24325212770525997 False True\n",
      "C:\\workspace\\image\\bus\\R_216_60_M\\R_216_60_M_01_M0_G1_C0_03.jpg 0.042835293687811936 0.25300956667772434 False True\n"
     ]
    },
    {
     "name": "stderr",
     "output_type": "stream",
     "text": [
      "  0%|          | 8/8067 [00:00<06:19, 21.26it/s]"
     ]
    },
    {
     "name": "stdout",
     "output_type": "stream",
     "text": [
      "C:\\workspace\\image\\bus\\R_216_60_M\\R_216_60_M_01_M0_G1_C0_04.jpg 0.20203050891044216 0.6293167755275527 True True\n",
      "C:\\workspace\\image\\bus\\R_216_60_M\\R_216_60_M_01_M0_G1_C0_05.jpg 0.04753289820861187 0.22360679774997896 False True\n",
      "C:\\workspace\\image\\bus\\R_216_60_M\\R_216_60_M_01_M0_G1_C0_06.jpg 0.06775963568181181 0.4152273992686998 False True\n",
      "C:\\workspace\\image\\bus\\R_216_60_M\\R_216_60_M_01_M0_G1_C0_07.jpg 0.2165561168014839 0.8514693182963201 True True\n",
      "C:\\workspace\\image\\bus\\R_216_60_M\\R_216_60_M_01_M0_G1_C0_08.jpg 0.11277677488692019 0.12403473458920847 False True\n",
      "C:\\workspace\\image\\bus\\R_216_60_M\\R_216_60_M_01_M0_G1_C0_09.jpg 0.07453559924999299 1.414213562373095 False True\n",
      "C:\\workspace\\image\\bus\\R_216_60_M\\R_216_60_M_01_M0_G1_C0_10.jpg 0.11467769256492184 0.10699941519444955 False False\n"
     ]
    },
    {
     "name": "stderr",
     "output_type": "stream",
     "text": [
      "  0%|          | 16/8067 [00:00<04:43, 28.37it/s]"
     ]
    },
    {
     "name": "stdout",
     "output_type": "stream",
     "text": [
      "C:\\workspace\\image\\bus\\R_216_60_M\\R_216_60_M_01_M0_G1_C0_11.jpg 0.05121475197315839 0.03466876226407682 False False\n",
      "C:\\workspace\\image\\bus\\R_216_60_M\\R_216_60_M_01_M0_G1_C0_12.jpg 0.27472112789737807 0.5599227745979918 True True\n",
      "C:\\workspace\\image\\bus\\R_216_60_M\\R_216_60_M_01_M0_G1_C0_13.jpg 0.08950987670106893 0.43852900965351466 False True\n",
      "C:\\workspace\\image\\bus\\R_216_60_M\\R_216_60_M_01_M0_G1_C0_14.jpg 0.08234406506546821 0.2564601569065591 False True\n",
      "C:\\workspace\\image\\bus\\R_216_60_M\\R_216_60_M_01_M0_G1_C0_15.jpg 0.077138921583987 0.17541160386140586 False True\n",
      "C:\\workspace\\image\\bus\\R_216_60_M\\R_216_60_M_01_M0_G1_C0_16.jpg 0.3385995887898602 0.35233213170882205 True True\n",
      "C:\\workspace\\image\\bus\\R_216_60_M\\R_216_60_M_01_M0_G1_C0_17.jpg 0.09838445491006238 0.2532803652007522 False True\n"
     ]
    },
    {
     "name": "stderr",
     "output_type": "stream",
     "text": [
      "  0%|          | 24/8067 [00:00<04:18, 31.10it/s]"
     ]
    },
    {
     "name": "stdout",
     "output_type": "stream",
     "text": [
      "C:\\workspace\\image\\bus\\R_216_60_M\\R_216_60_M_01_M0_G1_C0_18.jpg 0.11947545944002905 0.4756514941544941 False True\n",
      "C:\\workspace\\image\\bus\\R_216_60_M\\R_216_60_M_01_M0_G1_C0_19.jpg 0.07198157507486945 0.3910769444375214 False True\n",
      "C:\\workspace\\image\\bus\\R_216_60_M\\R_216_60_M_01_M0_G1_C0_20.jpg 0.08629744292479286 0.7071067811865475 False True\n",
      "C:\\workspace\\image\\bus\\R_216_60_M\\R_216_60_M_02_M0_G1_C0_01.jpg 0.2741249873151301 0.10702688317798927 True False\n",
      "C:\\workspace\\image\\bus\\R_216_60_M\\R_216_60_M_02_M0_G1_C0_02.jpg 0.2167265757643838 0.13793103448275862 True True\n",
      "C:\\workspace\\image\\bus\\R_216_60_M\\R_216_60_M_02_M0_G1_C0_03.jpg 0.24253562503633297 0.4143353952325209 True True\n",
      "C:\\workspace\\image\\bus\\R_216_60_M\\R_216_60_M_02_M0_G1_C0_04.jpg 0.11492204749198828 0.116619037896906 False False\n"
     ]
    },
    {
     "name": "stderr",
     "output_type": "stream",
     "text": [
      "  0%|          | 28/8067 [00:01<04:07, 32.46it/s]"
     ]
    },
    {
     "name": "stdout",
     "output_type": "stream",
     "text": [
      "C:\\workspace\\image\\bus\\R_216_60_M\\R_216_60_M_02_M0_G1_C0_05.jpg 0.17460757394239454 0.0 True False\n",
      "C:\\workspace\\image\\bus\\R_216_60_M\\R_216_60_M_02_M0_G1_C0_06.jpg 0.33387933424527133 0.26666666666666666 True True\n",
      "C:\\workspace\\image\\bus\\R_216_60_M\\R_216_60_M_02_M0_G1_C0_07.jpg 0.06704015231539909 0.5230534443633627 False True\n",
      "C:\\workspace\\image\\bus\\R_216_60_M\\R_216_60_M_02_M0_G1_C0_08.jpg 0.04737589195066988 0.28503285984879134 False True\n",
      "C:\\workspace\\image\\bus\\R_216_60_M\\R_216_60_M_02_M0_G1_C0_09.jpg 0.27011363051604403 0.7071067811865475 True True\n",
      "C:\\workspace\\image\\bus\\R_216_60_M\\R_216_60_M_02_M0_G1_C0_10.jpg 0.12126781251816647 0.3103502544759031 True True\n",
      "C:\\workspace\\image\\bus\\R_216_60_M\\R_216_60_M_02_M0_G1_C0_11.jpg 0.10999838238862368 0.3477283892346706 False True\n",
      "C:\\workspace\\image\\bus\\R_216_60_M\\R_216_60_M_02_M0_G1_C0_12.jpg 0.10999838238862368 0.3477283892346706 False True\n"
     ]
    },
    {
     "name": "stderr",
     "output_type": "stream",
     "text": [
      "  0%|          | 37/8067 [00:01<03:52, 34.47it/s]"
     ]
    },
    {
     "name": "stdout",
     "output_type": "stream",
     "text": [
      "C:\\workspace\\image\\bus\\R_216_60_M\\R_216_60_M_02_M0_G1_C0_13.jpg 1.1435437497937313 0.11363310286178553 True False\n",
      "C:\\workspace\\image\\bus\\R_216_60_M\\R_216_60_M_02_M0_G1_C0_14.jpg 0.09475178390133976 0.45607017003965516 False True\n",
      "C:\\workspace\\image\\bus\\R_216_60_M\\R_216_60_M_02_M0_G1_C0_15.jpg 0.05379023812308402 0.16298006013006622 False True\n",
      "C:\\workspace\\image\\bus\\R_216_60_M\\R_216_60_M_02_M0_G1_C0_16.jpg 0.04747929167502532 0.17460757394239457 False True\n",
      "C:\\workspace\\image\\bus\\R_216_60_M\\R_216_60_M_02_M0_G1_C0_17.jpg 0.08056594945107608 0.46354722850843494 False True\n",
      "C:\\workspace\\image\\bus\\R_216_60_M\\R_216_60_M_02_M0_G1_C0_18.jpg 0.05536528501009453 0.14071950894605836 False True\n",
      "C:\\workspace\\image\\bus\\R_216_60_M\\R_216_60_M_02_M0_G1_C0_19.jpg 0.06005916431857797 0.1355815361366601 False True\n"
     ]
    },
    {
     "name": "stderr",
     "output_type": "stream",
     "text": [
      "  1%|          | 45/8067 [00:01<04:02, 33.11it/s]"
     ]
    },
    {
     "name": "stdout",
     "output_type": "stream",
     "text": [
      "C:\\workspace\\image\\bus\\R_216_60_M\\R_216_60_M_02_M0_G1_C0_20.jpg 0.064292653624002 0.18210783977117087 False True\n",
      "C:\\workspace\\image\\bus\\R_216_60_M\\R_216_60_M_03_M0_G1_C0_01.jpg 0.10669739994407998 0.12518067944867692 False True\n",
      "C:\\workspace\\image\\bus\\R_216_60_M\\R_216_60_M_03_M0_G1_C0_02.jpg 0.07306865468071773 0.02608695652173913 False False\n",
      "C:\\workspace\\image\\bus\\R_216_60_M\\R_216_60_M_03_M0_G1_C0_03.jpg 0.07905694150420949 0.47598581911649424 False True\n",
      "C:\\workspace\\image\\bus\\R_216_60_M\\R_216_60_M_03_M0_G1_C0_04.jpg 0.19156525704423027 0.04526787302125927 True False\n",
      "C:\\workspace\\image\\bus\\R_216_60_M\\R_216_60_M_03_M0_G1_C0_05.jpg 0.14533282995919247 0.1084652289093281 True False\n",
      "C:\\workspace\\image\\bus\\R_216_60_M\\R_216_60_M_03_M0_G1_C0_06.jpg 0.1457719752328304 0.37947331922020544 True True\n"
     ]
    },
    {
     "name": "stderr",
     "output_type": "stream",
     "text": [
      "  1%|          | 53/8067 [00:01<03:59, 33.49it/s]"
     ]
    },
    {
     "name": "stdout",
     "output_type": "stream",
     "text": [
      "C:\\workspace\\image\\bus\\R_216_60_M\\R_216_60_M_03_M0_G1_C0_07.jpg 0.054501780534127214 0.0580747904139041 False False\n",
      "C:\\workspace\\image\\bus\\R_216_60_M\\R_216_60_M_03_M0_G1_C0_08.jpg 0.09954163242264942 0.6758625033664688 False True\n",
      "C:\\workspace\\image\\bus\\R_216_60_M\\R_216_60_M_03_M0_G1_C0_09.jpg 0.06651901052377393 0.19205531989934396 False True\n",
      "C:\\workspace\\image\\bus\\R_216_60_M\\R_216_60_M_03_M0_G1_C0_10.jpg 0.09446769167000743 0.2342606428329091 False True\n",
      "C:\\workspace\\image\\bus\\R_216_60_M\\R_216_60_M_03_M0_G1_C0_11.jpg 0.1464896838272619 0.13102435641608368 True True\n",
      "C:\\workspace\\image\\bus\\R_216_60_M\\R_216_60_M_03_M0_G1_C0_12.jpg 0.1015346165133619 0.19936305570722498 False True\n",
      "C:\\workspace\\image\\bus\\R_216_60_M\\R_216_60_M_03_M0_G1_C0_13.jpg 0.21091227030479892 0.4191368221424546 True True\n",
      "C:\\workspace\\image\\bus\\R_216_60_M\\R_216_60_M_03_M0_G1_C0_14.jpg 0.045613859596137854 0.2 False True\n"
     ]
    },
    {
     "name": "stderr",
     "output_type": "stream",
     "text": [
      "  1%|          | 61/8067 [00:02<03:52, 34.51it/s]"
     ]
    },
    {
     "name": "stdout",
     "output_type": "stream",
     "text": [
      "C:\\workspace\\image\\bus\\R_216_60_M\\R_216_60_M_03_M0_G1_C0_15.jpg 0.08543576577167611 1.5652475842498528 False True\n",
      "C:\\workspace\\image\\bus\\R_216_60_M\\R_216_60_M_03_M0_G1_C0_16.jpg 0.029462782549439483 0.05547001962252291 False False\n",
      "C:\\workspace\\image\\bus\\R_216_60_M\\R_216_60_M_03_M0_G1_C0_17.jpg 0.128564869306645 0.0 True False\n",
      "C:\\workspace\\image\\bus\\R_216_60_M\\R_216_60_M_03_M0_G1_C0_18.jpg 0.06453627877894652 0.09370425713316365 False False\n",
      "C:\\workspace\\image\\bus\\R_216_60_M\\R_216_60_M_03_M0_G1_C0_19.jpg 0.06453627877894652 0.09370425713316365 False False\n",
      "C:\\workspace\\image\\bus\\R_216_60_M\\R_216_60_M_03_M0_G1_C0_20.jpg 0.06616160888737545 0.5663521139548541 False True\n",
      "C:\\workspace\\image\\bus\\R_216_60_M\\R_216_60_M_04_M1_G1_C0_01.jpg 0.08295970381447579 0.14359163172354764 False True\n"
     ]
    },
    {
     "name": "stderr",
     "output_type": "stream",
     "text": [
      "  1%|          | 65/8067 [00:02<03:51, 34.53it/s]"
     ]
    },
    {
     "name": "stdout",
     "output_type": "stream",
     "text": [
      "C:\\workspace\\image\\bus\\R_216_60_M\\R_216_60_M_04_M1_G1_C0_02.jpg 0.06575959492214292 0.25 False True\n",
      "C:\\workspace\\image\\bus\\R_216_60_M\\R_216_60_M_04_M1_G1_C0_03.jpg 0.05183017160933442 1.3601470508735443 False True\n",
      "C:\\workspace\\image\\bus\\R_216_60_M\\R_216_60_M_04_M1_G1_C0_04.jpg 0.14804664203952106 0.33586437448586365 True True\n",
      "C:\\workspace\\image\\bus\\R_216_60_M\\R_216_60_M_04_M1_G1_C0_05.jpg 0.02855977389887699 0.07808688094430304 False False\n",
      "C:\\workspace\\image\\bus\\R_216_60_M\\R_216_60_M_04_M1_G1_C0_06.jpg 0.05734450258153416 1.196842693269434 False True\n",
      "C:\\workspace\\image\\bus\\R_216_60_M\\R_216_60_M_04_M1_G1_C0_07.jpg 0.12381513913591215 0.09977002652578373 True False\n",
      "C:\\workspace\\image\\bus\\R_216_60_M\\R_216_60_M_04_M1_G1_C0_08.jpg 0.12381513913591215 0.09977002652578373 True False\n",
      "C:\\workspace\\image\\bus\\R_216_60_M\\R_216_60_M_04_M1_G1_C0_09.jpg 0.10594728252989999 0.44499415948998483 False True\n"
     ]
    },
    {
     "name": "stderr",
     "output_type": "stream",
     "text": [
      "  1%|          | 74/8067 [00:02<03:49, 34.82it/s]"
     ]
    },
    {
     "name": "stdout",
     "output_type": "stream",
     "text": [
      "C:\\workspace\\image\\bus\\R_216_60_M\\R_216_60_M_04_M1_G1_C0_10.jpg 0.2222222222222222 0.4931969619160718 True True\n",
      "C:\\workspace\\image\\bus\\R_216_60_M\\R_216_60_M_04_M1_G1_C0_11.jpg 0.1429429687242164 0.3391817326856071 True True\n",
      "C:\\workspace\\image\\bus\\R_216_60_M\\R_216_60_M_04_M1_G1_C0_12.jpg 0.11768778828946262 0.17306092336132828 False True\n",
      "C:\\workspace\\image\\bus\\R_216_60_M\\R_216_60_M_04_M1_G1_C0_13.jpg 0.12711407958211074 0.2586783681355361 True True\n",
      "C:\\workspace\\image\\bus\\R_216_60_M\\R_216_60_M_04_M1_G1_C0_14.jpg 0.07834018199827893 0.21757131728816848 False True\n",
      "C:\\workspace\\image\\bus\\R_216_60_M\\R_216_60_M_04_M1_G1_C0_15.jpg 0.08079086905672611 0.3713906763541037 False True\n",
      "C:\\workspace\\image\\bus\\R_216_60_M\\R_216_60_M_04_M1_G1_C0_16.jpg 0.07857280939823943 0.2361550989693654 False True\n"
     ]
    },
    {
     "name": "stderr",
     "output_type": "stream",
     "text": [
      "  1%|          | 82/8067 [00:02<03:46, 35.32it/s]"
     ]
    },
    {
     "name": "stdout",
     "output_type": "stream",
     "text": [
      "C:\\workspace\\image\\bus\\R_216_60_M\\R_216_60_M_04_M1_G1_C0_17.jpg 0.1355815361366601 0.14704292441876154 True True\n",
      "C:\\workspace\\image\\bus\\R_216_60_M\\R_216_60_M_04_M1_G1_C0_18.jpg 0.05049474755706385 1.3643820804812932 False True\n",
      "C:\\workspace\\image\\bus\\R_216_60_M\\R_216_60_M_04_M1_G1_C0_19.jpg 0.06276411596215886 0.12403473458920847 False True\n",
      "C:\\workspace\\image\\bus\\R_216_60_M\\R_216_60_M_04_M1_G1_C0_20.jpg 0.1883365829722821 0.14479074758768978 True True\n",
      "C:\\workspace\\image\\bus\\R_216_60_M\\R_216_60_M_05_M1_G1_C0_01.jpg 0.08562829731898473 0.36608826607349904 False True\n",
      "C:\\workspace\\image\\bus\\R_216_60_M\\R_216_60_M_05_M1_G1_C0_02.jpg 0.10846522890932808 0.14041398907543262 False True\n",
      "C:\\workspace\\image\\bus\\R_216_60_M\\R_216_60_M_05_M1_G1_C0_03.jpg 0.043412028668458315 0.6332009130018805 False True\n",
      "C:\\workspace\\image\\bus\\R_216_60_M\\R_216_60_M_05_M1_G1_C0_04.jpg 0.043412028668458315 0.6332009130018805 False True\n"
     ]
    },
    {
     "name": "stderr",
     "output_type": "stream",
     "text": [
      "  1%|          | 91/8067 [00:02<03:42, 35.92it/s]"
     ]
    },
    {
     "name": "stdout",
     "output_type": "stream",
     "text": [
      "C:\\workspace\\image\\bus\\R_216_60_M\\R_216_60_M_05_M1_G1_C0_05.jpg 0.09757867477350118 0.20129242055711863 False True\n",
      "C:\\workspace\\image\\bus\\R_216_60_M\\R_216_60_M_05_M1_G1_C0_06.jpg 0.08195620119650535 0.1575609281587104 False True\n",
      "C:\\workspace\\image\\bus\\R_216_60_M\\R_216_60_M_05_M1_G1_C0_07.jpg 0.05423261445466404 0.4544767523074303 False True\n",
      "C:\\workspace\\image\\bus\\R_216_60_M\\R_216_60_M_05_M1_G1_C0_08.jpg 0.09763651194714486 0.417765845763859 False True\n",
      "C:\\workspace\\image\\bus\\R_216_60_M\\R_216_60_M_05_M1_G1_C0_09.jpg 0.057259833431386825 0.1 False False\n",
      "C:\\workspace\\image\\bus\\R_216_60_M\\R_216_60_M_05_M1_G1_C0_10.jpg 0.050379272185987846 0.3535533905932738 False True\n",
      "C:\\workspace\\image\\bus\\R_216_60_M\\R_216_60_M_05_M1_G1_C0_11.jpg 0.07188137197855833 0.38208035995043504 False True\n"
     ]
    },
    {
     "name": "stderr",
     "output_type": "stream",
     "text": [
      "  1%|          | 95/8067 [00:02<03:42, 35.80it/s]"
     ]
    },
    {
     "name": "stdout",
     "output_type": "stream",
     "text": [
      "C:\\workspace\\image\\bus\\R_216_60_M\\R_216_60_M_05_M1_G1_C0_12.jpg 0.0717531522059146 0.8617697249402124 False True\n",
      "C:\\workspace\\image\\bus\\R_216_60_M\\R_216_60_M_05_M1_G1_C0_13.jpg 0.07402332101976053 1.0 False True\n",
      "C:\\workspace\\image\\bus\\R_216_60_M\\R_216_60_M_05_M1_G1_C0_14.jpg 0.09119215051751065 0.0827605888602368 False False\n",
      "C:\\workspace\\image\\bus\\R_216_60_M\\R_216_60_M_05_M1_G1_C0_15.jpg 0.07511565157216644 1.6124515496597098 False True\n",
      "C:\\workspace\\image\\bus\\R_216_60_M\\R_216_60_M_05_M1_G1_C0_16.jpg 0.03843312210120439 0.22360679774997896 False True\n",
      "C:\\workspace\\image\\bus\\R_216_60_M\\R_216_60_M_05_M1_G1_C0_17.jpg 0.15313826247423704 0.18352736590853044 True True\n",
      "C:\\workspace\\image\\bus\\R_216_60_M\\R_216_60_M_05_M1_G1_C0_18.jpg 0.09712858623572641 0.061267885174483984 False False\n",
      "C:\\workspace\\image\\bus\\R_216_60_M\\R_216_60_M_05_M1_G1_C0_19.jpg 0.1090440572471855 0.1643989873053573 False True\n"
     ]
    },
    {
     "name": "stderr",
     "output_type": "stream",
     "text": [
      "  1%|▏         | 107/8067 [00:03<03:43, 35.63it/s]"
     ]
    },
    {
     "name": "stdout",
     "output_type": "stream",
     "text": [
      "C:\\workspace\\image\\bus\\R_216_60_M\\R_216_60_M_05_M1_G1_C0_20.jpg 0.027948666314477455 1.6666666666666667 False True\n",
      "C:\\workspace\\image\\bus\\R_216_60_M\\R_216_60_M_06_M1_G1_C0_01.jpg 0.07432941462471665 0.15881020420107103 False True\n",
      "C:\\workspace\\image\\bus\\R_216_60_M\\R_216_60_M_06_M1_G1_C0_02.jpg 0.16609095970747995 0.24507154069793594 True True\n",
      "C:\\workspace\\image\\bus\\R_216_60_M\\R_216_60_M_06_M1_G1_C0_03.jpg 0.06005916431857797 0.35355339059327373 False True\n",
      "C:\\workspace\\image\\bus\\R_216_60_M\\R_216_60_M_06_M1_G1_C0_04.jpg 0.04708163676976325 0.25182262437346936 False True\n",
      "C:\\workspace\\image\\bus\\R_216_60_M\\R_216_60_M_06_M1_G1_C0_05.jpg 0.10301575072754254 0.11428571428571428 False False\n",
      "C:\\workspace\\image\\bus\\R_216_60_M\\R_216_60_M_06_M1_G1_C0_06.jpg 0.12675004445952595 0.23806524940085688 True True\n",
      "C:\\workspace\\image\\bus\\R_216_60_M\\R_216_60_M_06_M1_G1_C0_07.jpg 0.05643326479831003 0.15339299776947407 False True\n"
     ]
    },
    {
     "name": "stderr",
     "output_type": "stream",
     "text": [
      "  1%|▏         | 111/8067 [00:03<03:56, 33.58it/s]"
     ]
    },
    {
     "name": "stdout",
     "output_type": "stream",
     "text": [
      "C:\\workspace\\image\\bus\\R_216_60_M\\R_216_60_M_06_M1_G1_C0_08.jpg 0.19561990699936557 0.18181818181818182 True True\n",
      "C:\\workspace\\image\\bus\\R_216_60_M\\R_216_60_M_06_M1_G1_C0_09.jpg 0.08770580193070292 0.49526055654364853 False True\n",
      "C:\\workspace\\image\\bus\\R_216_60_M\\R_216_60_M_06_M1_G1_C0_10.jpg 0.04703604341917987 0.0 False False\n",
      "C:\\workspace\\image\\bus\\R_216_60_M\\R_216_60_M_06_M1_G1_C0_11.jpg 0.08348957649538064 0.5008643048801883 False True\n",
      "C:\\workspace\\image\\bus\\R_216_60_M\\R_216_60_M_06_M1_G1_C0_12.jpg 0.05413436264610636 0.18569533817705186 False True\n",
      "C:\\workspace\\image\\bus\\R_216_60_M\\R_216_60_M_06_M1_G1_C0_13.jpg 0.10894694214056866 0.2 False True\n",
      "C:\\workspace\\image\\bus\\R_216_60_M\\R_216_60_M_06_M1_G1_C0_14.jpg 0.056469243931578206 0.15791661046371636 False True\n"
     ]
    },
    {
     "name": "stderr",
     "output_type": "stream",
     "text": [
      "  1%|▏         | 119/8067 [00:03<03:45, 35.27it/s]"
     ]
    },
    {
     "name": "stdout",
     "output_type": "stream",
     "text": [
      "C:\\workspace\\image\\bus\\R_216_60_M\\R_216_60_M_06_M1_G1_C0_15.jpg 0.056469243931578206 0.15791661046371636 False True\n",
      "C:\\workspace\\image\\bus\\R_216_60_M\\R_216_60_M_06_M1_G1_C0_16.jpg 0.08458258116519013 1.2197560731756085 False True\n",
      "C:\\workspace\\image\\bus\\R_216_60_M\\R_216_60_M_06_M1_G1_C0_17.jpg 0.10640405449734033 0.12559008982583206 False True\n",
      "C:\\workspace\\image\\bus\\R_216_60_M\\R_216_60_M_06_M1_G1_C0_18.jpg 0.10640405449734033 0.12559008982583206 False True\n",
      "C:\\workspace\\image\\bus\\R_216_60_M\\R_216_60_M_06_M1_G1_C0_19.jpg 1.0 0.1414213562373095 True True\n",
      "C:\\workspace\\image\\bus\\R_216_60_M\\R_216_60_M_06_M1_G1_C0_20.jpg 0.282842712474619 0.8602325267042626 True True\n",
      "C:\\workspace\\image\\bus\\R_216_60_M\\R_216_60_M_07_M1_G1_C0_01.jpg 0.07710579232757896 1.1766968108291043 False True\n",
      "C:\\workspace\\image\\bus\\R_216_60_M\\R_216_60_M_07_M1_G1_C0_02.jpg 0.07703712157713453 1.1401754250991378 False True\n",
      "C:\\workspace\\image\\bus\\R_216_60_M\\R_216_60_M_07_M1_G1_C0_03.jpg 0.07703712157713453 1.1401754250991378 False True\n"
     ]
    },
    {
     "name": "stderr",
     "output_type": "stream",
     "text": [
      "  2%|▏         | 129/8067 [00:03<03:25, 38.61it/s]"
     ]
    },
    {
     "name": "stdout",
     "output_type": "stream",
     "text": [
      "C:\\workspace\\image\\bus\\R_216_60_M\\R_216_60_M_07_M1_G1_C0_04.jpg 0.03665192741060711 1.671258043593467 False True\n",
      "C:\\workspace\\image\\bus\\R_216_60_M\\R_216_60_M_07_M1_G1_C0_05.jpg 0.05590169943749475 0.3333333333333333 False True\n",
      "C:\\workspace\\image\\bus\\R_216_60_M\\R_216_60_M_07_M1_G1_C0_06.jpg 0.07449422505904478 2.8635642126552705 False True\n",
      "C:\\workspace\\image\\bus\\R_216_60_M\\R_216_60_M_07_M1_G1_C0_07.jpg 0.07449422505904478 2.8635642126552705 False True\n",
      "C:\\workspace\\image\\bus\\R_216_60_M\\R_216_60_M_07_M1_G1_C0_08.jpg 0.07449422505904478 2.8635642126552705 False True\n",
      "C:\\workspace\\image\\bus\\R_216_60_M\\R_216_60_M_07_M1_G1_C0_09.jpg 0.26799851570463873 0.0547996624351191 True False\n",
      "C:\\workspace\\image\\bus\\R_216_60_M\\R_216_60_M_07_M1_G1_C0_10.jpg 0.05731623781225858 0.07495316889958614 False False\n",
      "C:\\workspace\\image\\bus\\R_216_60_M\\R_216_60_M_07_M1_G1_C0_11.jpg 0.07062245515464487 0.33333333333333337 False True\n"
     ]
    },
    {
     "name": "stderr",
     "output_type": "stream",
     "text": [
      "  2%|▏         | 138/8067 [00:04<03:28, 37.94it/s]"
     ]
    },
    {
     "name": "stdout",
     "output_type": "stream",
     "text": [
      "C:\\workspace\\image\\bus\\R_216_60_M\\R_216_60_M_07_M1_G1_C0_12.jpg 1.0 1.2 True True\n",
      "C:\\workspace\\image\\bus\\R_216_60_M\\R_216_60_M_07_M1_G1_C0_13.jpg 1.0 1.2 True True\n",
      "C:\\workspace\\image\\bus\\R_216_60_M\\R_216_60_M_07_M1_G1_C0_14.jpg 0.027767067240353285 0.0 False False\n",
      "C:\\workspace\\image\\bus\\R_216_60_M\\R_216_60_M_07_M1_G1_C0_15.jpg 0.06413353677948659 0.25298221281347033 False True\n",
      "C:\\workspace\\image\\bus\\R_216_60_M\\R_216_60_M_07_M1_G1_C0_16.jpg 0.059665616229592065 1.414213562373095 False True\n",
      "C:\\workspace\\image\\bus\\R_216_60_M\\R_216_60_M_07_M1_G1_C0_17.jpg 0.11218157042698963 0.5623515948579823 False True\n",
      "C:\\workspace\\image\\bus\\R_216_60_M\\R_216_60_M_07_M1_G1_C0_18.jpg 0.10846522890932808 0.5099019513592784 False True\n",
      "C:\\workspace\\image\\bus\\R_216_60_M\\R_216_60_M_07_M1_G1_C0_19.jpg 0.05714285714285714 0.4366480030862637 False True\n"
     ]
    },
    {
     "name": "stderr",
     "output_type": "stream",
     "text": [
      "  2%|▏         | 146/8067 [00:04<03:43, 35.50it/s]"
     ]
    },
    {
     "name": "stdout",
     "output_type": "stream",
     "text": [
      "C:\\workspace\\image\\bus\\R_216_60_M\\R_216_60_M_07_M1_G1_C0_20.jpg 0.11166390612088833 0.0 False False\n",
      "C:\\workspace\\image\\bus\\R_216_60_M\\R_216_60_M_08_M1_G1_C0_01.jpg 0.0 0.08219949365267865 False False\n",
      "C:\\workspace\\image\\bus\\R_216_60_M\\R_216_60_M_08_M1_G1_C0_02.jpg 0.1407195089460584 0.06537204504606134 True False\n",
      "C:\\workspace\\image\\bus\\R_216_60_M\\R_216_60_M_08_M1_G1_C0_03.jpg 0.15791661046371636 0.14776353114138543 True True\n",
      "C:\\workspace\\image\\bus\\R_216_60_M\\R_216_60_M_08_M1_G1_C0_04.jpg 0.11704114719613057 0.17909626377485716 False True\n",
      "C:\\workspace\\image\\bus\\R_216_60_M\\R_216_60_M_08_M1_G1_C0_05.jpg 0.06386159585991316 0.2773500981126146 False True\n",
      "C:\\workspace\\image\\bus\\R_216_60_M\\R_216_60_M_08_M1_G1_C0_06.jpg 0.12639003479138966 0.7656414934887765 True True\n"
     ]
    },
    {
     "name": "stderr",
     "output_type": "stream",
     "text": [
      "  2%|▏         | 150/8067 [00:04<03:49, 34.53it/s]"
     ]
    },
    {
     "name": "stdout",
     "output_type": "stream",
     "text": [
      "C:\\workspace\\image\\bus\\R_216_60_M\\R_216_60_M_08_M1_G1_C0_07.jpg 0.04159451654038515 0.28187240871451136 False True\n",
      "C:\\workspace\\image\\bus\\R_216_60_M\\R_216_60_M_08_M1_G1_C0_08.jpg 0.039773931063554285 0.25 False True\n",
      "C:\\workspace\\image\\bus\\R_216_60_M\\R_216_60_M_08_M1_G1_C0_09.jpg 0.2814390178921168 0.3579299917631361 True True\n",
      "C:\\workspace\\image\\bus\\R_216_60_M\\R_216_60_M_08_M1_G1_C0_10.jpg 0.08834522085987724 0.0 False False\n",
      "C:\\workspace\\image\\bus\\R_216_60_M\\R_216_60_M_08_M1_G1_C0_11.jpg 0.18467921378827945 0.30804303424830937 True True\n",
      "C:\\workspace\\image\\bus\\R_216_60_M\\R_216_60_M_08_M1_G1_C0_12.jpg 0.13090580207736072 0.7294587663076778 True True\n",
      "C:\\workspace\\image\\bus\\R_216_60_M\\R_216_60_M_08_M1_G1_C0_13.jpg 0.17729893187101706 0.14133305066751467 True True\n",
      "C:\\workspace\\image\\bus\\R_216_60_M\\R_216_60_M_08_M1_G1_C0_14.jpg 0.07648733678934368 0.24892933126855893 False True\n"
     ]
    },
    {
     "name": "stderr",
     "output_type": "stream",
     "text": [
      "  2%|▏         | 158/8067 [00:04<03:48, 34.58it/s]"
     ]
    },
    {
     "name": "stdout",
     "output_type": "stream",
     "text": [
      "C:\\workspace\\image\\bus\\R_216_60_M\\R_216_60_M_08_M1_G1_C0_15.jpg 0.5426273532033236 0.24128650621655534 True True\n",
      "C:\\workspace\\image\\bus\\R_216_60_M\\R_216_60_M_08_M1_G1_C0_16.jpg 0.08524452710819916 0.404888165089458 False True\n",
      "C:\\workspace\\image\\bus\\R_216_60_M\\R_216_60_M_08_M1_G1_C0_17.jpg 0.049495247447034894 0.7071067811865475 False True\n",
      "C:\\workspace\\image\\bus\\R_216_60_M\\R_216_60_M_08_M1_G1_C0_18.jpg 0.06421612990679355 0.32152400656298624 False True\n",
      "C:\\workspace\\image\\bus\\R_216_60_M\\R_216_60_M_08_M1_G1_C0_19.jpg 0.08343479146871392 0.19787437382135126 False True\n",
      "C:\\workspace\\image\\bus\\R_216_60_M\\R_216_60_M_08_M1_G1_C0_20.jpg 0.08343479146871392 0.19787437382135126 False True\n",
      "C:\\workspace\\image\\bus\\R_216_60_M\\R_216_60_M_09_M1_G1_C0_01.jpg 0.052342392259021375 0.31806809832974015 False True\n"
     ]
    },
    {
     "name": "stderr",
     "output_type": "stream",
     "text": [
      "  2%|▏         | 167/8067 [00:04<03:35, 36.71it/s]"
     ]
    },
    {
     "name": "stdout",
     "output_type": "stream",
     "text": [
      "C:\\workspace\\image\\bus\\R_216_60_M\\R_216_60_M_09_M1_G1_C0_02.jpg 0.028194193721730047 0.6324555320336759 False True\n",
      "C:\\workspace\\image\\bus\\R_216_60_M\\R_216_60_M_09_M1_G1_C0_03.jpg 0.028194193721730047 0.6324555320336759 False True\n",
      "C:\\workspace\\image\\bus\\R_216_60_M\\R_216_60_M_09_M1_G1_C0_04.jpg 0.0604122093330177 0.0 False False\n",
      "C:\\workspace\\image\\bus\\R_216_60_M\\R_216_60_M_09_M1_G1_C0_05.jpg 0.04559607525875532 0.08304547985373997 False False\n",
      "C:\\workspace\\image\\bus\\R_216_60_M\\R_216_60_M_09_M1_G1_C0_06.jpg 0.037011660509880265 0.0 False False\n",
      "C:\\workspace\\image\\bus\\R_216_60_M\\R_216_60_M_09_M1_G1_C0_07.jpg 0.223606797749979 0.1032031374230672 True False\n",
      "C:\\workspace\\image\\bus\\R_216_60_M\\R_216_60_M_09_M1_G1_C0_08.jpg 0.09586025865388215 0.21708374752650372 False True\n",
      "C:\\workspace\\image\\bus\\R_216_60_M\\R_216_60_M_09_M1_G1_C0_09.jpg 0.04862741209343457 0.22360679774997896 False True\n"
     ]
    },
    {
     "name": "stderr",
     "output_type": "stream",
     "text": [
      "  2%|▏         | 175/8067 [00:05<03:40, 35.83it/s]"
     ]
    },
    {
     "name": "stdout",
     "output_type": "stream",
     "text": [
      "C:\\workspace\\image\\bus\\R_216_60_M\\R_216_60_M_09_M1_G1_C0_10.jpg 0.04140866624999611 0.5 False True\n",
      "C:\\workspace\\image\\bus\\R_216_60_M\\R_216_60_M_09_M1_G1_C0_11.jpg 0.06524097314468338 0.24763027827182427 False True\n",
      "C:\\workspace\\image\\bus\\R_216_60_M\\R_216_60_M_09_M1_G1_C0_12.jpg 0.08498365855987974 0.3472581680740104 False True\n",
      "C:\\workspace\\image\\bus\\R_216_60_M\\R_216_60_M_09_M1_G1_C0_13.jpg 0.04350911475460939 0.6401843996644799 False True\n",
      "C:\\workspace\\image\\bus\\R_216_60_M\\R_216_60_M_09_M1_G1_C0_14.jpg 0.03146583877637763 0.1605403247669839 False True\n",
      "C:\\workspace\\image\\bus\\R_216_60_M\\R_216_60_M_09_M1_G1_C0_15.jpg 0.06672371987921948 0.6401843996644799 False True\n",
      "C:\\workspace\\image\\bus\\R_216_60_M\\R_216_60_M_09_M1_G1_C0_16.jpg 0.11286652959662007 0.21926450482675733 False True\n",
      "C:\\workspace\\image\\bus\\R_216_60_M\\R_216_60_M_09_M1_G1_C0_17.jpg 0.0594018645349865 0.22360679774997896 False True\n"
     ]
    },
    {
     "name": "stderr",
     "output_type": "stream",
     "text": [
      "  2%|▏         | 183/8067 [00:05<03:49, 34.40it/s]"
     ]
    },
    {
     "name": "stdout",
     "output_type": "stream",
     "text": [
      "C:\\workspace\\image\\bus\\R_216_60_M\\R_216_60_M_09_M1_G1_C0_18.jpg 0.3020610466650885 0.6183469424008422 True True\n",
      "C:\\workspace\\image\\bus\\R_216_60_M\\R_216_60_M_09_M1_G1_C0_19.jpg 0.1013940006944631 0.3067859955389482 False True\n",
      "C:\\workspace\\image\\bus\\R_216_60_M\\R_216_60_M_09_M1_G1_C0_20.jpg 0.1610391566002077 0.49497474683058323 True True\n",
      "C:\\workspace\\image\\bus\\R_216_60_M\\R_216_60_M_10_M1_G1_C0_01.jpg 0.1111111111111111 0.2773500981126145 False True\n",
      "C:\\workspace\\image\\bus\\R_216_60_M\\R_216_60_M_10_M1_G1_C0_02.jpg 0.23806524940085688 0.29411764705882354 True True\n",
      "C:\\workspace\\image\\bus\\R_216_60_M\\R_216_60_M_10_M1_G1_C0_03.jpg 0.051390284197665316 0.24729946379518986 False True\n",
      "C:\\workspace\\image\\bus\\R_216_60_M\\R_216_60_M_10_M1_G1_C0_04.jpg 0.21107926341908753 0.3952847075210474 True True\n"
     ]
    },
    {
     "name": "stderr",
     "output_type": "stream",
     "text": [
      "  2%|▏         | 191/8067 [00:05<03:49, 34.31it/s]"
     ]
    },
    {
     "name": "stdout",
     "output_type": "stream",
     "text": [
      "C:\\workspace\\image\\bus\\R_216_60_M\\R_216_60_M_10_M1_G1_C0_05.jpg 0.05677505520148495 0.5872202195147036 False True\n",
      "C:\\workspace\\image\\bus\\R_216_60_M\\R_216_60_M_10_M1_G1_C0_06.jpg 0.30804303424830937 0.5234239225902138 True True\n",
      "C:\\workspace\\image\\bus\\R_216_60_M\\R_216_60_M_10_M1_G1_C0_07.jpg 0.04561979233461597 0.05 False False\n",
      "C:\\workspace\\image\\bus\\R_216_60_M\\R_216_60_M_10_M1_G1_C0_08.jpg 0.17169291787923757 0.2940858488375231 True True\n",
      "C:\\workspace\\image\\bus\\R_216_60_M\\R_216_60_M_10_M1_G1_C0_09.jpg 0.051987524491003634 0.13545709229571928 False True\n",
      "C:\\workspace\\image\\bus\\R_216_60_M\\R_216_60_M_10_M1_G1_C0_10.jpg 0.09053574604251853 0.6597682302498801 False True\n",
      "C:\\workspace\\image\\bus\\R_216_60_M\\R_216_60_M_10_M1_G1_C0_11.jpg 0.05050762722761054 0.7071067811865475 False True\n",
      "C:\\workspace\\image\\bus\\R_216_60_M\\R_216_60_M_10_M1_G1_C0_12.jpg 0.052704627669472995 0.29361010975735174 False True\n"
     ]
    },
    {
     "name": "stderr",
     "output_type": "stream",
     "text": [
      "  2%|▏         | 199/8067 [00:05<03:53, 33.65it/s]"
     ]
    },
    {
     "name": "stdout",
     "output_type": "stream",
     "text": [
      "C:\\workspace\\image\\bus\\R_216_60_M\\R_216_60_M_10_M1_G1_C0_13.jpg 0.053239713749995 0.0 False False\n",
      "C:\\workspace\\image\\bus\\R_216_60_M\\R_216_60_M_10_M1_G1_C0_14.jpg 0.202444082544729 0.17888543819998318 True True\n",
      "C:\\workspace\\image\\bus\\R_216_60_M\\R_216_60_M_10_M1_G1_C0_15.jpg 0.08185982487053739 1.0 False True\n",
      "C:\\workspace\\image\\bus\\R_216_60_M\\R_216_60_M_10_M1_G1_C0_16.jpg 0.12316328538087544 0.051502620262460476 True False\n",
      "C:\\workspace\\image\\bus\\R_216_60_M\\R_216_60_M_10_M1_G1_C0_17.jpg 0.05872202195147035 0.5270462766947299 False True\n",
      "C:\\workspace\\image\\bus\\R_216_60_M\\R_216_60_M_10_M1_G1_C0_18.jpg 0.04157653749630318 0.2768182661791333 False True\n",
      "C:\\workspace\\image\\bus\\R_216_60_M\\R_216_60_M_10_M1_G1_C0_19.jpg 0.06834262666401372 0.3 False True\n"
     ]
    },
    {
     "name": "stderr",
     "output_type": "stream",
     "text": [
      "  3%|▎         | 203/8067 [00:05<03:43, 35.18it/s]"
     ]
    },
    {
     "name": "stdout",
     "output_type": "stream",
     "text": [
      "C:\\workspace\\image\\bus\\R_216_60_M\\R_216_60_M_10_M1_G1_C0_20.jpg 0.1415189892183811 0.3308080444368772 True True\n",
      "C:\\workspace\\image\\bus\\R_216_60_M\\R_216_60_M_11_M1_G1_C0_01.jpg 0.10599978800063599 1.0 False True\n",
      "C:\\workspace\\image\\bus\\R_216_60_M\\R_216_60_M_11_M1_G1_C0_02.jpg 0.10905902109565341 0.2711630722733202 False True\n",
      "C:\\workspace\\image\\bus\\R_216_60_M\\R_216_60_M_11_M1_G1_C0_03.jpg 0.10905902109565341 0.2711630722733202 False True\n",
      "C:\\workspace\\image\\bus\\R_216_60_M\\R_216_60_M_11_M1_G1_C0_04.jpg 0.10905902109565341 0.2711630722733202 False True\n",
      "C:\\workspace\\image\\bus\\R_216_60_M\\R_216_60_M_11_M1_G1_C0_05.jpg 0.10905902109565341 0.2711630722733202 False True\n",
      "C:\\workspace\\image\\bus\\R_216_60_M\\R_216_60_M_11_M1_G1_C0_06.jpg 0.10905902109565341 0.2711630722733202 False True\n",
      "C:\\workspace\\image\\bus\\R_216_60_M\\R_216_60_M_11_M1_G1_C0_07.jpg 0.10905902109565341 0.2711630722733202 False True\n",
      "C:\\workspace\\image\\bus\\R_216_60_M\\R_216_60_M_11_M1_G1_C0_08.jpg 0.02984742194699502 0.17135864339326193 False True\n",
      "C:\\workspace\\image\\bus\\R_216_60_M\\R_216_60_M_11_M1_G1_C0_09.jpg 0.08304547985373996 0.047565149415449405 False False\n"
     ]
    },
    {
     "name": "stderr",
     "output_type": "stream",
     "text": [
      "  3%|▎         | 214/8067 [00:06<03:25, 38.29it/s]"
     ]
    },
    {
     "name": "stdout",
     "output_type": "stream",
     "text": [
      "C:\\workspace\\image\\bus\\R_216_60_M\\R_216_60_M_11_M1_G1_C0_10.jpg 0.2634484753232435 0.2523772325625344 True True\n",
      "C:\\workspace\\image\\bus\\R_216_60_M\\R_216_60_M_11_M1_G1_C0_11.jpg 0.1340854998302356 0.07432941462471664 True False\n",
      "C:\\workspace\\image\\bus\\R_216_60_M\\R_216_60_M_11_M1_G1_C0_12.jpg 0.0925718378067056 0.19425717247145283 False True\n",
      "C:\\workspace\\image\\bus\\R_216_60_M\\R_216_60_M_11_M1_G1_C0_13.jpg 0.048507125007266595 0.4649905549752772 False True\n",
      "C:\\workspace\\image\\bus\\R_216_60_M\\R_216_60_M_11_M1_G1_C0_14.jpg 0.07352146220938077 0.17541160386140586 False True\n",
      "C:\\workspace\\image\\bus\\R_216_60_M\\R_216_60_M_11_M1_G1_C0_15.jpg 0.05960728946350439 0.7669649888473705 False True\n",
      "C:\\workspace\\image\\bus\\R_216_60_M\\R_216_60_M_11_M1_G1_C0_16.jpg 0.06565321642986127 0.8744746321952062 False True\n",
      "C:\\workspace\\image\\bus\\R_216_60_M\\R_216_60_M_11_M1_G1_C0_17.jpg 0.046132013680460944 0.2773500981126146 False True\n"
     ]
    },
    {
     "name": "stderr",
     "output_type": "stream",
     "text": [
      "  3%|▎         | 222/8067 [00:06<03:40, 35.61it/s]"
     ]
    },
    {
     "name": "stdout",
     "output_type": "stream",
     "text": [
      "C:\\workspace\\image\\bus\\R_216_60_M\\R_216_60_M_11_M1_G1_C0_18.jpg 0.18380365552345193 0.5234239225902138 True True\n",
      "C:\\workspace\\image\\bus\\R_216_60_M\\R_216_60_M_11_M1_G1_C0_19.jpg 0.19425717247145285 0.23570226039551584 True True\n",
      "C:\\workspace\\image\\bus\\R_216_60_M\\R_216_60_M_11_M1_G1_C0_20.jpg 0.04776821771924318 0.7071067811865476 False True\n",
      "C:\\workspace\\image\\bus\\R_216_60_M\\R_216_60_M_12_M1_G1_C0_01.jpg 0.06201736729460422 0.2129320322963028 False True\n",
      "C:\\workspace\\image\\bus\\R_216_60_M\\R_216_60_M_12_M1_G1_C0_02.jpg 0.034852515603774246 0.2650854018430103 False True\n",
      "C:\\workspace\\image\\bus\\R_216_60_M\\R_216_60_M_12_M1_G1_C0_03.jpg 0.15164966513568456 0.46153846153846156 True True\n",
      "C:\\workspace\\image\\bus\\R_216_60_M\\R_216_60_M_12_M1_G1_C0_04.jpg 0.10635890745287926 0.0 False False\n"
     ]
    },
    {
     "name": "stderr",
     "output_type": "stream",
     "text": [
      "  3%|▎         | 230/8067 [00:06<03:41, 35.36it/s]"
     ]
    },
    {
     "name": "stdout",
     "output_type": "stream",
     "text": [
      "C:\\workspace\\image\\bus\\R_216_60_M\\R_216_60_M_12_M1_G1_C0_05.jpg 0.06012488885126036 0.1504142093990467 False True\n",
      "C:\\workspace\\image\\bus\\R_216_60_M\\R_216_60_M_12_M1_G1_C0_06.jpg 0.05439282932204212 0.5 False True\n",
      "C:\\workspace\\image\\bus\\R_216_60_M\\R_216_60_M_12_M1_G1_C0_07.jpg 0.05439282932204212 0.5 False True\n",
      "C:\\workspace\\image\\bus\\R_216_60_M\\R_216_60_M_12_M1_G1_C0_08.jpg 0.07071067811865475 0.6439209162167846 False True\n",
      "C:\\workspace\\image\\bus\\R_216_60_M\\R_216_60_M_12_M1_G1_C0_09.jpg 0.06208904988523744 0.11585688927269845 False False\n",
      "C:\\workspace\\image\\bus\\R_216_60_M\\R_216_60_M_12_M1_G1_C0_10.jpg 0.09877295966495897 0.14634146341463414 False True\n",
      "C:\\workspace\\image\\bus\\R_216_60_M\\R_216_60_M_12_M1_G1_C0_11.jpg 0.11990411504661473 0.22360679774997896 False True\n",
      "C:\\workspace\\image\\bus\\R_216_60_M\\R_216_60_M_12_M1_G1_C0_12.jpg 0.06009252125773315 0.07602859212697055 False False\n"
     ]
    },
    {
     "name": "stderr",
     "output_type": "stream",
     "text": [
      "  3%|▎         | 238/8067 [00:06<03:35, 36.29it/s]"
     ]
    },
    {
     "name": "stdout",
     "output_type": "stream",
     "text": [
      "C:\\workspace\\image\\bus\\R_216_60_M\\R_216_60_M_12_M1_G1_C0_13.jpg 0.0735673605359049 0.09877295966495897 False False\n",
      "C:\\workspace\\image\\bus\\R_216_60_M\\R_216_60_M_12_M1_G1_C0_14.jpg 0.049690399499995326 0.06984302957695782 False False\n",
      "C:\\workspace\\image\\bus\\R_216_60_M\\R_216_60_M_12_M1_G1_C0_15.jpg 0.06726727939963124 0.26261286571944514 False True\n",
      "C:\\workspace\\image\\bus\\R_216_60_M\\R_216_60_M_12_M1_G1_C0_16.jpg 0.08281733249999222 0.6324555320336759 False True\n",
      "C:\\workspace\\image\\bus\\R_216_60_M\\R_216_60_M_12_M1_G1_C0_17.jpg 0.08281733249999222 0.6324555320336759 False True\n",
      "C:\\workspace\\image\\bus\\R_216_60_M\\R_216_60_M_12_M1_G1_C0_18.jpg 0.05261336417646564 1.2649110640673518 False True\n",
      "C:\\workspace\\image\\bus\\R_216_60_M\\R_216_60_M_12_M1_G1_C0_19.jpg 0.05261336417646564 1.2649110640673518 False True\n",
      "C:\\workspace\\image\\bus\\R_216_60_M\\R_216_60_M_12_M1_G1_C0_20.jpg 0.4472135954999579 0.16371964974107478 True True\n"
     ]
    },
    {
     "name": "stderr",
     "output_type": "stream",
     "text": [
      "  3%|▎         | 246/8067 [00:07<03:37, 35.92it/s]"
     ]
    },
    {
     "name": "stdout",
     "output_type": "stream",
     "text": [
      "C:\\workspace\\image\\bus\\R_217_40_M\\R_217_40_M_01_M0_G1_C0_01.jpg 0.15230192477004287 0.11143528717885569 True False\n",
      "C:\\workspace\\image\\bus\\R_217_40_M\\R_217_40_M_01_M0_G1_C0_02.jpg 0.13545709229571928 0.11448655114560449 True False\n",
      "C:\\workspace\\image\\bus\\R_217_40_M\\R_217_40_M_01_M0_G1_C0_03.jpg 0.15495032701332587 0.1595862634056436 True True\n",
      "C:\\workspace\\image\\bus\\R_217_40_M\\R_217_40_M_01_M0_G1_C0_04.jpg 0.1180775494846827 0.11938649710018201 False False\n",
      "C:\\workspace\\image\\bus\\R_217_40_M\\R_217_40_M_01_M0_G1_C0_05.jpg 0.0651558364144604 0.17384368050592716 False True\n",
      "C:\\workspace\\image\\bus\\R_217_40_M\\R_217_40_M_01_M0_G1_C0_06.jpg 0.04485111714311304 0.16760038078849773 False True\n",
      "C:\\workspace\\image\\bus\\R_217_40_M\\R_217_40_M_01_M0_G1_C0_07.jpg 0.09284766908852593 0.17882744951029697 False True\n",
      "C:\\workspace\\image\\bus\\R_217_40_M\\R_217_40_M_01_M0_G1_C0_08.jpg 0.10511766624552733 0.15235499719203566 False True\n"
     ]
    },
    {
     "name": "stderr",
     "output_type": "stream",
     "text": [
      "  3%|▎         | 254/8067 [00:07<03:40, 35.37it/s]"
     ]
    },
    {
     "name": "stdout",
     "output_type": "stream",
     "text": [
      "C:\\workspace\\image\\bus\\R_217_40_M\\R_217_40_M_01_M0_G1_C0_09.jpg 0.13895262654079812 0.12572074400897873 True True\n",
      "C:\\workspace\\image\\bus\\R_217_40_M\\R_217_40_M_01_M0_G1_C0_10.jpg 0.08598671607846956 0.09765286720945168 False False\n",
      "C:\\workspace\\image\\bus\\R_217_40_M\\R_217_40_M_01_M0_G1_C0_11.jpg 0.1212678125181665 0.04081802660877408 True False\n",
      "C:\\workspace\\image\\bus\\R_217_40_M\\R_217_40_M_01_M0_G1_C0_12.jpg 0.17402385355726993 0.055006532413609206 True False\n",
      "C:\\workspace\\image\\bus\\R_217_40_M\\R_217_40_M_01_M0_G1_C0_13.jpg 0.052374288905649574 0.09478247207640289 False False\n",
      "C:\\workspace\\image\\bus\\R_217_40_M\\R_217_40_M_01_M0_G1_C0_14.jpg 0.0540106735637485 0.1124251093148722 False False\n",
      "C:\\workspace\\image\\bus\\R_217_40_M\\R_217_40_M_01_M0_G1_C0_15.jpg 0.06449003705885216 0.16786822525727785 False True\n"
     ]
    },
    {
     "name": "stderr",
     "output_type": "stream",
     "text": [
      "  3%|▎         | 257/8067 [00:07<03:48, 34.22it/s]"
     ]
    },
    {
     "name": "stdout",
     "output_type": "stream",
     "text": [
      "C:\\workspace\\image\\bus\\R_217_40_M\\R_217_40_M_01_M0_G1_C0_16.jpg 0.15420415139834365 0.11061326375099442 True False\n",
      "C:\\workspace\\image\\bus\\R_217_40_M\\R_217_40_M_01_M0_G1_C0_17.jpg 0.14332591242820383 0.09198870231668353 True False\n"
     ]
    },
    {
     "name": "stderr",
     "output_type": "stream",
     "text": [
      "\n"
     ]
    },
    {
     "ename": "KeyboardInterrupt",
     "evalue": "",
     "output_type": "error",
     "traceback": [
      "\u001B[1;31m---------------------------------------------------------------------------\u001B[0m",
      "\u001B[1;31mKeyboardInterrupt\u001B[0m                         Traceback (most recent call last)",
      "Cell \u001B[1;32mIn[16], line 62\u001B[0m\n\u001B[0;32m     60\u001B[0m inputs \u001B[38;5;241m=\u001B[39m preprocess(det_crop)\u001B[38;5;241m.\u001B[39mto(device)\n\u001B[0;32m     61\u001B[0m inputs \u001B[38;5;241m=\u001B[39m inputs\u001B[38;5;241m.\u001B[39munsqueeze(\u001B[38;5;241m0\u001B[39m)\n\u001B[1;32m---> 62\u001B[0m lms_pred_x, lms_pred_y, lms_pred_nb_x, lms_pred_nb_y, outputs_cls, max_cls \u001B[38;5;241m=\u001B[39m \u001B[43mforward_pip\u001B[49m\u001B[43m(\u001B[49m\u001B[43mface_landmark_net\u001B[49m\u001B[43m,\u001B[49m\n\u001B[0;32m     63\u001B[0m \u001B[43m                                                                                         \u001B[49m\u001B[43minputs\u001B[49m\u001B[43m,\u001B[49m\u001B[43m \u001B[49m\u001B[43mpreprocess\u001B[49m\u001B[43m,\u001B[49m\n\u001B[0;32m     64\u001B[0m \u001B[43m                                                                                         \u001B[49m\u001B[43mface_landmark_input_size\u001B[49m\u001B[43m,\u001B[49m\n\u001B[0;32m     65\u001B[0m \u001B[43m                                                                                         \u001B[49m\u001B[43mnet_stride\u001B[49m\u001B[43m,\u001B[49m\u001B[43m \u001B[49m\u001B[43mnum_nb\u001B[49m\u001B[43m)\u001B[49m\n\u001B[0;32m     67\u001B[0m lms_pred \u001B[38;5;241m=\u001B[39m torch\u001B[38;5;241m.\u001B[39mcat((lms_pred_x, lms_pred_y), dim\u001B[38;5;241m=\u001B[39m\u001B[38;5;241m1\u001B[39m)\u001B[38;5;241m.\u001B[39mflatten()\n\u001B[0;32m     68\u001B[0m tmp_nb_x \u001B[38;5;241m=\u001B[39m lms_pred_nb_x[reverse_index1, reverse_index2]\u001B[38;5;241m.\u001B[39mview(num_lms, max_len)\n",
      "File \u001B[1;32mC:\\workspace\\drowsy_detection\\PIPNet\\functions.py:164\u001B[0m, in \u001B[0;36mforward_pip\u001B[1;34m(net, inputs, preprocess, input_size, net_stride, num_nb)\u001B[0m\n\u001B[0;32m    162\u001B[0m net\u001B[38;5;241m.\u001B[39meval()\n\u001B[0;32m    163\u001B[0m \u001B[38;5;28;01mwith\u001B[39;00m torch\u001B[38;5;241m.\u001B[39mno_grad():\n\u001B[1;32m--> 164\u001B[0m     outputs_cls, outputs_x, outputs_y, outputs_nb_x, outputs_nb_y \u001B[38;5;241m=\u001B[39m \u001B[43mnet\u001B[49m\u001B[43m(\u001B[49m\u001B[43minputs\u001B[49m\u001B[43m)\u001B[49m\n\u001B[0;32m    165\u001B[0m     tmp_batch, tmp_channel, tmp_height, tmp_width \u001B[38;5;241m=\u001B[39m outputs_cls\u001B[38;5;241m.\u001B[39msize()\n\u001B[0;32m    166\u001B[0m     \u001B[38;5;28;01massert\u001B[39;00m tmp_batch \u001B[38;5;241m==\u001B[39m \u001B[38;5;241m1\u001B[39m\n",
      "File \u001B[1;32mC:\\workspace\\drowsy_detection\\venv\\lib\\site-packages\\torch\\nn\\modules\\module.py:1194\u001B[0m, in \u001B[0;36mModule._call_impl\u001B[1;34m(self, *input, **kwargs)\u001B[0m\n\u001B[0;32m   1190\u001B[0m \u001B[38;5;66;03m# If we don't have any hooks, we want to skip the rest of the logic in\u001B[39;00m\n\u001B[0;32m   1191\u001B[0m \u001B[38;5;66;03m# this function, and just call forward.\u001B[39;00m\n\u001B[0;32m   1192\u001B[0m \u001B[38;5;28;01mif\u001B[39;00m \u001B[38;5;129;01mnot\u001B[39;00m (\u001B[38;5;28mself\u001B[39m\u001B[38;5;241m.\u001B[39m_backward_hooks \u001B[38;5;129;01mor\u001B[39;00m \u001B[38;5;28mself\u001B[39m\u001B[38;5;241m.\u001B[39m_forward_hooks \u001B[38;5;129;01mor\u001B[39;00m \u001B[38;5;28mself\u001B[39m\u001B[38;5;241m.\u001B[39m_forward_pre_hooks \u001B[38;5;129;01mor\u001B[39;00m _global_backward_hooks\n\u001B[0;32m   1193\u001B[0m         \u001B[38;5;129;01mor\u001B[39;00m _global_forward_hooks \u001B[38;5;129;01mor\u001B[39;00m _global_forward_pre_hooks):\n\u001B[1;32m-> 1194\u001B[0m     \u001B[38;5;28;01mreturn\u001B[39;00m \u001B[43mforward_call\u001B[49m\u001B[43m(\u001B[49m\u001B[38;5;241;43m*\u001B[39;49m\u001B[38;5;28;43minput\u001B[39;49m\u001B[43m,\u001B[49m\u001B[43m \u001B[49m\u001B[38;5;241;43m*\u001B[39;49m\u001B[38;5;241;43m*\u001B[39;49m\u001B[43mkwargs\u001B[49m\u001B[43m)\u001B[49m\n\u001B[0;32m   1195\u001B[0m \u001B[38;5;66;03m# Do not call functions when jit is used\u001B[39;00m\n\u001B[0;32m   1196\u001B[0m full_backward_hooks, non_full_backward_hooks \u001B[38;5;241m=\u001B[39m [], []\n",
      "File \u001B[1;32mC:\\workspace\\drowsy_detection\\PIPNet\\networks.py:91\u001B[0m, in \u001B[0;36mPip_resnet101.forward\u001B[1;34m(self, x)\u001B[0m\n\u001B[0;32m     89\u001B[0m x \u001B[38;5;241m=\u001B[39m \u001B[38;5;28mself\u001B[39m\u001B[38;5;241m.\u001B[39mmaxpool(x)\n\u001B[0;32m     90\u001B[0m x \u001B[38;5;241m=\u001B[39m \u001B[38;5;28mself\u001B[39m\u001B[38;5;241m.\u001B[39mlayer1(x)\n\u001B[1;32m---> 91\u001B[0m x \u001B[38;5;241m=\u001B[39m \u001B[38;5;28;43mself\u001B[39;49m\u001B[38;5;241;43m.\u001B[39;49m\u001B[43mlayer2\u001B[49m\u001B[43m(\u001B[49m\u001B[43mx\u001B[49m\u001B[43m)\u001B[49m\n\u001B[0;32m     92\u001B[0m x \u001B[38;5;241m=\u001B[39m \u001B[38;5;28mself\u001B[39m\u001B[38;5;241m.\u001B[39mlayer3(x)\n\u001B[0;32m     93\u001B[0m x \u001B[38;5;241m=\u001B[39m \u001B[38;5;28mself\u001B[39m\u001B[38;5;241m.\u001B[39mlayer4(x)\n",
      "File \u001B[1;32mC:\\workspace\\drowsy_detection\\venv\\lib\\site-packages\\torch\\nn\\modules\\module.py:1194\u001B[0m, in \u001B[0;36mModule._call_impl\u001B[1;34m(self, *input, **kwargs)\u001B[0m\n\u001B[0;32m   1190\u001B[0m \u001B[38;5;66;03m# If we don't have any hooks, we want to skip the rest of the logic in\u001B[39;00m\n\u001B[0;32m   1191\u001B[0m \u001B[38;5;66;03m# this function, and just call forward.\u001B[39;00m\n\u001B[0;32m   1192\u001B[0m \u001B[38;5;28;01mif\u001B[39;00m \u001B[38;5;129;01mnot\u001B[39;00m (\u001B[38;5;28mself\u001B[39m\u001B[38;5;241m.\u001B[39m_backward_hooks \u001B[38;5;129;01mor\u001B[39;00m \u001B[38;5;28mself\u001B[39m\u001B[38;5;241m.\u001B[39m_forward_hooks \u001B[38;5;129;01mor\u001B[39;00m \u001B[38;5;28mself\u001B[39m\u001B[38;5;241m.\u001B[39m_forward_pre_hooks \u001B[38;5;129;01mor\u001B[39;00m _global_backward_hooks\n\u001B[0;32m   1193\u001B[0m         \u001B[38;5;129;01mor\u001B[39;00m _global_forward_hooks \u001B[38;5;129;01mor\u001B[39;00m _global_forward_pre_hooks):\n\u001B[1;32m-> 1194\u001B[0m     \u001B[38;5;28;01mreturn\u001B[39;00m \u001B[43mforward_call\u001B[49m\u001B[43m(\u001B[49m\u001B[38;5;241;43m*\u001B[39;49m\u001B[38;5;28;43minput\u001B[39;49m\u001B[43m,\u001B[49m\u001B[43m \u001B[49m\u001B[38;5;241;43m*\u001B[39;49m\u001B[38;5;241;43m*\u001B[39;49m\u001B[43mkwargs\u001B[49m\u001B[43m)\u001B[49m\n\u001B[0;32m   1195\u001B[0m \u001B[38;5;66;03m# Do not call functions when jit is used\u001B[39;00m\n\u001B[0;32m   1196\u001B[0m full_backward_hooks, non_full_backward_hooks \u001B[38;5;241m=\u001B[39m [], []\n",
      "File \u001B[1;32mC:\\workspace\\drowsy_detection\\venv\\lib\\site-packages\\torch\\nn\\modules\\container.py:204\u001B[0m, in \u001B[0;36mSequential.forward\u001B[1;34m(self, input)\u001B[0m\n\u001B[0;32m    202\u001B[0m \u001B[38;5;28;01mdef\u001B[39;00m \u001B[38;5;21mforward\u001B[39m(\u001B[38;5;28mself\u001B[39m, \u001B[38;5;28minput\u001B[39m):\n\u001B[0;32m    203\u001B[0m     \u001B[38;5;28;01mfor\u001B[39;00m module \u001B[38;5;129;01min\u001B[39;00m \u001B[38;5;28mself\u001B[39m:\n\u001B[1;32m--> 204\u001B[0m         \u001B[38;5;28minput\u001B[39m \u001B[38;5;241m=\u001B[39m \u001B[43mmodule\u001B[49m\u001B[43m(\u001B[49m\u001B[38;5;28;43minput\u001B[39;49m\u001B[43m)\u001B[49m\n\u001B[0;32m    205\u001B[0m     \u001B[38;5;28;01mreturn\u001B[39;00m \u001B[38;5;28minput\u001B[39m\n",
      "File \u001B[1;32mC:\\workspace\\drowsy_detection\\venv\\lib\\site-packages\\torch\\nn\\modules\\module.py:1194\u001B[0m, in \u001B[0;36mModule._call_impl\u001B[1;34m(self, *input, **kwargs)\u001B[0m\n\u001B[0;32m   1190\u001B[0m \u001B[38;5;66;03m# If we don't have any hooks, we want to skip the rest of the logic in\u001B[39;00m\n\u001B[0;32m   1191\u001B[0m \u001B[38;5;66;03m# this function, and just call forward.\u001B[39;00m\n\u001B[0;32m   1192\u001B[0m \u001B[38;5;28;01mif\u001B[39;00m \u001B[38;5;129;01mnot\u001B[39;00m (\u001B[38;5;28mself\u001B[39m\u001B[38;5;241m.\u001B[39m_backward_hooks \u001B[38;5;129;01mor\u001B[39;00m \u001B[38;5;28mself\u001B[39m\u001B[38;5;241m.\u001B[39m_forward_hooks \u001B[38;5;129;01mor\u001B[39;00m \u001B[38;5;28mself\u001B[39m\u001B[38;5;241m.\u001B[39m_forward_pre_hooks \u001B[38;5;129;01mor\u001B[39;00m _global_backward_hooks\n\u001B[0;32m   1193\u001B[0m         \u001B[38;5;129;01mor\u001B[39;00m _global_forward_hooks \u001B[38;5;129;01mor\u001B[39;00m _global_forward_pre_hooks):\n\u001B[1;32m-> 1194\u001B[0m     \u001B[38;5;28;01mreturn\u001B[39;00m \u001B[43mforward_call\u001B[49m\u001B[43m(\u001B[49m\u001B[38;5;241;43m*\u001B[39;49m\u001B[38;5;28;43minput\u001B[39;49m\u001B[43m,\u001B[49m\u001B[43m \u001B[49m\u001B[38;5;241;43m*\u001B[39;49m\u001B[38;5;241;43m*\u001B[39;49m\u001B[43mkwargs\u001B[49m\u001B[43m)\u001B[49m\n\u001B[0;32m   1195\u001B[0m \u001B[38;5;66;03m# Do not call functions when jit is used\u001B[39;00m\n\u001B[0;32m   1196\u001B[0m full_backward_hooks, non_full_backward_hooks \u001B[38;5;241m=\u001B[39m [], []\n",
      "File \u001B[1;32mC:\\workspace\\drowsy_detection\\venv\\lib\\site-packages\\torchvision\\models\\resnet.py:150\u001B[0m, in \u001B[0;36mBottleneck.forward\u001B[1;34m(self, x)\u001B[0m\n\u001B[0;32m    147\u001B[0m out \u001B[38;5;241m=\u001B[39m \u001B[38;5;28mself\u001B[39m\u001B[38;5;241m.\u001B[39mbn1(out)\n\u001B[0;32m    148\u001B[0m out \u001B[38;5;241m=\u001B[39m \u001B[38;5;28mself\u001B[39m\u001B[38;5;241m.\u001B[39mrelu(out)\n\u001B[1;32m--> 150\u001B[0m out \u001B[38;5;241m=\u001B[39m \u001B[38;5;28;43mself\u001B[39;49m\u001B[38;5;241;43m.\u001B[39;49m\u001B[43mconv2\u001B[49m\u001B[43m(\u001B[49m\u001B[43mout\u001B[49m\u001B[43m)\u001B[49m\n\u001B[0;32m    151\u001B[0m out \u001B[38;5;241m=\u001B[39m \u001B[38;5;28mself\u001B[39m\u001B[38;5;241m.\u001B[39mbn2(out)\n\u001B[0;32m    152\u001B[0m out \u001B[38;5;241m=\u001B[39m \u001B[38;5;28mself\u001B[39m\u001B[38;5;241m.\u001B[39mrelu(out)\n",
      "File \u001B[1;32mC:\\workspace\\drowsy_detection\\venv\\lib\\site-packages\\torch\\nn\\modules\\module.py:1194\u001B[0m, in \u001B[0;36mModule._call_impl\u001B[1;34m(self, *input, **kwargs)\u001B[0m\n\u001B[0;32m   1190\u001B[0m \u001B[38;5;66;03m# If we don't have any hooks, we want to skip the rest of the logic in\u001B[39;00m\n\u001B[0;32m   1191\u001B[0m \u001B[38;5;66;03m# this function, and just call forward.\u001B[39;00m\n\u001B[0;32m   1192\u001B[0m \u001B[38;5;28;01mif\u001B[39;00m \u001B[38;5;129;01mnot\u001B[39;00m (\u001B[38;5;28mself\u001B[39m\u001B[38;5;241m.\u001B[39m_backward_hooks \u001B[38;5;129;01mor\u001B[39;00m \u001B[38;5;28mself\u001B[39m\u001B[38;5;241m.\u001B[39m_forward_hooks \u001B[38;5;129;01mor\u001B[39;00m \u001B[38;5;28mself\u001B[39m\u001B[38;5;241m.\u001B[39m_forward_pre_hooks \u001B[38;5;129;01mor\u001B[39;00m _global_backward_hooks\n\u001B[0;32m   1193\u001B[0m         \u001B[38;5;129;01mor\u001B[39;00m _global_forward_hooks \u001B[38;5;129;01mor\u001B[39;00m _global_forward_pre_hooks):\n\u001B[1;32m-> 1194\u001B[0m     \u001B[38;5;28;01mreturn\u001B[39;00m \u001B[43mforward_call\u001B[49m\u001B[43m(\u001B[49m\u001B[38;5;241;43m*\u001B[39;49m\u001B[38;5;28;43minput\u001B[39;49m\u001B[43m,\u001B[49m\u001B[43m \u001B[49m\u001B[38;5;241;43m*\u001B[39;49m\u001B[38;5;241;43m*\u001B[39;49m\u001B[43mkwargs\u001B[49m\u001B[43m)\u001B[49m\n\u001B[0;32m   1195\u001B[0m \u001B[38;5;66;03m# Do not call functions when jit is used\u001B[39;00m\n\u001B[0;32m   1196\u001B[0m full_backward_hooks, non_full_backward_hooks \u001B[38;5;241m=\u001B[39m [], []\n",
      "File \u001B[1;32mC:\\workspace\\drowsy_detection\\venv\\lib\\site-packages\\torch\\nn\\modules\\conv.py:463\u001B[0m, in \u001B[0;36mConv2d.forward\u001B[1;34m(self, input)\u001B[0m\n\u001B[0;32m    462\u001B[0m \u001B[38;5;28;01mdef\u001B[39;00m \u001B[38;5;21mforward\u001B[39m(\u001B[38;5;28mself\u001B[39m, \u001B[38;5;28minput\u001B[39m: Tensor) \u001B[38;5;241m-\u001B[39m\u001B[38;5;241m>\u001B[39m Tensor:\n\u001B[1;32m--> 463\u001B[0m     \u001B[38;5;28;01mreturn\u001B[39;00m \u001B[38;5;28;43mself\u001B[39;49m\u001B[38;5;241;43m.\u001B[39;49m\u001B[43m_conv_forward\u001B[49m\u001B[43m(\u001B[49m\u001B[38;5;28;43minput\u001B[39;49m\u001B[43m,\u001B[49m\u001B[43m \u001B[49m\u001B[38;5;28;43mself\u001B[39;49m\u001B[38;5;241;43m.\u001B[39;49m\u001B[43mweight\u001B[49m\u001B[43m,\u001B[49m\u001B[43m \u001B[49m\u001B[38;5;28;43mself\u001B[39;49m\u001B[38;5;241;43m.\u001B[39;49m\u001B[43mbias\u001B[49m\u001B[43m)\u001B[49m\n",
      "File \u001B[1;32mC:\\workspace\\drowsy_detection\\venv\\lib\\site-packages\\torch\\nn\\modules\\conv.py:459\u001B[0m, in \u001B[0;36mConv2d._conv_forward\u001B[1;34m(self, input, weight, bias)\u001B[0m\n\u001B[0;32m    455\u001B[0m \u001B[38;5;28;01mif\u001B[39;00m \u001B[38;5;28mself\u001B[39m\u001B[38;5;241m.\u001B[39mpadding_mode \u001B[38;5;241m!=\u001B[39m \u001B[38;5;124m'\u001B[39m\u001B[38;5;124mzeros\u001B[39m\u001B[38;5;124m'\u001B[39m:\n\u001B[0;32m    456\u001B[0m     \u001B[38;5;28;01mreturn\u001B[39;00m F\u001B[38;5;241m.\u001B[39mconv2d(F\u001B[38;5;241m.\u001B[39mpad(\u001B[38;5;28minput\u001B[39m, \u001B[38;5;28mself\u001B[39m\u001B[38;5;241m.\u001B[39m_reversed_padding_repeated_twice, mode\u001B[38;5;241m=\u001B[39m\u001B[38;5;28mself\u001B[39m\u001B[38;5;241m.\u001B[39mpadding_mode),\n\u001B[0;32m    457\u001B[0m                     weight, bias, \u001B[38;5;28mself\u001B[39m\u001B[38;5;241m.\u001B[39mstride,\n\u001B[0;32m    458\u001B[0m                     _pair(\u001B[38;5;241m0\u001B[39m), \u001B[38;5;28mself\u001B[39m\u001B[38;5;241m.\u001B[39mdilation, \u001B[38;5;28mself\u001B[39m\u001B[38;5;241m.\u001B[39mgroups)\n\u001B[1;32m--> 459\u001B[0m \u001B[38;5;28;01mreturn\u001B[39;00m \u001B[43mF\u001B[49m\u001B[38;5;241;43m.\u001B[39;49m\u001B[43mconv2d\u001B[49m\u001B[43m(\u001B[49m\u001B[38;5;28;43minput\u001B[39;49m\u001B[43m,\u001B[49m\u001B[43m \u001B[49m\u001B[43mweight\u001B[49m\u001B[43m,\u001B[49m\u001B[43m \u001B[49m\u001B[43mbias\u001B[49m\u001B[43m,\u001B[49m\u001B[43m \u001B[49m\u001B[38;5;28;43mself\u001B[39;49m\u001B[38;5;241;43m.\u001B[39;49m\u001B[43mstride\u001B[49m\u001B[43m,\u001B[49m\n\u001B[0;32m    460\u001B[0m \u001B[43m                \u001B[49m\u001B[38;5;28;43mself\u001B[39;49m\u001B[38;5;241;43m.\u001B[39;49m\u001B[43mpadding\u001B[49m\u001B[43m,\u001B[49m\u001B[43m \u001B[49m\u001B[38;5;28;43mself\u001B[39;49m\u001B[38;5;241;43m.\u001B[39;49m\u001B[43mdilation\u001B[49m\u001B[43m,\u001B[49m\u001B[43m \u001B[49m\u001B[38;5;28;43mself\u001B[39;49m\u001B[38;5;241;43m.\u001B[39;49m\u001B[43mgroups\u001B[49m\u001B[43m)\u001B[49m\n",
      "\u001B[1;31mKeyboardInterrupt\u001B[0m: "
     ]
    }
   ],
   "source": [
    "with torch.no_grad():\n",
    "    global elapsed_time, fps, ref_frame, det_frame, prev_time\n",
    "\n",
    "    for img_name in tqdm(bus_img_path_list):\n",
    "        img0 = cv2.imread(img_name)\n",
    "        ref_frame += 1\n",
    "        #print(img0.shape)\n",
    "\n",
    "        # Padded resize\n",
    "        img = letterbox(img0, img_size_chk, stride=stride)[0]\n",
    "\n",
    "        # Convert\n",
    "        img = img[:, :, ::-1].transpose(2, 0, 1)  # BGR to RGB, to 3x416x416\n",
    "        img = np.ascontiguousarray(img)\n",
    "\n",
    "        img = torch.from_numpy(img)\n",
    "        img = img.half() if half else img.float()  # uint8 to fp16/32\n",
    "        img = torch.divide(img.to(device), face_det_normalize_tensor)\n",
    "        img = img.unsqueeze(0)\n",
    "\n",
    "        # Inference\n",
    "        pred = model(img, augment=False)[0]\n",
    "\n",
    "        # Apply NMS\n",
    "        detected_face = non_max_suppression(pred, CONF_THRES, IOU_THRES, classes=None, agnostic=False)[0]\n",
    "\n",
    "        # Process detections\n",
    "        if len(detected_face):\n",
    "            # Rescale boxes from img_size to img0 size\n",
    "            detected_face[:, :4] = scale_coords(img.shape[2:], detected_face[:, :4], img0.shape).round()\n",
    "\n",
    "            # Write results\n",
    "            for *xyxy, conf, cls in reversed(detected_face):\n",
    "                det_xmin = int(xyxy[0])\n",
    "                det_ymin = int(xyxy[1])\n",
    "                det_xmax = int(xyxy[2])\n",
    "                det_ymax = int(xyxy[3])\n",
    "                det_width = det_xmax - det_xmin\n",
    "                det_height = det_ymax - det_ymin\n",
    "                \n",
    "                det_xmin -= int(det_width * (det_box_scale - 1) / 2)\n",
    "                det_ymin -= int(det_height * (det_box_scale - 1) / 2)\n",
    "                det_xmax += int(det_width * (det_box_scale - 1) / 2)\n",
    "                det_ymax += int(det_height * (det_box_scale - 1) / 2)\n",
    "\n",
    "                det_xmin = max(det_xmin, 0)\n",
    "                det_ymin = max(det_ymin, 0)\n",
    "                det_xmax = min(det_xmax, img0.shape[0] - 1)\n",
    "                det_ymax = min(det_ymax, img0.shape[1] - 1)\n",
    "\n",
    "                det_width = det_xmax - det_xmin + 1\n",
    "                det_height = det_ymax - det_ymin + 1\n",
    "                det_crop = img0[det_ymin:det_ymax, det_xmin:det_xmax, :]\n",
    "                \n",
    "                if det_crop.shape[0] > 0 and det_crop.shape[1] > 0:\n",
    "                    det_crop = cv2.resize(src=det_crop, dsize=(face_landmark_input_size, face_landmark_input_size),\n",
    "                                          interpolation=cv2.INTER_AREA)\n",
    "                    cv2.rectangle(img0, (det_xmin, det_ymin), (det_xmax, det_ymax), (0, 0, 255), 1)\n",
    "\n",
    "                    inputs = preprocess(det_crop).to(device)\n",
    "                    inputs = inputs.unsqueeze(0)\n",
    "                    lms_pred_x, lms_pred_y, lms_pred_nb_x, lms_pred_nb_y, outputs_cls, max_cls = forward_pip(face_landmark_net,\n",
    "                                                                                                             inputs, preprocess,\n",
    "                                                                                                             face_landmark_input_size,\n",
    "                                                                                                             net_stride, num_nb)\n",
    "\n",
    "                    lms_pred = torch.cat((lms_pred_x, lms_pred_y), dim=1).flatten()\n",
    "                    tmp_nb_x = lms_pred_nb_x[reverse_index1, reverse_index2].view(num_lms, max_len)\n",
    "                    tmp_nb_y = lms_pred_nb_y[reverse_index1, reverse_index2].view(num_lms, max_len)\n",
    "                    tmp_x = torch.mean(torch.cat((lms_pred_x, tmp_nb_x), dim=1), dim=1).view(-1, 1)\n",
    "                    tmp_y = torch.mean(torch.cat((lms_pred_y, tmp_nb_y), dim=1), dim=1).view(-1, 1)\n",
    "\n",
    "                    lms_pred_merge = torch.cat((tmp_x, tmp_y), dim=1).flatten()\n",
    "                    lms_pred = lms_pred.cpu().numpy()\n",
    "                    lms_pred_merge = lms_pred_merge.cpu().numpy()\n",
    "\n",
    "                    eye_x = (lms_pred_merge[36 * 2:48 * 2:2] * det_width).astype(np.int32) + det_xmin\n",
    "                    eye_y = (lms_pred_merge[(36 * 2) + 1:(48 * 2) + 1:2] * det_height).astype(np.int32) + det_ymin\n",
    "\n",
    "                    left_eye_horizontal_dist = distance.euclidean((eye_x[0], eye_y[0]), (eye_x[3], eye_y[3]))\n",
    "                    left_eye_vertical_dist = min(distance.euclidean((eye_x[1], eye_y[1]), (eye_x[5], eye_y[5])),\n",
    "                                                 distance.euclidean((eye_x[2], eye_y[2]), (eye_x[4], eye_y[4])))\n",
    "\n",
    "                    right_eye_horizontal_dist = distance.euclidean((eye_x[6], eye_y[6]), (eye_x[9], eye_y[9]))\n",
    "                    right_eye_vertical_dist = min(distance.euclidean((eye_x[11], eye_y[11]), (eye_x[7], eye_y[7])),\n",
    "                                                  distance.euclidean((eye_x[10], eye_y[10]), (eye_x[8], eye_y[8])))\n",
    "\n",
    "                    left_eye_ratio = left_eye_vertical_dist / left_eye_horizontal_dist\n",
    "                    right_eye_ratio = right_eye_vertical_dist / right_eye_horizontal_dist\n",
    "\n",
    " \n",
    "\n",
    "                    if left_eye_ratio < eye_det and right_eye_ratio < eye_det:\n",
    "                        detection_state = 1\n",
    "                    else:\n",
    "                        detection_state = 0\n",
    "\n",
    "\n",
    "        print(img_name, left_eye_ratio, right_eye_ratio, left_eye_ratio > eye_det, right_eye_ratio > eye_det)\n",
    "        fps = 1/(time.time() - prev_time)\n",
    "        prev_time = time.time()\n",
    "        # Stream results\n",
    "        elapsed_time = time.time()-start_time"
   ],
   "metadata": {
    "collapsed": false,
    "ExecuteTime": {
     "end_time": "2023-11-28T15:50:25.401920700Z",
     "start_time": "2023-11-28T15:50:17.804005400Z"
    }
   },
   "id": "23dcb4eaaf86b78f"
  }
 ],
 "metadata": {
  "kernelspec": {
   "display_name": "Python 3",
   "language": "python",
   "name": "python3"
  },
  "language_info": {
   "codemirror_mode": {
    "name": "ipython",
    "version": 2
   },
   "file_extension": ".py",
   "mimetype": "text/x-python",
   "name": "python",
   "nbconvert_exporter": "python",
   "pygments_lexer": "ipython2",
   "version": "2.7.6"
  }
 },
 "nbformat": 4,
 "nbformat_minor": 5
}
