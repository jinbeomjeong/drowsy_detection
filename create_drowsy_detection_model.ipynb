{
 "cells": [
  {
   "cell_type": "code",
   "id": "initial_id",
   "metadata": {
    "collapsed": true,
    "ExecuteTime": {
     "end_time": "2024-04-11T13:03:44.805132Z",
     "start_time": "2024-04-11T13:03:44.791100Z"
    }
   },
   "source": [
    "import os\n",
    "import pandas as pd\n",
    "import numpy as np\n",
    "from sklearn.model_selection import train_test_split\n",
    "from sklearn.metrics import confusion_matrix, accuracy_score, precision_score, recall_score, f1_score\n",
    "from xgboost import XGBClassifier, plot_importance"
   ],
   "outputs": [],
   "execution_count": 207
  },
  {
   "metadata": {
    "ExecuteTime": {
     "end_time": "2024-04-11T13:03:44.896558Z",
     "start_time": "2024-04-11T13:03:44.878947Z"
    }
   },
   "cell_type": "code",
   "source": "data_files_list = ['result_bus_20240226-112104.csv', 'result_passenger_20240226-112405.csv', 'result_taxi_20240226-112648.csv', 'result_truck_20240226-112812.csv']",
   "id": "8f99d7a2a36f3a85",
   "outputs": [],
   "execution_count": 208
  },
  {
   "metadata": {
    "ExecuteTime": {
     "end_time": "2024-04-11T13:03:45.035671Z",
     "start_time": "2024-04-11T13:03:44.898559Z"
    }
   },
   "cell_type": "code",
   "source": [
    "train_dataset = pd.DataFrame()\n",
    "test_dataset = pd.DataFrame()\n",
    "\n",
    "for data_file in data_files_list:\n",
    "    data = pd.read_csv('analysis_data' + os.sep + data_file)\n",
    "    train_data, test_data = train_test_split(data, test_size=0.1, random_state=0)\n",
    "    train_dataset = pd.concat([train_dataset, train_data])\n",
    "    test_dataset = pd.concat([test_dataset, test_data])\n",
    "    \n",
    "train_dataset.drop(columns=['Unnamed: 0'], inplace=True)\n",
    "test_dataset.drop(columns=['Unnamed: 0'], inplace=True)\n",
    "\n",
    "data_columns = train_dataset.columns.to_list()[0:]\n",
    "train_dataset.head()"
   ],
   "id": "255433b4ed8fde07",
   "outputs": [
    {
     "data": {
      "text/plain": [
       "                          file_name  face_pt1_x_pos  face_pt1_y_pos  \\\n",
       "6581  R_234_60_M_19_M1_G1_C0_03.jpg           211.0           434.0   \n",
       "971   R_218_50_M_17_M1_G0_C0_12.jpg           320.0           468.0   \n",
       "3776  R_226_30_M_17_M1_G1_C1_17.jpg           284.0           506.0   \n",
       "5292  R_231_50_M_09_M1_G0_C0_14.jpg           144.0           447.0   \n",
       "5097  R_230_40_M_19_M1_G1_C0_18.jpg            41.0           582.0   \n",
       "\n",
       "      face_pt2_x_pos  face_pt2_y_pos  left_eye_pt1_x_pos  left_eye_pt1_y_pos  \\\n",
       "6581           483.0           910.0               261.0               599.0   \n",
       "971            566.0           932.0               380.0               635.0   \n",
       "3776           600.0           942.0               370.0               633.0   \n",
       "5292           474.0          1013.0               209.0               669.0   \n",
       "5097           320.0          1028.0               169.0               685.0   \n",
       "\n",
       "      left_eye_pt2_x_pos  left_eye_pt2_y_pos  right_eye_pt1_x_pos  ...  \\\n",
       "6581               304.0               610.0                377.0  ...   \n",
       "971                418.0               656.0                487.0  ...   \n",
       "3776               396.0               647.0                478.0  ...   \n",
       "5292               228.0               695.0                295.0  ...   \n",
       "5097               199.0               730.0                194.0  ...   \n",
       "\n",
       "      target_right_eye_pt1_y_pos  target_right_eye_pt2_x  \\\n",
       "6581                      587.82                  425.23   \n",
       "971                       627.46                  544.69   \n",
       "3776                      629.95                  523.56   \n",
       "5292                      656.88                  369.80   \n",
       "5097                      705.04                  240.05   \n",
       "\n",
       "      target_right_eye_pt2_y_pos  exist_mask  exist_glasses  face_visible  \\\n",
       "6581                      616.64           1              1             1   \n",
       "971                       654.72           1              0             1   \n",
       "3776                      651.35           1              1             1   \n",
       "5292                      691.17           1              0             1   \n",
       "5097                      732.24           1              1             1   \n",
       "\n",
       "      left_eye_visible  left_eye_opened  right_eye_visible  right_eye_opened  \n",
       "6581                 1                1                  1                 1  \n",
       "971                  1                1                  1                 1  \n",
       "3776                 1                1                  1                 1  \n",
       "5292                 1                1                  1                 1  \n",
       "5097                 1                1                  1                 1  \n",
       "\n",
       "[5 rows x 41 columns]"
      ],
      "text/html": [
       "<div>\n",
       "<style scoped>\n",
       "    .dataframe tbody tr th:only-of-type {\n",
       "        vertical-align: middle;\n",
       "    }\n",
       "\n",
       "    .dataframe tbody tr th {\n",
       "        vertical-align: top;\n",
       "    }\n",
       "\n",
       "    .dataframe thead th {\n",
       "        text-align: right;\n",
       "    }\n",
       "</style>\n",
       "<table border=\"1\" class=\"dataframe\">\n",
       "  <thead>\n",
       "    <tr style=\"text-align: right;\">\n",
       "      <th></th>\n",
       "      <th>file_name</th>\n",
       "      <th>face_pt1_x_pos</th>\n",
       "      <th>face_pt1_y_pos</th>\n",
       "      <th>face_pt2_x_pos</th>\n",
       "      <th>face_pt2_y_pos</th>\n",
       "      <th>left_eye_pt1_x_pos</th>\n",
       "      <th>left_eye_pt1_y_pos</th>\n",
       "      <th>left_eye_pt2_x_pos</th>\n",
       "      <th>left_eye_pt2_y_pos</th>\n",
       "      <th>right_eye_pt1_x_pos</th>\n",
       "      <th>...</th>\n",
       "      <th>target_right_eye_pt1_y_pos</th>\n",
       "      <th>target_right_eye_pt2_x</th>\n",
       "      <th>target_right_eye_pt2_y_pos</th>\n",
       "      <th>exist_mask</th>\n",
       "      <th>exist_glasses</th>\n",
       "      <th>face_visible</th>\n",
       "      <th>left_eye_visible</th>\n",
       "      <th>left_eye_opened</th>\n",
       "      <th>right_eye_visible</th>\n",
       "      <th>right_eye_opened</th>\n",
       "    </tr>\n",
       "  </thead>\n",
       "  <tbody>\n",
       "    <tr>\n",
       "      <th>6581</th>\n",
       "      <td>R_234_60_M_19_M1_G1_C0_03.jpg</td>\n",
       "      <td>211.0</td>\n",
       "      <td>434.0</td>\n",
       "      <td>483.0</td>\n",
       "      <td>910.0</td>\n",
       "      <td>261.0</td>\n",
       "      <td>599.0</td>\n",
       "      <td>304.0</td>\n",
       "      <td>610.0</td>\n",
       "      <td>377.0</td>\n",
       "      <td>...</td>\n",
       "      <td>587.82</td>\n",
       "      <td>425.23</td>\n",
       "      <td>616.64</td>\n",
       "      <td>1</td>\n",
       "      <td>1</td>\n",
       "      <td>1</td>\n",
       "      <td>1</td>\n",
       "      <td>1</td>\n",
       "      <td>1</td>\n",
       "      <td>1</td>\n",
       "    </tr>\n",
       "    <tr>\n",
       "      <th>971</th>\n",
       "      <td>R_218_50_M_17_M1_G0_C0_12.jpg</td>\n",
       "      <td>320.0</td>\n",
       "      <td>468.0</td>\n",
       "      <td>566.0</td>\n",
       "      <td>932.0</td>\n",
       "      <td>380.0</td>\n",
       "      <td>635.0</td>\n",
       "      <td>418.0</td>\n",
       "      <td>656.0</td>\n",
       "      <td>487.0</td>\n",
       "      <td>...</td>\n",
       "      <td>627.46</td>\n",
       "      <td>544.69</td>\n",
       "      <td>654.72</td>\n",
       "      <td>1</td>\n",
       "      <td>0</td>\n",
       "      <td>1</td>\n",
       "      <td>1</td>\n",
       "      <td>1</td>\n",
       "      <td>1</td>\n",
       "      <td>1</td>\n",
       "    </tr>\n",
       "    <tr>\n",
       "      <th>3776</th>\n",
       "      <td>R_226_30_M_17_M1_G1_C1_17.jpg</td>\n",
       "      <td>284.0</td>\n",
       "      <td>506.0</td>\n",
       "      <td>600.0</td>\n",
       "      <td>942.0</td>\n",
       "      <td>370.0</td>\n",
       "      <td>633.0</td>\n",
       "      <td>396.0</td>\n",
       "      <td>647.0</td>\n",
       "      <td>478.0</td>\n",
       "      <td>...</td>\n",
       "      <td>629.95</td>\n",
       "      <td>523.56</td>\n",
       "      <td>651.35</td>\n",
       "      <td>1</td>\n",
       "      <td>1</td>\n",
       "      <td>1</td>\n",
       "      <td>1</td>\n",
       "      <td>1</td>\n",
       "      <td>1</td>\n",
       "      <td>1</td>\n",
       "    </tr>\n",
       "    <tr>\n",
       "      <th>5292</th>\n",
       "      <td>R_231_50_M_09_M1_G0_C0_14.jpg</td>\n",
       "      <td>144.0</td>\n",
       "      <td>447.0</td>\n",
       "      <td>474.0</td>\n",
       "      <td>1013.0</td>\n",
       "      <td>209.0</td>\n",
       "      <td>669.0</td>\n",
       "      <td>228.0</td>\n",
       "      <td>695.0</td>\n",
       "      <td>295.0</td>\n",
       "      <td>...</td>\n",
       "      <td>656.88</td>\n",
       "      <td>369.80</td>\n",
       "      <td>691.17</td>\n",
       "      <td>1</td>\n",
       "      <td>0</td>\n",
       "      <td>1</td>\n",
       "      <td>1</td>\n",
       "      <td>1</td>\n",
       "      <td>1</td>\n",
       "      <td>1</td>\n",
       "    </tr>\n",
       "    <tr>\n",
       "      <th>5097</th>\n",
       "      <td>R_230_40_M_19_M1_G1_C0_18.jpg</td>\n",
       "      <td>41.0</td>\n",
       "      <td>582.0</td>\n",
       "      <td>320.0</td>\n",
       "      <td>1028.0</td>\n",
       "      <td>169.0</td>\n",
       "      <td>685.0</td>\n",
       "      <td>199.0</td>\n",
       "      <td>730.0</td>\n",
       "      <td>194.0</td>\n",
       "      <td>...</td>\n",
       "      <td>705.04</td>\n",
       "      <td>240.05</td>\n",
       "      <td>732.24</td>\n",
       "      <td>1</td>\n",
       "      <td>1</td>\n",
       "      <td>1</td>\n",
       "      <td>1</td>\n",
       "      <td>1</td>\n",
       "      <td>1</td>\n",
       "      <td>1</td>\n",
       "    </tr>\n",
       "  </tbody>\n",
       "</table>\n",
       "<p>5 rows × 41 columns</p>\n",
       "</div>"
      ]
     },
     "execution_count": 209,
     "metadata": {},
     "output_type": "execute_result"
    }
   ],
   "execution_count": 209
  },
  {
   "metadata": {
    "ExecuteTime": {
     "end_time": "2024-04-11T13:03:45.051181Z",
     "start_time": "2024-04-11T13:03:45.036673Z"
    }
   },
   "cell_type": "code",
   "source": [
    "feature_column_names = data_columns[5:17]\n",
    "target_column_names = [data_columns[38], data_columns[40]]"
   ],
   "id": "b50e844d350e7a90",
   "outputs": [],
   "execution_count": 210
  },
  {
   "metadata": {
    "ExecuteTime": {
     "end_time": "2024-04-11T13:03:45.066439Z",
     "start_time": "2024-04-11T13:03:45.053181Z"
    }
   },
   "cell_type": "code",
   "source": "feature_column_names",
   "id": "288d520495611c7b",
   "outputs": [
    {
     "data": {
      "text/plain": [
       "['left_eye_pt1_x_pos',\n",
       " 'left_eye_pt1_y_pos',\n",
       " 'left_eye_pt2_x_pos',\n",
       " 'left_eye_pt2_y_pos',\n",
       " 'right_eye_pt1_x_pos',\n",
       " 'right_eye_pt1_y_pos',\n",
       " 'right_eye_pt2_x_pos',\n",
       " 'right_eye_pt2_y_pos',\n",
       " 'left_eye_horizontal',\n",
       " 'left_eye_vertical',\n",
       " 'right_eye_horizontal',\n",
       " 'right_eye_vertical']"
      ]
     },
     "execution_count": 211,
     "metadata": {},
     "output_type": "execute_result"
    }
   ],
   "execution_count": 211
  },
  {
   "metadata": {
    "ExecuteTime": {
     "end_time": "2024-04-11T13:03:45.081951Z",
     "start_time": "2024-04-11T13:03:45.067442Z"
    }
   },
   "cell_type": "code",
   "source": "target_column_names",
   "id": "63d1cf0b1873ae8c",
   "outputs": [
    {
     "data": {
      "text/plain": [
       "['left_eye_opened', 'right_eye_opened']"
      ]
     },
     "execution_count": 212,
     "metadata": {},
     "output_type": "execute_result"
    }
   ],
   "execution_count": 212
  },
  {
   "metadata": {
    "ExecuteTime": {
     "end_time": "2024-04-11T13:03:45.097488Z",
     "start_time": "2024-04-11T13:03:45.082953Z"
    }
   },
   "cell_type": "code",
   "source": [
    "train_feature_dataset = train_dataset[feature_column_names]\n",
    "train_feature_data = train_feature_dataset.to_numpy()\n",
    "\n",
    "train_target_dataset = train_dataset[target_column_names]\n",
    "train_target_data = train_target_dataset.to_numpy().astype(np.uint8)"
   ],
   "id": "8a02fb1c63664d6a",
   "outputs": [],
   "execution_count": 213
  },
  {
   "metadata": {
    "ExecuteTime": {
     "end_time": "2024-04-11T13:03:45.112631Z",
     "start_time": "2024-04-11T13:03:45.099488Z"
    }
   },
   "cell_type": "code",
   "source": [
    "test_target_dataset = test_dataset[target_column_names]\n",
    "test_target_data = test_target_dataset.to_numpy().astype(np.uint8)\n",
    "\n",
    "test_feature_dataset = test_dataset[feature_column_names]\n",
    "test_feature_data = test_feature_dataset.to_numpy()"
   ],
   "id": "8d59a42378a76162",
   "outputs": [],
   "execution_count": 214
  },
  {
   "metadata": {
    "ExecuteTime": {
     "end_time": "2024-04-11T13:03:45.526629Z",
     "start_time": "2024-04-11T13:03:45.114509Z"
    }
   },
   "cell_type": "code",
   "source": [
    "model = XGBClassifier()\n",
    "model.fit(train_feature_data, train_target_data)"
   ],
   "id": "ce8c33ea889d9589",
   "outputs": [
    {
     "data": {
      "text/plain": [
       "XGBClassifier(base_score=None, booster=None, callbacks=None,\n",
       "              colsample_bylevel=None, colsample_bynode=None,\n",
       "              colsample_bytree=None, device=None, early_stopping_rounds=None,\n",
       "              enable_categorical=False, eval_metric=None, feature_types=None,\n",
       "              gamma=None, grow_policy=None, importance_type=None,\n",
       "              interaction_constraints=None, learning_rate=None, max_bin=None,\n",
       "              max_cat_threshold=None, max_cat_to_onehot=None,\n",
       "              max_delta_step=None, max_depth=None, max_leaves=None,\n",
       "              min_child_weight=None, missing=nan, monotone_constraints=None,\n",
       "              multi_strategy=None, n_estimators=None, n_jobs=None,\n",
       "              num_parallel_tree=None, random_state=None, ...)"
      ],
      "text/html": [
       "<style>#sk-container-id-9 {color: black;}#sk-container-id-9 pre{padding: 0;}#sk-container-id-9 div.sk-toggleable {background-color: white;}#sk-container-id-9 label.sk-toggleable__label {cursor: pointer;display: block;width: 100%;margin-bottom: 0;padding: 0.3em;box-sizing: border-box;text-align: center;}#sk-container-id-9 label.sk-toggleable__label-arrow:before {content: \"▸\";float: left;margin-right: 0.25em;color: #696969;}#sk-container-id-9 label.sk-toggleable__label-arrow:hover:before {color: black;}#sk-container-id-9 div.sk-estimator:hover label.sk-toggleable__label-arrow:before {color: black;}#sk-container-id-9 div.sk-toggleable__content {max-height: 0;max-width: 0;overflow: hidden;text-align: left;background-color: #f0f8ff;}#sk-container-id-9 div.sk-toggleable__content pre {margin: 0.2em;color: black;border-radius: 0.25em;background-color: #f0f8ff;}#sk-container-id-9 input.sk-toggleable__control:checked~div.sk-toggleable__content {max-height: 200px;max-width: 100%;overflow: auto;}#sk-container-id-9 input.sk-toggleable__control:checked~label.sk-toggleable__label-arrow:before {content: \"▾\";}#sk-container-id-9 div.sk-estimator input.sk-toggleable__control:checked~label.sk-toggleable__label {background-color: #d4ebff;}#sk-container-id-9 div.sk-label input.sk-toggleable__control:checked~label.sk-toggleable__label {background-color: #d4ebff;}#sk-container-id-9 input.sk-hidden--visually {border: 0;clip: rect(1px 1px 1px 1px);clip: rect(1px, 1px, 1px, 1px);height: 1px;margin: -1px;overflow: hidden;padding: 0;position: absolute;width: 1px;}#sk-container-id-9 div.sk-estimator {font-family: monospace;background-color: #f0f8ff;border: 1px dotted black;border-radius: 0.25em;box-sizing: border-box;margin-bottom: 0.5em;}#sk-container-id-9 div.sk-estimator:hover {background-color: #d4ebff;}#sk-container-id-9 div.sk-parallel-item::after {content: \"\";width: 100%;border-bottom: 1px solid gray;flex-grow: 1;}#sk-container-id-9 div.sk-label:hover label.sk-toggleable__label {background-color: #d4ebff;}#sk-container-id-9 div.sk-serial::before {content: \"\";position: absolute;border-left: 1px solid gray;box-sizing: border-box;top: 0;bottom: 0;left: 50%;z-index: 0;}#sk-container-id-9 div.sk-serial {display: flex;flex-direction: column;align-items: center;background-color: white;padding-right: 0.2em;padding-left: 0.2em;position: relative;}#sk-container-id-9 div.sk-item {position: relative;z-index: 1;}#sk-container-id-9 div.sk-parallel {display: flex;align-items: stretch;justify-content: center;background-color: white;position: relative;}#sk-container-id-9 div.sk-item::before, #sk-container-id-9 div.sk-parallel-item::before {content: \"\";position: absolute;border-left: 1px solid gray;box-sizing: border-box;top: 0;bottom: 0;left: 50%;z-index: -1;}#sk-container-id-9 div.sk-parallel-item {display: flex;flex-direction: column;z-index: 1;position: relative;background-color: white;}#sk-container-id-9 div.sk-parallel-item:first-child::after {align-self: flex-end;width: 50%;}#sk-container-id-9 div.sk-parallel-item:last-child::after {align-self: flex-start;width: 50%;}#sk-container-id-9 div.sk-parallel-item:only-child::after {width: 0;}#sk-container-id-9 div.sk-dashed-wrapped {border: 1px dashed gray;margin: 0 0.4em 0.5em 0.4em;box-sizing: border-box;padding-bottom: 0.4em;background-color: white;}#sk-container-id-9 div.sk-label label {font-family: monospace;font-weight: bold;display: inline-block;line-height: 1.2em;}#sk-container-id-9 div.sk-label-container {text-align: center;}#sk-container-id-9 div.sk-container {/* jupyter's `normalize.less` sets `[hidden] { display: none; }` but bootstrap.min.css set `[hidden] { display: none !important; }` so we also need the `!important` here to be able to override the default hidden behavior on the sphinx rendered scikit-learn.org. See: https://github.com/scikit-learn/scikit-learn/issues/21755 */display: inline-block !important;position: relative;}#sk-container-id-9 div.sk-text-repr-fallback {display: none;}</style><div id=\"sk-container-id-9\" class=\"sk-top-container\"><div class=\"sk-text-repr-fallback\"><pre>XGBClassifier(base_score=None, booster=None, callbacks=None,\n",
       "              colsample_bylevel=None, colsample_bynode=None,\n",
       "              colsample_bytree=None, device=None, early_stopping_rounds=None,\n",
       "              enable_categorical=False, eval_metric=None, feature_types=None,\n",
       "              gamma=None, grow_policy=None, importance_type=None,\n",
       "              interaction_constraints=None, learning_rate=None, max_bin=None,\n",
       "              max_cat_threshold=None, max_cat_to_onehot=None,\n",
       "              max_delta_step=None, max_depth=None, max_leaves=None,\n",
       "              min_child_weight=None, missing=nan, monotone_constraints=None,\n",
       "              multi_strategy=None, n_estimators=None, n_jobs=None,\n",
       "              num_parallel_tree=None, random_state=None, ...)</pre><b>In a Jupyter environment, please rerun this cell to show the HTML representation or trust the notebook. <br />On GitHub, the HTML representation is unable to render, please try loading this page with nbviewer.org.</b></div><div class=\"sk-container\" hidden><div class=\"sk-item\"><div class=\"sk-estimator sk-toggleable\"><input class=\"sk-toggleable__control sk-hidden--visually\" id=\"sk-estimator-id-9\" type=\"checkbox\" checked><label for=\"sk-estimator-id-9\" class=\"sk-toggleable__label sk-toggleable__label-arrow\">XGBClassifier</label><div class=\"sk-toggleable__content\"><pre>XGBClassifier(base_score=None, booster=None, callbacks=None,\n",
       "              colsample_bylevel=None, colsample_bynode=None,\n",
       "              colsample_bytree=None, device=None, early_stopping_rounds=None,\n",
       "              enable_categorical=False, eval_metric=None, feature_types=None,\n",
       "              gamma=None, grow_policy=None, importance_type=None,\n",
       "              interaction_constraints=None, learning_rate=None, max_bin=None,\n",
       "              max_cat_threshold=None, max_cat_to_onehot=None,\n",
       "              max_delta_step=None, max_depth=None, max_leaves=None,\n",
       "              min_child_weight=None, missing=nan, monotone_constraints=None,\n",
       "              multi_strategy=None, n_estimators=None, n_jobs=None,\n",
       "              num_parallel_tree=None, random_state=None, ...)</pre></div></div></div></div></div>"
      ]
     },
     "execution_count": 215,
     "metadata": {},
     "output_type": "execute_result"
    }
   ],
   "execution_count": 215
  },
  {
   "metadata": {
    "ExecuteTime": {
     "end_time": "2024-04-11T13:03:45.541892Z",
     "start_time": "2024-04-11T13:03:45.529533Z"
    }
   },
   "cell_type": "code",
   "source": [
    "pred_data = model.predict(test_feature_data)\n",
    "pred_data = pred_data.astype(np.uint8)\n",
    "pred_data"
   ],
   "id": "b96d9b19d2a381a9",
   "outputs": [
    {
     "data": {
      "text/plain": [
       "array([[1, 1],\n",
       "       [1, 1],\n",
       "       [1, 1],\n",
       "       ...,\n",
       "       [1, 1],\n",
       "       [1, 1],\n",
       "       [1, 1]], dtype=uint8)"
      ]
     },
     "execution_count": 216,
     "metadata": {},
     "output_type": "execute_result"
    }
   ],
   "execution_count": 216
  },
  {
   "metadata": {
    "ExecuteTime": {
     "end_time": "2024-04-11T13:03:45.556993Z",
     "start_time": "2024-04-11T13:03:45.542937Z"
    }
   },
   "cell_type": "code",
   "source": "confusion_matrix(test_target_data[:, 0], pred_data[:, 0])",
   "id": "f8f6aedf8e1fa3a",
   "outputs": [
    {
     "data": {
      "text/plain": [
       "array([[  98,  187],\n",
       "       [  62, 1966]], dtype=int64)"
      ]
     },
     "execution_count": 217,
     "metadata": {},
     "output_type": "execute_result"
    }
   ],
   "execution_count": 217
  },
  {
   "metadata": {
    "ExecuteTime": {
     "end_time": "2024-04-11T13:03:45.572509Z",
     "start_time": "2024-04-11T13:03:45.557995Z"
    }
   },
   "cell_type": "code",
   "source": "accuracy_score(test_target_data[:, 0], pred_data[:, 0])",
   "id": "9b3090348984f9b1",
   "outputs": [
    {
     "data": {
      "text/plain": [
       "0.8923476005188068"
      ]
     },
     "execution_count": 218,
     "metadata": {},
     "output_type": "execute_result"
    }
   ],
   "execution_count": 218
  },
  {
   "metadata": {
    "ExecuteTime": {
     "end_time": "2024-04-11T13:03:45.587543Z",
     "start_time": "2024-04-11T13:03:45.573509Z"
    }
   },
   "cell_type": "code",
   "source": "precision_score(test_target_data[:, 0], pred_data[:, 0])",
   "id": "4e785eb0a553934c",
   "outputs": [
    {
     "data": {
      "text/plain": [
       "0.913144449605202"
      ]
     },
     "execution_count": 219,
     "metadata": {},
     "output_type": "execute_result"
    }
   ],
   "execution_count": 219
  },
  {
   "metadata": {
    "ExecuteTime": {
     "end_time": "2024-04-11T13:03:45.603060Z",
     "start_time": "2024-04-11T13:03:45.588543Z"
    }
   },
   "cell_type": "code",
   "source": "recall_score(test_target_data[:, 0], pred_data[:, 0])",
   "id": "52f0f398e10950eb",
   "outputs": [
    {
     "data": {
      "text/plain": [
       "0.9694280078895463"
      ]
     },
     "execution_count": 220,
     "metadata": {},
     "output_type": "execute_result"
    }
   ],
   "execution_count": 220
  },
  {
   "metadata": {
    "ExecuteTime": {
     "end_time": "2024-04-11T13:03:45.618147Z",
     "start_time": "2024-04-11T13:03:45.604567Z"
    }
   },
   "cell_type": "code",
   "source": "f1_score(test_target_data[:, 0], pred_data[:, 0])",
   "id": "695b98df8844c4fa",
   "outputs": [
    {
     "data": {
      "text/plain": [
       "0.9404448696484095"
      ]
     },
     "execution_count": 221,
     "metadata": {},
     "output_type": "execute_result"
    }
   ],
   "execution_count": 221
  },
  {
   "metadata": {
    "ExecuteTime": {
     "end_time": "2024-04-11T13:03:45.634169Z",
     "start_time": "2024-04-11T13:03:45.619148Z"
    }
   },
   "cell_type": "code",
   "source": "confusion_matrix(test_target_data[:, 1], pred_data[:, 1])",
   "id": "67f5db3ed9743e0b",
   "outputs": [
    {
     "data": {
      "text/plain": [
       "array([[  94,  166],\n",
       "       [  41, 2012]], dtype=int64)"
      ]
     },
     "execution_count": 222,
     "metadata": {},
     "output_type": "execute_result"
    }
   ],
   "execution_count": 222
  },
  {
   "metadata": {
    "ExecuteTime": {
     "end_time": "2024-04-11T13:03:45.649693Z",
     "start_time": "2024-04-11T13:03:45.635175Z"
    }
   },
   "cell_type": "code",
   "source": "accuracy_score(test_target_data[:, 1], pred_data[:, 1])",
   "id": "96bb09869cb50b7",
   "outputs": [
    {
     "data": {
      "text/plain": [
       "0.9105058365758755"
      ]
     },
     "execution_count": 223,
     "metadata": {},
     "output_type": "execute_result"
    }
   ],
   "execution_count": 223
  },
  {
   "metadata": {
    "ExecuteTime": {
     "end_time": "2024-04-11T13:03:45.664709Z",
     "start_time": "2024-04-11T13:03:45.651693Z"
    }
   },
   "cell_type": "code",
   "source": "precision_score(test_target_data[:, 1], pred_data[:, 1])",
   "id": "9ebe013d5213b86b",
   "outputs": [
    {
     "data": {
      "text/plain": [
       "0.9237832874196511"
      ]
     },
     "execution_count": 224,
     "metadata": {},
     "output_type": "execute_result"
    }
   ],
   "execution_count": 224
  },
  {
   "metadata": {
    "ExecuteTime": {
     "end_time": "2024-04-11T13:03:45.680225Z",
     "start_time": "2024-04-11T13:03:45.666715Z"
    }
   },
   "cell_type": "code",
   "source": "recall_score(test_target_data[:, 1], pred_data[:, 1])",
   "id": "2ce2c10ddfa2a3b5",
   "outputs": [
    {
     "data": {
      "text/plain": [
       "0.9800292255236239"
      ]
     },
     "execution_count": 225,
     "metadata": {},
     "output_type": "execute_result"
    }
   ],
   "execution_count": 225
  },
  {
   "metadata": {
    "ExecuteTime": {
     "end_time": "2024-04-11T13:03:45.694950Z",
     "start_time": "2024-04-11T13:03:45.681227Z"
    }
   },
   "cell_type": "code",
   "source": "f1_score(test_target_data[:, 1], pred_data[:, 1])",
   "id": "cd322d7c42a88d12",
   "outputs": [
    {
     "data": {
      "text/plain": [
       "0.951075395887497"
      ]
     },
     "execution_count": 226,
     "metadata": {},
     "output_type": "execute_result"
    }
   ],
   "execution_count": 226
  },
  {
   "metadata": {},
   "cell_type": "code",
   "outputs": [],
   "execution_count": null,
   "source": "",
   "id": "6f995595ea7a782d"
  }
 ],
 "metadata": {
  "kernelspec": {
   "display_name": "Python 3",
   "language": "python",
   "name": "python3"
  },
  "language_info": {
   "codemirror_mode": {
    "name": "ipython",
    "version": 2
   },
   "file_extension": ".py",
   "mimetype": "text/x-python",
   "name": "python",
   "nbconvert_exporter": "python",
   "pygments_lexer": "ipython2",
   "version": "2.7.6"
  }
 },
 "nbformat": 4,
 "nbformat_minor": 5
}
